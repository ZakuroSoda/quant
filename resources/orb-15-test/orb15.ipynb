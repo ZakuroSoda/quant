{
 "cells": [
  {
   "cell_type": "markdown",
   "metadata": {},
   "source": [
    "This notebook's progressed is stopped once we reached the limitations of Jupyter Notebook's Plotly. We had to switch to Plotly Dash to continue the project. Refer to the orb15 `main.py` for the complete project."
   ]
  },
  {
   "cell_type": "code",
   "execution_count": null,
   "metadata": {},
   "outputs": [],
   "source": [
    "from resources.utilities import *\n",
    "\n",
    "df = load_file(\"./Data/SPY_5min_merged.csv\", date_format=\"%Y-%m-%d %H:%M:%S\")\n",
    "print(df.dtypes)\n",
    "print(df.head())\n",
    "print(df.tail())"
   ]
  },
  {
   "cell_type": "code",
   "execution_count": 2,
   "metadata": {},
   "outputs": [
    {
     "name": "stdout",
     "output_type": "stream",
     "text": [
      "(96541, 10)\n",
      "(39156, 10)\n",
      "Trading Days Available: 502\n"
     ]
    }
   ],
   "source": [
    "df['date'] = df['timestamp'].dt.date\n",
    "\n",
    "df['hour'] = df['timestamp'].dt.hour\n",
    "df['minute'] = df['timestamp'].dt.minute\n",
    "df['time_val'] = df['hour'] * 100 + df['minute']  # Creates time in HHMM format\n",
    "\n",
    "df_regular_hours = df[(df['time_val'] >= 930) & (df['time_val'] <= 1555)]\n",
    "\n",
    "print(df.shape)\n",
    "print(df_regular_hours.shape)\n",
    "print(f\"Trading Days Available: {df_regular_hours['date'].nunique()}\")"
   ]
  },
  {
   "cell_type": "code",
   "execution_count": 81,
   "metadata": {},
   "outputs": [
    {
     "data": {
      "application/vnd.plotly.v1+json": {
       "config": {
        "displayModeBar": true,
        "displaylogo": false,
        "plotlyServerURL": "https://plot.ly",
        "scrollZoom": false
       },
       "data": [
        {
         "close": {
          "bdata": "oBov3STneUA=",
          "dtype": "f8"
         },
         "decreasing": {
          "fillcolor": "#FF6347",
          "line": {
           "color": "#CC503A",
           "width": 0.6
          }
         },
         "high": {
          "bdata": "CtejcD3oeUA=",
          "dtype": "f8"
         },
         "increasing": {
          "fillcolor": "#32CD32",
          "line": {
           "color": "#28A028",
           "width": 0.6
          }
         },
         "low": {
          "bdata": "Ne84RUfaeUA=",
          "dtype": "f8"
         },
         "name": "Price",
         "open": {
          "bdata": "FvvL7snceUA=",
          "dtype": "f8"
         },
         "type": "candlestick",
         "x": [
          "2023-10-04T09:30:00.000000000"
         ]
        }
       ],
       "frames": [
        {
         "data": [
          {
           "close": [],
           "decreasing": {
            "fillcolor": "#FF6347",
            "line": {
             "color": "#CC503A",
             "width": 0.6
            }
           },
           "high": [],
           "increasing": {
            "fillcolor": "#32CD32",
            "line": {
             "color": "#28A028",
             "width": 0.6
            }
           },
           "low": [],
           "name": "Price",
           "open": [],
           "type": "candlestick",
           "x": []
          }
         ],
         "name": "Frame 0"
        },
        {
         "data": [
          {
           "close": {
            "bdata": "oBov3STneUA=",
            "dtype": "f8"
           },
           "decreasing": {
            "fillcolor": "#FF6347",
            "line": {
             "color": "#CC503A",
             "width": 0.6
            }
           },
           "high": {
            "bdata": "CtejcD3oeUA=",
            "dtype": "f8"
           },
           "increasing": {
            "fillcolor": "#32CD32",
            "line": {
             "color": "#28A028",
             "width": 0.6
            }
           },
           "low": {
            "bdata": "Ne84RUfaeUA=",
            "dtype": "f8"
           },
           "name": "Price",
           "open": {
            "bdata": "FvvL7snceUA=",
            "dtype": "f8"
           },
           "type": "candlestick",
           "x": [
            "2023-10-04T09:30:00.000000000"
           ]
          }
         ],
         "name": "Frame 1"
        },
        {
         "data": [
          {
           "close": {
            "bdata": "oBov3STneUAwuycPC+55QA==",
            "dtype": "f8"
           },
           "decreasing": {
            "fillcolor": "#FF6347",
            "line": {
             "color": "#CC503A",
             "width": 0.6
            }
           },
           "high": {
            "bdata": "CtejcD3oeUAep+hILvF5QA==",
            "dtype": "f8"
           },
           "increasing": {
            "fillcolor": "#32CD32",
            "line": {
             "color": "#28A028",
             "width": 0.6
            }
           },
           "low": {
            "bdata": "Ne84RUfaeUBCz2bV5+J5QA==",
            "dtype": "f8"
           },
           "name": "Price",
           "open": {
            "bdata": "FvvL7snceUD3Bl+YTOd5QA==",
            "dtype": "f8"
           },
           "type": "candlestick",
           "x": [
            "2023-10-04T09:30:00.000000000",
            "2023-10-04T09:35:00.000000000"
           ]
          }
         ],
         "name": "Frame 2"
        },
        {
         "data": [
          {
           "close": {
            "bdata": "oBov3STneUAwuycPC+55QEVHcvkP43lA",
            "dtype": "f8"
           },
           "decreasing": {
            "fillcolor": "#FF6347",
            "line": {
             "color": "#CC503A",
             "width": 0.6
            }
           },
           "high": {
            "bdata": "CtejcD3oeUAep+hILvF5QD9XW7G/7nlA",
            "dtype": "f8"
           },
           "increasing": {
            "fillcolor": "#32CD32",
            "line": {
             "color": "#28A028",
             "width": 0.6
            }
           },
           "low": {
            "bdata": "Ne84RUfaeUBCz2bV5+J5QDhnRGlv4nlA",
            "dtype": "f8"
           },
           "name": "Price",
           "open": {
            "bdata": "FvvL7snceUD3Bl+YTOd5QC1DHOvi7XlA",
            "dtype": "f8"
           },
           "type": "candlestick",
           "x": [
            "2023-10-04T09:30:00.000000000",
            "2023-10-04T09:35:00.000000000",
            "2023-10-04T09:40:00.000000000"
           ]
          }
         ],
         "name": "Frame 3"
        },
        {
         "data": [
          {
           "close": {
            "bdata": "oBov3STneUAwuycPC+55QEVHcvkP43lACRueXinkeUA=",
            "dtype": "f8"
           },
           "decreasing": {
            "fillcolor": "#FF6347",
            "line": {
             "color": "#CC503A",
             "width": 0.6
            }
           },
           "high": {
            "bdata": "CtejcD3oeUAep+hILvF5QD9XW7G/7nlACtejcD3oeUA=",
            "dtype": "f8"
           },
           "increasing": {
            "fillcolor": "#32CD32",
            "line": {
             "color": "#28A028",
             "width": 0.6
            }
           },
           "low": {
            "bdata": "Ne84RUfaeUBCz2bV5+J5QDhnRGlv4nlAPZtVn6veeUA=",
            "dtype": "f8"
           },
           "name": "Price",
           "open": {
            "bdata": "FvvL7snceUD3Bl+YTOd5QC1DHOvi7XlARwN4CyTjeUA=",
            "dtype": "f8"
           },
           "type": "candlestick",
           "x": [
            "2023-10-04T09:30:00.000000000",
            "2023-10-04T09:35:00.000000000",
            "2023-10-04T09:40:00.000000000",
            "2023-10-04T09:45:00.000000000"
           ]
          }
         ],
         "name": "Frame 4"
        },
        {
         "data": [
          {
           "close": {
            "bdata": "oBov3STneUAwuycPC+55QEVHcvkP43lACRueXinkeUD/snvysON5QA==",
            "dtype": "f8"
           },
           "decreasing": {
            "fillcolor": "#FF6347",
            "line": {
             "color": "#CC503A",
             "width": 0.6
            }
           },
           "high": {
            "bdata": "CtejcD3oeUAep+hILvF5QD9XW7G/7nlACtejcD3oeUAE54wo7ed5QA==",
            "dtype": "f8"
           },
           "increasing": {
            "fillcolor": "#32CD32",
            "line": {
             "color": "#28A028",
             "width": 0.6
            }
           },
           "low": {
            "bdata": "Ne84RUfaeUBCz2bV5+J5QDhnRGlv4nlAPZtVn6veeUBIv30dONt5QA==",
            "dtype": "f8"
           },
           "name": "Price",
           "open": {
            "bdata": "FvvL7snceUD3Bl+YTOd5QC1DHOvi7XlARwN4CyTjeUD4wmSqYON5QA==",
            "dtype": "f8"
           },
           "type": "candlestick",
           "x": [
            "2023-10-04T09:30:00.000000000",
            "2023-10-04T09:35:00.000000000",
            "2023-10-04T09:40:00.000000000",
            "2023-10-04T09:45:00.000000000",
            "2023-10-04T09:50:00.000000000"
           ]
          }
         ],
         "name": "Frame 5"
        },
        {
         "data": [
          {
           "close": {
            "bdata": "oBov3STneUAwuycPC+55QEVHcvkP43lACRueXinkeUD/snvysON5QK62Yn/Z43lA",
            "dtype": "f8"
           },
           "decreasing": {
            "fillcolor": "#FF6347",
            "line": {
             "color": "#CC503A",
             "width": 0.6
            }
           },
           "high": {
            "bdata": "CtejcD3oeUAep+hILvF5QD9XW7G/7nlACtejcD3oeUAE54wo7ed5QD9XW7G/6nlA",
            "dtype": "f8"
           },
           "increasing": {
            "fillcolor": "#32CD32",
            "line": {
             "color": "#28A028",
             "width": 0.6
            }
           },
           "low": {
            "bdata": "Ne84RUfaeUBCz2bV5+J5QDhnRGlv4nlAPZtVn6veeUBIv30dONt5QL8OnDOi3HlA",
            "dtype": "f8"
           },
           "name": "Price",
           "open": {
            "bdata": "FvvL7snceUD3Bl+YTOd5QC1DHOvi7XlARwN4CyTjeUD4wmSqYON5QP+ye/Kw43lA",
            "dtype": "f8"
           },
           "type": "candlestick",
           "x": [
            "2023-10-04T09:30:00.000000000",
            "2023-10-04T09:35:00.000000000",
            "2023-10-04T09:40:00.000000000",
            "2023-10-04T09:45:00.000000000",
            "2023-10-04T09:50:00.000000000",
            "2023-10-04T09:55:00.000000000"
           ]
          }
         ],
         "name": "Frame 6"
        },
        {
         "data": [
          {
           "close": {
            "bdata": "oBov3STneUAwuycPC+55QEVHcvkP43lACRueXinkeUD/snvysON5QK62Yn/Z43lAEoPAyqHUeUA=",
            "dtype": "f8"
           },
           "decreasing": {
            "fillcolor": "#FF6347",
            "line": {
             "color": "#CC503A",
             "width": 0.6
            }
           },
           "high": {
            "bdata": "CtejcD3oeUAep+hILvF5QD9XW7G/7nlACtejcD3oeUAE54wo7ed5QD9XW7G/6nlALv8h/fbpeUA=",
            "dtype": "f8"
           },
           "increasing": {
            "fillcolor": "#32CD32",
            "line": {
             "color": "#28A028",
             "width": 0.6
            }
           },
           "low": {
            "bdata": "Ne84RUfaeUBCz2bV5+J5QDhnRGlv4nlAPZtVn6veeUBIv30dONt5QL8OnDOi3HlAQs9m1efSeUA=",
            "dtype": "f8"
           },
           "name": "Price",
           "open": {
            "bdata": "FvvL7snceUD3Bl+YTOd5QC1DHOvi7XlARwN4CyTjeUD4wmSqYON5QP+ye/Kw43lAAiuHFtnjeUA=",
            "dtype": "f8"
           },
           "type": "candlestick",
           "x": [
            "2023-10-04T09:30:00.000000000",
            "2023-10-04T09:35:00.000000000",
            "2023-10-04T09:40:00.000000000",
            "2023-10-04T09:45:00.000000000",
            "2023-10-04T09:50:00.000000000",
            "2023-10-04T09:55:00.000000000",
            "2023-10-04T10:00:00.000000000"
           ]
          }
         ],
         "name": "Frame 7"
        },
        {
         "data": [
          {
           "close": {
            "bdata": "oBov3STneUAwuycPC+55QEVHcvkP43lACRueXinkeUD/snvysON5QK62Yn/Z43lAEoPAyqHUeUAu/yH99tF5QA==",
            "dtype": "f8"
           },
           "decreasing": {
            "fillcolor": "#FF6347",
            "line": {
             "color": "#CC503A",
             "width": 0.6
            }
           },
           "high": {
            "bdata": "CtejcD3oeUAep+hILvF5QD9XW7G/7nlACtejcD3oeUAE54wo7ed5QD9XW7G/6nlALv8h/fbpeUA/V1uxv9p5QA==",
            "dtype": "f8"
           },
           "increasing": {
            "fillcolor": "#32CD32",
            "line": {
             "color": "#28A028",
             "width": 0.6
            }
           },
           "low": {
            "bdata": "Ne84RUfaeUBCz2bV5+J5QDhnRGlv4nlAPZtVn6veeUBIv30dONt5QL8OnDOi3HlAQs9m1efSeUBpb/CFycx5QA==",
            "dtype": "f8"
           },
           "name": "Price",
           "open": {
            "bdata": "FvvL7snceUD3Bl+YTOd5QC1DHOvi7XlARwN4CyTjeUD4wmSqYON5QP+ye/Kw43lAAiuHFtnjeUAPC7WmedR5QA==",
            "dtype": "f8"
           },
           "type": "candlestick",
           "x": [
            "2023-10-04T09:30:00.000000000",
            "2023-10-04T09:35:00.000000000",
            "2023-10-04T09:40:00.000000000",
            "2023-10-04T09:45:00.000000000",
            "2023-10-04T09:50:00.000000000",
            "2023-10-04T09:55:00.000000000",
            "2023-10-04T10:00:00.000000000",
            "2023-10-04T10:05:00.000000000"
           ]
          }
         ],
         "name": "Frame 8"
        },
        {
         "data": [
          {
           "close": {
            "bdata": "oBov3STneUAwuycPC+55QEVHcvkP43lACRueXinkeUD/snvysON5QK62Yn/Z43lAEoPAyqHUeUAu/yH99tF5QBsv3SQG2XlA",
            "dtype": "f8"
           },
           "decreasing": {
            "fillcolor": "#FF6347",
            "line": {
             "color": "#CC503A",
             "width": 0.6
            }
           },
           "high": {
            "bdata": "CtejcD3oeUAep+hILvF5QD9XW7G/7nlACtejcD3oeUAE54wo7ed5QD9XW7G/6nlALv8h/fbpeUA/V1uxv9p5QO5aQj7o2nlA",
            "dtype": "f8"
           },
           "increasing": {
            "fillcolor": "#32CD32",
            "line": {
             "color": "#28A028",
             "width": 0.6
            }
           },
           "low": {
            "bdata": "Ne84RUfaeUBCz2bV5+J5QDhnRGlv4nlAPZtVn6veeUBIv30dONt5QL8OnDOi3HlAQs9m1efSeUBpb/CFycx5QFTjpZvEz3lA",
            "dtype": "f8"
           },
           "name": "Price",
           "open": {
            "bdata": "FvvL7snceUD3Bl+YTOd5QC1DHOvi7XlARwN4CyTjeUD4wmSqYON5QP+ye/Kw43lAAiuHFtnjeUAPC7WmedR5QDXvOEVH0nlA",
            "dtype": "f8"
           },
           "type": "candlestick",
           "x": [
            "2023-10-04T09:30:00.000000000",
            "2023-10-04T09:35:00.000000000",
            "2023-10-04T09:40:00.000000000",
            "2023-10-04T09:45:00.000000000",
            "2023-10-04T09:50:00.000000000",
            "2023-10-04T09:55:00.000000000",
            "2023-10-04T10:00:00.000000000",
            "2023-10-04T10:05:00.000000000",
            "2023-10-04T10:10:00.000000000"
           ]
          }
         ],
         "name": "Frame 9"
        },
        {
         "data": [
          {
           "close": {
            "bdata": "oBov3STneUAwuycPC+55QEVHcvkP43lACRueXinkeUD/snvysON5QK62Yn/Z43lAEoPAyqHUeUAu/yH99tF5QBsv3SQG2XlABOeMKO3XeUA=",
            "dtype": "f8"
           },
           "decreasing": {
            "fillcolor": "#FF6347",
            "line": {
             "color": "#CC503A",
             "width": 0.6
            }
           },
           "high": {
            "bdata": "CtejcD3oeUAep+hILvF5QD9XW7G/7nlACtejcD3oeUAE54wo7ed5QD9XW7G/6nlALv8h/fbpeUA/V1uxv9p5QO5aQj7o2nlAKA8LtabZeUA=",
            "dtype": "f8"
           },
           "increasing": {
            "fillcolor": "#32CD32",
            "line": {
             "color": "#28A028",
             "width": 0.6
            }
           },
           "low": {
            "bdata": "Ne84RUfaeUBCz2bV5+J5QDhnRGlv4nlAPZtVn6veeUBIv30dONt5QL8OnDOi3HlAQs9m1efSeUBpb/CFycx5QFTjpZvEz3lAPL1SliHPeUA=",
            "dtype": "f8"
           },
           "name": "Price",
           "open": {
            "bdata": "FvvL7snceUD3Bl+YTOd5QC1DHOvi7XlARwN4CyTjeUD4wmSqYON5QP+ye/Kw43lAAiuHFtnjeUAPC7WmedR5QDXvOEVH0nlAIR/0bFbZeUA=",
            "dtype": "f8"
           },
           "type": "candlestick",
           "x": [
            "2023-10-04T09:30:00.000000000",
            "2023-10-04T09:35:00.000000000",
            "2023-10-04T09:40:00.000000000",
            "2023-10-04T09:45:00.000000000",
            "2023-10-04T09:50:00.000000000",
            "2023-10-04T09:55:00.000000000",
            "2023-10-04T10:00:00.000000000",
            "2023-10-04T10:05:00.000000000",
            "2023-10-04T10:10:00.000000000",
            "2023-10-04T10:15:00.000000000"
           ]
          }
         ],
         "name": "Frame 10"
        },
        {
         "data": [
          {
           "close": {
            "bdata": "oBov3STneUAwuycPC+55QEVHcvkP43lACRueXinkeUD/snvysON5QK62Yn/Z43lAEoPAyqHUeUAu/yH99tF5QBsv3SQG2XlABOeMKO3XeUAmUwWjks15QA==",
            "dtype": "f8"
           },
           "decreasing": {
            "fillcolor": "#FF6347",
            "line": {
             "color": "#CC503A",
             "width": 0.6
            }
           },
           "high": {
            "bdata": "CtejcD3oeUAep+hILvF5QD9XW7G/7nlACtejcD3oeUAE54wo7ed5QD9XW7G/6nlALv8h/fbpeUA/V1uxv9p5QO5aQj7o2nlAKA8LtabZeUAep+hILtl5QA==",
            "dtype": "f8"
           },
           "increasing": {
            "fillcolor": "#32CD32",
            "line": {
             "color": "#28A028",
             "width": 0.6
            }
           },
           "low": {
            "bdata": "Ne84RUfaeUBCz2bV5+J5QDhnRGlv4nlAPZtVn6veeUBIv30dONt5QL8OnDOi3HlAQs9m1efSeUBpb/CFycx5QFTjpZvEz3lAPL1SliHPeUARx7q4jch5QA==",
            "dtype": "f8"
           },
           "name": "Price",
           "open": {
            "bdata": "FvvL7snceUD3Bl+YTOd5QC1DHOvi7XlARwN4CyTjeUD4wmSqYON5QP+ye/Kw43lAAiuHFtnjeUAPC7WmedR5QDXvOEVH0nlAIR/0bFbZeUAE54wo7dd5QA==",
            "dtype": "f8"
           },
           "type": "candlestick",
           "x": [
            "2023-10-04T09:30:00.000000000",
            "2023-10-04T09:35:00.000000000",
            "2023-10-04T09:40:00.000000000",
            "2023-10-04T09:45:00.000000000",
            "2023-10-04T09:50:00.000000000",
            "2023-10-04T09:55:00.000000000",
            "2023-10-04T10:00:00.000000000",
            "2023-10-04T10:05:00.000000000",
            "2023-10-04T10:10:00.000000000",
            "2023-10-04T10:15:00.000000000",
            "2023-10-04T10:20:00.000000000"
           ]
          }
         ],
         "name": "Frame 11"
        },
        {
         "data": [
          {
           "close": {
            "bdata": "oBov3STneUAwuycPC+55QEVHcvkP43lACRueXinkeUD/snvysON5QK62Yn/Z43lAEoPAyqHUeUAu/yH99tF5QBsv3SQG2XlABOeMKO3XeUAmUwWjks15QH6MuWsJxnlA",
            "dtype": "f8"
           },
           "decreasing": {
            "fillcolor": "#FF6347",
            "line": {
             "color": "#CC503A",
             "width": 0.6
            }
           },
           "high": {
            "bdata": "CtejcD3oeUAep+hILvF5QD9XW7G/7nlACtejcD3oeUAE54wo7ed5QD9XW7G/6nlALv8h/fbpeUA/V1uxv9p5QO5aQj7o2nlAKA8LtabZeUAep+hILtl5QBe30QDe0HlA",
            "dtype": "f8"
           },
           "increasing": {
            "fillcolor": "#32CD32",
            "line": {
             "color": "#28A028",
             "width": 0.6
            }
           },
           "low": {
            "bdata": "Ne84RUfaeUBCz2bV5+J5QDhnRGlv4nlAPZtVn6veeUBIv30dONt5QL8OnDOi3HlAQs9m1efSeUBpb/CFycx5QFTjpZvEz3lAPL1SliHPeUARx7q4jch5QBzr4jYaxXlA",
            "dtype": "f8"
           },
           "name": "Price",
           "open": {
            "bdata": "FvvL7snceUD3Bl+YTOd5QC1DHOvi7XlARwN4CyTjeUD4wmSqYON5QP+ye/Kw43lAAiuHFtnjeUAPC7WmedR5QDXvOEVH0nlAIR/0bFbZeUAE54wo7dd5QCBj7lpCzXlA",
            "dtype": "f8"
           },
           "type": "candlestick",
           "x": [
            "2023-10-04T09:30:00.000000000",
            "2023-10-04T09:35:00.000000000",
            "2023-10-04T09:40:00.000000000",
            "2023-10-04T09:45:00.000000000",
            "2023-10-04T09:50:00.000000000",
            "2023-10-04T09:55:00.000000000",
            "2023-10-04T10:00:00.000000000",
            "2023-10-04T10:05:00.000000000",
            "2023-10-04T10:10:00.000000000",
            "2023-10-04T10:15:00.000000000",
            "2023-10-04T10:20:00.000000000",
            "2023-10-04T10:25:00.000000000"
           ]
          }
         ],
         "name": "Frame 12"
        },
        {
         "data": [
          {
           "close": {
            "bdata": "oBov3STneUAwuycPC+55QEVHcvkP43lACRueXinkeUD/snvysON5QK62Yn/Z43lAEoPAyqHUeUAu/yH99tF5QBsv3SQG2XlABOeMKO3XeUAmUwWjks15QH6MuWsJxnlAK4cW2c7ZeUA=",
            "dtype": "f8"
           },
           "decreasing": {
            "fillcolor": "#FF6347",
            "line": {
             "color": "#CC503A",
             "width": 0.6
            }
           },
           "high": {
            "bdata": "CtejcD3oeUAep+hILvF5QD9XW7G/7nlACtejcD3oeUAE54wo7ed5QD9XW7G/6nlALv8h/fbpeUA/V1uxv9p5QO5aQj7o2nlAKA8LtabZeUAep+hILtl5QBe30QDe0HlAK4cW2c7ZeUA=",
            "dtype": "f8"
           },
           "increasing": {
            "fillcolor": "#32CD32",
            "line": {
             "color": "#28A028",
             "width": 0.6
            }
           },
           "low": {
            "bdata": "Ne84RUfaeUBCz2bV5+J5QDhnRGlv4nlAPZtVn6veeUBIv30dONt5QL8OnDOi3HlAQs9m1efSeUBpb/CFycx5QFTjpZvEz3lAPL1SliHPeUARx7q4jch5QBzr4jYaxXlAI9v5fmrFeUA=",
            "dtype": "f8"
           },
           "name": "Price",
           "open": {
            "bdata": "FvvL7snceUD3Bl+YTOd5QC1DHOvi7XlARwN4CyTjeUD4wmSqYON5QP+ye/Kw43lAAiuHFtnjeUAPC7WmedR5QDXvOEVH0nlAIR/0bFbZeUAE54wo7dd5QCBj7lpCzXlALv8h/fbFeUA=",
            "dtype": "f8"
           },
           "type": "candlestick",
           "x": [
            "2023-10-04T09:30:00.000000000",
            "2023-10-04T09:35:00.000000000",
            "2023-10-04T09:40:00.000000000",
            "2023-10-04T09:45:00.000000000",
            "2023-10-04T09:50:00.000000000",
            "2023-10-04T09:55:00.000000000",
            "2023-10-04T10:00:00.000000000",
            "2023-10-04T10:05:00.000000000",
            "2023-10-04T10:10:00.000000000",
            "2023-10-04T10:15:00.000000000",
            "2023-10-04T10:20:00.000000000",
            "2023-10-04T10:25:00.000000000",
            "2023-10-04T10:30:00.000000000"
           ]
          }
         ],
         "name": "Frame 13"
        },
        {
         "data": [
          {
           "close": {
            "bdata": "oBov3STneUAwuycPC+55QEVHcvkP43lACRueXinkeUD/snvysON5QK62Yn/Z43lAEoPAyqHUeUAu/yH99tF5QBsv3SQG2XlABOeMKO3XeUAmUwWjks15QH6MuWsJxnlAK4cW2c7ZeUAFo5I6Adx5QA==",
            "dtype": "f8"
           },
           "decreasing": {
            "fillcolor": "#FF6347",
            "line": {
             "color": "#CC503A",
             "width": 0.6
            }
           },
           "high": {
            "bdata": "CtejcD3oeUAep+hILvF5QD9XW7G/7nlACtejcD3oeUAE54wo7ed5QD9XW7G/6nlALv8h/fbpeUA/V1uxv9p5QO5aQj7o2nlAKA8LtabZeUAep+hILtl5QBe30QDe0HlAK4cW2c7ZeUAOT6+UZeB5QA==",
            "dtype": "f8"
           },
           "increasing": {
            "fillcolor": "#32CD32",
            "line": {
             "color": "#28A028",
             "width": 0.6
            }
           },
           "low": {
            "bdata": "Ne84RUfaeUBCz2bV5+J5QDhnRGlv4nlAPZtVn6veeUBIv30dONt5QL8OnDOi3HlAQs9m1efSeUBpb/CFycx5QFTjpZvEz3lAPL1SliHPeUARx7q4jch5QBzr4jYaxXlAI9v5fmrFeUAVjErqBNl5QA==",
            "dtype": "f8"
           },
           "name": "Price",
           "open": {
            "bdata": "FvvL7snceUD3Bl+YTOd5QC1DHOvi7XlARwN4CyTjeUD4wmSqYON5QP+ye/Kw43lAAiuHFtnjeUAPC7WmedR5QDXvOEVH0nlAIR/0bFbZeUAE54wo7dd5QCBj7lpCzXlALv8h/fbFeUCUh4Va09l5QA==",
            "dtype": "f8"
           },
           "type": "candlestick",
           "x": [
            "2023-10-04T09:30:00.000000000",
            "2023-10-04T09:35:00.000000000",
            "2023-10-04T09:40:00.000000000",
            "2023-10-04T09:45:00.000000000",
            "2023-10-04T09:50:00.000000000",
            "2023-10-04T09:55:00.000000000",
            "2023-10-04T10:00:00.000000000",
            "2023-10-04T10:05:00.000000000",
            "2023-10-04T10:10:00.000000000",
            "2023-10-04T10:15:00.000000000",
            "2023-10-04T10:20:00.000000000",
            "2023-10-04T10:25:00.000000000",
            "2023-10-04T10:30:00.000000000",
            "2023-10-04T10:35:00.000000000"
           ]
          }
         ],
         "name": "Frame 14"
        },
        {
         "data": [
          {
           "close": {
            "bdata": "oBov3STneUAwuycPC+55QEVHcvkP43lACRueXinkeUD/snvysON5QK62Yn/Z43lAEoPAyqHUeUAu/yH99tF5QBsv3SQG2XlABOeMKO3XeUAmUwWjks15QH6MuWsJxnlAK4cW2c7ZeUAFo5I6Adx5QAWjkjoB3HlA",
            "dtype": "f8"
           },
           "decreasing": {
            "fillcolor": "#FF6347",
            "line": {
             "color": "#CC503A",
             "width": 0.6
            }
           },
           "high": {
            "bdata": "CtejcD3oeUAep+hILvF5QD9XW7G/7nlACtejcD3oeUAE54wo7ed5QD9XW7G/6nlALv8h/fbpeUA/V1uxv9p5QO5aQj7o2nlAKA8LtabZeUAep+hILtl5QBe30QDe0HlAK4cW2c7ZeUAOT6+UZeB5QGB2Tx4W5XlA",
            "dtype": "f8"
           },
           "increasing": {
            "fillcolor": "#32CD32",
            "line": {
             "color": "#28A028",
             "width": 0.6
            }
           },
           "low": {
            "bdata": "Ne84RUfaeUBCz2bV5+J5QDhnRGlv4nlAPZtVn6veeUBIv30dONt5QL8OnDOi3HlAQs9m1efSeUBpb/CFycx5QFTjpZvEz3lAPL1SliHPeUARx7q4jch5QBzr4jYaxXlAI9v5fmrFeUAVjErqBNl5QEVHcvkP23lA",
            "dtype": "f8"
           },
           "name": "Price",
           "open": {
            "bdata": "FvvL7snceUD3Bl+YTOd5QC1DHOvi7XlARwN4CyTjeUD4wmSqYON5QP+ye/Kw43lAAiuHFtnjeUAPC7WmedR5QDXvOEVH0nlAIR/0bFbZeUAE54wo7dd5QCBj7lpCzXlALv8h/fbFeUCUh4Va09l5QAWjkjoB3HlA",
            "dtype": "f8"
           },
           "type": "candlestick",
           "x": [
            "2023-10-04T09:30:00.000000000",
            "2023-10-04T09:35:00.000000000",
            "2023-10-04T09:40:00.000000000",
            "2023-10-04T09:45:00.000000000",
            "2023-10-04T09:50:00.000000000",
            "2023-10-04T09:55:00.000000000",
            "2023-10-04T10:00:00.000000000",
            "2023-10-04T10:05:00.000000000",
            "2023-10-04T10:10:00.000000000",
            "2023-10-04T10:15:00.000000000",
            "2023-10-04T10:20:00.000000000",
            "2023-10-04T10:25:00.000000000",
            "2023-10-04T10:30:00.000000000",
            "2023-10-04T10:35:00.000000000",
            "2023-10-04T10:40:00.000000000"
           ]
          }
         ],
         "name": "Frame 15"
        },
        {
         "data": [
          {
           "close": {
            "bdata": "oBov3STneUAwuycPC+55QEVHcvkP43lACRueXinkeUD/snvysON5QK62Yn/Z43lAEoPAyqHUeUAu/yH99tF5QBsv3SQG2XlABOeMKO3XeUAmUwWjks15QH6MuWsJxnlAK4cW2c7ZeUAFo5I6Adx5QAWjkjoB3HlANe84RUfKeUA=",
            "dtype": "f8"
           },
           "decreasing": {
            "fillcolor": "#FF6347",
            "line": {
             "color": "#CC503A",
             "width": 0.6
            }
           },
           "high": {
            "bdata": "CtejcD3oeUAep+hILvF5QD9XW7G/7nlACtejcD3oeUAE54wo7ed5QD9XW7G/6nlALv8h/fbpeUA/V1uxv9p5QO5aQj7o2nlAKA8LtabZeUAep+hILtl5QBe30QDe0HlAK4cW2c7ZeUAOT6+UZeB5QGB2Tx4W5XlABaOSOgHgeUA=",
            "dtype": "f8"
           },
           "increasing": {
            "fillcolor": "#32CD32",
            "line": {
             "color": "#28A028",
             "width": 0.6
            }
           },
           "low": {
            "bdata": "Ne84RUfaeUBCz2bV5+J5QDhnRGlv4nlAPZtVn6veeUBIv30dONt5QL8OnDOi3HlAQs9m1efSeUBpb/CFycx5QFTjpZvEz3lAPL1SliHPeUARx7q4jch5QBzr4jYaxXlAI9v5fmrFeUAVjErqBNl5QEVHcvkP23lAIR/0bFbJeUA=",
            "dtype": "f8"
           },
           "name": "Price",
           "open": {
            "bdata": "FvvL7snceUD3Bl+YTOd5QC1DHOvi7XlARwN4CyTjeUD4wmSqYON5QP+ye/Kw43lAAiuHFtnjeUAPC7WmedR5QDXvOEVH0nlAIR/0bFbZeUAE54wo7dd5QCBj7lpCzXlALv8h/fbFeUCUh4Va09l5QAWjkjoB3HlABOeMKO3beUA=",
            "dtype": "f8"
           },
           "type": "candlestick",
           "x": [
            "2023-10-04T09:30:00.000000000",
            "2023-10-04T09:35:00.000000000",
            "2023-10-04T09:40:00.000000000",
            "2023-10-04T09:45:00.000000000",
            "2023-10-04T09:50:00.000000000",
            "2023-10-04T09:55:00.000000000",
            "2023-10-04T10:00:00.000000000",
            "2023-10-04T10:05:00.000000000",
            "2023-10-04T10:10:00.000000000",
            "2023-10-04T10:15:00.000000000",
            "2023-10-04T10:20:00.000000000",
            "2023-10-04T10:25:00.000000000",
            "2023-10-04T10:30:00.000000000",
            "2023-10-04T10:35:00.000000000",
            "2023-10-04T10:40:00.000000000",
            "2023-10-04T10:45:00.000000000"
           ]
          }
         ],
         "name": "Frame 16"
        },
        {
         "data": [
          {
           "close": {
            "bdata": "oBov3STneUAwuycPC+55QEVHcvkP43lACRueXinkeUD/snvysON5QK62Yn/Z43lAEoPAyqHUeUAu/yH99tF5QBsv3SQG2XlABOeMKO3XeUAmUwWjks15QH6MuWsJxnlAK4cW2c7ZeUAFo5I6Adx5QAWjkjoB3HlANe84RUfKeUAMk6mCUcx5QA==",
            "dtype": "f8"
           },
           "decreasing": {
            "fillcolor": "#FF6347",
            "line": {
             "color": "#CC503A",
             "width": 0.6
            }
           },
           "high": {
            "bdata": "CtejcD3oeUAep+hILvF5QD9XW7G/7nlACtejcD3oeUAE54wo7ed5QD9XW7G/6nlALv8h/fbpeUA/V1uxv9p5QO5aQj7o2nlAKA8LtabZeUAep+hILtl5QBe30QDe0HlAK4cW2c7ZeUAOT6+UZeB5QGB2Tx4W5XlABaOSOgHgeUAu/yH99tF5QA==",
            "dtype": "f8"
           },
           "increasing": {
            "fillcolor": "#32CD32",
            "line": {
             "color": "#28A028",
             "width": 0.6
            }
           },
           "low": {
            "bdata": "Ne84RUfaeUBCz2bV5+J5QDhnRGlv4nlAPZtVn6veeUBIv30dONt5QL8OnDOi3HlAQs9m1efSeUBpb/CFycx5QFTjpZvEz3lAPL1SliHPeUARx7q4jch5QBzr4jYaxXlAI9v5fmrFeUAVjErqBNl5QEVHcvkP23lAIR/0bFbJeUAoDwu1psl5QA==",
            "dtype": "f8"
           },
           "name": "Price",
           "open": {
            "bdata": "FvvL7snceUD3Bl+YTOd5QC1DHOvi7XlARwN4CyTjeUD4wmSqYON5QP+ye/Kw43lAAiuHFtnjeUAPC7WmedR5QDXvOEVH0nlAIR/0bFbZeUAE54wo7dd5QCBj7lpCzXlALv8h/fbFeUCUh4Va09l5QAWjkjoB3HlABOeMKO3beUAydy0hH8p5QA==",
            "dtype": "f8"
           },
           "type": "candlestick",
           "x": [
            "2023-10-04T09:30:00.000000000",
            "2023-10-04T09:35:00.000000000",
            "2023-10-04T09:40:00.000000000",
            "2023-10-04T09:45:00.000000000",
            "2023-10-04T09:50:00.000000000",
            "2023-10-04T09:55:00.000000000",
            "2023-10-04T10:00:00.000000000",
            "2023-10-04T10:05:00.000000000",
            "2023-10-04T10:10:00.000000000",
            "2023-10-04T10:15:00.000000000",
            "2023-10-04T10:20:00.000000000",
            "2023-10-04T10:25:00.000000000",
            "2023-10-04T10:30:00.000000000",
            "2023-10-04T10:35:00.000000000",
            "2023-10-04T10:40:00.000000000",
            "2023-10-04T10:45:00.000000000",
            "2023-10-04T10:50:00.000000000"
           ]
          }
         ],
         "name": "Frame 17"
        },
        {
         "data": [
          {
           "close": {
            "bdata": "oBov3STneUAwuycPC+55QEVHcvkP43lACRueXinkeUD/snvysON5QK62Yn/Z43lAEoPAyqHUeUAu/yH99tF5QBsv3SQG2XlABOeMKO3XeUAmUwWjks15QH6MuWsJxnlAK4cW2c7ZeUAFo5I6Adx5QAWjkjoB3HlANe84RUfKeUAMk6mCUcx5QBb7y+7JzHlA",
            "dtype": "f8"
           },
           "decreasing": {
            "fillcolor": "#FF6347",
            "line": {
             "color": "#CC503A",
             "width": 0.6
            }
           },
           "high": {
            "bdata": "CtejcD3oeUAep+hILvF5QD9XW7G/7nlACtejcD3oeUAE54wo7ed5QD9XW7G/6nlALv8h/fbpeUA/V1uxv9p5QO5aQj7o2nlAKA8LtabZeUAep+hILtl5QBe30QDe0HlAK4cW2c7ZeUAOT6+UZeB5QGB2Tx4W5XlABaOSOgHgeUAu/yH99tF5QEp7gy9Mz3lA",
            "dtype": "f8"
           },
           "increasing": {
            "fillcolor": "#32CD32",
            "line": {
             "color": "#28A028",
             "width": 0.6
            }
           },
           "low": {
            "bdata": "Ne84RUfaeUBCz2bV5+J5QDhnRGlv4nlAPZtVn6veeUBIv30dONt5QL8OnDOi3HlAQs9m1efSeUBpb/CFycx5QFTjpZvEz3lAPL1SliHPeUARx7q4jch5QBzr4jYaxXlAI9v5fmrFeUAVjErqBNl5QEVHcvkP23lAIR/0bFbJeUAoDwu1psl5QE3zjlN0x3lA",
            "dtype": "f8"
           },
           "name": "Price",
           "open": {
            "bdata": "FvvL7snceUD3Bl+YTOd5QC1DHOvi7XlARwN4CyTjeUD4wmSqYON5QP+ye/Kw43lAAiuHFtnjeUAPC7WmedR5QDXvOEVH0nlAIR/0bFbZeUAE54wo7dd5QCBj7lpCzXlALv8h/fbFeUCUh4Va09l5QAWjkjoB3HlABOeMKO3beUAydy0hH8p5QAyTqYJRzHlA",
            "dtype": "f8"
           },
           "type": "candlestick",
           "x": [
            "2023-10-04T09:30:00.000000000",
            "2023-10-04T09:35:00.000000000",
            "2023-10-04T09:40:00.000000000",
            "2023-10-04T09:45:00.000000000",
            "2023-10-04T09:50:00.000000000",
            "2023-10-04T09:55:00.000000000",
            "2023-10-04T10:00:00.000000000",
            "2023-10-04T10:05:00.000000000",
            "2023-10-04T10:10:00.000000000",
            "2023-10-04T10:15:00.000000000",
            "2023-10-04T10:20:00.000000000",
            "2023-10-04T10:25:00.000000000",
            "2023-10-04T10:30:00.000000000",
            "2023-10-04T10:35:00.000000000",
            "2023-10-04T10:40:00.000000000",
            "2023-10-04T10:45:00.000000000",
            "2023-10-04T10:50:00.000000000",
            "2023-10-04T10:55:00.000000000"
           ]
          }
         ],
         "name": "Frame 18"
        },
        {
         "data": [
          {
           "close": {
            "bdata": "oBov3STneUAwuycPC+55QEVHcvkP43lACRueXinkeUD/snvysON5QK62Yn/Z43lAEoPAyqHUeUAu/yH99tF5QBsv3SQG2XlABOeMKO3XeUAmUwWjks15QH6MuWsJxnlAK4cW2c7ZeUAFo5I6Adx5QAWjkjoB3HlANe84RUfKeUAMk6mCUcx5QBb7y+7JzHlADk+vlGXQeUA=",
            "dtype": "f8"
           },
           "decreasing": {
            "fillcolor": "#FF6347",
            "line": {
             "color": "#CC503A",
             "width": 0.6
            }
           },
           "high": {
            "bdata": "CtejcD3oeUAep+hILvF5QD9XW7G/7nlACtejcD3oeUAE54wo7ed5QD9XW7G/6nlALv8h/fbpeUA/V1uxv9p5QO5aQj7o2nlAKA8LtabZeUAep+hILtl5QBe30QDe0HlAK4cW2c7ZeUAOT6+UZeB5QGB2Tx4W5XlABaOSOgHgeUAu/yH99tF5QEp7gy9Mz3lA+8vuycPjeUA=",
            "dtype": "f8"
           },
           "increasing": {
            "fillcolor": "#32CD32",
            "line": {
             "color": "#28A028",
             "width": 0.6
            }
           },
           "low": {
            "bdata": "Ne84RUfaeUBCz2bV5+J5QDhnRGlv4nlAPZtVn6veeUBIv30dONt5QL8OnDOi3HlAQs9m1efSeUBpb/CFycx5QFTjpZvEz3lAPL1SliHPeUARx7q4jch5QBzr4jYaxXlAI9v5fmrFeUAVjErqBNl5QEVHcvkP23lAIR/0bFbJeUAoDwu1psl5QE3zjlN0x3lARIts5/vGeUA=",
            "dtype": "f8"
           },
           "name": "Price",
           "open": {
            "bdata": "FvvL7snceUD3Bl+YTOd5QC1DHOvi7XlARwN4CyTjeUD4wmSqYON5QP+ye/Kw43lAAiuHFtnjeUAPC7WmedR5QDXvOEVH0nlAIR/0bFbZeUAE54wo7dd5QCBj7lpCzXlALv8h/fbFeUCUh4Va09l5QAWjkjoB3HlABOeMKO3beUAydy0hH8p5QAyTqYJRzHlAFvvL7snMeUA=",
            "dtype": "f8"
           },
           "type": "candlestick",
           "x": [
            "2023-10-04T09:30:00.000000000",
            "2023-10-04T09:35:00.000000000",
            "2023-10-04T09:40:00.000000000",
            "2023-10-04T09:45:00.000000000",
            "2023-10-04T09:50:00.000000000",
            "2023-10-04T09:55:00.000000000",
            "2023-10-04T10:00:00.000000000",
            "2023-10-04T10:05:00.000000000",
            "2023-10-04T10:10:00.000000000",
            "2023-10-04T10:15:00.000000000",
            "2023-10-04T10:20:00.000000000",
            "2023-10-04T10:25:00.000000000",
            "2023-10-04T10:30:00.000000000",
            "2023-10-04T10:35:00.000000000",
            "2023-10-04T10:40:00.000000000",
            "2023-10-04T10:45:00.000000000",
            "2023-10-04T10:50:00.000000000",
            "2023-10-04T10:55:00.000000000",
            "2023-10-04T11:00:00.000000000"
           ]
          }
         ],
         "name": "Frame 19"
        },
        {
         "data": [
          {
           "close": {
            "bdata": "oBov3STneUAwuycPC+55QEVHcvkP43lACRueXinkeUD/snvysON5QK62Yn/Z43lAEoPAyqHUeUAu/yH99tF5QBsv3SQG2XlABOeMKO3XeUAmUwWjks15QH6MuWsJxnlAK4cW2c7ZeUAFo5I6Adx5QAWjkjoB3HlANe84RUfKeUAMk6mCUcx5QBb7y+7JzHlADk+vlGXQeUAtQxzr4tV5QA==",
            "dtype": "f8"
           },
           "decreasing": {
            "fillcolor": "#FF6347",
            "line": {
             "color": "#CC503A",
             "width": 0.6
            }
           },
           "high": {
            "bdata": "CtejcD3oeUAep+hILvF5QD9XW7G/7nlACtejcD3oeUAE54wo7ed5QD9XW7G/6nlALv8h/fbpeUA/V1uxv9p5QO5aQj7o2nlAKA8LtabZeUAep+hILtl5QBe30QDe0HlAK4cW2c7ZeUAOT6+UZeB5QGB2Tx4W5XlABaOSOgHgeUAu/yH99tF5QEp7gy9Mz3lA+8vuycPjeUBTBaOSOth5QA==",
            "dtype": "f8"
           },
           "increasing": {
            "fillcolor": "#32CD32",
            "line": {
             "color": "#28A028",
             "width": 0.6
            }
           },
           "low": {
            "bdata": "Ne84RUfaeUBCz2bV5+J5QDhnRGlv4nlAPZtVn6veeUBIv30dONt5QL8OnDOi3HlAQs9m1efSeUBpb/CFycx5QFTjpZvEz3lAPL1SliHPeUARx7q4jch5QBzr4jYaxXlAI9v5fmrFeUAVjErqBNl5QEVHcvkP23lAIR/0bFbJeUAoDwu1psl5QE3zjlN0x3lARIts5/vGeUCX/5B++855QA==",
            "dtype": "f8"
           },
           "name": "Price",
           "open": {
            "bdata": "FvvL7snceUD3Bl+YTOd5QC1DHOvi7XlARwN4CyTjeUD4wmSqYON5QP+ye/Kw43lAAiuHFtnjeUAPC7WmedR5QDXvOEVH0nlAIR/0bFbZeUAE54wo7dd5QCBj7lpCzXlALv8h/fbFeUCUh4Va09l5QAWjkjoB3HlABOeMKO3beUAydy0hH8p5QAyTqYJRzHlAFvvL7snMeUAK16NwPdB5QA==",
            "dtype": "f8"
           },
           "type": "candlestick",
           "x": [
            "2023-10-04T09:30:00.000000000",
            "2023-10-04T09:35:00.000000000",
            "2023-10-04T09:40:00.000000000",
            "2023-10-04T09:45:00.000000000",
            "2023-10-04T09:50:00.000000000",
            "2023-10-04T09:55:00.000000000",
            "2023-10-04T10:00:00.000000000",
            "2023-10-04T10:05:00.000000000",
            "2023-10-04T10:10:00.000000000",
            "2023-10-04T10:15:00.000000000",
            "2023-10-04T10:20:00.000000000",
            "2023-10-04T10:25:00.000000000",
            "2023-10-04T10:30:00.000000000",
            "2023-10-04T10:35:00.000000000",
            "2023-10-04T10:40:00.000000000",
            "2023-10-04T10:45:00.000000000",
            "2023-10-04T10:50:00.000000000",
            "2023-10-04T10:55:00.000000000",
            "2023-10-04T11:00:00.000000000",
            "2023-10-04T11:05:00.000000000"
           ]
          }
         ],
         "name": "Frame 20"
        },
        {
         "data": [
          {
           "close": {
            "bdata": "oBov3STneUAwuycPC+55QEVHcvkP43lACRueXinkeUD/snvysON5QK62Yn/Z43lAEoPAyqHUeUAu/yH99tF5QBsv3SQG2XlABOeMKO3XeUAmUwWjks15QH6MuWsJxnlAK4cW2c7ZeUAFo5I6Adx5QAWjkjoB3HlANe84RUfKeUAMk6mCUcx5QBb7y+7JzHlADk+vlGXQeUAtQxzr4tV5QDJ3LSEf2nlA",
            "dtype": "f8"
           },
           "decreasing": {
            "fillcolor": "#FF6347",
            "line": {
             "color": "#CC503A",
             "width": 0.6
            }
           },
           "high": {
            "bdata": "CtejcD3oeUAep+hILvF5QD9XW7G/7nlACtejcD3oeUAE54wo7ed5QD9XW7G/6nlALv8h/fbpeUA/V1uxv9p5QO5aQj7o2nlAKA8LtabZeUAep+hILtl5QBe30QDe0HlAK4cW2c7ZeUAOT6+UZeB5QGB2Tx4W5XlABaOSOgHgeUAu/yH99tF5QEp7gy9Mz3lA+8vuycPjeUBTBaOSOth5QDC7Jw8L3nlA",
            "dtype": "f8"
           },
           "increasing": {
            "fillcolor": "#32CD32",
            "line": {
             "color": "#28A028",
             "width": 0.6
            }
           },
           "low": {
            "bdata": "Ne84RUfaeUBCz2bV5+J5QDhnRGlv4nlAPZtVn6veeUBIv30dONt5QL8OnDOi3HlAQs9m1efSeUBpb/CFycx5QFTjpZvEz3lAPL1SliHPeUARx7q4jch5QBzr4jYaxXlAI9v5fmrFeUAVjErqBNl5QEVHcvkP23lAIR/0bFbJeUAoDwu1psl5QE3zjlN0x3lARIts5/vGeUCX/5B++855QCnLEMe61XlA",
            "dtype": "f8"
           },
           "name": "Price",
           "open": {
            "bdata": "FvvL7snceUD3Bl+YTOd5QC1DHOvi7XlARwN4CyTjeUD4wmSqYON5QP+ye/Kw43lAAiuHFtnjeUAPC7WmedR5QDXvOEVH0nlAIR/0bFbZeUAE54wo7dd5QCBj7lpCzXlALv8h/fbFeUCUh4Va09l5QAWjkjoB3HlABOeMKO3beUAydy0hH8p5QAyTqYJRzHlAFvvL7snMeUAK16NwPdB5QCnLEMe61XlA",
            "dtype": "f8"
           },
           "type": "candlestick",
           "x": [
            "2023-10-04T09:30:00.000000000",
            "2023-10-04T09:35:00.000000000",
            "2023-10-04T09:40:00.000000000",
            "2023-10-04T09:45:00.000000000",
            "2023-10-04T09:50:00.000000000",
            "2023-10-04T09:55:00.000000000",
            "2023-10-04T10:00:00.000000000",
            "2023-10-04T10:05:00.000000000",
            "2023-10-04T10:10:00.000000000",
            "2023-10-04T10:15:00.000000000",
            "2023-10-04T10:20:00.000000000",
            "2023-10-04T10:25:00.000000000",
            "2023-10-04T10:30:00.000000000",
            "2023-10-04T10:35:00.000000000",
            "2023-10-04T10:40:00.000000000",
            "2023-10-04T10:45:00.000000000",
            "2023-10-04T10:50:00.000000000",
            "2023-10-04T10:55:00.000000000",
            "2023-10-04T11:00:00.000000000",
            "2023-10-04T11:05:00.000000000",
            "2023-10-04T11:10:00.000000000"
           ]
          }
         ],
         "name": "Frame 21"
        },
        {
         "data": [
          {
           "close": {
            "bdata": "oBov3STneUAwuycPC+55QEVHcvkP43lACRueXinkeUD/snvysON5QK62Yn/Z43lAEoPAyqHUeUAu/yH99tF5QBsv3SQG2XlABOeMKO3XeUAmUwWjks15QH6MuWsJxnlAK4cW2c7ZeUAFo5I6Adx5QAWjkjoB3HlANe84RUfKeUAMk6mCUcx5QBb7y+7JzHlADk+vlGXQeUAtQxzr4tV5QDJ3LSEf2nlA+MJkqmDneUA=",
            "dtype": "f8"
           },
           "decreasing": {
            "fillcolor": "#FF6347",
            "line": {
             "color": "#CC503A",
             "width": 0.6
            }
           },
           "high": {
            "bdata": "CtejcD3oeUAep+hILvF5QD9XW7G/7nlACtejcD3oeUAE54wo7ed5QD9XW7G/6nlALv8h/fbpeUA/V1uxv9p5QO5aQj7o2nlAKA8LtabZeUAep+hILtl5QBe30QDe0HlAK4cW2c7ZeUAOT6+UZeB5QGB2Tx4W5XlABaOSOgHgeUAu/yH99tF5QEp7gy9Mz3lA+8vuycPjeUBTBaOSOth5QDC7Jw8L3nlACRueXinseUA=",
            "dtype": "f8"
           },
           "increasing": {
            "fillcolor": "#32CD32",
            "line": {
             "color": "#28A028",
             "width": 0.6
            }
           },
           "low": {
            "bdata": "Ne84RUfaeUBCz2bV5+J5QDhnRGlv4nlAPZtVn6veeUBIv30dONt5QL8OnDOi3HlAQs9m1efSeUBpb/CFycx5QFTjpZvEz3lAPL1SliHPeUARx7q4jch5QBzr4jYaxXlAI9v5fmrFeUAVjErqBNl5QEVHcvkP23lAIR/0bFbJeUAoDwu1psl5QE3zjlN0x3lARIts5/vGeUCX/5B++855QCnLEMe61XlAIR/0bFbZeUA=",
            "dtype": "f8"
           },
           "name": "Price",
           "open": {
            "bdata": "FvvL7snceUD3Bl+YTOd5QC1DHOvi7XlARwN4CyTjeUD4wmSqYON5QP+ye/Kw43lAAiuHFtnjeUAPC7WmedR5QDXvOEVH0nlAIR/0bFbZeUAE54wo7dd5QCBj7lpCzXlALv8h/fbFeUCUh4Va09l5QAWjkjoB3HlABOeMKO3beUAydy0hH8p5QAyTqYJRzHlAFvvL7snMeUAK16NwPdB5QCnLEMe61XlAKA8LtabZeUA=",
            "dtype": "f8"
           },
           "type": "candlestick",
           "x": [
            "2023-10-04T09:30:00.000000000",
            "2023-10-04T09:35:00.000000000",
            "2023-10-04T09:40:00.000000000",
            "2023-10-04T09:45:00.000000000",
            "2023-10-04T09:50:00.000000000",
            "2023-10-04T09:55:00.000000000",
            "2023-10-04T10:00:00.000000000",
            "2023-10-04T10:05:00.000000000",
            "2023-10-04T10:10:00.000000000",
            "2023-10-04T10:15:00.000000000",
            "2023-10-04T10:20:00.000000000",
            "2023-10-04T10:25:00.000000000",
            "2023-10-04T10:30:00.000000000",
            "2023-10-04T10:35:00.000000000",
            "2023-10-04T10:40:00.000000000",
            "2023-10-04T10:45:00.000000000",
            "2023-10-04T10:50:00.000000000",
            "2023-10-04T10:55:00.000000000",
            "2023-10-04T11:00:00.000000000",
            "2023-10-04T11:05:00.000000000",
            "2023-10-04T11:10:00.000000000",
            "2023-10-04T11:15:00.000000000"
           ]
          }
         ],
         "name": "Frame 22"
        },
        {
         "data": [
          {
           "close": {
            "bdata": "oBov3STneUAwuycPC+55QEVHcvkP43lACRueXinkeUD/snvysON5QK62Yn/Z43lAEoPAyqHUeUAu/yH99tF5QBsv3SQG2XlABOeMKO3XeUAmUwWjks15QH6MuWsJxnlAK4cW2c7ZeUAFo5I6Adx5QAWjkjoB3HlANe84RUfKeUAMk6mCUcx5QBb7y+7JzHlADk+vlGXQeUAtQxzr4tV5QDJ3LSEf2nlA+MJkqmDneUAUP8bcteB5QA==",
            "dtype": "f8"
           },
           "decreasing": {
            "fillcolor": "#FF6347",
            "line": {
             "color": "#CC503A",
             "width": 0.6
            }
           },
           "high": {
            "bdata": "CtejcD3oeUAep+hILvF5QD9XW7G/7nlACtejcD3oeUAE54wo7ed5QD9XW7G/6nlALv8h/fbpeUA/V1uxv9p5QO5aQj7o2nlAKA8LtabZeUAep+hILtl5QBe30QDe0HlAK4cW2c7ZeUAOT6+UZeB5QGB2Tx4W5XlABaOSOgHgeUAu/yH99tF5QEp7gy9Mz3lA+8vuycPjeUBTBaOSOth5QDC7Jw8L3nlACRueXinseUA/V1uxv+p5QA==",
            "dtype": "f8"
           },
           "increasing": {
            "fillcolor": "#32CD32",
            "line": {
             "color": "#28A028",
             "width": 0.6
            }
           },
           "low": {
            "bdata": "Ne84RUfaeUBCz2bV5+J5QDhnRGlv4nlAPZtVn6veeUBIv30dONt5QL8OnDOi3HlAQs9m1efSeUBpb/CFycx5QFTjpZvEz3lAPL1SliHPeUARx7q4jch5QBzr4jYaxXlAI9v5fmrFeUAVjErqBNl5QEVHcvkP23lAIR/0bFbJeUAoDwu1psl5QE3zjlN0x3lARIts5/vGeUCX/5B++855QCnLEMe61XlAIR/0bFbZeUAAb4EExd95QA==",
            "dtype": "f8"
           },
           "name": "Price",
           "open": {
            "bdata": "FvvL7snceUD3Bl+YTOd5QC1DHOvi7XlARwN4CyTjeUD4wmSqYON5QP+ye/Kw43lAAiuHFtnjeUAPC7WmedR5QDXvOEVH0nlAIR/0bFbZeUAE54wo7dd5QCBj7lpCzXlALv8h/fbFeUCUh4Va09l5QAWjkjoB3HlABOeMKO3beUAydy0hH8p5QAyTqYJRzHlAFvvL7snMeUAK16NwPdB5QCnLEMe61XlAKA8LtabZeUD6fmq8dOd5QA==",
            "dtype": "f8"
           },
           "type": "candlestick",
           "x": [
            "2023-10-04T09:30:00.000000000",
            "2023-10-04T09:35:00.000000000",
            "2023-10-04T09:40:00.000000000",
            "2023-10-04T09:45:00.000000000",
            "2023-10-04T09:50:00.000000000",
            "2023-10-04T09:55:00.000000000",
            "2023-10-04T10:00:00.000000000",
            "2023-10-04T10:05:00.000000000",
            "2023-10-04T10:10:00.000000000",
            "2023-10-04T10:15:00.000000000",
            "2023-10-04T10:20:00.000000000",
            "2023-10-04T10:25:00.000000000",
            "2023-10-04T10:30:00.000000000",
            "2023-10-04T10:35:00.000000000",
            "2023-10-04T10:40:00.000000000",
            "2023-10-04T10:45:00.000000000",
            "2023-10-04T10:50:00.000000000",
            "2023-10-04T10:55:00.000000000",
            "2023-10-04T11:00:00.000000000",
            "2023-10-04T11:05:00.000000000",
            "2023-10-04T11:10:00.000000000",
            "2023-10-04T11:15:00.000000000",
            "2023-10-04T11:20:00.000000000"
           ]
          }
         ],
         "name": "Frame 23"
        },
        {
         "data": [
          {
           "close": {
            "bdata": "oBov3STneUAwuycPC+55QEVHcvkP43lACRueXinkeUD/snvysON5QK62Yn/Z43lAEoPAyqHUeUAu/yH99tF5QBsv3SQG2XlABOeMKO3XeUAmUwWjks15QH6MuWsJxnlAK4cW2c7ZeUAFo5I6Adx5QAWjkjoB3HlANe84RUfKeUAMk6mCUcx5QBb7y+7JzHlADk+vlGXQeUAtQxzr4tV5QDJ3LSEf2nlA+MJkqmDneUAUP8bcteB5QABvgQTF53lA",
            "dtype": "f8"
           },
           "decreasing": {
            "fillcolor": "#FF6347",
            "line": {
             "color": "#CC503A",
             "width": 0.6
            }
           },
           "high": {
            "bdata": "CtejcD3oeUAep+hILvF5QD9XW7G/7nlACtejcD3oeUAE54wo7ed5QD9XW7G/6nlALv8h/fbpeUA/V1uxv9p5QO5aQj7o2nlAKA8LtabZeUAep+hILtl5QBe30QDe0HlAK4cW2c7ZeUAOT6+UZeB5QGB2Tx4W5XlABaOSOgHgeUAu/yH99tF5QEp7gy9Mz3lA+8vuycPjeUBTBaOSOth5QDC7Jw8L3nlACRueXinseUA/V1uxv+p5QCSX/5B+6XlA",
            "dtype": "f8"
           },
           "increasing": {
            "fillcolor": "#32CD32",
            "line": {
             "color": "#28A028",
             "width": 0.6
            }
           },
           "low": {
            "bdata": "Ne84RUfaeUBCz2bV5+J5QDhnRGlv4nlAPZtVn6veeUBIv30dONt5QL8OnDOi3HlAQs9m1efSeUBpb/CFycx5QFTjpZvEz3lAPL1SliHPeUARx7q4jch5QBzr4jYaxXlAI9v5fmrFeUAVjErqBNl5QEVHcvkP23lAIR/0bFbJeUAoDwu1psl5QE3zjlN0x3lARIts5/vGeUCX/5B++855QCnLEMe61XlAIR/0bFbZeUAAb4EExd95QBQ/xty14HlA",
            "dtype": "f8"
           },
           "name": "Price",
           "open": {
            "bdata": "FvvL7snceUD3Bl+YTOd5QC1DHOvi7XlARwN4CyTjeUD4wmSqYON5QP+ye/Kw43lAAiuHFtnjeUAPC7WmedR5QDXvOEVH0nlAIR/0bFbZeUAE54wo7dd5QCBj7lpCzXlALv8h/fbFeUCUh4Va09l5QAWjkjoB3HlABOeMKO3beUAydy0hH8p5QAyTqYJRzHlAFvvL7snMeUAK16NwPdB5QCnLEMe61XlAKA8LtabZeUD6fmq8dOd5QBsv3SQG4XlA",
            "dtype": "f8"
           },
           "type": "candlestick",
           "x": [
            "2023-10-04T09:30:00.000000000",
            "2023-10-04T09:35:00.000000000",
            "2023-10-04T09:40:00.000000000",
            "2023-10-04T09:45:00.000000000",
            "2023-10-04T09:50:00.000000000",
            "2023-10-04T09:55:00.000000000",
            "2023-10-04T10:00:00.000000000",
            "2023-10-04T10:05:00.000000000",
            "2023-10-04T10:10:00.000000000",
            "2023-10-04T10:15:00.000000000",
            "2023-10-04T10:20:00.000000000",
            "2023-10-04T10:25:00.000000000",
            "2023-10-04T10:30:00.000000000",
            "2023-10-04T10:35:00.000000000",
            "2023-10-04T10:40:00.000000000",
            "2023-10-04T10:45:00.000000000",
            "2023-10-04T10:50:00.000000000",
            "2023-10-04T10:55:00.000000000",
            "2023-10-04T11:00:00.000000000",
            "2023-10-04T11:05:00.000000000",
            "2023-10-04T11:10:00.000000000",
            "2023-10-04T11:15:00.000000000",
            "2023-10-04T11:20:00.000000000",
            "2023-10-04T11:25:00.000000000"
           ]
          }
         ],
         "name": "Frame 24"
        },
        {
         "data": [
          {
           "close": {
            "bdata": "oBov3STneUAwuycPC+55QEVHcvkP43lACRueXinkeUD/snvysON5QK62Yn/Z43lAEoPAyqHUeUAu/yH99tF5QBsv3SQG2XlABOeMKO3XeUAmUwWjks15QH6MuWsJxnlAK4cW2c7ZeUAFo5I6Adx5QAWjkjoB3HlANe84RUfKeUAMk6mCUcx5QBb7y+7JzHlADk+vlGXQeUAtQxzr4tV5QDJ3LSEf2nlA+MJkqmDneUAUP8bcteB5QABvgQTF53lAKcsQx7rleUA=",
            "dtype": "f8"
           },
           "decreasing": {
            "fillcolor": "#FF6347",
            "line": {
             "color": "#CC503A",
             "width": 0.6
            }
           },
           "high": {
            "bdata": "CtejcD3oeUAep+hILvF5QD9XW7G/7nlACtejcD3oeUAE54wo7ed5QD9XW7G/6nlALv8h/fbpeUA/V1uxv9p5QO5aQj7o2nlAKA8LtabZeUAep+hILtl5QBe30QDe0HlAK4cW2c7ZeUAOT6+UZeB5QGB2Tx4W5XlABaOSOgHgeUAu/yH99tF5QEp7gy9Mz3lA+8vuycPjeUBTBaOSOth5QDC7Jw8L3nlACRueXinseUA/V1uxv+p5QCSX/5B+6XlAHqfoSC7peUA=",
            "dtype": "f8"
           },
           "increasing": {
            "fillcolor": "#32CD32",
            "line": {
             "color": "#28A028",
             "width": 0.6
            }
           },
           "low": {
            "bdata": "Ne84RUfaeUBCz2bV5+J5QDhnRGlv4nlAPZtVn6veeUBIv30dONt5QL8OnDOi3HlAQs9m1efSeUBpb/CFycx5QFTjpZvEz3lAPL1SliHPeUARx7q4jch5QBzr4jYaxXlAI9v5fmrFeUAVjErqBNl5QEVHcvkP23lAIR/0bFbJeUAoDwu1psl5QE3zjlN0x3lARIts5/vGeUCX/5B++855QCnLEMe61XlAIR/0bFbZeUAAb4EExd95QBQ/xty14HlALv8h/fbheUA=",
            "dtype": "f8"
           },
           "name": "Price",
           "open": {
            "bdata": "FvvL7snceUD3Bl+YTOd5QC1DHOvi7XlARwN4CyTjeUD4wmSqYON5QP+ye/Kw43lAAiuHFtnjeUAPC7WmedR5QDXvOEVH0nlAIR/0bFbZeUAE54wo7dd5QCBj7lpCzXlALv8h/fbFeUCUh4Va09l5QAWjkjoB3HlABOeMKO3beUAydy0hH8p5QAyTqYJRzHlAFvvL7snMeUAK16NwPdB5QCnLEMe61XlAKA8LtabZeUD6fmq8dOd5QBsv3SQG4XlAAG+BBMXneUA=",
            "dtype": "f8"
           },
           "type": "candlestick",
           "x": [
            "2023-10-04T09:30:00.000000000",
            "2023-10-04T09:35:00.000000000",
            "2023-10-04T09:40:00.000000000",
            "2023-10-04T09:45:00.000000000",
            "2023-10-04T09:50:00.000000000",
            "2023-10-04T09:55:00.000000000",
            "2023-10-04T10:00:00.000000000",
            "2023-10-04T10:05:00.000000000",
            "2023-10-04T10:10:00.000000000",
            "2023-10-04T10:15:00.000000000",
            "2023-10-04T10:20:00.000000000",
            "2023-10-04T10:25:00.000000000",
            "2023-10-04T10:30:00.000000000",
            "2023-10-04T10:35:00.000000000",
            "2023-10-04T10:40:00.000000000",
            "2023-10-04T10:45:00.000000000",
            "2023-10-04T10:50:00.000000000",
            "2023-10-04T10:55:00.000000000",
            "2023-10-04T11:00:00.000000000",
            "2023-10-04T11:05:00.000000000",
            "2023-10-04T11:10:00.000000000",
            "2023-10-04T11:15:00.000000000",
            "2023-10-04T11:20:00.000000000",
            "2023-10-04T11:25:00.000000000",
            "2023-10-04T11:30:00.000000000"
           ]
          }
         ],
         "name": "Frame 25"
        },
        {
         "data": [
          {
           "close": {
            "bdata": "oBov3STneUAwuycPC+55QEVHcvkP43lACRueXinkeUD/snvysON5QK62Yn/Z43lAEoPAyqHUeUAu/yH99tF5QBsv3SQG2XlABOeMKO3XeUAmUwWjks15QH6MuWsJxnlAK4cW2c7ZeUAFo5I6Adx5QAWjkjoB3HlANe84RUfKeUAMk6mCUcx5QBb7y+7JzHlADk+vlGXQeUAtQxzr4tV5QDJ3LSEf2nlA+MJkqmDneUAUP8bcteB5QABvgQTF53lAKcsQx7rleUAAb4EExed5QA==",
            "dtype": "f8"
           },
           "decreasing": {
            "fillcolor": "#FF6347",
            "line": {
             "color": "#CC503A",
             "width": 0.6
            }
           },
           "high": {
            "bdata": "CtejcD3oeUAep+hILvF5QD9XW7G/7nlACtejcD3oeUAE54wo7ed5QD9XW7G/6nlALv8h/fbpeUA/V1uxv9p5QO5aQj7o2nlAKA8LtabZeUAep+hILtl5QBe30QDe0HlAK4cW2c7ZeUAOT6+UZeB5QGB2Tx4W5XlABaOSOgHgeUAu/yH99tF5QEp7gy9Mz3lA+8vuycPjeUBTBaOSOth5QDC7Jw8L3nlACRueXinseUA/V1uxv+p5QCSX/5B+6XlAHqfoSC7peUDhehSuR+p5QA==",
            "dtype": "f8"
           },
           "increasing": {
            "fillcolor": "#32CD32",
            "line": {
             "color": "#28A028",
             "width": 0.6
            }
           },
           "low": {
            "bdata": "Ne84RUfaeUBCz2bV5+J5QDhnRGlv4nlAPZtVn6veeUBIv30dONt5QL8OnDOi3HlAQs9m1efSeUBpb/CFycx5QFTjpZvEz3lAPL1SliHPeUARx7q4jch5QBzr4jYaxXlAI9v5fmrFeUAVjErqBNl5QEVHcvkP23lAIR/0bFbJeUAoDwu1psl5QE3zjlN0x3lARIts5/vGeUCX/5B++855QCnLEMe61XlAIR/0bFbZeUAAb4EExd95QBQ/xty14HlALv8h/fbheUARx7q4jeB5QA==",
            "dtype": "f8"
           },
           "name": "Price",
           "open": {
            "bdata": "FvvL7snceUD3Bl+YTOd5QC1DHOvi7XlARwN4CyTjeUD4wmSqYON5QP+ye/Kw43lAAiuHFtnjeUAPC7WmedR5QDXvOEVH0nlAIR/0bFbZeUAE54wo7dd5QCBj7lpCzXlALv8h/fbFeUCUh4Va09l5QAWjkjoB3HlABOeMKO3beUAydy0hH8p5QAyTqYJRzHlAFvvL7snMeUAK16NwPdB5QCnLEMe61XlAKA8LtabZeUD6fmq8dOd5QBsv3SQG4XlAAG+BBMXneUApyxDHuuV5QA==",
            "dtype": "f8"
           },
           "type": "candlestick",
           "x": [
            "2023-10-04T09:30:00.000000000",
            "2023-10-04T09:35:00.000000000",
            "2023-10-04T09:40:00.000000000",
            "2023-10-04T09:45:00.000000000",
            "2023-10-04T09:50:00.000000000",
            "2023-10-04T09:55:00.000000000",
            "2023-10-04T10:00:00.000000000",
            "2023-10-04T10:05:00.000000000",
            "2023-10-04T10:10:00.000000000",
            "2023-10-04T10:15:00.000000000",
            "2023-10-04T10:20:00.000000000",
            "2023-10-04T10:25:00.000000000",
            "2023-10-04T10:30:00.000000000",
            "2023-10-04T10:35:00.000000000",
            "2023-10-04T10:40:00.000000000",
            "2023-10-04T10:45:00.000000000",
            "2023-10-04T10:50:00.000000000",
            "2023-10-04T10:55:00.000000000",
            "2023-10-04T11:00:00.000000000",
            "2023-10-04T11:05:00.000000000",
            "2023-10-04T11:10:00.000000000",
            "2023-10-04T11:15:00.000000000",
            "2023-10-04T11:20:00.000000000",
            "2023-10-04T11:25:00.000000000",
            "2023-10-04T11:30:00.000000000",
            "2023-10-04T11:35:00.000000000"
           ]
          }
         ],
         "name": "Frame 26"
        },
        {
         "data": [
          {
           "close": {
            "bdata": "oBov3STneUAwuycPC+55QEVHcvkP43lACRueXinkeUD/snvysON5QK62Yn/Z43lAEoPAyqHUeUAu/yH99tF5QBsv3SQG2XlABOeMKO3XeUAmUwWjks15QH6MuWsJxnlAK4cW2c7ZeUAFo5I6Adx5QAWjkjoB3HlANe84RUfKeUAMk6mCUcx5QBb7y+7JzHlADk+vlGXQeUAtQxzr4tV5QDJ3LSEf2nlA+MJkqmDneUAUP8bcteB5QABvgQTF53lAKcsQx7rleUAAb4EExed5QBlz1xLy5HlA",
            "dtype": "f8"
           },
           "decreasing": {
            "fillcolor": "#FF6347",
            "line": {
             "color": "#CC503A",
             "width": 0.6
            }
           },
           "high": {
            "bdata": "CtejcD3oeUAep+hILvF5QD9XW7G/7nlACtejcD3oeUAE54wo7ed5QD9XW7G/6nlALv8h/fbpeUA/V1uxv9p5QO5aQj7o2nlAKA8LtabZeUAep+hILtl5QBe30QDe0HlAK4cW2c7ZeUAOT6+UZeB5QGB2Tx4W5XlABaOSOgHgeUAu/yH99tF5QEp7gy9Mz3lA+8vuycPjeUBTBaOSOth5QDC7Jw8L3nlACRueXinseUA/V1uxv+p5QCSX/5B+6XlAHqfoSC7peUDhehSuR+p5QBHHuriN6HlA",
            "dtype": "f8"
           },
           "increasing": {
            "fillcolor": "#32CD32",
            "line": {
             "color": "#28A028",
             "width": 0.6
            }
           },
           "low": {
            "bdata": "Ne84RUfaeUBCz2bV5+J5QDhnRGlv4nlAPZtVn6veeUBIv30dONt5QL8OnDOi3HlAQs9m1efSeUBpb/CFycx5QFTjpZvEz3lAPL1SliHPeUARx7q4jch5QBzr4jYaxXlAI9v5fmrFeUAVjErqBNl5QEVHcvkP23lAIR/0bFbJeUAoDwu1psl5QE3zjlN0x3lARIts5/vGeUCX/5B++855QCnLEMe61XlAIR/0bFbZeUAAb4EExd95QBQ/xty14HlALv8h/fbheUARx7q4jeB5QDMzMzMz3nlA",
            "dtype": "f8"
           },
           "name": "Price",
           "open": {
            "bdata": "FvvL7snceUD3Bl+YTOd5QC1DHOvi7XlARwN4CyTjeUD4wmSqYON5QP+ye/Kw43lAAiuHFtnjeUAPC7WmedR5QDXvOEVH0nlAIR/0bFbZeUAE54wo7dd5QCBj7lpCzXlALv8h/fbFeUCUh4Va09l5QAWjkjoB3HlABOeMKO3beUAydy0hH8p5QAyTqYJRzHlAFvvL7snMeUAK16NwPdB5QCnLEMe61XlAKA8LtabZeUD6fmq8dOd5QBsv3SQG4XlAAG+BBMXneUApyxDHuuV5QABvgQTF53lA",
            "dtype": "f8"
           },
           "type": "candlestick",
           "x": [
            "2023-10-04T09:30:00.000000000",
            "2023-10-04T09:35:00.000000000",
            "2023-10-04T09:40:00.000000000",
            "2023-10-04T09:45:00.000000000",
            "2023-10-04T09:50:00.000000000",
            "2023-10-04T09:55:00.000000000",
            "2023-10-04T10:00:00.000000000",
            "2023-10-04T10:05:00.000000000",
            "2023-10-04T10:10:00.000000000",
            "2023-10-04T10:15:00.000000000",
            "2023-10-04T10:20:00.000000000",
            "2023-10-04T10:25:00.000000000",
            "2023-10-04T10:30:00.000000000",
            "2023-10-04T10:35:00.000000000",
            "2023-10-04T10:40:00.000000000",
            "2023-10-04T10:45:00.000000000",
            "2023-10-04T10:50:00.000000000",
            "2023-10-04T10:55:00.000000000",
            "2023-10-04T11:00:00.000000000",
            "2023-10-04T11:05:00.000000000",
            "2023-10-04T11:10:00.000000000",
            "2023-10-04T11:15:00.000000000",
            "2023-10-04T11:20:00.000000000",
            "2023-10-04T11:25:00.000000000",
            "2023-10-04T11:30:00.000000000",
            "2023-10-04T11:35:00.000000000",
            "2023-10-04T11:40:00.000000000"
           ]
          }
         ],
         "name": "Frame 27"
        },
        {
         "data": [
          {
           "close": {
            "bdata": "oBov3STneUAwuycPC+55QEVHcvkP43lACRueXinkeUD/snvysON5QK62Yn/Z43lAEoPAyqHUeUAu/yH99tF5QBsv3SQG2XlABOeMKO3XeUAmUwWjks15QH6MuWsJxnlAK4cW2c7ZeUAFo5I6Adx5QAWjkjoB3HlANe84RUfKeUAMk6mCUcx5QBb7y+7JzHlADk+vlGXQeUAtQxzr4tV5QDJ3LSEf2nlA+MJkqmDneUAUP8bcteB5QABvgQTF53lAKcsQx7rleUAAb4EExed5QBlz1xLy5HlABaOSOgHweUA=",
            "dtype": "f8"
           },
           "decreasing": {
            "fillcolor": "#FF6347",
            "line": {
             "color": "#CC503A",
             "width": 0.6
            }
           },
           "high": {
            "bdata": "CtejcD3oeUAep+hILvF5QD9XW7G/7nlACtejcD3oeUAE54wo7ed5QD9XW7G/6nlALv8h/fbpeUA/V1uxv9p5QO5aQj7o2nlAKA8LtabZeUAep+hILtl5QBe30QDe0HlAK4cW2c7ZeUAOT6+UZeB5QGB2Tx4W5XlABaOSOgHgeUAu/yH99tF5QEp7gy9Mz3lA+8vuycPjeUBTBaOSOth5QDC7Jw8L3nlACRueXinseUA/V1uxv+p5QCSX/5B+6XlAHqfoSC7peUDhehSuR+p5QBHHuriN6HlAI9v5fmr1eUA=",
            "dtype": "f8"
           },
           "increasing": {
            "fillcolor": "#32CD32",
            "line": {
             "color": "#28A028",
             "width": 0.6
            }
           },
           "low": {
            "bdata": "Ne84RUfaeUBCz2bV5+J5QDhnRGlv4nlAPZtVn6veeUBIv30dONt5QL8OnDOi3HlAQs9m1efSeUBpb/CFycx5QFTjpZvEz3lAPL1SliHPeUARx7q4jch5QBzr4jYaxXlAI9v5fmrFeUAVjErqBNl5QEVHcvkP23lAIR/0bFbJeUAoDwu1psl5QE3zjlN0x3lARIts5/vGeUCX/5B++855QCnLEMe61XlAIR/0bFbZeUAAb4EExd95QBQ/xty14HlALv8h/fbheUARx7q4jeB5QDMzMzMz3nlAIR/0bFbheUA=",
            "dtype": "f8"
           },
           "name": "Price",
           "open": {
            "bdata": "FvvL7snceUD3Bl+YTOd5QC1DHOvi7XlARwN4CyTjeUD4wmSqYON5QP+ye/Kw43lAAiuHFtnjeUAPC7WmedR5QDXvOEVH0nlAIR/0bFbZeUAE54wo7dd5QCBj7lpCzXlALv8h/fbFeUCUh4Va09l5QAWjkjoB3HlABOeMKO3beUAydy0hH8p5QAyTqYJRzHlAFvvL7snMeUAK16NwPdB5QCnLEMe61XlAKA8LtabZeUD6fmq8dOd5QBsv3SQG4XlAAG+BBMXneUApyxDHuuV5QABvgQTF53lAGy/dJAbleUA=",
            "dtype": "f8"
           },
           "type": "candlestick",
           "x": [
            "2023-10-04T09:30:00.000000000",
            "2023-10-04T09:35:00.000000000",
            "2023-10-04T09:40:00.000000000",
            "2023-10-04T09:45:00.000000000",
            "2023-10-04T09:50:00.000000000",
            "2023-10-04T09:55:00.000000000",
            "2023-10-04T10:00:00.000000000",
            "2023-10-04T10:05:00.000000000",
            "2023-10-04T10:10:00.000000000",
            "2023-10-04T10:15:00.000000000",
            "2023-10-04T10:20:00.000000000",
            "2023-10-04T10:25:00.000000000",
            "2023-10-04T10:30:00.000000000",
            "2023-10-04T10:35:00.000000000",
            "2023-10-04T10:40:00.000000000",
            "2023-10-04T10:45:00.000000000",
            "2023-10-04T10:50:00.000000000",
            "2023-10-04T10:55:00.000000000",
            "2023-10-04T11:00:00.000000000",
            "2023-10-04T11:05:00.000000000",
            "2023-10-04T11:10:00.000000000",
            "2023-10-04T11:15:00.000000000",
            "2023-10-04T11:20:00.000000000",
            "2023-10-04T11:25:00.000000000",
            "2023-10-04T11:30:00.000000000",
            "2023-10-04T11:35:00.000000000",
            "2023-10-04T11:40:00.000000000",
            "2023-10-04T11:45:00.000000000"
           ]
          }
         ],
         "name": "Frame 28"
        },
        {
         "data": [
          {
           "close": {
            "bdata": "oBov3STneUAwuycPC+55QEVHcvkP43lACRueXinkeUD/snvysON5QK62Yn/Z43lAEoPAyqHUeUAu/yH99tF5QBsv3SQG2XlABOeMKO3XeUAmUwWjks15QH6MuWsJxnlAK4cW2c7ZeUAFo5I6Adx5QAWjkjoB3HlANe84RUfKeUAMk6mCUcx5QBb7y+7JzHlADk+vlGXQeUAtQxzr4tV5QDJ3LSEf2nlA+MJkqmDneUAUP8bcteB5QABvgQTF53lAKcsQx7rleUAAb4EExed5QBlz1xLy5HlABaOSOgHweUACK4cW2fN5QA==",
            "dtype": "f8"
           },
           "decreasing": {
            "fillcolor": "#FF6347",
            "line": {
             "color": "#CC503A",
             "width": 0.6
            }
           },
           "high": {
            "bdata": "CtejcD3oeUAep+hILvF5QD9XW7G/7nlACtejcD3oeUAE54wo7ed5QD9XW7G/6nlALv8h/fbpeUA/V1uxv9p5QO5aQj7o2nlAKA8LtabZeUAep+hILtl5QBe30QDe0HlAK4cW2c7ZeUAOT6+UZeB5QGB2Tx4W5XlABaOSOgHgeUAu/yH99tF5QEp7gy9Mz3lA+8vuycPjeUBTBaOSOth5QDC7Jw8L3nlACRueXinseUA/V1uxv+p5QCSX/5B+6XlAHqfoSC7peUDhehSuR+p5QBHHuriN6HlAI9v5fmr1eUAgY+5aQvV5QA==",
            "dtype": "f8"
           },
           "increasing": {
            "fillcolor": "#32CD32",
            "line": {
             "color": "#28A028",
             "width": 0.6
            }
           },
           "low": {
            "bdata": "Ne84RUfaeUBCz2bV5+J5QDhnRGlv4nlAPZtVn6veeUBIv30dONt5QL8OnDOi3HlAQs9m1efSeUBpb/CFycx5QFTjpZvEz3lAPL1SliHPeUARx7q4jch5QBzr4jYaxXlAI9v5fmrFeUAVjErqBNl5QEVHcvkP23lAIR/0bFbJeUAoDwu1psl5QE3zjlN0x3lARIts5/vGeUCX/5B++855QCnLEMe61XlAIR/0bFbZeUAAb4EExd95QBQ/xty14HlALv8h/fbheUARx7q4jeB5QDMzMzMz3nlAIR/0bFbheUA4Z0Rpb+p5QA==",
            "dtype": "f8"
           },
           "name": "Price",
           "open": {
            "bdata": "FvvL7snceUD3Bl+YTOd5QC1DHOvi7XlARwN4CyTjeUD4wmSqYON5QP+ye/Kw43lAAiuHFtnjeUAPC7WmedR5QDXvOEVH0nlAIR/0bFbZeUAE54wo7dd5QCBj7lpCzXlALv8h/fbFeUCUh4Va09l5QAWjkjoB3HlABOeMKO3beUAydy0hH8p5QAyTqYJRzHlAFvvL7snMeUAK16NwPdB5QCnLEMe61XlAKA8LtabZeUD6fmq8dOd5QBsv3SQG4XlAAG+BBMXneUApyxDHuuV5QABvgQTF53lAGy/dJAbleUAAb4EExe95QA==",
            "dtype": "f8"
           },
           "type": "candlestick",
           "x": [
            "2023-10-04T09:30:00.000000000",
            "2023-10-04T09:35:00.000000000",
            "2023-10-04T09:40:00.000000000",
            "2023-10-04T09:45:00.000000000",
            "2023-10-04T09:50:00.000000000",
            "2023-10-04T09:55:00.000000000",
            "2023-10-04T10:00:00.000000000",
            "2023-10-04T10:05:00.000000000",
            "2023-10-04T10:10:00.000000000",
            "2023-10-04T10:15:00.000000000",
            "2023-10-04T10:20:00.000000000",
            "2023-10-04T10:25:00.000000000",
            "2023-10-04T10:30:00.000000000",
            "2023-10-04T10:35:00.000000000",
            "2023-10-04T10:40:00.000000000",
            "2023-10-04T10:45:00.000000000",
            "2023-10-04T10:50:00.000000000",
            "2023-10-04T10:55:00.000000000",
            "2023-10-04T11:00:00.000000000",
            "2023-10-04T11:05:00.000000000",
            "2023-10-04T11:10:00.000000000",
            "2023-10-04T11:15:00.000000000",
            "2023-10-04T11:20:00.000000000",
            "2023-10-04T11:25:00.000000000",
            "2023-10-04T11:30:00.000000000",
            "2023-10-04T11:35:00.000000000",
            "2023-10-04T11:40:00.000000000",
            "2023-10-04T11:45:00.000000000",
            "2023-10-04T11:50:00.000000000"
           ]
          }
         ],
         "name": "Frame 29"
        },
        {
         "data": [
          {
           "close": {
            "bdata": "oBov3STneUAwuycPC+55QEVHcvkP43lACRueXinkeUD/snvysON5QK62Yn/Z43lAEoPAyqHUeUAu/yH99tF5QBsv3SQG2XlABOeMKO3XeUAmUwWjks15QH6MuWsJxnlAK4cW2c7ZeUAFo5I6Adx5QAWjkjoB3HlANe84RUfKeUAMk6mCUcx5QBb7y+7JzHlADk+vlGXQeUAtQxzr4tV5QDJ3LSEf2nlA+MJkqmDneUAUP8bcteB5QABvgQTF53lAKcsQx7rleUAAb4EExed5QBlz1xLy5HlABaOSOgHweUACK4cW2fN5QDarPldb+nlA",
            "dtype": "f8"
           },
           "decreasing": {
            "fillcolor": "#FF6347",
            "line": {
             "color": "#CC503A",
             "width": 0.6
            }
           },
           "high": {
            "bdata": "CtejcD3oeUAep+hILvF5QD9XW7G/7nlACtejcD3oeUAE54wo7ed5QD9XW7G/6nlALv8h/fbpeUA/V1uxv9p5QO5aQj7o2nlAKA8LtabZeUAep+hILtl5QBe30QDe0HlAK4cW2c7ZeUAOT6+UZeB5QGB2Tx4W5XlABaOSOgHgeUAu/yH99tF5QEp7gy9Mz3lA+8vuycPjeUBTBaOSOth5QDC7Jw8L3nlACRueXinseUA/V1uxv+p5QCSX/5B+6XlAHqfoSC7peUDhehSuR+p5QBHHuriN6HlAI9v5fmr1eUAgY+5aQvV5QOauJeSD+nlA",
            "dtype": "f8"
           },
           "increasing": {
            "fillcolor": "#32CD32",
            "line": {
             "color": "#28A028",
             "width": 0.6
            }
           },
           "low": {
            "bdata": "Ne84RUfaeUBCz2bV5+J5QDhnRGlv4nlAPZtVn6veeUBIv30dONt5QL8OnDOi3HlAQs9m1efSeUBpb/CFycx5QFTjpZvEz3lAPL1SliHPeUARx7q4jch5QBzr4jYaxXlAI9v5fmrFeUAVjErqBNl5QEVHcvkP23lAIR/0bFbJeUAoDwu1psl5QE3zjlN0x3lARIts5/vGeUCX/5B++855QCnLEMe61XlAIR/0bFbZeUAAb4EExd95QBQ/xty14HlALv8h/fbheUARx7q4jeB5QDMzMzMz3nlAIR/0bFbheUA4Z0Rpb+p5QOviNhrA8nlA",
            "dtype": "f8"
           },
           "name": "Price",
           "open": {
            "bdata": "FvvL7snceUD3Bl+YTOd5QC1DHOvi7XlARwN4CyTjeUD4wmSqYON5QP+ye/Kw43lAAiuHFtnjeUAPC7WmedR5QDXvOEVH0nlAIR/0bFbZeUAE54wo7dd5QCBj7lpCzXlALv8h/fbFeUCUh4Va09l5QAWjkjoB3HlABOeMKO3beUAydy0hH8p5QAyTqYJRzHlAFvvL7snMeUAK16NwPdB5QCnLEMe61XlAKA8LtabZeUD6fmq8dOd5QBsv3SQG4XlAAG+BBMXneUApyxDHuuV5QABvgQTF53lAGy/dJAbleUAAb4EExe95QAIrhxbZ83lA",
            "dtype": "f8"
           },
           "type": "candlestick",
           "x": [
            "2023-10-04T09:30:00.000000000",
            "2023-10-04T09:35:00.000000000",
            "2023-10-04T09:40:00.000000000",
            "2023-10-04T09:45:00.000000000",
            "2023-10-04T09:50:00.000000000",
            "2023-10-04T09:55:00.000000000",
            "2023-10-04T10:00:00.000000000",
            "2023-10-04T10:05:00.000000000",
            "2023-10-04T10:10:00.000000000",
            "2023-10-04T10:15:00.000000000",
            "2023-10-04T10:20:00.000000000",
            "2023-10-04T10:25:00.000000000",
            "2023-10-04T10:30:00.000000000",
            "2023-10-04T10:35:00.000000000",
            "2023-10-04T10:40:00.000000000",
            "2023-10-04T10:45:00.000000000",
            "2023-10-04T10:50:00.000000000",
            "2023-10-04T10:55:00.000000000",
            "2023-10-04T11:00:00.000000000",
            "2023-10-04T11:05:00.000000000",
            "2023-10-04T11:10:00.000000000",
            "2023-10-04T11:15:00.000000000",
            "2023-10-04T11:20:00.000000000",
            "2023-10-04T11:25:00.000000000",
            "2023-10-04T11:30:00.000000000",
            "2023-10-04T11:35:00.000000000",
            "2023-10-04T11:40:00.000000000",
            "2023-10-04T11:45:00.000000000",
            "2023-10-04T11:50:00.000000000",
            "2023-10-04T11:55:00.000000000"
           ]
          }
         ],
         "name": "Frame 30"
        },
        {
         "data": [
          {
           "close": {
            "bdata": "oBov3STneUAwuycPC+55QEVHcvkP43lACRueXinkeUD/snvysON5QK62Yn/Z43lAEoPAyqHUeUAu/yH99tF5QBsv3SQG2XlABOeMKO3XeUAmUwWjks15QH6MuWsJxnlAK4cW2c7ZeUAFo5I6Adx5QAWjkjoB3HlANe84RUfKeUAMk6mCUcx5QBb7y+7JzHlADk+vlGXQeUAtQxzr4tV5QDJ3LSEf2nlA+MJkqmDneUAUP8bcteB5QABvgQTF53lAKcsQx7rleUAAb4EExed5QBlz1xLy5HlABaOSOgHweUACK4cW2fN5QDarPldb+nlALv8h/fbxeUA=",
            "dtype": "f8"
           },
           "decreasing": {
            "fillcolor": "#FF6347",
            "line": {
             "color": "#CC503A",
             "width": 0.6
            }
           },
           "high": {
            "bdata": "CtejcD3oeUAep+hILvF5QD9XW7G/7nlACtejcD3oeUAE54wo7ed5QD9XW7G/6nlALv8h/fbpeUA/V1uxv9p5QO5aQj7o2nlAKA8LtabZeUAep+hILtl5QBe30QDe0HlAK4cW2c7ZeUAOT6+UZeB5QGB2Tx4W5XlABaOSOgHgeUAu/yH99tF5QEp7gy9Mz3lA+8vuycPjeUBTBaOSOth5QDC7Jw8L3nlACRueXinseUA/V1uxv+p5QCSX/5B+6XlAHqfoSC7peUDhehSuR+p5QBHHuriN6HlAI9v5fmr1eUAgY+5aQvV5QOauJeSD+nlA8tJNYhD7eUA=",
            "dtype": "f8"
           },
           "increasing": {
            "fillcolor": "#32CD32",
            "line": {
             "color": "#28A028",
             "width": 0.6
            }
           },
           "low": {
            "bdata": "Ne84RUfaeUBCz2bV5+J5QDhnRGlv4nlAPZtVn6veeUBIv30dONt5QL8OnDOi3HlAQs9m1efSeUBpb/CFycx5QFTjpZvEz3lAPL1SliHPeUARx7q4jch5QBzr4jYaxXlAI9v5fmrFeUAVjErqBNl5QEVHcvkP23lAIR/0bFbJeUAoDwu1psl5QE3zjlN0x3lARIts5/vGeUCX/5B++855QCnLEMe61XlAIR/0bFbZeUAAb4EExd95QBQ/xty14HlALv8h/fbheUARx7q4jeB5QDMzMzMz3nlAIR/0bFbheUA4Z0Rpb+p5QOviNhrA8nlAGy/dJAbxeUA=",
            "dtype": "f8"
           },
           "name": "Price",
           "open": {
            "bdata": "FvvL7snceUD3Bl+YTOd5QC1DHOvi7XlARwN4CyTjeUD4wmSqYON5QP+ye/Kw43lAAiuHFtnjeUAPC7WmedR5QDXvOEVH0nlAIR/0bFbZeUAE54wo7dd5QCBj7lpCzXlALv8h/fbFeUCUh4Va09l5QAWjkjoB3HlABOeMKO3beUAydy0hH8p5QAyTqYJRzHlAFvvL7snMeUAK16NwPdB5QCnLEMe61XlAKA8LtabZeUD6fmq8dOd5QBsv3SQG4XlAAG+BBMXneUApyxDHuuV5QABvgQTF53lAGy/dJAbleUAAb4EExe95QAIrhxbZ83lALv8h/fb5eUA=",
            "dtype": "f8"
           },
           "type": "candlestick",
           "x": [
            "2023-10-04T09:30:00.000000000",
            "2023-10-04T09:35:00.000000000",
            "2023-10-04T09:40:00.000000000",
            "2023-10-04T09:45:00.000000000",
            "2023-10-04T09:50:00.000000000",
            "2023-10-04T09:55:00.000000000",
            "2023-10-04T10:00:00.000000000",
            "2023-10-04T10:05:00.000000000",
            "2023-10-04T10:10:00.000000000",
            "2023-10-04T10:15:00.000000000",
            "2023-10-04T10:20:00.000000000",
            "2023-10-04T10:25:00.000000000",
            "2023-10-04T10:30:00.000000000",
            "2023-10-04T10:35:00.000000000",
            "2023-10-04T10:40:00.000000000",
            "2023-10-04T10:45:00.000000000",
            "2023-10-04T10:50:00.000000000",
            "2023-10-04T10:55:00.000000000",
            "2023-10-04T11:00:00.000000000",
            "2023-10-04T11:05:00.000000000",
            "2023-10-04T11:10:00.000000000",
            "2023-10-04T11:15:00.000000000",
            "2023-10-04T11:20:00.000000000",
            "2023-10-04T11:25:00.000000000",
            "2023-10-04T11:30:00.000000000",
            "2023-10-04T11:35:00.000000000",
            "2023-10-04T11:40:00.000000000",
            "2023-10-04T11:45:00.000000000",
            "2023-10-04T11:50:00.000000000",
            "2023-10-04T11:55:00.000000000",
            "2023-10-04T12:00:00.000000000"
           ]
          }
         ],
         "name": "Frame 31"
        },
        {
         "data": [
          {
           "close": {
            "bdata": "oBov3STneUAwuycPC+55QEVHcvkP43lACRueXinkeUD/snvysON5QK62Yn/Z43lAEoPAyqHUeUAu/yH99tF5QBsv3SQG2XlABOeMKO3XeUAmUwWjks15QH6MuWsJxnlAK4cW2c7ZeUAFo5I6Adx5QAWjkjoB3HlANe84RUfKeUAMk6mCUcx5QBb7y+7JzHlADk+vlGXQeUAtQxzr4tV5QDJ3LSEf2nlA+MJkqmDneUAUP8bcteB5QABvgQTF53lAKcsQx7rleUAAb4EExed5QBlz1xLy5HlABaOSOgHweUACK4cW2fN5QDarPldb+nlALv8h/fbxeUD/snvysPN5QA==",
            "dtype": "f8"
           },
           "decreasing": {
            "fillcolor": "#FF6347",
            "line": {
             "color": "#CC503A",
             "width": 0.6
            }
           },
           "high": {
            "bdata": "CtejcD3oeUAep+hILvF5QD9XW7G/7nlACtejcD3oeUAE54wo7ed5QD9XW7G/6nlALv8h/fbpeUA/V1uxv9p5QO5aQj7o2nlAKA8LtabZeUAep+hILtl5QBe30QDe0HlAK4cW2c7ZeUAOT6+UZeB5QGB2Tx4W5XlABaOSOgHgeUAu/yH99tF5QEp7gy9Mz3lA+8vuycPjeUBTBaOSOth5QDC7Jw8L3nlACRueXinseUA/V1uxv+p5QCSX/5B+6XlAHqfoSC7peUDhehSuR+p5QBHHuriN6HlAI9v5fmr1eUAgY+5aQvV5QOauJeSD+nlA8tJNYhD7eUDpJjEIrPZ5QA==",
            "dtype": "f8"
           },
           "increasing": {
            "fillcolor": "#32CD32",
            "line": {
             "color": "#28A028",
             "width": 0.6
            }
           },
           "low": {
            "bdata": "Ne84RUfaeUBCz2bV5+J5QDhnRGlv4nlAPZtVn6veeUBIv30dONt5QL8OnDOi3HlAQs9m1efSeUBpb/CFycx5QFTjpZvEz3lAPL1SliHPeUARx7q4jch5QBzr4jYaxXlAI9v5fmrFeUAVjErqBNl5QEVHcvkP23lAIR/0bFbJeUAoDwu1psl5QE3zjlN0x3lARIts5/vGeUCX/5B++855QCnLEMe61XlAIR/0bFbZeUAAb4EExd95QBQ/xty14HlALv8h/fbheUARx7q4jeB5QDMzMzMz3nlAIR/0bFbheUA4Z0Rpb+p5QOviNhrA8nlAGy/dJAbxeUAHX5hMFfB5QA==",
            "dtype": "f8"
           },
           "name": "Price",
           "open": {
            "bdata": "FvvL7snceUD3Bl+YTOd5QC1DHOvi7XlARwN4CyTjeUD4wmSqYON5QP+ye/Kw43lAAiuHFtnjeUAPC7WmedR5QDXvOEVH0nlAIR/0bFbZeUAE54wo7dd5QCBj7lpCzXlALv8h/fbFeUCUh4Va09l5QAWjkjoB3HlABOeMKO3beUAydy0hH8p5QAyTqYJRzHlAFvvL7snMeUAK16NwPdB5QCnLEMe61XlAKA8LtabZeUD6fmq8dOd5QBsv3SQG4XlAAG+BBMXneUApyxDHuuV5QABvgQTF53lAGy/dJAbleUAAb4EExe95QAIrhxbZ83lALv8h/fb5eUAydy0hH/J5QA==",
            "dtype": "f8"
           },
           "type": "candlestick",
           "x": [
            "2023-10-04T09:30:00.000000000",
            "2023-10-04T09:35:00.000000000",
            "2023-10-04T09:40:00.000000000",
            "2023-10-04T09:45:00.000000000",
            "2023-10-04T09:50:00.000000000",
            "2023-10-04T09:55:00.000000000",
            "2023-10-04T10:00:00.000000000",
            "2023-10-04T10:05:00.000000000",
            "2023-10-04T10:10:00.000000000",
            "2023-10-04T10:15:00.000000000",
            "2023-10-04T10:20:00.000000000",
            "2023-10-04T10:25:00.000000000",
            "2023-10-04T10:30:00.000000000",
            "2023-10-04T10:35:00.000000000",
            "2023-10-04T10:40:00.000000000",
            "2023-10-04T10:45:00.000000000",
            "2023-10-04T10:50:00.000000000",
            "2023-10-04T10:55:00.000000000",
            "2023-10-04T11:00:00.000000000",
            "2023-10-04T11:05:00.000000000",
            "2023-10-04T11:10:00.000000000",
            "2023-10-04T11:15:00.000000000",
            "2023-10-04T11:20:00.000000000",
            "2023-10-04T11:25:00.000000000",
            "2023-10-04T11:30:00.000000000",
            "2023-10-04T11:35:00.000000000",
            "2023-10-04T11:40:00.000000000",
            "2023-10-04T11:45:00.000000000",
            "2023-10-04T11:50:00.000000000",
            "2023-10-04T11:55:00.000000000",
            "2023-10-04T12:00:00.000000000",
            "2023-10-04T12:05:00.000000000"
           ]
          }
         ],
         "name": "Frame 32"
        },
        {
         "data": [
          {
           "close": {
            "bdata": "oBov3STneUAwuycPC+55QEVHcvkP43lACRueXinkeUD/snvysON5QK62Yn/Z43lAEoPAyqHUeUAu/yH99tF5QBsv3SQG2XlABOeMKO3XeUAmUwWjks15QH6MuWsJxnlAK4cW2c7ZeUAFo5I6Adx5QAWjkjoB3HlANe84RUfKeUAMk6mCUcx5QBb7y+7JzHlADk+vlGXQeUAtQxzr4tV5QDJ3LSEf2nlA+MJkqmDneUAUP8bcteB5QABvgQTF53lAKcsQx7rleUAAb4EExed5QBlz1xLy5HlABaOSOgHweUACK4cW2fN5QDarPldb+nlALv8h/fbxeUD/snvysPN5QBgmUwWj8XlA",
            "dtype": "f8"
           },
           "decreasing": {
            "fillcolor": "#FF6347",
            "line": {
             "color": "#CC503A",
             "width": 0.6
            }
           },
           "high": {
            "bdata": "CtejcD3oeUAep+hILvF5QD9XW7G/7nlACtejcD3oeUAE54wo7ed5QD9XW7G/6nlALv8h/fbpeUA/V1uxv9p5QO5aQj7o2nlAKA8LtabZeUAep+hILtl5QBe30QDe0HlAK4cW2c7ZeUAOT6+UZeB5QGB2Tx4W5XlABaOSOgHgeUAu/yH99tF5QEp7gy9Mz3lA+8vuycPjeUBTBaOSOth5QDC7Jw8L3nlACRueXinseUA/V1uxv+p5QCSX/5B+6XlAHqfoSC7peUDhehSuR+p5QBHHuriN6HlAI9v5fmr1eUAgY+5aQvV5QOauJeSD+nlA8tJNYhD7eUDpJjEIrPZ5QBsv3SQG+XlA",
            "dtype": "f8"
           },
           "increasing": {
            "fillcolor": "#32CD32",
            "line": {
             "color": "#28A028",
             "width": 0.6
            }
           },
           "low": {
            "bdata": "Ne84RUfaeUBCz2bV5+J5QDhnRGlv4nlAPZtVn6veeUBIv30dONt5QL8OnDOi3HlAQs9m1efSeUBpb/CFycx5QFTjpZvEz3lAPL1SliHPeUARx7q4jch5QBzr4jYaxXlAI9v5fmrFeUAVjErqBNl5QEVHcvkP23lAIR/0bFbJeUAoDwu1psl5QE3zjlN0x3lARIts5/vGeUCX/5B++855QCnLEMe61XlAIR/0bFbZeUAAb4EExd95QBQ/xty14HlALv8h/fbheUARx7q4jeB5QDMzMzMz3nlAIR/0bFbheUA4Z0Rpb+p5QOviNhrA8nlAGy/dJAbxeUAHX5hMFfB5QPcGX5hM73lA",
            "dtype": "f8"
           },
           "name": "Price",
           "open": {
            "bdata": "FvvL7snceUD3Bl+YTOd5QC1DHOvi7XlARwN4CyTjeUD4wmSqYON5QP+ye/Kw43lAAiuHFtnjeUAPC7WmedR5QDXvOEVH0nlAIR/0bFbZeUAE54wo7dd5QCBj7lpCzXlALv8h/fbFeUCUh4Va09l5QAWjkjoB3HlABOeMKO3beUAydy0hH8p5QAyTqYJRzHlAFvvL7snMeUAK16NwPdB5QCnLEMe61XlAKA8LtabZeUD6fmq8dOd5QBsv3SQG4XlAAG+BBMXneUApyxDHuuV5QABvgQTF53lAGy/dJAbleUAAb4EExe95QAIrhxbZ83lALv8h/fb5eUAydy0hH/J5QP+ye/Kw83lA",
            "dtype": "f8"
           },
           "type": "candlestick",
           "x": [
            "2023-10-04T09:30:00.000000000",
            "2023-10-04T09:35:00.000000000",
            "2023-10-04T09:40:00.000000000",
            "2023-10-04T09:45:00.000000000",
            "2023-10-04T09:50:00.000000000",
            "2023-10-04T09:55:00.000000000",
            "2023-10-04T10:00:00.000000000",
            "2023-10-04T10:05:00.000000000",
            "2023-10-04T10:10:00.000000000",
            "2023-10-04T10:15:00.000000000",
            "2023-10-04T10:20:00.000000000",
            "2023-10-04T10:25:00.000000000",
            "2023-10-04T10:30:00.000000000",
            "2023-10-04T10:35:00.000000000",
            "2023-10-04T10:40:00.000000000",
            "2023-10-04T10:45:00.000000000",
            "2023-10-04T10:50:00.000000000",
            "2023-10-04T10:55:00.000000000",
            "2023-10-04T11:00:00.000000000",
            "2023-10-04T11:05:00.000000000",
            "2023-10-04T11:10:00.000000000",
            "2023-10-04T11:15:00.000000000",
            "2023-10-04T11:20:00.000000000",
            "2023-10-04T11:25:00.000000000",
            "2023-10-04T11:30:00.000000000",
            "2023-10-04T11:35:00.000000000",
            "2023-10-04T11:40:00.000000000",
            "2023-10-04T11:45:00.000000000",
            "2023-10-04T11:50:00.000000000",
            "2023-10-04T11:55:00.000000000",
            "2023-10-04T12:00:00.000000000",
            "2023-10-04T12:05:00.000000000",
            "2023-10-04T12:10:00.000000000"
           ]
          }
         ],
         "name": "Frame 33"
        },
        {
         "data": [
          {
           "close": {
            "bdata": "oBov3STneUAwuycPC+55QEVHcvkP43lACRueXinkeUD/snvysON5QK62Yn/Z43lAEoPAyqHUeUAu/yH99tF5QBsv3SQG2XlABOeMKO3XeUAmUwWjks15QH6MuWsJxnlAK4cW2c7ZeUAFo5I6Adx5QAWjkjoB3HlANe84RUfKeUAMk6mCUcx5QBb7y+7JzHlADk+vlGXQeUAtQxzr4tV5QDJ3LSEf2nlA+MJkqmDneUAUP8bcteB5QABvgQTF53lAKcsQx7rleUAAb4EExed5QBlz1xLy5HlABaOSOgHweUACK4cW2fN5QDarPldb+nlALv8h/fbxeUD/snvysPN5QBgmUwWj8XlAIR/0bFb5eUA=",
            "dtype": "f8"
           },
           "decreasing": {
            "fillcolor": "#FF6347",
            "line": {
             "color": "#CC503A",
             "width": 0.6
            }
           },
           "high": {
            "bdata": "CtejcD3oeUAep+hILvF5QD9XW7G/7nlACtejcD3oeUAE54wo7ed5QD9XW7G/6nlALv8h/fbpeUA/V1uxv9p5QO5aQj7o2nlAKA8LtabZeUAep+hILtl5QBe30QDe0HlAK4cW2c7ZeUAOT6+UZeB5QGB2Tx4W5XlABaOSOgHgeUAu/yH99tF5QEp7gy9Mz3lA+8vuycPjeUBTBaOSOth5QDC7Jw8L3nlACRueXinseUA/V1uxv+p5QCSX/5B+6XlAHqfoSC7peUDhehSuR+p5QBHHuriN6HlAI9v5fmr1eUAgY+5aQvV5QOauJeSD+nlA8tJNYhD7eUDpJjEIrPZ5QBsv3SQG+XlAveMUHcn5eUA=",
            "dtype": "f8"
           },
           "increasing": {
            "fillcolor": "#32CD32",
            "line": {
             "color": "#28A028",
             "width": 0.6
            }
           },
           "low": {
            "bdata": "Ne84RUfaeUBCz2bV5+J5QDhnRGlv4nlAPZtVn6veeUBIv30dONt5QL8OnDOi3HlAQs9m1efSeUBpb/CFycx5QFTjpZvEz3lAPL1SliHPeUARx7q4jch5QBzr4jYaxXlAI9v5fmrFeUAVjErqBNl5QEVHcvkP23lAIR/0bFbJeUAoDwu1psl5QE3zjlN0x3lARIts5/vGeUCX/5B++855QCnLEMe61XlAIR/0bFbZeUAAb4EExd95QBQ/xty14HlALv8h/fbheUARx7q4jeB5QDMzMzMz3nlAIR/0bFbheUA4Z0Rpb+p5QOviNhrA8nlAGy/dJAbxeUAHX5hMFfB5QPcGX5hM73lABOeMKO3veUA=",
            "dtype": "f8"
           },
           "name": "Price",
           "open": {
            "bdata": "FvvL7snceUD3Bl+YTOd5QC1DHOvi7XlARwN4CyTjeUD4wmSqYON5QP+ye/Kw43lAAiuHFtnjeUAPC7WmedR5QDXvOEVH0nlAIR/0bFbZeUAE54wo7dd5QCBj7lpCzXlALv8h/fbFeUCUh4Va09l5QAWjkjoB3HlABOeMKO3beUAydy0hH8p5QAyTqYJRzHlAFvvL7snMeUAK16NwPdB5QCnLEMe61XlAKA8LtabZeUD6fmq8dOd5QBsv3SQG4XlAAG+BBMXneUApyxDHuuV5QABvgQTF53lAGy/dJAbleUAAb4EExe95QAIrhxbZ83lALv8h/fb5eUAydy0hH/J5QP+ye/Kw83lAKA8LtabxeUA=",
            "dtype": "f8"
           },
           "type": "candlestick",
           "x": [
            "2023-10-04T09:30:00.000000000",
            "2023-10-04T09:35:00.000000000",
            "2023-10-04T09:40:00.000000000",
            "2023-10-04T09:45:00.000000000",
            "2023-10-04T09:50:00.000000000",
            "2023-10-04T09:55:00.000000000",
            "2023-10-04T10:00:00.000000000",
            "2023-10-04T10:05:00.000000000",
            "2023-10-04T10:10:00.000000000",
            "2023-10-04T10:15:00.000000000",
            "2023-10-04T10:20:00.000000000",
            "2023-10-04T10:25:00.000000000",
            "2023-10-04T10:30:00.000000000",
            "2023-10-04T10:35:00.000000000",
            "2023-10-04T10:40:00.000000000",
            "2023-10-04T10:45:00.000000000",
            "2023-10-04T10:50:00.000000000",
            "2023-10-04T10:55:00.000000000",
            "2023-10-04T11:00:00.000000000",
            "2023-10-04T11:05:00.000000000",
            "2023-10-04T11:10:00.000000000",
            "2023-10-04T11:15:00.000000000",
            "2023-10-04T11:20:00.000000000",
            "2023-10-04T11:25:00.000000000",
            "2023-10-04T11:30:00.000000000",
            "2023-10-04T11:35:00.000000000",
            "2023-10-04T11:40:00.000000000",
            "2023-10-04T11:45:00.000000000",
            "2023-10-04T11:50:00.000000000",
            "2023-10-04T11:55:00.000000000",
            "2023-10-04T12:00:00.000000000",
            "2023-10-04T12:05:00.000000000",
            "2023-10-04T12:10:00.000000000",
            "2023-10-04T12:15:00.000000000"
           ]
          }
         ],
         "name": "Frame 34"
        },
        {
         "data": [
          {
           "close": {
            "bdata": "oBov3STneUAwuycPC+55QEVHcvkP43lACRueXinkeUD/snvysON5QK62Yn/Z43lAEoPAyqHUeUAu/yH99tF5QBsv3SQG2XlABOeMKO3XeUAmUwWjks15QH6MuWsJxnlAK4cW2c7ZeUAFo5I6Adx5QAWjkjoB3HlANe84RUfKeUAMk6mCUcx5QBb7y+7JzHlADk+vlGXQeUAtQxzr4tV5QDJ3LSEf2nlA+MJkqmDneUAUP8bcteB5QABvgQTF53lAKcsQx7rleUAAb4EExed5QBlz1xLy5HlABaOSOgHweUACK4cW2fN5QDarPldb+nlALv8h/fbxeUD/snvysPN5QBgmUwWj8XlAIR/0bFb5eUD4wmSqYPN5QA==",
            "dtype": "f8"
           },
           "decreasing": {
            "fillcolor": "#FF6347",
            "line": {
             "color": "#CC503A",
             "width": 0.6
            }
           },
           "high": {
            "bdata": "CtejcD3oeUAep+hILvF5QD9XW7G/7nlACtejcD3oeUAE54wo7ed5QD9XW7G/6nlALv8h/fbpeUA/V1uxv9p5QO5aQj7o2nlAKA8LtabZeUAep+hILtl5QBe30QDe0HlAK4cW2c7ZeUAOT6+UZeB5QGB2Tx4W5XlABaOSOgHgeUAu/yH99tF5QEp7gy9Mz3lA+8vuycPjeUBTBaOSOth5QDC7Jw8L3nlACRueXinseUA/V1uxv+p5QCSX/5B+6XlAHqfoSC7peUDhehSuR+p5QBHHuriN6HlAI9v5fmr1eUAgY+5aQvV5QOauJeSD+nlA8tJNYhD7eUDpJjEIrPZ5QBsv3SQG+XlAveMUHcn5eUAmUwWjkv15QA==",
            "dtype": "f8"
           },
           "increasing": {
            "fillcolor": "#32CD32",
            "line": {
             "color": "#28A028",
             "width": 0.6
            }
           },
           "low": {
            "bdata": "Ne84RUfaeUBCz2bV5+J5QDhnRGlv4nlAPZtVn6veeUBIv30dONt5QL8OnDOi3HlAQs9m1efSeUBpb/CFycx5QFTjpZvEz3lAPL1SliHPeUARx7q4jch5QBzr4jYaxXlAI9v5fmrFeUAVjErqBNl5QEVHcvkP23lAIR/0bFbJeUAoDwu1psl5QE3zjlN0x3lARIts5/vGeUCX/5B++855QCnLEMe61XlAIR/0bFbZeUAAb4EExd95QBQ/xty14HlALv8h/fbheUARx7q4jeB5QDMzMzMz3nlAIR/0bFbheUA4Z0Rpb+p5QOviNhrA8nlAGy/dJAbxeUAHX5hMFfB5QPcGX5hM73lABOeMKO3veUDy0k1iEPN5QA==",
            "dtype": "f8"
           },
           "name": "Price",
           "open": {
            "bdata": "FvvL7snceUD3Bl+YTOd5QC1DHOvi7XlARwN4CyTjeUD4wmSqYON5QP+ye/Kw43lAAiuHFtnjeUAPC7WmedR5QDXvOEVH0nlAIR/0bFbZeUAE54wo7dd5QCBj7lpCzXlALv8h/fbFeUCUh4Va09l5QAWjkjoB3HlABOeMKO3beUAydy0hH8p5QAyTqYJRzHlAFvvL7snMeUAK16NwPdB5QCnLEMe61XlAKA8LtabZeUD6fmq8dOd5QBsv3SQG4XlAAG+BBMXneUApyxDHuuV5QABvgQTF53lAGy/dJAbleUAAb4EExe95QAIrhxbZ83lALv8h/fb5eUAydy0hH/J5QP+ye/Kw83lAKA8LtabxeUAhH/RsVvl5QA==",
            "dtype": "f8"
           },
           "type": "candlestick",
           "x": [
            "2023-10-04T09:30:00.000000000",
            "2023-10-04T09:35:00.000000000",
            "2023-10-04T09:40:00.000000000",
            "2023-10-04T09:45:00.000000000",
            "2023-10-04T09:50:00.000000000",
            "2023-10-04T09:55:00.000000000",
            "2023-10-04T10:00:00.000000000",
            "2023-10-04T10:05:00.000000000",
            "2023-10-04T10:10:00.000000000",
            "2023-10-04T10:15:00.000000000",
            "2023-10-04T10:20:00.000000000",
            "2023-10-04T10:25:00.000000000",
            "2023-10-04T10:30:00.000000000",
            "2023-10-04T10:35:00.000000000",
            "2023-10-04T10:40:00.000000000",
            "2023-10-04T10:45:00.000000000",
            "2023-10-04T10:50:00.000000000",
            "2023-10-04T10:55:00.000000000",
            "2023-10-04T11:00:00.000000000",
            "2023-10-04T11:05:00.000000000",
            "2023-10-04T11:10:00.000000000",
            "2023-10-04T11:15:00.000000000",
            "2023-10-04T11:20:00.000000000",
            "2023-10-04T11:25:00.000000000",
            "2023-10-04T11:30:00.000000000",
            "2023-10-04T11:35:00.000000000",
            "2023-10-04T11:40:00.000000000",
            "2023-10-04T11:45:00.000000000",
            "2023-10-04T11:50:00.000000000",
            "2023-10-04T11:55:00.000000000",
            "2023-10-04T12:00:00.000000000",
            "2023-10-04T12:05:00.000000000",
            "2023-10-04T12:10:00.000000000",
            "2023-10-04T12:15:00.000000000",
            "2023-10-04T12:20:00.000000000"
           ]
          }
         ],
         "name": "Frame 35"
        },
        {
         "data": [
          {
           "close": {
            "bdata": "oBov3STneUAwuycPC+55QEVHcvkP43lACRueXinkeUD/snvysON5QK62Yn/Z43lAEoPAyqHUeUAu/yH99tF5QBsv3SQG2XlABOeMKO3XeUAmUwWjks15QH6MuWsJxnlAK4cW2c7ZeUAFo5I6Adx5QAWjkjoB3HlANe84RUfKeUAMk6mCUcx5QBb7y+7JzHlADk+vlGXQeUAtQxzr4tV5QDJ3LSEf2nlA+MJkqmDneUAUP8bcteB5QABvgQTF53lAKcsQx7rleUAAb4EExed5QBlz1xLy5HlABaOSOgHweUACK4cW2fN5QDarPldb+nlALv8h/fbxeUD/snvysPN5QBgmUwWj8XlAIR/0bFb5eUD4wmSqYPN5QO5aQj7o+nlA",
            "dtype": "f8"
           },
           "decreasing": {
            "fillcolor": "#FF6347",
            "line": {
             "color": "#CC503A",
             "width": 0.6
            }
           },
           "high": {
            "bdata": "CtejcD3oeUAep+hILvF5QD9XW7G/7nlACtejcD3oeUAE54wo7ed5QD9XW7G/6nlALv8h/fbpeUA/V1uxv9p5QO5aQj7o2nlAKA8LtabZeUAep+hILtl5QBe30QDe0HlAK4cW2c7ZeUAOT6+UZeB5QGB2Tx4W5XlABaOSOgHgeUAu/yH99tF5QEp7gy9Mz3lA+8vuycPjeUBTBaOSOth5QDC7Jw8L3nlACRueXinseUA/V1uxv+p5QCSX/5B+6XlAHqfoSC7peUDhehSuR+p5QBHHuriN6HlAI9v5fmr1eUAgY+5aQvV5QOauJeSD+nlA8tJNYhD7eUDpJjEIrPZ5QBsv3SQG+XlAveMUHcn5eUAmUwWjkv15QPVKWYY4+3lA",
            "dtype": "f8"
           },
           "increasing": {
            "fillcolor": "#32CD32",
            "line": {
             "color": "#28A028",
             "width": 0.6
            }
           },
           "low": {
            "bdata": "Ne84RUfaeUBCz2bV5+J5QDhnRGlv4nlAPZtVn6veeUBIv30dONt5QL8OnDOi3HlAQs9m1efSeUBpb/CFycx5QFTjpZvEz3lAPL1SliHPeUARx7q4jch5QBzr4jYaxXlAI9v5fmrFeUAVjErqBNl5QEVHcvkP23lAIR/0bFbJeUAoDwu1psl5QE3zjlN0x3lARIts5/vGeUCX/5B++855QCnLEMe61XlAIR/0bFbZeUAAb4EExd95QBQ/xty14HlALv8h/fbheUARx7q4jeB5QDMzMzMz3nlAIR/0bFbheUA4Z0Rpb+p5QOviNhrA8nlAGy/dJAbxeUAHX5hMFfB5QPcGX5hM73lABOeMKO3veUDy0k1iEPN5QPjCZKpg83lA",
            "dtype": "f8"
           },
           "name": "Price",
           "open": {
            "bdata": "FvvL7snceUD3Bl+YTOd5QC1DHOvi7XlARwN4CyTjeUD4wmSqYON5QP+ye/Kw43lAAiuHFtnjeUAPC7WmedR5QDXvOEVH0nlAIR/0bFbZeUAE54wo7dd5QCBj7lpCzXlALv8h/fbFeUCUh4Va09l5QAWjkjoB3HlABOeMKO3beUAydy0hH8p5QAyTqYJRzHlAFvvL7snMeUAK16NwPdB5QCnLEMe61XlAKA8LtabZeUD6fmq8dOd5QBsv3SQG4XlAAG+BBMXneUApyxDHuuV5QABvgQTF53lAGy/dJAbleUAAb4EExe95QAIrhxbZ83lALv8h/fb5eUAydy0hH/J5QP+ye/Kw83lAKA8LtabxeUAhH/RsVvl5QPjCZKpg83lA",
            "dtype": "f8"
           },
           "type": "candlestick",
           "x": [
            "2023-10-04T09:30:00.000000000",
            "2023-10-04T09:35:00.000000000",
            "2023-10-04T09:40:00.000000000",
            "2023-10-04T09:45:00.000000000",
            "2023-10-04T09:50:00.000000000",
            "2023-10-04T09:55:00.000000000",
            "2023-10-04T10:00:00.000000000",
            "2023-10-04T10:05:00.000000000",
            "2023-10-04T10:10:00.000000000",
            "2023-10-04T10:15:00.000000000",
            "2023-10-04T10:20:00.000000000",
            "2023-10-04T10:25:00.000000000",
            "2023-10-04T10:30:00.000000000",
            "2023-10-04T10:35:00.000000000",
            "2023-10-04T10:40:00.000000000",
            "2023-10-04T10:45:00.000000000",
            "2023-10-04T10:50:00.000000000",
            "2023-10-04T10:55:00.000000000",
            "2023-10-04T11:00:00.000000000",
            "2023-10-04T11:05:00.000000000",
            "2023-10-04T11:10:00.000000000",
            "2023-10-04T11:15:00.000000000",
            "2023-10-04T11:20:00.000000000",
            "2023-10-04T11:25:00.000000000",
            "2023-10-04T11:30:00.000000000",
            "2023-10-04T11:35:00.000000000",
            "2023-10-04T11:40:00.000000000",
            "2023-10-04T11:45:00.000000000",
            "2023-10-04T11:50:00.000000000",
            "2023-10-04T11:55:00.000000000",
            "2023-10-04T12:00:00.000000000",
            "2023-10-04T12:05:00.000000000",
            "2023-10-04T12:10:00.000000000",
            "2023-10-04T12:15:00.000000000",
            "2023-10-04T12:20:00.000000000",
            "2023-10-04T12:25:00.000000000"
           ]
          }
         ],
         "name": "Frame 36"
        },
        {
         "data": [
          {
           "close": {
            "bdata": "oBov3STneUAwuycPC+55QEVHcvkP43lACRueXinkeUD/snvysON5QK62Yn/Z43lAEoPAyqHUeUAu/yH99tF5QBsv3SQG2XlABOeMKO3XeUAmUwWjks15QH6MuWsJxnlAK4cW2c7ZeUAFo5I6Adx5QAWjkjoB3HlANe84RUfKeUAMk6mCUcx5QBb7y+7JzHlADk+vlGXQeUAtQxzr4tV5QDJ3LSEf2nlA+MJkqmDneUAUP8bcteB5QABvgQTF53lAKcsQx7rleUAAb4EExed5QBlz1xLy5HlABaOSOgHweUACK4cW2fN5QDarPldb+nlALv8h/fbxeUD/snvysPN5QBgmUwWj8XlAIR/0bFb5eUD4wmSqYPN5QO5aQj7o+nlAFR3J5T/9eUA=",
            "dtype": "f8"
           },
           "decreasing": {
            "fillcolor": "#FF6347",
            "line": {
             "color": "#CC503A",
             "width": 0.6
            }
           },
           "high": {
            "bdata": "CtejcD3oeUAep+hILvF5QD9XW7G/7nlACtejcD3oeUAE54wo7ed5QD9XW7G/6nlALv8h/fbpeUA/V1uxv9p5QO5aQj7o2nlAKA8LtabZeUAep+hILtl5QBe30QDe0HlAK4cW2c7ZeUAOT6+UZeB5QGB2Tx4W5XlABaOSOgHgeUAu/yH99tF5QEp7gy9Mz3lA+8vuycPjeUBTBaOSOth5QDC7Jw8L3nlACRueXinseUA/V1uxv+p5QCSX/5B+6XlAHqfoSC7peUDhehSuR+p5QBHHuriN6HlAI9v5fmr1eUAgY+5aQvV5QOauJeSD+nlA8tJNYhD7eUDpJjEIrPZ5QBsv3SQG+XlAveMUHcn5eUAmUwWjkv15QPVKWYY4+3lAFD/G3LUAekA=",
            "dtype": "f8"
           },
           "increasing": {
            "fillcolor": "#32CD32",
            "line": {
             "color": "#28A028",
             "width": 0.6
            }
           },
           "low": {
            "bdata": "Ne84RUfaeUBCz2bV5+J5QDhnRGlv4nlAPZtVn6veeUBIv30dONt5QL8OnDOi3HlAQs9m1efSeUBpb/CFycx5QFTjpZvEz3lAPL1SliHPeUARx7q4jch5QBzr4jYaxXlAI9v5fmrFeUAVjErqBNl5QEVHcvkP23lAIR/0bFbJeUAoDwu1psl5QE3zjlN0x3lARIts5/vGeUCX/5B++855QCnLEMe61XlAIR/0bFbZeUAAb4EExd95QBQ/xty14HlALv8h/fbheUARx7q4jeB5QDMzMzMz3nlAIR/0bFbheUA4Z0Rpb+p5QOviNhrA8nlAGy/dJAbxeUAHX5hMFfB5QPcGX5hM73lABOeMKO3veUDy0k1iEPN5QPjCZKpg83lADJOpglH4eUA=",
            "dtype": "f8"
           },
           "name": "Price",
           "open": {
            "bdata": "FvvL7snceUD3Bl+YTOd5QC1DHOvi7XlARwN4CyTjeUD4wmSqYON5QP+ye/Kw43lAAiuHFtnjeUAPC7WmedR5QDXvOEVH0nlAIR/0bFbZeUAE54wo7dd5QCBj7lpCzXlALv8h/fbFeUCUh4Va09l5QAWjkjoB3HlABOeMKO3beUAydy0hH8p5QAyTqYJRzHlAFvvL7snMeUAK16NwPdB5QCnLEMe61XlAKA8LtabZeUD6fmq8dOd5QBsv3SQG4XlAAG+BBMXneUApyxDHuuV5QABvgQTF53lAGy/dJAbleUAAb4EExe95QAIrhxbZ83lALv8h/fb5eUAydy0hH/J5QP+ye/Kw83lAKA8LtabxeUAhH/RsVvl5QPjCZKpg83lA7Z48LNT6eUA=",
            "dtype": "f8"
           },
           "type": "candlestick",
           "x": [
            "2023-10-04T09:30:00.000000000",
            "2023-10-04T09:35:00.000000000",
            "2023-10-04T09:40:00.000000000",
            "2023-10-04T09:45:00.000000000",
            "2023-10-04T09:50:00.000000000",
            "2023-10-04T09:55:00.000000000",
            "2023-10-04T10:00:00.000000000",
            "2023-10-04T10:05:00.000000000",
            "2023-10-04T10:10:00.000000000",
            "2023-10-04T10:15:00.000000000",
            "2023-10-04T10:20:00.000000000",
            "2023-10-04T10:25:00.000000000",
            "2023-10-04T10:30:00.000000000",
            "2023-10-04T10:35:00.000000000",
            "2023-10-04T10:40:00.000000000",
            "2023-10-04T10:45:00.000000000",
            "2023-10-04T10:50:00.000000000",
            "2023-10-04T10:55:00.000000000",
            "2023-10-04T11:00:00.000000000",
            "2023-10-04T11:05:00.000000000",
            "2023-10-04T11:10:00.000000000",
            "2023-10-04T11:15:00.000000000",
            "2023-10-04T11:20:00.000000000",
            "2023-10-04T11:25:00.000000000",
            "2023-10-04T11:30:00.000000000",
            "2023-10-04T11:35:00.000000000",
            "2023-10-04T11:40:00.000000000",
            "2023-10-04T11:45:00.000000000",
            "2023-10-04T11:50:00.000000000",
            "2023-10-04T11:55:00.000000000",
            "2023-10-04T12:00:00.000000000",
            "2023-10-04T12:05:00.000000000",
            "2023-10-04T12:10:00.000000000",
            "2023-10-04T12:15:00.000000000",
            "2023-10-04T12:20:00.000000000",
            "2023-10-04T12:25:00.000000000",
            "2023-10-04T12:30:00.000000000"
           ]
          }
         ],
         "name": "Frame 37"
        },
        {
         "data": [
          {
           "close": {
            "bdata": "oBov3STneUAwuycPC+55QEVHcvkP43lACRueXinkeUD/snvysON5QK62Yn/Z43lAEoPAyqHUeUAu/yH99tF5QBsv3SQG2XlABOeMKO3XeUAmUwWjks15QH6MuWsJxnlAK4cW2c7ZeUAFo5I6Adx5QAWjkjoB3HlANe84RUfKeUAMk6mCUcx5QBb7y+7JzHlADk+vlGXQeUAtQxzr4tV5QDJ3LSEf2nlA+MJkqmDneUAUP8bcteB5QABvgQTF53lAKcsQx7rleUAAb4EExed5QBlz1xLy5HlABaOSOgHweUACK4cW2fN5QDarPldb+nlALv8h/fbxeUD/snvysPN5QBgmUwWj8XlAIR/0bFb5eUD4wmSqYPN5QO5aQj7o+nlAFR3J5T/9eUAPC7Wmefh5QA==",
            "dtype": "f8"
           },
           "decreasing": {
            "fillcolor": "#FF6347",
            "line": {
             "color": "#CC503A",
             "width": 0.6
            }
           },
           "high": {
            "bdata": "CtejcD3oeUAep+hILvF5QD9XW7G/7nlACtejcD3oeUAE54wo7ed5QD9XW7G/6nlALv8h/fbpeUA/V1uxv9p5QO5aQj7o2nlAKA8LtabZeUAep+hILtl5QBe30QDe0HlAK4cW2c7ZeUAOT6+UZeB5QGB2Tx4W5XlABaOSOgHgeUAu/yH99tF5QEp7gy9Mz3lA+8vuycPjeUBTBaOSOth5QDC7Jw8L3nlACRueXinseUA/V1uxv+p5QCSX/5B+6XlAHqfoSC7peUDhehSuR+p5QBHHuriN6HlAI9v5fmr1eUAgY+5aQvV5QOauJeSD+nlA8tJNYhD7eUDpJjEIrPZ5QBsv3SQG+XlAveMUHcn5eUAmUwWjkv15QPVKWYY4+3lAFD/G3LUAekDmriXkg/55QA==",
            "dtype": "f8"
           },
           "increasing": {
            "fillcolor": "#32CD32",
            "line": {
             "color": "#28A028",
             "width": 0.6
            }
           },
           "low": {
            "bdata": "Ne84RUfaeUBCz2bV5+J5QDhnRGlv4nlAPZtVn6veeUBIv30dONt5QL8OnDOi3HlAQs9m1efSeUBpb/CFycx5QFTjpZvEz3lAPL1SliHPeUARx7q4jch5QBzr4jYaxXlAI9v5fmrFeUAVjErqBNl5QEVHcvkP23lAIR/0bFbJeUAoDwu1psl5QE3zjlN0x3lARIts5/vGeUCX/5B++855QCnLEMe61XlAIR/0bFbZeUAAb4EExd95QBQ/xty14HlALv8h/fbheUARx7q4jeB5QDMzMzMz3nlAIR/0bFbheUA4Z0Rpb+p5QOviNhrA8nlAGy/dJAbxeUAHX5hMFfB5QPcGX5hM73lABOeMKO3veUDy0k1iEPN5QPjCZKpg83lADJOpglH4eUAE54wo7fd5QA==",
            "dtype": "f8"
           },
           "name": "Price",
           "open": {
            "bdata": "FvvL7snceUD3Bl+YTOd5QC1DHOvi7XlARwN4CyTjeUD4wmSqYON5QP+ye/Kw43lAAiuHFtnjeUAPC7WmedR5QDXvOEVH0nlAIR/0bFbZeUAE54wo7dd5QCBj7lpCzXlALv8h/fbFeUCUh4Va09l5QAWjkjoB3HlABOeMKO3beUAydy0hH8p5QAyTqYJRzHlAFvvL7snMeUAK16NwPdB5QCnLEMe61XlAKA8LtabZeUD6fmq8dOd5QBsv3SQG4XlAAG+BBMXneUApyxDHuuV5QABvgQTF53lAGy/dJAbleUAAb4EExe95QAIrhxbZ83lALv8h/fb5eUAydy0hH/J5QP+ye/Kw83lAKA8LtabxeUAhH/RsVvl5QPjCZKpg83lA7Z48LNT6eUAc6+I2Gv15QA==",
            "dtype": "f8"
           },
           "type": "candlestick",
           "x": [
            "2023-10-04T09:30:00.000000000",
            "2023-10-04T09:35:00.000000000",
            "2023-10-04T09:40:00.000000000",
            "2023-10-04T09:45:00.000000000",
            "2023-10-04T09:50:00.000000000",
            "2023-10-04T09:55:00.000000000",
            "2023-10-04T10:00:00.000000000",
            "2023-10-04T10:05:00.000000000",
            "2023-10-04T10:10:00.000000000",
            "2023-10-04T10:15:00.000000000",
            "2023-10-04T10:20:00.000000000",
            "2023-10-04T10:25:00.000000000",
            "2023-10-04T10:30:00.000000000",
            "2023-10-04T10:35:00.000000000",
            "2023-10-04T10:40:00.000000000",
            "2023-10-04T10:45:00.000000000",
            "2023-10-04T10:50:00.000000000",
            "2023-10-04T10:55:00.000000000",
            "2023-10-04T11:00:00.000000000",
            "2023-10-04T11:05:00.000000000",
            "2023-10-04T11:10:00.000000000",
            "2023-10-04T11:15:00.000000000",
            "2023-10-04T11:20:00.000000000",
            "2023-10-04T11:25:00.000000000",
            "2023-10-04T11:30:00.000000000",
            "2023-10-04T11:35:00.000000000",
            "2023-10-04T11:40:00.000000000",
            "2023-10-04T11:45:00.000000000",
            "2023-10-04T11:50:00.000000000",
            "2023-10-04T11:55:00.000000000",
            "2023-10-04T12:00:00.000000000",
            "2023-10-04T12:05:00.000000000",
            "2023-10-04T12:10:00.000000000",
            "2023-10-04T12:15:00.000000000",
            "2023-10-04T12:20:00.000000000",
            "2023-10-04T12:25:00.000000000",
            "2023-10-04T12:30:00.000000000",
            "2023-10-04T12:35:00.000000000"
           ]
          }
         ],
         "name": "Frame 38"
        },
        {
         "data": [
          {
           "close": {
            "bdata": "oBov3STneUAwuycPC+55QEVHcvkP43lACRueXinkeUD/snvysON5QK62Yn/Z43lAEoPAyqHUeUAu/yH99tF5QBsv3SQG2XlABOeMKO3XeUAmUwWjks15QH6MuWsJxnlAK4cW2c7ZeUAFo5I6Adx5QAWjkjoB3HlANe84RUfKeUAMk6mCUcx5QBb7y+7JzHlADk+vlGXQeUAtQxzr4tV5QDJ3LSEf2nlA+MJkqmDneUAUP8bcteB5QABvgQTF53lAKcsQx7rleUAAb4EExed5QBlz1xLy5HlABaOSOgHweUACK4cW2fN5QDarPldb+nlALv8h/fbxeUD/snvysPN5QBgmUwWj8XlAIR/0bFb5eUD4wmSqYPN5QO5aQj7o+nlAFR3J5T/9eUAPC7Wmefh5QCBj7lpC9XlA",
            "dtype": "f8"
           },
           "decreasing": {
            "fillcolor": "#FF6347",
            "line": {
             "color": "#CC503A",
             "width": 0.6
            }
           },
           "high": {
            "bdata": "CtejcD3oeUAep+hILvF5QD9XW7G/7nlACtejcD3oeUAE54wo7ed5QD9XW7G/6nlALv8h/fbpeUA/V1uxv9p5QO5aQj7o2nlAKA8LtabZeUAep+hILtl5QBe30QDe0HlAK4cW2c7ZeUAOT6+UZeB5QGB2Tx4W5XlABaOSOgHgeUAu/yH99tF5QEp7gy9Mz3lA+8vuycPjeUBTBaOSOth5QDC7Jw8L3nlACRueXinseUA/V1uxv+p5QCSX/5B+6XlAHqfoSC7peUDhehSuR+p5QBHHuriN6HlAI9v5fmr1eUAgY+5aQvV5QOauJeSD+nlA8tJNYhD7eUDpJjEIrPZ5QBsv3SQG+XlAveMUHcn5eUAmUwWjkv15QPVKWYY4+3lAFD/G3LUAekDmriXkg/55QP+ye/Kw+3lA",
            "dtype": "f8"
           },
           "increasing": {
            "fillcolor": "#32CD32",
            "line": {
             "color": "#28A028",
             "width": 0.6
            }
           },
           "low": {
            "bdata": "Ne84RUfaeUBCz2bV5+J5QDhnRGlv4nlAPZtVn6veeUBIv30dONt5QL8OnDOi3HlAQs9m1efSeUBpb/CFycx5QFTjpZvEz3lAPL1SliHPeUARx7q4jch5QBzr4jYaxXlAI9v5fmrFeUAVjErqBNl5QEVHcvkP23lAIR/0bFbJeUAoDwu1psl5QE3zjlN0x3lARIts5/vGeUCX/5B++855QCnLEMe61XlAIR/0bFbZeUAAb4EExd95QBQ/xty14HlALv8h/fbheUARx7q4jeB5QDMzMzMz3nlAIR/0bFbheUA4Z0Rpb+p5QOviNhrA8nlAGy/dJAbxeUAHX5hMFfB5QPcGX5hM73lABOeMKO3veUDy0k1iEPN5QPjCZKpg83lADJOpglH4eUAE54wo7fd5QAdfmEwV9HlA",
            "dtype": "f8"
           },
           "name": "Price",
           "open": {
            "bdata": "FvvL7snceUD3Bl+YTOd5QC1DHOvi7XlARwN4CyTjeUD4wmSqYON5QP+ye/Kw43lAAiuHFtnjeUAPC7WmedR5QDXvOEVH0nlAIR/0bFbZeUAE54wo7dd5QCBj7lpCzXlALv8h/fbFeUCUh4Va09l5QAWjkjoB3HlABOeMKO3beUAydy0hH8p5QAyTqYJRzHlAFvvL7snMeUAK16NwPdB5QCnLEMe61XlAKA8LtabZeUD6fmq8dOd5QBsv3SQG4XlAAG+BBMXneUApyxDHuuV5QABvgQTF53lAGy/dJAbleUAAb4EExe95QAIrhxbZ83lALv8h/fb5eUAydy0hH/J5QP+ye/Kw83lAKA8LtabxeUAhH/RsVvl5QPjCZKpg83lA7Z48LNT6eUAc6+I2Gv15QBQ/xty1+HlA",
            "dtype": "f8"
           },
           "type": "candlestick",
           "x": [
            "2023-10-04T09:30:00.000000000",
            "2023-10-04T09:35:00.000000000",
            "2023-10-04T09:40:00.000000000",
            "2023-10-04T09:45:00.000000000",
            "2023-10-04T09:50:00.000000000",
            "2023-10-04T09:55:00.000000000",
            "2023-10-04T10:00:00.000000000",
            "2023-10-04T10:05:00.000000000",
            "2023-10-04T10:10:00.000000000",
            "2023-10-04T10:15:00.000000000",
            "2023-10-04T10:20:00.000000000",
            "2023-10-04T10:25:00.000000000",
            "2023-10-04T10:30:00.000000000",
            "2023-10-04T10:35:00.000000000",
            "2023-10-04T10:40:00.000000000",
            "2023-10-04T10:45:00.000000000",
            "2023-10-04T10:50:00.000000000",
            "2023-10-04T10:55:00.000000000",
            "2023-10-04T11:00:00.000000000",
            "2023-10-04T11:05:00.000000000",
            "2023-10-04T11:10:00.000000000",
            "2023-10-04T11:15:00.000000000",
            "2023-10-04T11:20:00.000000000",
            "2023-10-04T11:25:00.000000000",
            "2023-10-04T11:30:00.000000000",
            "2023-10-04T11:35:00.000000000",
            "2023-10-04T11:40:00.000000000",
            "2023-10-04T11:45:00.000000000",
            "2023-10-04T11:50:00.000000000",
            "2023-10-04T11:55:00.000000000",
            "2023-10-04T12:00:00.000000000",
            "2023-10-04T12:05:00.000000000",
            "2023-10-04T12:10:00.000000000",
            "2023-10-04T12:15:00.000000000",
            "2023-10-04T12:20:00.000000000",
            "2023-10-04T12:25:00.000000000",
            "2023-10-04T12:30:00.000000000",
            "2023-10-04T12:35:00.000000000",
            "2023-10-04T12:40:00.000000000"
           ]
          }
         ],
         "name": "Frame 39"
        },
        {
         "data": [
          {
           "close": {
            "bdata": "oBov3STneUAwuycPC+55QEVHcvkP43lACRueXinkeUD/snvysON5QK62Yn/Z43lAEoPAyqHUeUAu/yH99tF5QBsv3SQG2XlABOeMKO3XeUAmUwWjks15QH6MuWsJxnlAK4cW2c7ZeUAFo5I6Adx5QAWjkjoB3HlANe84RUfKeUAMk6mCUcx5QBb7y+7JzHlADk+vlGXQeUAtQxzr4tV5QDJ3LSEf2nlA+MJkqmDneUAUP8bcteB5QABvgQTF53lAKcsQx7rleUAAb4EExed5QBlz1xLy5HlABaOSOgHweUACK4cW2fN5QDarPldb+nlALv8h/fbxeUD/snvysPN5QBgmUwWj8XlAIR/0bFb5eUD4wmSqYPN5QO5aQj7o+nlAFR3J5T/9eUAPC7Wmefh5QCBj7lpC9XlABaOSOgH8eUA=",
            "dtype": "f8"
           },
           "decreasing": {
            "fillcolor": "#FF6347",
            "line": {
             "color": "#CC503A",
             "width": 0.6
            }
           },
           "high": {
            "bdata": "CtejcD3oeUAep+hILvF5QD9XW7G/7nlACtejcD3oeUAE54wo7ed5QD9XW7G/6nlALv8h/fbpeUA/V1uxv9p5QO5aQj7o2nlAKA8LtabZeUAep+hILtl5QBe30QDe0HlAK4cW2c7ZeUAOT6+UZeB5QGB2Tx4W5XlABaOSOgHgeUAu/yH99tF5QEp7gy9Mz3lA+8vuycPjeUBTBaOSOth5QDC7Jw8L3nlACRueXinseUA/V1uxv+p5QCSX/5B+6XlAHqfoSC7peUDhehSuR+p5QBHHuriN6HlAI9v5fmr1eUAgY+5aQvV5QOauJeSD+nlA8tJNYhD7eUDpJjEIrPZ5QBsv3SQG+XlAveMUHcn5eUAmUwWjkv15QPVKWYY4+3lAFD/G3LUAekDmriXkg/55QP+ye/Kw+3lAETY8vVL8eUA=",
            "dtype": "f8"
           },
           "increasing": {
            "fillcolor": "#32CD32",
            "line": {
             "color": "#28A028",
             "width": 0.6
            }
           },
           "low": {
            "bdata": "Ne84RUfaeUBCz2bV5+J5QDhnRGlv4nlAPZtVn6veeUBIv30dONt5QL8OnDOi3HlAQs9m1efSeUBpb/CFycx5QFTjpZvEz3lAPL1SliHPeUARx7q4jch5QBzr4jYaxXlAI9v5fmrFeUAVjErqBNl5QEVHcvkP23lAIR/0bFbJeUAoDwu1psl5QE3zjlN0x3lARIts5/vGeUCX/5B++855QCnLEMe61XlAIR/0bFbZeUAAb4EExd95QBQ/xty14HlALv8h/fbheUARx7q4jeB5QDMzMzMz3nlAIR/0bFbheUA4Z0Rpb+p5QOviNhrA8nlAGy/dJAbxeUAHX5hMFfB5QPcGX5hM73lABOeMKO3veUDy0k1iEPN5QPjCZKpg83lADJOpglH4eUAE54wo7fd5QAdfmEwV9HlAF7fRAN70eUA=",
            "dtype": "f8"
           },
           "name": "Price",
           "open": {
            "bdata": "FvvL7snceUD3Bl+YTOd5QC1DHOvi7XlARwN4CyTjeUD4wmSqYON5QP+ye/Kw43lAAiuHFtnjeUAPC7WmedR5QDXvOEVH0nlAIR/0bFbZeUAE54wo7dd5QCBj7lpCzXlALv8h/fbFeUCUh4Va09l5QAWjkjoB3HlABOeMKO3beUAydy0hH8p5QAyTqYJRzHlAFvvL7snMeUAK16NwPdB5QCnLEMe61XlAKA8LtabZeUD6fmq8dOd5QBsv3SQG4XlAAG+BBMXneUApyxDHuuV5QABvgQTF53lAGy/dJAbleUAAb4EExe95QAIrhxbZ83lALv8h/fb5eUAydy0hH/J5QP+ye/Kw83lAKA8LtabxeUAhH/RsVvl5QPjCZKpg83lA7Z48LNT6eUAc6+I2Gv15QBQ/xty1+HlAHOviNhr1eUA=",
            "dtype": "f8"
           },
           "type": "candlestick",
           "x": [
            "2023-10-04T09:30:00.000000000",
            "2023-10-04T09:35:00.000000000",
            "2023-10-04T09:40:00.000000000",
            "2023-10-04T09:45:00.000000000",
            "2023-10-04T09:50:00.000000000",
            "2023-10-04T09:55:00.000000000",
            "2023-10-04T10:00:00.000000000",
            "2023-10-04T10:05:00.000000000",
            "2023-10-04T10:10:00.000000000",
            "2023-10-04T10:15:00.000000000",
            "2023-10-04T10:20:00.000000000",
            "2023-10-04T10:25:00.000000000",
            "2023-10-04T10:30:00.000000000",
            "2023-10-04T10:35:00.000000000",
            "2023-10-04T10:40:00.000000000",
            "2023-10-04T10:45:00.000000000",
            "2023-10-04T10:50:00.000000000",
            "2023-10-04T10:55:00.000000000",
            "2023-10-04T11:00:00.000000000",
            "2023-10-04T11:05:00.000000000",
            "2023-10-04T11:10:00.000000000",
            "2023-10-04T11:15:00.000000000",
            "2023-10-04T11:20:00.000000000",
            "2023-10-04T11:25:00.000000000",
            "2023-10-04T11:30:00.000000000",
            "2023-10-04T11:35:00.000000000",
            "2023-10-04T11:40:00.000000000",
            "2023-10-04T11:45:00.000000000",
            "2023-10-04T11:50:00.000000000",
            "2023-10-04T11:55:00.000000000",
            "2023-10-04T12:00:00.000000000",
            "2023-10-04T12:05:00.000000000",
            "2023-10-04T12:10:00.000000000",
            "2023-10-04T12:15:00.000000000",
            "2023-10-04T12:20:00.000000000",
            "2023-10-04T12:25:00.000000000",
            "2023-10-04T12:30:00.000000000",
            "2023-10-04T12:35:00.000000000",
            "2023-10-04T12:40:00.000000000",
            "2023-10-04T12:45:00.000000000"
           ]
          }
         ],
         "name": "Frame 40"
        },
        {
         "data": [
          {
           "close": {
            "bdata": "oBov3STneUAwuycPC+55QEVHcvkP43lACRueXinkeUD/snvysON5QK62Yn/Z43lAEoPAyqHUeUAu/yH99tF5QBsv3SQG2XlABOeMKO3XeUAmUwWjks15QH6MuWsJxnlAK4cW2c7ZeUAFo5I6Adx5QAWjkjoB3HlANe84RUfKeUAMk6mCUcx5QBb7y+7JzHlADk+vlGXQeUAtQxzr4tV5QDJ3LSEf2nlA+MJkqmDneUAUP8bcteB5QABvgQTF53lAKcsQx7rleUAAb4EExed5QBlz1xLy5HlABaOSOgHweUACK4cW2fN5QDarPldb+nlALv8h/fbxeUD/snvysPN5QBgmUwWj8XlAIR/0bFb5eUD4wmSqYPN5QO5aQj7o+nlAFR3J5T/9eUAPC7Wmefh5QCBj7lpC9XlABaOSOgH8eUDwFkhQ/PZ5QA==",
            "dtype": "f8"
           },
           "decreasing": {
            "fillcolor": "#FF6347",
            "line": {
             "color": "#CC503A",
             "width": 0.6
            }
           },
           "high": {
            "bdata": "CtejcD3oeUAep+hILvF5QD9XW7G/7nlACtejcD3oeUAE54wo7ed5QD9XW7G/6nlALv8h/fbpeUA/V1uxv9p5QO5aQj7o2nlAKA8LtabZeUAep+hILtl5QBe30QDe0HlAK4cW2c7ZeUAOT6+UZeB5QGB2Tx4W5XlABaOSOgHgeUAu/yH99tF5QEp7gy9Mz3lA+8vuycPjeUBTBaOSOth5QDC7Jw8L3nlACRueXinseUA/V1uxv+p5QCSX/5B+6XlAHqfoSC7peUDhehSuR+p5QBHHuriN6HlAI9v5fmr1eUAgY+5aQvV5QOauJeSD+nlA8tJNYhD7eUDpJjEIrPZ5QBsv3SQG+XlAveMUHcn5eUAmUwWjkv15QPVKWYY4+3lAFD/G3LUAekDmriXkg/55QP+ye/Kw+3lAETY8vVL8eUASg8DKofx5QA==",
            "dtype": "f8"
           },
           "increasing": {
            "fillcolor": "#32CD32",
            "line": {
             "color": "#28A028",
             "width": 0.6
            }
           },
           "low": {
            "bdata": "Ne84RUfaeUBCz2bV5+J5QDhnRGlv4nlAPZtVn6veeUBIv30dONt5QL8OnDOi3HlAQs9m1efSeUBpb/CFycx5QFTjpZvEz3lAPL1SliHPeUARx7q4jch5QBzr4jYaxXlAI9v5fmrFeUAVjErqBNl5QEVHcvkP23lAIR/0bFbJeUAoDwu1psl5QE3zjlN0x3lARIts5/vGeUCX/5B++855QCnLEMe61XlAIR/0bFbZeUAAb4EExd95QBQ/xty14HlALv8h/fbheUARx7q4jeB5QDMzMzMz3nlAIR/0bFbheUA4Z0Rpb+p5QOviNhrA8nlAGy/dJAbxeUAHX5hMFfB5QPcGX5hM73lABOeMKO3veUDy0k1iEPN5QPjCZKpg83lADJOpglH4eUAE54wo7fd5QAdfmEwV9HlAF7fRAN70eUAj2/l+avV5QA==",
            "dtype": "f8"
           },
           "name": "Price",
           "open": {
            "bdata": "FvvL7snceUD3Bl+YTOd5QC1DHOvi7XlARwN4CyTjeUD4wmSqYON5QP+ye/Kw43lAAiuHFtnjeUAPC7WmedR5QDXvOEVH0nlAIR/0bFbZeUAE54wo7dd5QCBj7lpCzXlALv8h/fbFeUCUh4Va09l5QAWjkjoB3HlABOeMKO3beUAydy0hH8p5QAyTqYJRzHlAFvvL7snMeUAK16NwPdB5QCnLEMe61XlAKA8LtabZeUD6fmq8dOd5QBsv3SQG4XlAAG+BBMXneUApyxDHuuV5QABvgQTF53lAGy/dJAbleUAAb4EExe95QAIrhxbZ83lALv8h/fb5eUAydy0hH/J5QP+ye/Kw83lAKA8LtabxeUAhH/RsVvl5QPjCZKpg83lA7Z48LNT6eUAc6+I2Gv15QBQ/xty1+HlAHOviNhr1eUAE54wo7ft5QA==",
            "dtype": "f8"
           },
           "type": "candlestick",
           "x": [
            "2023-10-04T09:30:00.000000000",
            "2023-10-04T09:35:00.000000000",
            "2023-10-04T09:40:00.000000000",
            "2023-10-04T09:45:00.000000000",
            "2023-10-04T09:50:00.000000000",
            "2023-10-04T09:55:00.000000000",
            "2023-10-04T10:00:00.000000000",
            "2023-10-04T10:05:00.000000000",
            "2023-10-04T10:10:00.000000000",
            "2023-10-04T10:15:00.000000000",
            "2023-10-04T10:20:00.000000000",
            "2023-10-04T10:25:00.000000000",
            "2023-10-04T10:30:00.000000000",
            "2023-10-04T10:35:00.000000000",
            "2023-10-04T10:40:00.000000000",
            "2023-10-04T10:45:00.000000000",
            "2023-10-04T10:50:00.000000000",
            "2023-10-04T10:55:00.000000000",
            "2023-10-04T11:00:00.000000000",
            "2023-10-04T11:05:00.000000000",
            "2023-10-04T11:10:00.000000000",
            "2023-10-04T11:15:00.000000000",
            "2023-10-04T11:20:00.000000000",
            "2023-10-04T11:25:00.000000000",
            "2023-10-04T11:30:00.000000000",
            "2023-10-04T11:35:00.000000000",
            "2023-10-04T11:40:00.000000000",
            "2023-10-04T11:45:00.000000000",
            "2023-10-04T11:50:00.000000000",
            "2023-10-04T11:55:00.000000000",
            "2023-10-04T12:00:00.000000000",
            "2023-10-04T12:05:00.000000000",
            "2023-10-04T12:10:00.000000000",
            "2023-10-04T12:15:00.000000000",
            "2023-10-04T12:20:00.000000000",
            "2023-10-04T12:25:00.000000000",
            "2023-10-04T12:30:00.000000000",
            "2023-10-04T12:35:00.000000000",
            "2023-10-04T12:40:00.000000000",
            "2023-10-04T12:45:00.000000000",
            "2023-10-04T12:50:00.000000000"
           ]
          }
         ],
         "name": "Frame 41"
        },
        {
         "data": [
          {
           "close": {
            "bdata": "oBov3STneUAwuycPC+55QEVHcvkP43lACRueXinkeUD/snvysON5QK62Yn/Z43lAEoPAyqHUeUAu/yH99tF5QBsv3SQG2XlABOeMKO3XeUAmUwWjks15QH6MuWsJxnlAK4cW2c7ZeUAFo5I6Adx5QAWjkjoB3HlANe84RUfKeUAMk6mCUcx5QBb7y+7JzHlADk+vlGXQeUAtQxzr4tV5QDJ3LSEf2nlA+MJkqmDneUAUP8bcteB5QABvgQTF53lAKcsQx7rleUAAb4EExed5QBlz1xLy5HlABaOSOgHweUACK4cW2fN5QDarPldb+nlALv8h/fbxeUD/snvysPN5QBgmUwWj8XlAIR/0bFb5eUD4wmSqYPN5QO5aQj7o+nlAFR3J5T/9eUAPC7Wmefh5QCBj7lpC9XlABaOSOgH8eUDwFkhQ/PZ5QIlBYOXQ9HlA",
            "dtype": "f8"
           },
           "decreasing": {
            "fillcolor": "#FF6347",
            "line": {
             "color": "#CC503A",
             "width": 0.6
            }
           },
           "high": {
            "bdata": "CtejcD3oeUAep+hILvF5QD9XW7G/7nlACtejcD3oeUAE54wo7ed5QD9XW7G/6nlALv8h/fbpeUA/V1uxv9p5QO5aQj7o2nlAKA8LtabZeUAep+hILtl5QBe30QDe0HlAK4cW2c7ZeUAOT6+UZeB5QGB2Tx4W5XlABaOSOgHgeUAu/yH99tF5QEp7gy9Mz3lA+8vuycPjeUBTBaOSOth5QDC7Jw8L3nlACRueXinseUA/V1uxv+p5QCSX/5B+6XlAHqfoSC7peUDhehSuR+p5QBHHuriN6HlAI9v5fmr1eUAgY+5aQvV5QOauJeSD+nlA8tJNYhD7eUDpJjEIrPZ5QBsv3SQG+XlAveMUHcn5eUAmUwWjkv15QPVKWYY4+3lAFD/G3LUAekDmriXkg/55QP+ye/Kw+3lAETY8vVL8eUASg8DKofx5QBsv3SQG+XlA",
            "dtype": "f8"
           },
           "increasing": {
            "fillcolor": "#32CD32",
            "line": {
             "color": "#28A028",
             "width": 0.6
            }
           },
           "low": {
            "bdata": "Ne84RUfaeUBCz2bV5+J5QDhnRGlv4nlAPZtVn6veeUBIv30dONt5QL8OnDOi3HlAQs9m1efSeUBpb/CFycx5QFTjpZvEz3lAPL1SliHPeUARx7q4jch5QBzr4jYaxXlAI9v5fmrFeUAVjErqBNl5QEVHcvkP23lAIR/0bFbJeUAoDwu1psl5QE3zjlN0x3lARIts5/vGeUCX/5B++855QCnLEMe61XlAIR/0bFbZeUAAb4EExd95QBQ/xty14HlALv8h/fbheUARx7q4jeB5QDMzMzMz3nlAIR/0bFbheUA4Z0Rpb+p5QOviNhrA8nlAGy/dJAbxeUAHX5hMFfB5QPcGX5hM73lABOeMKO3veUDy0k1iEPN5QPjCZKpg83lADJOpglH4eUAE54wo7fd5QAdfmEwV9HlAF7fRAN70eUAj2/l+avV5QC7/If328XlA",
            "dtype": "f8"
           },
           "name": "Price",
           "open": {
            "bdata": "FvvL7snceUD3Bl+YTOd5QC1DHOvi7XlARwN4CyTjeUD4wmSqYON5QP+ye/Kw43lAAiuHFtnjeUAPC7WmedR5QDXvOEVH0nlAIR/0bFbZeUAE54wo7dd5QCBj7lpCzXlALv8h/fbFeUCUh4Va09l5QAWjkjoB3HlABOeMKO3beUAydy0hH8p5QAyTqYJRzHlAFvvL7snMeUAK16NwPdB5QCnLEMe61XlAKA8LtabZeUD6fmq8dOd5QBsv3SQG4XlAAG+BBMXneUApyxDHuuV5QABvgQTF53lAGy/dJAbleUAAb4EExe95QAIrhxbZ83lALv8h/fb5eUAydy0hH/J5QP+ye/Kw83lAKA8LtabxeUAhH/RsVvl5QPjCZKpg83lA7Z48LNT6eUAc6+I2Gv15QBQ/xty1+HlAHOviNhr1eUAE54wo7ft5QPAWSFD89nlA",
            "dtype": "f8"
           },
           "type": "candlestick",
           "x": [
            "2023-10-04T09:30:00.000000000",
            "2023-10-04T09:35:00.000000000",
            "2023-10-04T09:40:00.000000000",
            "2023-10-04T09:45:00.000000000",
            "2023-10-04T09:50:00.000000000",
            "2023-10-04T09:55:00.000000000",
            "2023-10-04T10:00:00.000000000",
            "2023-10-04T10:05:00.000000000",
            "2023-10-04T10:10:00.000000000",
            "2023-10-04T10:15:00.000000000",
            "2023-10-04T10:20:00.000000000",
            "2023-10-04T10:25:00.000000000",
            "2023-10-04T10:30:00.000000000",
            "2023-10-04T10:35:00.000000000",
            "2023-10-04T10:40:00.000000000",
            "2023-10-04T10:45:00.000000000",
            "2023-10-04T10:50:00.000000000",
            "2023-10-04T10:55:00.000000000",
            "2023-10-04T11:00:00.000000000",
            "2023-10-04T11:05:00.000000000",
            "2023-10-04T11:10:00.000000000",
            "2023-10-04T11:15:00.000000000",
            "2023-10-04T11:20:00.000000000",
            "2023-10-04T11:25:00.000000000",
            "2023-10-04T11:30:00.000000000",
            "2023-10-04T11:35:00.000000000",
            "2023-10-04T11:40:00.000000000",
            "2023-10-04T11:45:00.000000000",
            "2023-10-04T11:50:00.000000000",
            "2023-10-04T11:55:00.000000000",
            "2023-10-04T12:00:00.000000000",
            "2023-10-04T12:05:00.000000000",
            "2023-10-04T12:10:00.000000000",
            "2023-10-04T12:15:00.000000000",
            "2023-10-04T12:20:00.000000000",
            "2023-10-04T12:25:00.000000000",
            "2023-10-04T12:30:00.000000000",
            "2023-10-04T12:35:00.000000000",
            "2023-10-04T12:40:00.000000000",
            "2023-10-04T12:45:00.000000000",
            "2023-10-04T12:50:00.000000000",
            "2023-10-04T12:55:00.000000000"
           ]
          }
         ],
         "name": "Frame 42"
        },
        {
         "data": [
          {
           "close": {
            "bdata": "oBov3STneUAwuycPC+55QEVHcvkP43lACRueXinkeUD/snvysON5QK62Yn/Z43lAEoPAyqHUeUAu/yH99tF5QBsv3SQG2XlABOeMKO3XeUAmUwWjks15QH6MuWsJxnlAK4cW2c7ZeUAFo5I6Adx5QAWjkjoB3HlANe84RUfKeUAMk6mCUcx5QBb7y+7JzHlADk+vlGXQeUAtQxzr4tV5QDJ3LSEf2nlA+MJkqmDneUAUP8bcteB5QABvgQTF53lAKcsQx7rleUAAb4EExed5QBlz1xLy5HlABaOSOgHweUACK4cW2fN5QDarPldb+nlALv8h/fbxeUD/snvysPN5QBgmUwWj8XlAIR/0bFb5eUD4wmSqYPN5QO5aQj7o+nlAFR3J5T/9eUAPC7Wmefh5QCBj7lpC9XlABaOSOgH8eUDwFkhQ/PZ5QIlBYOXQ9HlAGlHaG3zueUA=",
            "dtype": "f8"
           },
           "decreasing": {
            "fillcolor": "#FF6347",
            "line": {
             "color": "#CC503A",
             "width": 0.6
            }
           },
           "high": {
            "bdata": "CtejcD3oeUAep+hILvF5QD9XW7G/7nlACtejcD3oeUAE54wo7ed5QD9XW7G/6nlALv8h/fbpeUA/V1uxv9p5QO5aQj7o2nlAKA8LtabZeUAep+hILtl5QBe30QDe0HlAK4cW2c7ZeUAOT6+UZeB5QGB2Tx4W5XlABaOSOgHgeUAu/yH99tF5QEp7gy9Mz3lA+8vuycPjeUBTBaOSOth5QDC7Jw8L3nlACRueXinseUA/V1uxv+p5QCSX/5B+6XlAHqfoSC7peUDhehSuR+p5QBHHuriN6HlAI9v5fmr1eUAgY+5aQvV5QOauJeSD+nlA8tJNYhD7eUDpJjEIrPZ5QBsv3SQG+XlAveMUHcn5eUAmUwWjkv15QPVKWYY4+3lAFD/G3LUAekDmriXkg/55QP+ye/Kw+3lAETY8vVL8eUASg8DKofx5QBsv3SQG+XlA6SYxCKz2eUA=",
            "dtype": "f8"
           },
           "increasing": {
            "fillcolor": "#32CD32",
            "line": {
             "color": "#28A028",
             "width": 0.6
            }
           },
           "low": {
            "bdata": "Ne84RUfaeUBCz2bV5+J5QDhnRGlv4nlAPZtVn6veeUBIv30dONt5QL8OnDOi3HlAQs9m1efSeUBpb/CFycx5QFTjpZvEz3lAPL1SliHPeUARx7q4jch5QBzr4jYaxXlAI9v5fmrFeUAVjErqBNl5QEVHcvkP23lAIR/0bFbJeUAoDwu1psl5QE3zjlN0x3lARIts5/vGeUCX/5B++855QCnLEMe61XlAIR/0bFbZeUAAb4EExd95QBQ/xty14HlALv8h/fbheUARx7q4jeB5QDMzMzMz3nlAIR/0bFbheUA4Z0Rpb+p5QOviNhrA8nlAGy/dJAbxeUAHX5hMFfB5QPcGX5hM73lABOeMKO3veUDy0k1iEPN5QPjCZKpg83lADJOpglH4eUAE54wo7fd5QAdfmEwV9HlAF7fRAN70eUAj2/l+avV5QC7/If328XlALUMc6+LteUA=",
            "dtype": "f8"
           },
           "name": "Price",
           "open": {
            "bdata": "FvvL7snceUD3Bl+YTOd5QC1DHOvi7XlARwN4CyTjeUD4wmSqYON5QP+ye/Kw43lAAiuHFtnjeUAPC7WmedR5QDXvOEVH0nlAIR/0bFbZeUAE54wo7dd5QCBj7lpCzXlALv8h/fbFeUCUh4Va09l5QAWjkjoB3HlABOeMKO3beUAydy0hH8p5QAyTqYJRzHlAFvvL7snMeUAK16NwPdB5QCnLEMe61XlAKA8LtabZeUD6fmq8dOd5QBsv3SQG4XlAAG+BBMXneUApyxDHuuV5QABvgQTF53lAGy/dJAbleUAAb4EExe95QAIrhxbZ83lALv8h/fb5eUAydy0hH/J5QP+ye/Kw83lAKA8LtabxeUAhH/RsVvl5QPjCZKpg83lA7Z48LNT6eUAc6+I2Gv15QBQ/xty1+HlAHOviNhr1eUAE54wo7ft5QPAWSFD89nlAJJf/kH71eUA=",
            "dtype": "f8"
           },
           "type": "candlestick",
           "x": [
            "2023-10-04T09:30:00.000000000",
            "2023-10-04T09:35:00.000000000",
            "2023-10-04T09:40:00.000000000",
            "2023-10-04T09:45:00.000000000",
            "2023-10-04T09:50:00.000000000",
            "2023-10-04T09:55:00.000000000",
            "2023-10-04T10:00:00.000000000",
            "2023-10-04T10:05:00.000000000",
            "2023-10-04T10:10:00.000000000",
            "2023-10-04T10:15:00.000000000",
            "2023-10-04T10:20:00.000000000",
            "2023-10-04T10:25:00.000000000",
            "2023-10-04T10:30:00.000000000",
            "2023-10-04T10:35:00.000000000",
            "2023-10-04T10:40:00.000000000",
            "2023-10-04T10:45:00.000000000",
            "2023-10-04T10:50:00.000000000",
            "2023-10-04T10:55:00.000000000",
            "2023-10-04T11:00:00.000000000",
            "2023-10-04T11:05:00.000000000",
            "2023-10-04T11:10:00.000000000",
            "2023-10-04T11:15:00.000000000",
            "2023-10-04T11:20:00.000000000",
            "2023-10-04T11:25:00.000000000",
            "2023-10-04T11:30:00.000000000",
            "2023-10-04T11:35:00.000000000",
            "2023-10-04T11:40:00.000000000",
            "2023-10-04T11:45:00.000000000",
            "2023-10-04T11:50:00.000000000",
            "2023-10-04T11:55:00.000000000",
            "2023-10-04T12:00:00.000000000",
            "2023-10-04T12:05:00.000000000",
            "2023-10-04T12:10:00.000000000",
            "2023-10-04T12:15:00.000000000",
            "2023-10-04T12:20:00.000000000",
            "2023-10-04T12:25:00.000000000",
            "2023-10-04T12:30:00.000000000",
            "2023-10-04T12:35:00.000000000",
            "2023-10-04T12:40:00.000000000",
            "2023-10-04T12:45:00.000000000",
            "2023-10-04T12:50:00.000000000",
            "2023-10-04T12:55:00.000000000",
            "2023-10-04T13:00:00.000000000"
           ]
          }
         ],
         "name": "Frame 43"
        },
        {
         "data": [
          {
           "close": {
            "bdata": "oBov3STneUAwuycPC+55QEVHcvkP43lACRueXinkeUD/snvysON5QK62Yn/Z43lAEoPAyqHUeUAu/yH99tF5QBsv3SQG2XlABOeMKO3XeUAmUwWjks15QH6MuWsJxnlAK4cW2c7ZeUAFo5I6Adx5QAWjkjoB3HlANe84RUfKeUAMk6mCUcx5QBb7y+7JzHlADk+vlGXQeUAtQxzr4tV5QDJ3LSEf2nlA+MJkqmDneUAUP8bcteB5QABvgQTF53lAKcsQx7rleUAAb4EExed5QBlz1xLy5HlABaOSOgHweUACK4cW2fN5QDarPldb+nlALv8h/fbxeUD/snvysPN5QBgmUwWj8XlAIR/0bFb5eUD4wmSqYPN5QO5aQj7o+nlAFR3J5T/9eUAPC7Wmefh5QCBj7lpC9XlABaOSOgH8eUDwFkhQ/PZ5QIlBYOXQ9HlAGlHaG3zueUD5oGez6vJ5QA==",
            "dtype": "f8"
           },
           "decreasing": {
            "fillcolor": "#FF6347",
            "line": {
             "color": "#CC503A",
             "width": 0.6
            }
           },
           "high": {
            "bdata": "CtejcD3oeUAep+hILvF5QD9XW7G/7nlACtejcD3oeUAE54wo7ed5QD9XW7G/6nlALv8h/fbpeUA/V1uxv9p5QO5aQj7o2nlAKA8LtabZeUAep+hILtl5QBe30QDe0HlAK4cW2c7ZeUAOT6+UZeB5QGB2Tx4W5XlABaOSOgHgeUAu/yH99tF5QEp7gy9Mz3lA+8vuycPjeUBTBaOSOth5QDC7Jw8L3nlACRueXinseUA/V1uxv+p5QCSX/5B+6XlAHqfoSC7peUDhehSuR+p5QBHHuriN6HlAI9v5fmr1eUAgY+5aQvV5QOauJeSD+nlA8tJNYhD7eUDpJjEIrPZ5QBsv3SQG+XlAveMUHcn5eUAmUwWjkv15QPVKWYY4+3lAFD/G3LUAekDmriXkg/55QP+ye/Kw+3lAETY8vVL8eUASg8DKofx5QBsv3SQG+XlA6SYxCKz2eUAJG55eKfR5QA==",
            "dtype": "f8"
           },
           "increasing": {
            "fillcolor": "#32CD32",
            "line": {
             "color": "#28A028",
             "width": 0.6
            }
           },
           "low": {
            "bdata": "Ne84RUfaeUBCz2bV5+J5QDhnRGlv4nlAPZtVn6veeUBIv30dONt5QL8OnDOi3HlAQs9m1efSeUBpb/CFycx5QFTjpZvEz3lAPL1SliHPeUARx7q4jch5QBzr4jYaxXlAI9v5fmrFeUAVjErqBNl5QEVHcvkP23lAIR/0bFbJeUAoDwu1psl5QE3zjlN0x3lARIts5/vGeUCX/5B++855QCnLEMe61XlAIR/0bFbZeUAAb4EExd95QBQ/xty14HlALv8h/fbheUARx7q4jeB5QDMzMzMz3nlAIR/0bFbheUA4Z0Rpb+p5QOviNhrA8nlAGy/dJAbxeUAHX5hMFfB5QPcGX5hM73lABOeMKO3veUDy0k1iEPN5QPjCZKpg83lADJOpglH4eUAE54wo7fd5QAdfmEwV9HlAF7fRAN70eUAj2/l+avV5QC7/If328XlALUMc6+LteUApyxDHuu15QA==",
            "dtype": "f8"
           },
           "name": "Price",
           "open": {
            "bdata": "FvvL7snceUD3Bl+YTOd5QC1DHOvi7XlARwN4CyTjeUD4wmSqYON5QP+ye/Kw43lAAiuHFtnjeUAPC7WmedR5QDXvOEVH0nlAIR/0bFbZeUAE54wo7dd5QCBj7lpCzXlALv8h/fbFeUCUh4Va09l5QAWjkjoB3HlABOeMKO3beUAydy0hH8p5QAyTqYJRzHlAFvvL7snMeUAK16NwPdB5QCnLEMe61XlAKA8LtabZeUD6fmq8dOd5QBsv3SQG4XlAAG+BBMXneUApyxDHuuV5QABvgQTF53lAGy/dJAbleUAAb4EExe95QAIrhxbZ83lALv8h/fb5eUAydy0hH/J5QP+ye/Kw83lAKA8LtabxeUAhH/RsVvl5QPjCZKpg83lA7Z48LNT6eUAc6+I2Gv15QBQ/xty1+HlAHOviNhr1eUAE54wo7ft5QPAWSFD89nlAJJf/kH71eUA2qz5XW+55QA==",
            "dtype": "f8"
           },
           "type": "candlestick",
           "x": [
            "2023-10-04T09:30:00.000000000",
            "2023-10-04T09:35:00.000000000",
            "2023-10-04T09:40:00.000000000",
            "2023-10-04T09:45:00.000000000",
            "2023-10-04T09:50:00.000000000",
            "2023-10-04T09:55:00.000000000",
            "2023-10-04T10:00:00.000000000",
            "2023-10-04T10:05:00.000000000",
            "2023-10-04T10:10:00.000000000",
            "2023-10-04T10:15:00.000000000",
            "2023-10-04T10:20:00.000000000",
            "2023-10-04T10:25:00.000000000",
            "2023-10-04T10:30:00.000000000",
            "2023-10-04T10:35:00.000000000",
            "2023-10-04T10:40:00.000000000",
            "2023-10-04T10:45:00.000000000",
            "2023-10-04T10:50:00.000000000",
            "2023-10-04T10:55:00.000000000",
            "2023-10-04T11:00:00.000000000",
            "2023-10-04T11:05:00.000000000",
            "2023-10-04T11:10:00.000000000",
            "2023-10-04T11:15:00.000000000",
            "2023-10-04T11:20:00.000000000",
            "2023-10-04T11:25:00.000000000",
            "2023-10-04T11:30:00.000000000",
            "2023-10-04T11:35:00.000000000",
            "2023-10-04T11:40:00.000000000",
            "2023-10-04T11:45:00.000000000",
            "2023-10-04T11:50:00.000000000",
            "2023-10-04T11:55:00.000000000",
            "2023-10-04T12:00:00.000000000",
            "2023-10-04T12:05:00.000000000",
            "2023-10-04T12:10:00.000000000",
            "2023-10-04T12:15:00.000000000",
            "2023-10-04T12:20:00.000000000",
            "2023-10-04T12:25:00.000000000",
            "2023-10-04T12:30:00.000000000",
            "2023-10-04T12:35:00.000000000",
            "2023-10-04T12:40:00.000000000",
            "2023-10-04T12:45:00.000000000",
            "2023-10-04T12:50:00.000000000",
            "2023-10-04T12:55:00.000000000",
            "2023-10-04T13:00:00.000000000",
            "2023-10-04T13:05:00.000000000"
           ]
          }
         ],
         "name": "Frame 44"
        },
        {
         "data": [
          {
           "close": {
            "bdata": "oBov3STneUAwuycPC+55QEVHcvkP43lACRueXinkeUD/snvysON5QK62Yn/Z43lAEoPAyqHUeUAu/yH99tF5QBsv3SQG2XlABOeMKO3XeUAmUwWjks15QH6MuWsJxnlAK4cW2c7ZeUAFo5I6Adx5QAWjkjoB3HlANe84RUfKeUAMk6mCUcx5QBb7y+7JzHlADk+vlGXQeUAtQxzr4tV5QDJ3LSEf2nlA+MJkqmDneUAUP8bcteB5QABvgQTF53lAKcsQx7rleUAAb4EExed5QBlz1xLy5HlABaOSOgHweUACK4cW2fN5QDarPldb+nlALv8h/fbxeUD/snvysPN5QBgmUwWj8XlAIR/0bFb5eUD4wmSqYPN5QO5aQj7o+nlAFR3J5T/9eUAPC7Wmefh5QCBj7lpC9XlABaOSOgH8eUDwFkhQ/PZ5QIlBYOXQ9HlAGlHaG3zueUD5oGez6vJ5QBzr4jYa7XlA",
            "dtype": "f8"
           },
           "decreasing": {
            "fillcolor": "#FF6347",
            "line": {
             "color": "#CC503A",
             "width": 0.6
            }
           },
           "high": {
            "bdata": "CtejcD3oeUAep+hILvF5QD9XW7G/7nlACtejcD3oeUAE54wo7ed5QD9XW7G/6nlALv8h/fbpeUA/V1uxv9p5QO5aQj7o2nlAKA8LtabZeUAep+hILtl5QBe30QDe0HlAK4cW2c7ZeUAOT6+UZeB5QGB2Tx4W5XlABaOSOgHgeUAu/yH99tF5QEp7gy9Mz3lA+8vuycPjeUBTBaOSOth5QDC7Jw8L3nlACRueXinseUA/V1uxv+p5QCSX/5B+6XlAHqfoSC7peUDhehSuR+p5QBHHuriN6HlAI9v5fmr1eUAgY+5aQvV5QOauJeSD+nlA8tJNYhD7eUDpJjEIrPZ5QBsv3SQG+XlAveMUHcn5eUAmUwWjkv15QPVKWYY4+3lAFD/G3LUAekDmriXkg/55QP+ye/Kw+3lAETY8vVL8eUASg8DKofx5QBsv3SQG+XlA6SYxCKz2eUAJG55eKfR5QAWjkjoB9HlA",
            "dtype": "f8"
           },
           "increasing": {
            "fillcolor": "#32CD32",
            "line": {
             "color": "#28A028",
             "width": 0.6
            }
           },
           "low": {
            "bdata": "Ne84RUfaeUBCz2bV5+J5QDhnRGlv4nlAPZtVn6veeUBIv30dONt5QL8OnDOi3HlAQs9m1efSeUBpb/CFycx5QFTjpZvEz3lAPL1SliHPeUARx7q4jch5QBzr4jYaxXlAI9v5fmrFeUAVjErqBNl5QEVHcvkP23lAIR/0bFbJeUAoDwu1psl5QE3zjlN0x3lARIts5/vGeUCX/5B++855QCnLEMe61XlAIR/0bFbZeUAAb4EExd95QBQ/xty14HlALv8h/fbheUARx7q4jeB5QDMzMzMz3nlAIR/0bFbheUA4Z0Rpb+p5QOviNhrA8nlAGy/dJAbxeUAHX5hMFfB5QPcGX5hM73lABOeMKO3veUDy0k1iEPN5QPjCZKpg83lADJOpglH4eUAE54wo7fd5QAdfmEwV9HlAF7fRAN70eUAj2/l+avV5QC7/If328XlALUMc6+LteUApyxDHuu15QBQ/xty17HlA",
            "dtype": "f8"
           },
           "name": "Price",
           "open": {
            "bdata": "FvvL7snceUD3Bl+YTOd5QC1DHOvi7XlARwN4CyTjeUD4wmSqYON5QP+ye/Kw43lAAiuHFtnjeUAPC7WmedR5QDXvOEVH0nlAIR/0bFbZeUAE54wo7dd5QCBj7lpCzXlALv8h/fbFeUCUh4Va09l5QAWjkjoB3HlABOeMKO3beUAydy0hH8p5QAyTqYJRzHlAFvvL7snMeUAK16NwPdB5QCnLEMe61XlAKA8LtabZeUD6fmq8dOd5QBsv3SQG4XlAAG+BBMXneUApyxDHuuV5QABvgQTF53lAGy/dJAbleUAAb4EExe95QAIrhxbZ83lALv8h/fb5eUAydy0hH/J5QP+ye/Kw83lAKA8LtabxeUAhH/RsVvl5QPjCZKpg83lA7Z48LNT6eUAc6+I2Gv15QBQ/xty1+HlAHOviNhr1eUAE54wo7ft5QPAWSFD89nlAJJf/kH71eUA2qz5XW+55QPLSTWIQ83lA",
            "dtype": "f8"
           },
           "type": "candlestick",
           "x": [
            "2023-10-04T09:30:00.000000000",
            "2023-10-04T09:35:00.000000000",
            "2023-10-04T09:40:00.000000000",
            "2023-10-04T09:45:00.000000000",
            "2023-10-04T09:50:00.000000000",
            "2023-10-04T09:55:00.000000000",
            "2023-10-04T10:00:00.000000000",
            "2023-10-04T10:05:00.000000000",
            "2023-10-04T10:10:00.000000000",
            "2023-10-04T10:15:00.000000000",
            "2023-10-04T10:20:00.000000000",
            "2023-10-04T10:25:00.000000000",
            "2023-10-04T10:30:00.000000000",
            "2023-10-04T10:35:00.000000000",
            "2023-10-04T10:40:00.000000000",
            "2023-10-04T10:45:00.000000000",
            "2023-10-04T10:50:00.000000000",
            "2023-10-04T10:55:00.000000000",
            "2023-10-04T11:00:00.000000000",
            "2023-10-04T11:05:00.000000000",
            "2023-10-04T11:10:00.000000000",
            "2023-10-04T11:15:00.000000000",
            "2023-10-04T11:20:00.000000000",
            "2023-10-04T11:25:00.000000000",
            "2023-10-04T11:30:00.000000000",
            "2023-10-04T11:35:00.000000000",
            "2023-10-04T11:40:00.000000000",
            "2023-10-04T11:45:00.000000000",
            "2023-10-04T11:50:00.000000000",
            "2023-10-04T11:55:00.000000000",
            "2023-10-04T12:00:00.000000000",
            "2023-10-04T12:05:00.000000000",
            "2023-10-04T12:10:00.000000000",
            "2023-10-04T12:15:00.000000000",
            "2023-10-04T12:20:00.000000000",
            "2023-10-04T12:25:00.000000000",
            "2023-10-04T12:30:00.000000000",
            "2023-10-04T12:35:00.000000000",
            "2023-10-04T12:40:00.000000000",
            "2023-10-04T12:45:00.000000000",
            "2023-10-04T12:50:00.000000000",
            "2023-10-04T12:55:00.000000000",
            "2023-10-04T13:00:00.000000000",
            "2023-10-04T13:05:00.000000000",
            "2023-10-04T13:10:00.000000000"
           ]
          }
         ],
         "name": "Frame 45"
        },
        {
         "data": [
          {
           "close": {
            "bdata": "oBov3STneUAwuycPC+55QEVHcvkP43lACRueXinkeUD/snvysON5QK62Yn/Z43lAEoPAyqHUeUAu/yH99tF5QBsv3SQG2XlABOeMKO3XeUAmUwWjks15QH6MuWsJxnlAK4cW2c7ZeUAFo5I6Adx5QAWjkjoB3HlANe84RUfKeUAMk6mCUcx5QBb7y+7JzHlADk+vlGXQeUAtQxzr4tV5QDJ3LSEf2nlA+MJkqmDneUAUP8bcteB5QABvgQTF53lAKcsQx7rleUAAb4EExed5QBlz1xLy5HlABaOSOgHweUACK4cW2fN5QDarPldb+nlALv8h/fbxeUD/snvysPN5QBgmUwWj8XlAIR/0bFb5eUD4wmSqYPN5QO5aQj7o+nlAFR3J5T/9eUAPC7Wmefh5QCBj7lpC9XlABaOSOgH8eUDwFkhQ/PZ5QIlBYOXQ9HlAGlHaG3zueUD5oGez6vJ5QBzr4jYa7XlABOeMKO3veUA=",
            "dtype": "f8"
           },
           "decreasing": {
            "fillcolor": "#FF6347",
            "line": {
             "color": "#CC503A",
             "width": 0.6
            }
           },
           "high": {
            "bdata": "CtejcD3oeUAep+hILvF5QD9XW7G/7nlACtejcD3oeUAE54wo7ed5QD9XW7G/6nlALv8h/fbpeUA/V1uxv9p5QO5aQj7o2nlAKA8LtabZeUAep+hILtl5QBe30QDe0HlAK4cW2c7ZeUAOT6+UZeB5QGB2Tx4W5XlABaOSOgHgeUAu/yH99tF5QEp7gy9Mz3lA+8vuycPjeUBTBaOSOth5QDC7Jw8L3nlACRueXinseUA/V1uxv+p5QCSX/5B+6XlAHqfoSC7peUDhehSuR+p5QBHHuriN6HlAI9v5fmr1eUAgY+5aQvV5QOauJeSD+nlA8tJNYhD7eUDpJjEIrPZ5QBsv3SQG+XlAveMUHcn5eUAmUwWjkv15QPVKWYY4+3lAFD/G3LUAekDmriXkg/55QP+ye/Kw+3lAETY8vVL8eUASg8DKofx5QBsv3SQG+XlA6SYxCKz2eUAJG55eKfR5QAWjkjoB9HlA7lpCPujyeUA=",
            "dtype": "f8"
           },
           "increasing": {
            "fillcolor": "#32CD32",
            "line": {
             "color": "#28A028",
             "width": 0.6
            }
           },
           "low": {
            "bdata": "Ne84RUfaeUBCz2bV5+J5QDhnRGlv4nlAPZtVn6veeUBIv30dONt5QL8OnDOi3HlAQs9m1efSeUBpb/CFycx5QFTjpZvEz3lAPL1SliHPeUARx7q4jch5QBzr4jYaxXlAI9v5fmrFeUAVjErqBNl5QEVHcvkP23lAIR/0bFbJeUAoDwu1psl5QE3zjlN0x3lARIts5/vGeUCX/5B++855QCnLEMe61XlAIR/0bFbZeUAAb4EExd95QBQ/xty14HlALv8h/fbheUARx7q4jeB5QDMzMzMz3nlAIR/0bFbheUA4Z0Rpb+p5QOviNhrA8nlAGy/dJAbxeUAHX5hMFfB5QPcGX5hM73lABOeMKO3veUDy0k1iEPN5QPjCZKpg83lADJOpglH4eUAE54wo7fd5QAdfmEwV9HlAF7fRAN70eUAj2/l+avV5QC7/If328XlALUMc6+LteUApyxDHuu15QBQ/xty17HlAFD/G3LXseUA=",
            "dtype": "f8"
           },
           "name": "Price",
           "open": {
            "bdata": "FvvL7snceUD3Bl+YTOd5QC1DHOvi7XlARwN4CyTjeUD4wmSqYON5QP+ye/Kw43lAAiuHFtnjeUAPC7WmedR5QDXvOEVH0nlAIR/0bFbZeUAE54wo7dd5QCBj7lpCzXlALv8h/fbFeUCUh4Va09l5QAWjkjoB3HlABOeMKO3beUAydy0hH8p5QAyTqYJRzHlAFvvL7snMeUAK16NwPdB5QCnLEMe61XlAKA8LtabZeUD6fmq8dOd5QBsv3SQG4XlAAG+BBMXneUApyxDHuuV5QABvgQTF53lAGy/dJAbleUAAb4EExe95QAIrhxbZ83lALv8h/fb5eUAydy0hH/J5QP+ye/Kw83lAKA8LtabxeUAhH/RsVvl5QPjCZKpg83lA7Z48LNT6eUAc6+I2Gv15QBQ/xty1+HlAHOviNhr1eUAE54wo7ft5QPAWSFD89nlAJJf/kH71eUA2qz5XW+55QPLSTWIQ83lAI9v5fmrteUA=",
            "dtype": "f8"
           },
           "type": "candlestick",
           "x": [
            "2023-10-04T09:30:00.000000000",
            "2023-10-04T09:35:00.000000000",
            "2023-10-04T09:40:00.000000000",
            "2023-10-04T09:45:00.000000000",
            "2023-10-04T09:50:00.000000000",
            "2023-10-04T09:55:00.000000000",
            "2023-10-04T10:00:00.000000000",
            "2023-10-04T10:05:00.000000000",
            "2023-10-04T10:10:00.000000000",
            "2023-10-04T10:15:00.000000000",
            "2023-10-04T10:20:00.000000000",
            "2023-10-04T10:25:00.000000000",
            "2023-10-04T10:30:00.000000000",
            "2023-10-04T10:35:00.000000000",
            "2023-10-04T10:40:00.000000000",
            "2023-10-04T10:45:00.000000000",
            "2023-10-04T10:50:00.000000000",
            "2023-10-04T10:55:00.000000000",
            "2023-10-04T11:00:00.000000000",
            "2023-10-04T11:05:00.000000000",
            "2023-10-04T11:10:00.000000000",
            "2023-10-04T11:15:00.000000000",
            "2023-10-04T11:20:00.000000000",
            "2023-10-04T11:25:00.000000000",
            "2023-10-04T11:30:00.000000000",
            "2023-10-04T11:35:00.000000000",
            "2023-10-04T11:40:00.000000000",
            "2023-10-04T11:45:00.000000000",
            "2023-10-04T11:50:00.000000000",
            "2023-10-04T11:55:00.000000000",
            "2023-10-04T12:00:00.000000000",
            "2023-10-04T12:05:00.000000000",
            "2023-10-04T12:10:00.000000000",
            "2023-10-04T12:15:00.000000000",
            "2023-10-04T12:20:00.000000000",
            "2023-10-04T12:25:00.000000000",
            "2023-10-04T12:30:00.000000000",
            "2023-10-04T12:35:00.000000000",
            "2023-10-04T12:40:00.000000000",
            "2023-10-04T12:45:00.000000000",
            "2023-10-04T12:50:00.000000000",
            "2023-10-04T12:55:00.000000000",
            "2023-10-04T13:00:00.000000000",
            "2023-10-04T13:05:00.000000000",
            "2023-10-04T13:10:00.000000000",
            "2023-10-04T13:15:00.000000000"
           ]
          }
         ],
         "name": "Frame 46"
        },
        {
         "data": [
          {
           "close": {
            "bdata": "oBov3STneUAwuycPC+55QEVHcvkP43lACRueXinkeUD/snvysON5QK62Yn/Z43lAEoPAyqHUeUAu/yH99tF5QBsv3SQG2XlABOeMKO3XeUAmUwWjks15QH6MuWsJxnlAK4cW2c7ZeUAFo5I6Adx5QAWjkjoB3HlANe84RUfKeUAMk6mCUcx5QBb7y+7JzHlADk+vlGXQeUAtQxzr4tV5QDJ3LSEf2nlA+MJkqmDneUAUP8bcteB5QABvgQTF53lAKcsQx7rleUAAb4EExed5QBlz1xLy5HlABaOSOgHweUACK4cW2fN5QDarPldb+nlALv8h/fbxeUD/snvysPN5QBgmUwWj8XlAIR/0bFb5eUD4wmSqYPN5QO5aQj7o+nlAFR3J5T/9eUAPC7Wmefh5QCBj7lpC9XlABaOSOgH8eUDwFkhQ/PZ5QIlBYOXQ9HlAGlHaG3zueUD5oGez6vJ5QBzr4jYa7XlABOeMKO3veUD1SlmGOOt5QA==",
            "dtype": "f8"
           },
           "decreasing": {
            "fillcolor": "#FF6347",
            "line": {
             "color": "#CC503A",
             "width": 0.6
            }
           },
           "high": {
            "bdata": "CtejcD3oeUAep+hILvF5QD9XW7G/7nlACtejcD3oeUAE54wo7ed5QD9XW7G/6nlALv8h/fbpeUA/V1uxv9p5QO5aQj7o2nlAKA8LtabZeUAep+hILtl5QBe30QDe0HlAK4cW2c7ZeUAOT6+UZeB5QGB2Tx4W5XlABaOSOgHgeUAu/yH99tF5QEp7gy9Mz3lA+8vuycPjeUBTBaOSOth5QDC7Jw8L3nlACRueXinseUA/V1uxv+p5QCSX/5B+6XlAHqfoSC7peUDhehSuR+p5QBHHuriN6HlAI9v5fmr1eUAgY+5aQvV5QOauJeSD+nlA8tJNYhD7eUDpJjEIrPZ5QBsv3SQG+XlAveMUHcn5eUAmUwWjkv15QPVKWYY4+3lAFD/G3LUAekDmriXkg/55QP+ye/Kw+3lAETY8vVL8eUASg8DKofx5QBsv3SQG+XlA6SYxCKz2eUAJG55eKfR5QAWjkjoB9HlA7lpCPujyeUD/snvysPN5QA==",
            "dtype": "f8"
           },
           "increasing": {
            "fillcolor": "#32CD32",
            "line": {
             "color": "#28A028",
             "width": 0.6
            }
           },
           "low": {
            "bdata": "Ne84RUfaeUBCz2bV5+J5QDhnRGlv4nlAPZtVn6veeUBIv30dONt5QL8OnDOi3HlAQs9m1efSeUBpb/CFycx5QFTjpZvEz3lAPL1SliHPeUARx7q4jch5QBzr4jYaxXlAI9v5fmrFeUAVjErqBNl5QEVHcvkP23lAIR/0bFbJeUAoDwu1psl5QE3zjlN0x3lARIts5/vGeUCX/5B++855QCnLEMe61XlAIR/0bFbZeUAAb4EExd95QBQ/xty14HlALv8h/fbheUARx7q4jeB5QDMzMzMz3nlAIR/0bFbheUA4Z0Rpb+p5QOviNhrA8nlAGy/dJAbxeUAHX5hMFfB5QPcGX5hM73lABOeMKO3veUDy0k1iEPN5QPjCZKpg83lADJOpglH4eUAE54wo7fd5QAdfmEwV9HlAF7fRAN70eUAj2/l+avV5QC7/If328XlALUMc6+LteUApyxDHuu15QBQ/xty17HlAFD/G3LXseUAhH/RsVul5QA==",
            "dtype": "f8"
           },
           "name": "Price",
           "open": {
            "bdata": "FvvL7snceUD3Bl+YTOd5QC1DHOvi7XlARwN4CyTjeUD4wmSqYON5QP+ye/Kw43lAAiuHFtnjeUAPC7WmedR5QDXvOEVH0nlAIR/0bFbZeUAE54wo7dd5QCBj7lpCzXlALv8h/fbFeUCUh4Va09l5QAWjkjoB3HlABOeMKO3beUAydy0hH8p5QAyTqYJRzHlAFvvL7snMeUAK16NwPdB5QCnLEMe61XlAKA8LtabZeUD6fmq8dOd5QBsv3SQG4XlAAG+BBMXneUApyxDHuuV5QABvgQTF53lAGy/dJAbleUAAb4EExe95QAIrhxbZ83lALv8h/fb5eUAydy0hH/J5QP+ye/Kw83lAKA8LtabxeUAhH/RsVvl5QPjCZKpg83lA7Z48LNT6eUAc6+I2Gv15QBQ/xty1+HlAHOviNhr1eUAE54wo7ft5QPAWSFD89nlAJJf/kH71eUA2qz5XW+55QPLSTWIQ83lAI9v5fmrteUAE54wo7e95QA==",
            "dtype": "f8"
           },
           "type": "candlestick",
           "x": [
            "2023-10-04T09:30:00.000000000",
            "2023-10-04T09:35:00.000000000",
            "2023-10-04T09:40:00.000000000",
            "2023-10-04T09:45:00.000000000",
            "2023-10-04T09:50:00.000000000",
            "2023-10-04T09:55:00.000000000",
            "2023-10-04T10:00:00.000000000",
            "2023-10-04T10:05:00.000000000",
            "2023-10-04T10:10:00.000000000",
            "2023-10-04T10:15:00.000000000",
            "2023-10-04T10:20:00.000000000",
            "2023-10-04T10:25:00.000000000",
            "2023-10-04T10:30:00.000000000",
            "2023-10-04T10:35:00.000000000",
            "2023-10-04T10:40:00.000000000",
            "2023-10-04T10:45:00.000000000",
            "2023-10-04T10:50:00.000000000",
            "2023-10-04T10:55:00.000000000",
            "2023-10-04T11:00:00.000000000",
            "2023-10-04T11:05:00.000000000",
            "2023-10-04T11:10:00.000000000",
            "2023-10-04T11:15:00.000000000",
            "2023-10-04T11:20:00.000000000",
            "2023-10-04T11:25:00.000000000",
            "2023-10-04T11:30:00.000000000",
            "2023-10-04T11:35:00.000000000",
            "2023-10-04T11:40:00.000000000",
            "2023-10-04T11:45:00.000000000",
            "2023-10-04T11:50:00.000000000",
            "2023-10-04T11:55:00.000000000",
            "2023-10-04T12:00:00.000000000",
            "2023-10-04T12:05:00.000000000",
            "2023-10-04T12:10:00.000000000",
            "2023-10-04T12:15:00.000000000",
            "2023-10-04T12:20:00.000000000",
            "2023-10-04T12:25:00.000000000",
            "2023-10-04T12:30:00.000000000",
            "2023-10-04T12:35:00.000000000",
            "2023-10-04T12:40:00.000000000",
            "2023-10-04T12:45:00.000000000",
            "2023-10-04T12:50:00.000000000",
            "2023-10-04T12:55:00.000000000",
            "2023-10-04T13:00:00.000000000",
            "2023-10-04T13:05:00.000000000",
            "2023-10-04T13:10:00.000000000",
            "2023-10-04T13:15:00.000000000",
            "2023-10-04T13:20:00.000000000"
           ]
          }
         ],
         "name": "Frame 47"
        },
        {
         "data": [
          {
           "close": {
            "bdata": "oBov3STneUAwuycPC+55QEVHcvkP43lACRueXinkeUD/snvysON5QK62Yn/Z43lAEoPAyqHUeUAu/yH99tF5QBsv3SQG2XlABOeMKO3XeUAmUwWjks15QH6MuWsJxnlAK4cW2c7ZeUAFo5I6Adx5QAWjkjoB3HlANe84RUfKeUAMk6mCUcx5QBb7y+7JzHlADk+vlGXQeUAtQxzr4tV5QDJ3LSEf2nlA+MJkqmDneUAUP8bcteB5QABvgQTF53lAKcsQx7rleUAAb4EExed5QBlz1xLy5HlABaOSOgHweUACK4cW2fN5QDarPldb+nlALv8h/fbxeUD/snvysPN5QBgmUwWj8XlAIR/0bFb5eUD4wmSqYPN5QO5aQj7o+nlAFR3J5T/9eUAPC7Wmefh5QCBj7lpC9XlABaOSOgH8eUDwFkhQ/PZ5QIlBYOXQ9HlAGlHaG3zueUD5oGez6vJ5QBzr4jYa7XlABOeMKO3veUD1SlmGOOt5QB04Z0Rp5XlA",
            "dtype": "f8"
           },
           "decreasing": {
            "fillcolor": "#FF6347",
            "line": {
             "color": "#CC503A",
             "width": 0.6
            }
           },
           "high": {
            "bdata": "CtejcD3oeUAep+hILvF5QD9XW7G/7nlACtejcD3oeUAE54wo7ed5QD9XW7G/6nlALv8h/fbpeUA/V1uxv9p5QO5aQj7o2nlAKA8LtabZeUAep+hILtl5QBe30QDe0HlAK4cW2c7ZeUAOT6+UZeB5QGB2Tx4W5XlABaOSOgHgeUAu/yH99tF5QEp7gy9Mz3lA+8vuycPjeUBTBaOSOth5QDC7Jw8L3nlACRueXinseUA/V1uxv+p5QCSX/5B+6XlAHqfoSC7peUDhehSuR+p5QBHHuriN6HlAI9v5fmr1eUAgY+5aQvV5QOauJeSD+nlA8tJNYhD7eUDpJjEIrPZ5QBsv3SQG+XlAveMUHcn5eUAmUwWjkv15QPVKWYY4+3lAFD/G3LUAekDmriXkg/55QP+ye/Kw+3lAETY8vVL8eUASg8DKofx5QBsv3SQG+XlA6SYxCKz2eUAJG55eKfR5QAWjkjoB9HlA7lpCPujyeUD/snvysPN5QP+ye/Kw63lA",
            "dtype": "f8"
           },
           "increasing": {
            "fillcolor": "#32CD32",
            "line": {
             "color": "#28A028",
             "width": 0.6
            }
           },
           "low": {
            "bdata": "Ne84RUfaeUBCz2bV5+J5QDhnRGlv4nlAPZtVn6veeUBIv30dONt5QL8OnDOi3HlAQs9m1efSeUBpb/CFycx5QFTjpZvEz3lAPL1SliHPeUARx7q4jch5QBzr4jYaxXlAI9v5fmrFeUAVjErqBNl5QEVHcvkP23lAIR/0bFbJeUAoDwu1psl5QE3zjlN0x3lARIts5/vGeUCX/5B++855QCnLEMe61XlAIR/0bFbZeUAAb4EExd95QBQ/xty14HlALv8h/fbheUARx7q4jeB5QDMzMzMz3nlAIR/0bFbheUA4Z0Rpb+p5QOviNhrA8nlAGy/dJAbxeUAHX5hMFfB5QPcGX5hM73lABOeMKO3veUDy0k1iEPN5QPjCZKpg83lADJOpglH4eUAE54wo7fd5QAdfmEwV9HlAF7fRAN70eUAj2/l+avV5QC7/If328XlALUMc6+LteUApyxDHuu15QBQ/xty17HlAFD/G3LXseUAhH/RsVul5QBHHuriN5HlA",
            "dtype": "f8"
           },
           "name": "Price",
           "open": {
            "bdata": "FvvL7snceUD3Bl+YTOd5QC1DHOvi7XlARwN4CyTjeUD4wmSqYON5QP+ye/Kw43lAAiuHFtnjeUAPC7WmedR5QDXvOEVH0nlAIR/0bFbZeUAE54wo7dd5QCBj7lpCzXlALv8h/fbFeUCUh4Va09l5QAWjkjoB3HlABOeMKO3beUAydy0hH8p5QAyTqYJRzHlAFvvL7snMeUAK16NwPdB5QCnLEMe61XlAKA8LtabZeUD6fmq8dOd5QBsv3SQG4XlAAG+BBMXneUApyxDHuuV5QABvgQTF53lAGy/dJAbleUAAb4EExe95QAIrhxbZ83lALv8h/fb5eUAydy0hH/J5QP+ye/Kw83lAKA8LtabxeUAhH/RsVvl5QPjCZKpg83lA7Z48LNT6eUAc6+I2Gv15QBQ/xty1+HlAHOviNhr1eUAE54wo7ft5QPAWSFD89nlAJJf/kH71eUA2qz5XW+55QPLSTWIQ83lAI9v5fmrteUAE54wo7e95QPjCZKpg63lA",
            "dtype": "f8"
           },
           "type": "candlestick",
           "x": [
            "2023-10-04T09:30:00.000000000",
            "2023-10-04T09:35:00.000000000",
            "2023-10-04T09:40:00.000000000",
            "2023-10-04T09:45:00.000000000",
            "2023-10-04T09:50:00.000000000",
            "2023-10-04T09:55:00.000000000",
            "2023-10-04T10:00:00.000000000",
            "2023-10-04T10:05:00.000000000",
            "2023-10-04T10:10:00.000000000",
            "2023-10-04T10:15:00.000000000",
            "2023-10-04T10:20:00.000000000",
            "2023-10-04T10:25:00.000000000",
            "2023-10-04T10:30:00.000000000",
            "2023-10-04T10:35:00.000000000",
            "2023-10-04T10:40:00.000000000",
            "2023-10-04T10:45:00.000000000",
            "2023-10-04T10:50:00.000000000",
            "2023-10-04T10:55:00.000000000",
            "2023-10-04T11:00:00.000000000",
            "2023-10-04T11:05:00.000000000",
            "2023-10-04T11:10:00.000000000",
            "2023-10-04T11:15:00.000000000",
            "2023-10-04T11:20:00.000000000",
            "2023-10-04T11:25:00.000000000",
            "2023-10-04T11:30:00.000000000",
            "2023-10-04T11:35:00.000000000",
            "2023-10-04T11:40:00.000000000",
            "2023-10-04T11:45:00.000000000",
            "2023-10-04T11:50:00.000000000",
            "2023-10-04T11:55:00.000000000",
            "2023-10-04T12:00:00.000000000",
            "2023-10-04T12:05:00.000000000",
            "2023-10-04T12:10:00.000000000",
            "2023-10-04T12:15:00.000000000",
            "2023-10-04T12:20:00.000000000",
            "2023-10-04T12:25:00.000000000",
            "2023-10-04T12:30:00.000000000",
            "2023-10-04T12:35:00.000000000",
            "2023-10-04T12:40:00.000000000",
            "2023-10-04T12:45:00.000000000",
            "2023-10-04T12:50:00.000000000",
            "2023-10-04T12:55:00.000000000",
            "2023-10-04T13:00:00.000000000",
            "2023-10-04T13:05:00.000000000",
            "2023-10-04T13:10:00.000000000",
            "2023-10-04T13:15:00.000000000",
            "2023-10-04T13:20:00.000000000",
            "2023-10-04T13:25:00.000000000"
           ]
          }
         ],
         "name": "Frame 48"
        },
        {
         "data": [
          {
           "close": {
            "bdata": "oBov3STneUAwuycPC+55QEVHcvkP43lACRueXinkeUD/snvysON5QK62Yn/Z43lAEoPAyqHUeUAu/yH99tF5QBsv3SQG2XlABOeMKO3XeUAmUwWjks15QH6MuWsJxnlAK4cW2c7ZeUAFo5I6Adx5QAWjkjoB3HlANe84RUfKeUAMk6mCUcx5QBb7y+7JzHlADk+vlGXQeUAtQxzr4tV5QDJ3LSEf2nlA+MJkqmDneUAUP8bcteB5QABvgQTF53lAKcsQx7rleUAAb4EExed5QBlz1xLy5HlABaOSOgHweUACK4cW2fN5QDarPldb+nlALv8h/fbxeUD/snvysPN5QBgmUwWj8XlAIR/0bFb5eUD4wmSqYPN5QO5aQj7o+nlAFR3J5T/9eUAPC7Wmefh5QCBj7lpC9XlABaOSOgH8eUDwFkhQ/PZ5QIlBYOXQ9HlAGlHaG3zueUD5oGez6vJ5QBzr4jYa7XlABOeMKO3veUD1SlmGOOt5QB04Z0Rp5XlAklz+Q/rmeUA=",
            "dtype": "f8"
           },
           "decreasing": {
            "fillcolor": "#FF6347",
            "line": {
             "color": "#CC503A",
             "width": 0.6
            }
           },
           "high": {
            "bdata": "CtejcD3oeUAep+hILvF5QD9XW7G/7nlACtejcD3oeUAE54wo7ed5QD9XW7G/6nlALv8h/fbpeUA/V1uxv9p5QO5aQj7o2nlAKA8LtabZeUAep+hILtl5QBe30QDe0HlAK4cW2c7ZeUAOT6+UZeB5QGB2Tx4W5XlABaOSOgHgeUAu/yH99tF5QEp7gy9Mz3lA+8vuycPjeUBTBaOSOth5QDC7Jw8L3nlACRueXinseUA/V1uxv+p5QCSX/5B+6XlAHqfoSC7peUDhehSuR+p5QBHHuriN6HlAI9v5fmr1eUAgY+5aQvV5QOauJeSD+nlA8tJNYhD7eUDpJjEIrPZ5QBsv3SQG+XlAveMUHcn5eUAmUwWjkv15QPVKWYY4+3lAFD/G3LUAekDmriXkg/55QP+ye/Kw+3lAETY8vVL8eUASg8DKofx5QBsv3SQG+XlA6SYxCKz2eUAJG55eKfR5QAWjkjoB9HlA7lpCPujyeUD/snvysPN5QP+ye/Kw63lAFD/G3LXoeUA=",
            "dtype": "f8"
           },
           "increasing": {
            "fillcolor": "#32CD32",
            "line": {
             "color": "#28A028",
             "width": 0.6
            }
           },
           "low": {
            "bdata": "Ne84RUfaeUBCz2bV5+J5QDhnRGlv4nlAPZtVn6veeUBIv30dONt5QL8OnDOi3HlAQs9m1efSeUBpb/CFycx5QFTjpZvEz3lAPL1SliHPeUARx7q4jch5QBzr4jYaxXlAI9v5fmrFeUAVjErqBNl5QEVHcvkP23lAIR/0bFbJeUAoDwu1psl5QE3zjlN0x3lARIts5/vGeUCX/5B++855QCnLEMe61XlAIR/0bFbZeUAAb4EExd95QBQ/xty14HlALv8h/fbheUARx7q4jeB5QDMzMzMz3nlAIR/0bFbheUA4Z0Rpb+p5QOviNhrA8nlAGy/dJAbxeUAHX5hMFfB5QPcGX5hM73lABOeMKO3veUDy0k1iEPN5QPjCZKpg83lADJOpglH4eUAE54wo7fd5QAdfmEwV9HlAF7fRAN70eUAj2/l+avV5QC7/If328XlALUMc6+LteUApyxDHuu15QBQ/xty17HlAFD/G3LXseUAhH/RsVul5QBHHuriN5HlACtejcD3geUA=",
            "dtype": "f8"
           },
           "name": "Price",
           "open": {
            "bdata": "FvvL7snceUD3Bl+YTOd5QC1DHOvi7XlARwN4CyTjeUD4wmSqYON5QP+ye/Kw43lAAiuHFtnjeUAPC7WmedR5QDXvOEVH0nlAIR/0bFbZeUAE54wo7dd5QCBj7lpCzXlALv8h/fbFeUCUh4Va09l5QAWjkjoB3HlABOeMKO3beUAydy0hH8p5QAyTqYJRzHlAFvvL7snMeUAK16NwPdB5QCnLEMe61XlAKA8LtabZeUD6fmq8dOd5QBsv3SQG4XlAAG+BBMXneUApyxDHuuV5QABvgQTF53lAGy/dJAbleUAAb4EExe95QAIrhxbZ83lALv8h/fb5eUAydy0hH/J5QP+ye/Kw83lAKA8LtabxeUAhH/RsVvl5QPjCZKpg83lA7Z48LNT6eUAc6+I2Gv15QBQ/xty1+HlAHOviNhr1eUAE54wo7ft5QPAWSFD89nlAJJf/kH71eUA2qz5XW+55QPLSTWIQ83lAI9v5fmrteUAE54wo7e95QPjCZKpg63lAI9v5fmrleUA=",
            "dtype": "f8"
           },
           "type": "candlestick",
           "x": [
            "2023-10-04T09:30:00.000000000",
            "2023-10-04T09:35:00.000000000",
            "2023-10-04T09:40:00.000000000",
            "2023-10-04T09:45:00.000000000",
            "2023-10-04T09:50:00.000000000",
            "2023-10-04T09:55:00.000000000",
            "2023-10-04T10:00:00.000000000",
            "2023-10-04T10:05:00.000000000",
            "2023-10-04T10:10:00.000000000",
            "2023-10-04T10:15:00.000000000",
            "2023-10-04T10:20:00.000000000",
            "2023-10-04T10:25:00.000000000",
            "2023-10-04T10:30:00.000000000",
            "2023-10-04T10:35:00.000000000",
            "2023-10-04T10:40:00.000000000",
            "2023-10-04T10:45:00.000000000",
            "2023-10-04T10:50:00.000000000",
            "2023-10-04T10:55:00.000000000",
            "2023-10-04T11:00:00.000000000",
            "2023-10-04T11:05:00.000000000",
            "2023-10-04T11:10:00.000000000",
            "2023-10-04T11:15:00.000000000",
            "2023-10-04T11:20:00.000000000",
            "2023-10-04T11:25:00.000000000",
            "2023-10-04T11:30:00.000000000",
            "2023-10-04T11:35:00.000000000",
            "2023-10-04T11:40:00.000000000",
            "2023-10-04T11:45:00.000000000",
            "2023-10-04T11:50:00.000000000",
            "2023-10-04T11:55:00.000000000",
            "2023-10-04T12:00:00.000000000",
            "2023-10-04T12:05:00.000000000",
            "2023-10-04T12:10:00.000000000",
            "2023-10-04T12:15:00.000000000",
            "2023-10-04T12:20:00.000000000",
            "2023-10-04T12:25:00.000000000",
            "2023-10-04T12:30:00.000000000",
            "2023-10-04T12:35:00.000000000",
            "2023-10-04T12:40:00.000000000",
            "2023-10-04T12:45:00.000000000",
            "2023-10-04T12:50:00.000000000",
            "2023-10-04T12:55:00.000000000",
            "2023-10-04T13:00:00.000000000",
            "2023-10-04T13:05:00.000000000",
            "2023-10-04T13:10:00.000000000",
            "2023-10-04T13:15:00.000000000",
            "2023-10-04T13:20:00.000000000",
            "2023-10-04T13:25:00.000000000",
            "2023-10-04T13:30:00.000000000"
           ]
          }
         ],
         "name": "Frame 49"
        },
        {
         "data": [
          {
           "close": {
            "bdata": "oBov3STneUAwuycPC+55QEVHcvkP43lACRueXinkeUD/snvysON5QK62Yn/Z43lAEoPAyqHUeUAu/yH99tF5QBsv3SQG2XlABOeMKO3XeUAmUwWjks15QH6MuWsJxnlAK4cW2c7ZeUAFo5I6Adx5QAWjkjoB3HlANe84RUfKeUAMk6mCUcx5QBb7y+7JzHlADk+vlGXQeUAtQxzr4tV5QDJ3LSEf2nlA+MJkqmDneUAUP8bcteB5QABvgQTF53lAKcsQx7rleUAAb4EExed5QBlz1xLy5HlABaOSOgHweUACK4cW2fN5QDarPldb+nlALv8h/fbxeUD/snvysPN5QBgmUwWj8XlAIR/0bFb5eUD4wmSqYPN5QO5aQj7o+nlAFR3J5T/9eUAPC7Wmefh5QCBj7lpC9XlABaOSOgH8eUDwFkhQ/PZ5QIlBYOXQ9HlAGlHaG3zueUD5oGez6vJ5QBzr4jYa7XlABOeMKO3veUD1SlmGOOt5QB04Z0Rp5XlAklz+Q/rmeUBEi2zn++Z5QA==",
            "dtype": "f8"
           },
           "decreasing": {
            "fillcolor": "#FF6347",
            "line": {
             "color": "#CC503A",
             "width": 0.6
            }
           },
           "high": {
            "bdata": "CtejcD3oeUAep+hILvF5QD9XW7G/7nlACtejcD3oeUAE54wo7ed5QD9XW7G/6nlALv8h/fbpeUA/V1uxv9p5QO5aQj7o2nlAKA8LtabZeUAep+hILtl5QBe30QDe0HlAK4cW2c7ZeUAOT6+UZeB5QGB2Tx4W5XlABaOSOgHgeUAu/yH99tF5QEp7gy9Mz3lA+8vuycPjeUBTBaOSOth5QDC7Jw8L3nlACRueXinseUA/V1uxv+p5QCSX/5B+6XlAHqfoSC7peUDhehSuR+p5QBHHuriN6HlAI9v5fmr1eUAgY+5aQvV5QOauJeSD+nlA8tJNYhD7eUDpJjEIrPZ5QBsv3SQG+XlAveMUHcn5eUAmUwWjkv15QPVKWYY4+3lAFD/G3LUAekDmriXkg/55QP+ye/Kw+3lAETY8vVL8eUASg8DKofx5QBsv3SQG+XlA6SYxCKz2eUAJG55eKfR5QAWjkjoB9HlA7lpCPujyeUD/snvysPN5QP+ye/Kw63lAFD/G3LXoeUAOT6+UZeh5QA==",
            "dtype": "f8"
           },
           "increasing": {
            "fillcolor": "#32CD32",
            "line": {
             "color": "#28A028",
             "width": 0.6
            }
           },
           "low": {
            "bdata": "Ne84RUfaeUBCz2bV5+J5QDhnRGlv4nlAPZtVn6veeUBIv30dONt5QL8OnDOi3HlAQs9m1efSeUBpb/CFycx5QFTjpZvEz3lAPL1SliHPeUARx7q4jch5QBzr4jYaxXlAI9v5fmrFeUAVjErqBNl5QEVHcvkP23lAIR/0bFbJeUAoDwu1psl5QE3zjlN0x3lARIts5/vGeUCX/5B++855QCnLEMe61XlAIR/0bFbZeUAAb4EExd95QBQ/xty14HlALv8h/fbheUARx7q4jeB5QDMzMzMz3nlAIR/0bFbheUA4Z0Rpb+p5QOviNhrA8nlAGy/dJAbxeUAHX5hMFfB5QPcGX5hM73lABOeMKO3veUDy0k1iEPN5QPjCZKpg83lADJOpglH4eUAE54wo7fd5QAdfmEwV9HlAF7fRAN70eUAj2/l+avV5QC7/If328XlALUMc6+LteUApyxDHuu15QBQ/xty17HlAFD/G3LXseUAhH/RsVul5QBHHuriN5HlACtejcD3geUACK4cW2eN5QA==",
            "dtype": "f8"
           },
           "name": "Price",
           "open": {
            "bdata": "FvvL7snceUD3Bl+YTOd5QC1DHOvi7XlARwN4CyTjeUD4wmSqYON5QP+ye/Kw43lAAiuHFtnjeUAPC7WmedR5QDXvOEVH0nlAIR/0bFbZeUAE54wo7dd5QCBj7lpCzXlALv8h/fbFeUCUh4Va09l5QAWjkjoB3HlABOeMKO3beUAydy0hH8p5QAyTqYJRzHlAFvvL7snMeUAK16NwPdB5QCnLEMe61XlAKA8LtabZeUD6fmq8dOd5QBsv3SQG4XlAAG+BBMXneUApyxDHuuV5QABvgQTF53lAGy/dJAbleUAAb4EExe95QAIrhxbZ83lALv8h/fb5eUAydy0hH/J5QP+ye/Kw83lAKA8LtabxeUAhH/RsVvl5QPjCZKpg83lA7Z48LNT6eUAc6+I2Gv15QBQ/xty1+HlAHOviNhr1eUAE54wo7ft5QPAWSFD89nlAJJf/kH71eUA2qz5XW+55QPLSTWIQ83lAI9v5fmrteUAE54wo7e95QPjCZKpg63lAI9v5fmrleUBEi2zn++Z5QA==",
            "dtype": "f8"
           },
           "type": "candlestick",
           "x": [
            "2023-10-04T09:30:00.000000000",
            "2023-10-04T09:35:00.000000000",
            "2023-10-04T09:40:00.000000000",
            "2023-10-04T09:45:00.000000000",
            "2023-10-04T09:50:00.000000000",
            "2023-10-04T09:55:00.000000000",
            "2023-10-04T10:00:00.000000000",
            "2023-10-04T10:05:00.000000000",
            "2023-10-04T10:10:00.000000000",
            "2023-10-04T10:15:00.000000000",
            "2023-10-04T10:20:00.000000000",
            "2023-10-04T10:25:00.000000000",
            "2023-10-04T10:30:00.000000000",
            "2023-10-04T10:35:00.000000000",
            "2023-10-04T10:40:00.000000000",
            "2023-10-04T10:45:00.000000000",
            "2023-10-04T10:50:00.000000000",
            "2023-10-04T10:55:00.000000000",
            "2023-10-04T11:00:00.000000000",
            "2023-10-04T11:05:00.000000000",
            "2023-10-04T11:10:00.000000000",
            "2023-10-04T11:15:00.000000000",
            "2023-10-04T11:20:00.000000000",
            "2023-10-04T11:25:00.000000000",
            "2023-10-04T11:30:00.000000000",
            "2023-10-04T11:35:00.000000000",
            "2023-10-04T11:40:00.000000000",
            "2023-10-04T11:45:00.000000000",
            "2023-10-04T11:50:00.000000000",
            "2023-10-04T11:55:00.000000000",
            "2023-10-04T12:00:00.000000000",
            "2023-10-04T12:05:00.000000000",
            "2023-10-04T12:10:00.000000000",
            "2023-10-04T12:15:00.000000000",
            "2023-10-04T12:20:00.000000000",
            "2023-10-04T12:25:00.000000000",
            "2023-10-04T12:30:00.000000000",
            "2023-10-04T12:35:00.000000000",
            "2023-10-04T12:40:00.000000000",
            "2023-10-04T12:45:00.000000000",
            "2023-10-04T12:50:00.000000000",
            "2023-10-04T12:55:00.000000000",
            "2023-10-04T13:00:00.000000000",
            "2023-10-04T13:05:00.000000000",
            "2023-10-04T13:10:00.000000000",
            "2023-10-04T13:15:00.000000000",
            "2023-10-04T13:20:00.000000000",
            "2023-10-04T13:25:00.000000000",
            "2023-10-04T13:30:00.000000000",
            "2023-10-04T13:35:00.000000000"
           ]
          }
         ],
         "name": "Frame 50"
        },
        {
         "data": [
          {
           "close": {
            "bdata": "oBov3STneUAwuycPC+55QEVHcvkP43lACRueXinkeUD/snvysON5QK62Yn/Z43lAEoPAyqHUeUAu/yH99tF5QBsv3SQG2XlABOeMKO3XeUAmUwWjks15QH6MuWsJxnlAK4cW2c7ZeUAFo5I6Adx5QAWjkjoB3HlANe84RUfKeUAMk6mCUcx5QBb7y+7JzHlADk+vlGXQeUAtQxzr4tV5QDJ3LSEf2nlA+MJkqmDneUAUP8bcteB5QABvgQTF53lAKcsQx7rleUAAb4EExed5QBlz1xLy5HlABaOSOgHweUACK4cW2fN5QDarPldb+nlALv8h/fbxeUD/snvysPN5QBgmUwWj8XlAIR/0bFb5eUD4wmSqYPN5QO5aQj7o+nlAFR3J5T/9eUAPC7Wmefh5QCBj7lpC9XlABaOSOgH8eUDwFkhQ/PZ5QIlBYOXQ9HlAGlHaG3zueUD5oGez6vJ5QBzr4jYa7XlABOeMKO3veUD1SlmGOOt5QB04Z0Rp5XlAklz+Q/rmeUBEi2zn++Z5QPp+arx053lA",
            "dtype": "f8"
           },
           "decreasing": {
            "fillcolor": "#FF6347",
            "line": {
             "color": "#CC503A",
             "width": 0.6
            }
           },
           "high": {
            "bdata": "CtejcD3oeUAep+hILvF5QD9XW7G/7nlACtejcD3oeUAE54wo7ed5QD9XW7G/6nlALv8h/fbpeUA/V1uxv9p5QO5aQj7o2nlAKA8LtabZeUAep+hILtl5QBe30QDe0HlAK4cW2c7ZeUAOT6+UZeB5QGB2Tx4W5XlABaOSOgHgeUAu/yH99tF5QEp7gy9Mz3lA+8vuycPjeUBTBaOSOth5QDC7Jw8L3nlACRueXinseUA/V1uxv+p5QCSX/5B+6XlAHqfoSC7peUDhehSuR+p5QBHHuriN6HlAI9v5fmr1eUAgY+5aQvV5QOauJeSD+nlA8tJNYhD7eUDpJjEIrPZ5QBsv3SQG+XlAveMUHcn5eUAmUwWjkv15QPVKWYY4+3lAFD/G3LUAekDmriXkg/55QP+ye/Kw+3lAETY8vVL8eUASg8DKofx5QBsv3SQG+XlA6SYxCKz2eUAJG55eKfR5QAWjkjoB9HlA7lpCPujyeUD/snvysPN5QP+ye/Kw63lAFD/G3LXoeUAOT6+UZeh5QP32deCc53lA",
            "dtype": "f8"
           },
           "increasing": {
            "fillcolor": "#32CD32",
            "line": {
             "color": "#28A028",
             "width": 0.6
            }
           },
           "low": {
            "bdata": "Ne84RUfaeUBCz2bV5+J5QDhnRGlv4nlAPZtVn6veeUBIv30dONt5QL8OnDOi3HlAQs9m1efSeUBpb/CFycx5QFTjpZvEz3lAPL1SliHPeUARx7q4jch5QBzr4jYaxXlAI9v5fmrFeUAVjErqBNl5QEVHcvkP23lAIR/0bFbJeUAoDwu1psl5QE3zjlN0x3lARIts5/vGeUCX/5B++855QCnLEMe61XlAIR/0bFbZeUAAb4EExd95QBQ/xty14HlALv8h/fbheUARx7q4jeB5QDMzMzMz3nlAIR/0bFbheUA4Z0Rpb+p5QOviNhrA8nlAGy/dJAbxeUAHX5hMFfB5QPcGX5hM73lABOeMKO3veUDy0k1iEPN5QPjCZKpg83lADJOpglH4eUAE54wo7fd5QAdfmEwV9HlAF7fRAN70eUAj2/l+avV5QC7/If328XlALUMc6+LteUApyxDHuu15QBQ/xty17HlAFD/G3LXseUAhH/RsVul5QBHHuriN5HlACtejcD3geUACK4cW2eN5QBsv3SQG4XlA",
            "dtype": "f8"
           },
           "name": "Price",
           "open": {
            "bdata": "FvvL7snceUD3Bl+YTOd5QC1DHOvi7XlARwN4CyTjeUD4wmSqYON5QP+ye/Kw43lAAiuHFtnjeUAPC7WmedR5QDXvOEVH0nlAIR/0bFbZeUAE54wo7dd5QCBj7lpCzXlALv8h/fbFeUCUh4Va09l5QAWjkjoB3HlABOeMKO3beUAydy0hH8p5QAyTqYJRzHlAFvvL7snMeUAK16NwPdB5QCnLEMe61XlAKA8LtabZeUD6fmq8dOd5QBsv3SQG4XlAAG+BBMXneUApyxDHuuV5QABvgQTF53lAGy/dJAbleUAAb4EExe95QAIrhxbZ83lALv8h/fb5eUAydy0hH/J5QP+ye/Kw83lAKA8LtabxeUAhH/RsVvl5QPjCZKpg83lA7Z48LNT6eUAc6+I2Gv15QBQ/xty1+HlAHOviNhr1eUAE54wo7ft5QPAWSFD89nlAJJf/kH71eUA2qz5XW+55QPLSTWIQ83lAI9v5fmrteUAE54wo7e95QPjCZKpg63lAI9v5fmrleUBEi2zn++Z5QPOOU3Qk53lA",
            "dtype": "f8"
           },
           "type": "candlestick",
           "x": [
            "2023-10-04T09:30:00.000000000",
            "2023-10-04T09:35:00.000000000",
            "2023-10-04T09:40:00.000000000",
            "2023-10-04T09:45:00.000000000",
            "2023-10-04T09:50:00.000000000",
            "2023-10-04T09:55:00.000000000",
            "2023-10-04T10:00:00.000000000",
            "2023-10-04T10:05:00.000000000",
            "2023-10-04T10:10:00.000000000",
            "2023-10-04T10:15:00.000000000",
            "2023-10-04T10:20:00.000000000",
            "2023-10-04T10:25:00.000000000",
            "2023-10-04T10:30:00.000000000",
            "2023-10-04T10:35:00.000000000",
            "2023-10-04T10:40:00.000000000",
            "2023-10-04T10:45:00.000000000",
            "2023-10-04T10:50:00.000000000",
            "2023-10-04T10:55:00.000000000",
            "2023-10-04T11:00:00.000000000",
            "2023-10-04T11:05:00.000000000",
            "2023-10-04T11:10:00.000000000",
            "2023-10-04T11:15:00.000000000",
            "2023-10-04T11:20:00.000000000",
            "2023-10-04T11:25:00.000000000",
            "2023-10-04T11:30:00.000000000",
            "2023-10-04T11:35:00.000000000",
            "2023-10-04T11:40:00.000000000",
            "2023-10-04T11:45:00.000000000",
            "2023-10-04T11:50:00.000000000",
            "2023-10-04T11:55:00.000000000",
            "2023-10-04T12:00:00.000000000",
            "2023-10-04T12:05:00.000000000",
            "2023-10-04T12:10:00.000000000",
            "2023-10-04T12:15:00.000000000",
            "2023-10-04T12:20:00.000000000",
            "2023-10-04T12:25:00.000000000",
            "2023-10-04T12:30:00.000000000",
            "2023-10-04T12:35:00.000000000",
            "2023-10-04T12:40:00.000000000",
            "2023-10-04T12:45:00.000000000",
            "2023-10-04T12:50:00.000000000",
            "2023-10-04T12:55:00.000000000",
            "2023-10-04T13:00:00.000000000",
            "2023-10-04T13:05:00.000000000",
            "2023-10-04T13:10:00.000000000",
            "2023-10-04T13:15:00.000000000",
            "2023-10-04T13:20:00.000000000",
            "2023-10-04T13:25:00.000000000",
            "2023-10-04T13:30:00.000000000",
            "2023-10-04T13:35:00.000000000",
            "2023-10-04T13:40:00.000000000"
           ]
          }
         ],
         "name": "Frame 51"
        },
        {
         "data": [
          {
           "close": {
            "bdata": "oBov3STneUAwuycPC+55QEVHcvkP43lACRueXinkeUD/snvysON5QK62Yn/Z43lAEoPAyqHUeUAu/yH99tF5QBsv3SQG2XlABOeMKO3XeUAmUwWjks15QH6MuWsJxnlAK4cW2c7ZeUAFo5I6Adx5QAWjkjoB3HlANe84RUfKeUAMk6mCUcx5QBb7y+7JzHlADk+vlGXQeUAtQxzr4tV5QDJ3LSEf2nlA+MJkqmDneUAUP8bcteB5QABvgQTF53lAKcsQx7rleUAAb4EExed5QBlz1xLy5HlABaOSOgHweUACK4cW2fN5QDarPldb+nlALv8h/fbxeUD/snvysPN5QBgmUwWj8XlAIR/0bFb5eUD4wmSqYPN5QO5aQj7o+nlAFR3J5T/9eUAPC7Wmefh5QCBj7lpC9XlABaOSOgH8eUDwFkhQ/PZ5QIlBYOXQ9HlAGlHaG3zueUD5oGez6vJ5QBzr4jYa7XlABOeMKO3veUD1SlmGOOt5QB04Z0Rp5XlAklz+Q/rmeUBEi2zn++Z5QPp+arx053lABOeMKO3neUA=",
            "dtype": "f8"
           },
           "decreasing": {
            "fillcolor": "#FF6347",
            "line": {
             "color": "#CC503A",
             "width": 0.6
            }
           },
           "high": {
            "bdata": "CtejcD3oeUAep+hILvF5QD9XW7G/7nlACtejcD3oeUAE54wo7ed5QD9XW7G/6nlALv8h/fbpeUA/V1uxv9p5QO5aQj7o2nlAKA8LtabZeUAep+hILtl5QBe30QDe0HlAK4cW2c7ZeUAOT6+UZeB5QGB2Tx4W5XlABaOSOgHgeUAu/yH99tF5QEp7gy9Mz3lA+8vuycPjeUBTBaOSOth5QDC7Jw8L3nlACRueXinseUA/V1uxv+p5QCSX/5B+6XlAHqfoSC7peUDhehSuR+p5QBHHuriN6HlAI9v5fmr1eUAgY+5aQvV5QOauJeSD+nlA8tJNYhD7eUDpJjEIrPZ5QBsv3SQG+XlAveMUHcn5eUAmUwWjkv15QPVKWYY4+3lAFD/G3LUAekDmriXkg/55QP+ye/Kw+3lAETY8vVL8eUASg8DKofx5QBsv3SQG+XlA6SYxCKz2eUAJG55eKfR5QAWjkjoB9HlA7lpCPujyeUD/snvysPN5QP+ye/Kw63lAFD/G3LXoeUAOT6+UZeh5QP32deCc53lAIR/0bFbpeUA=",
            "dtype": "f8"
           },
           "increasing": {
            "fillcolor": "#32CD32",
            "line": {
             "color": "#28A028",
             "width": 0.6
            }
           },
           "low": {
            "bdata": "Ne84RUfaeUBCz2bV5+J5QDhnRGlv4nlAPZtVn6veeUBIv30dONt5QL8OnDOi3HlAQs9m1efSeUBpb/CFycx5QFTjpZvEz3lAPL1SliHPeUARx7q4jch5QBzr4jYaxXlAI9v5fmrFeUAVjErqBNl5QEVHcvkP23lAIR/0bFbJeUAoDwu1psl5QE3zjlN0x3lARIts5/vGeUCX/5B++855QCnLEMe61XlAIR/0bFbZeUAAb4EExd95QBQ/xty14HlALv8h/fbheUARx7q4jeB5QDMzMzMz3nlAIR/0bFbheUA4Z0Rpb+p5QOviNhrA8nlAGy/dJAbxeUAHX5hMFfB5QPcGX5hM73lABOeMKO3veUDy0k1iEPN5QPjCZKpg83lADJOpglH4eUAE54wo7fd5QAdfmEwV9HlAF7fRAN70eUAj2/l+avV5QC7/If328XlALUMc6+LteUApyxDHuu15QBQ/xty17HlAFD/G3LXseUAhH/RsVul5QBHHuriN5HlACtejcD3geUACK4cW2eN5QBsv3SQG4XlAIGPuWkLleUA=",
            "dtype": "f8"
           },
           "name": "Price",
           "open": {
            "bdata": "FvvL7snceUD3Bl+YTOd5QC1DHOvi7XlARwN4CyTjeUD4wmSqYON5QP+ye/Kw43lAAiuHFtnjeUAPC7WmedR5QDXvOEVH0nlAIR/0bFbZeUAE54wo7dd5QCBj7lpCzXlALv8h/fbFeUCUh4Va09l5QAWjkjoB3HlABOeMKO3beUAydy0hH8p5QAyTqYJRzHlAFvvL7snMeUAK16NwPdB5QCnLEMe61XlAKA8LtabZeUD6fmq8dOd5QBsv3SQG4XlAAG+BBMXneUApyxDHuuV5QABvgQTF53lAGy/dJAbleUAAb4EExe95QAIrhxbZ83lALv8h/fb5eUAydy0hH/J5QP+ye/Kw83lAKA8LtabxeUAhH/RsVvl5QPjCZKpg83lA7Z48LNT6eUAc6+I2Gv15QBQ/xty1+HlAHOviNhr1eUAE54wo7ft5QPAWSFD89nlAJJf/kH71eUA2qz5XW+55QPLSTWIQ83lAI9v5fmrteUAE54wo7e95QPjCZKpg63lAI9v5fmrleUBEi2zn++Z5QPOOU3Qk53lAVcGopE7neUA=",
            "dtype": "f8"
           },
           "type": "candlestick",
           "x": [
            "2023-10-04T09:30:00.000000000",
            "2023-10-04T09:35:00.000000000",
            "2023-10-04T09:40:00.000000000",
            "2023-10-04T09:45:00.000000000",
            "2023-10-04T09:50:00.000000000",
            "2023-10-04T09:55:00.000000000",
            "2023-10-04T10:00:00.000000000",
            "2023-10-04T10:05:00.000000000",
            "2023-10-04T10:10:00.000000000",
            "2023-10-04T10:15:00.000000000",
            "2023-10-04T10:20:00.000000000",
            "2023-10-04T10:25:00.000000000",
            "2023-10-04T10:30:00.000000000",
            "2023-10-04T10:35:00.000000000",
            "2023-10-04T10:40:00.000000000",
            "2023-10-04T10:45:00.000000000",
            "2023-10-04T10:50:00.000000000",
            "2023-10-04T10:55:00.000000000",
            "2023-10-04T11:00:00.000000000",
            "2023-10-04T11:05:00.000000000",
            "2023-10-04T11:10:00.000000000",
            "2023-10-04T11:15:00.000000000",
            "2023-10-04T11:20:00.000000000",
            "2023-10-04T11:25:00.000000000",
            "2023-10-04T11:30:00.000000000",
            "2023-10-04T11:35:00.000000000",
            "2023-10-04T11:40:00.000000000",
            "2023-10-04T11:45:00.000000000",
            "2023-10-04T11:50:00.000000000",
            "2023-10-04T11:55:00.000000000",
            "2023-10-04T12:00:00.000000000",
            "2023-10-04T12:05:00.000000000",
            "2023-10-04T12:10:00.000000000",
            "2023-10-04T12:15:00.000000000",
            "2023-10-04T12:20:00.000000000",
            "2023-10-04T12:25:00.000000000",
            "2023-10-04T12:30:00.000000000",
            "2023-10-04T12:35:00.000000000",
            "2023-10-04T12:40:00.000000000",
            "2023-10-04T12:45:00.000000000",
            "2023-10-04T12:50:00.000000000",
            "2023-10-04T12:55:00.000000000",
            "2023-10-04T13:00:00.000000000",
            "2023-10-04T13:05:00.000000000",
            "2023-10-04T13:10:00.000000000",
            "2023-10-04T13:15:00.000000000",
            "2023-10-04T13:20:00.000000000",
            "2023-10-04T13:25:00.000000000",
            "2023-10-04T13:30:00.000000000",
            "2023-10-04T13:35:00.000000000",
            "2023-10-04T13:40:00.000000000",
            "2023-10-04T13:45:00.000000000"
           ]
          }
         ],
         "name": "Frame 52"
        },
        {
         "data": [
          {
           "close": {
            "bdata": "oBov3STneUAwuycPC+55QEVHcvkP43lACRueXinkeUD/snvysON5QK62Yn/Z43lAEoPAyqHUeUAu/yH99tF5QBsv3SQG2XlABOeMKO3XeUAmUwWjks15QH6MuWsJxnlAK4cW2c7ZeUAFo5I6Adx5QAWjkjoB3HlANe84RUfKeUAMk6mCUcx5QBb7y+7JzHlADk+vlGXQeUAtQxzr4tV5QDJ3LSEf2nlA+MJkqmDneUAUP8bcteB5QABvgQTF53lAKcsQx7rleUAAb4EExed5QBlz1xLy5HlABaOSOgHweUACK4cW2fN5QDarPldb+nlALv8h/fbxeUD/snvysPN5QBgmUwWj8XlAIR/0bFb5eUD4wmSqYPN5QO5aQj7o+nlAFR3J5T/9eUAPC7Wmefh5QCBj7lpC9XlABaOSOgH8eUDwFkhQ/PZ5QIlBYOXQ9HlAGlHaG3zueUD5oGez6vJ5QBzr4jYa7XlABOeMKO3veUD1SlmGOOt5QB04Z0Rp5XlAklz+Q/rmeUBEi2zn++Z5QPp+arx053lABOeMKO3neUBRa5p3nN95QA==",
            "dtype": "f8"
           },
           "decreasing": {
            "fillcolor": "#FF6347",
            "line": {
             "color": "#CC503A",
             "width": 0.6
            }
           },
           "high": {
            "bdata": "CtejcD3oeUAep+hILvF5QD9XW7G/7nlACtejcD3oeUAE54wo7ed5QD9XW7G/6nlALv8h/fbpeUA/V1uxv9p5QO5aQj7o2nlAKA8LtabZeUAep+hILtl5QBe30QDe0HlAK4cW2c7ZeUAOT6+UZeB5QGB2Tx4W5XlABaOSOgHgeUAu/yH99tF5QEp7gy9Mz3lA+8vuycPjeUBTBaOSOth5QDC7Jw8L3nlACRueXinseUA/V1uxv+p5QCSX/5B+6XlAHqfoSC7peUDhehSuR+p5QBHHuriN6HlAI9v5fmr1eUAgY+5aQvV5QOauJeSD+nlA8tJNYhD7eUDpJjEIrPZ5QBsv3SQG+XlAveMUHcn5eUAmUwWjkv15QPVKWYY4+3lAFD/G3LUAekDmriXkg/55QP+ye/Kw+3lAETY8vVL8eUASg8DKofx5QBsv3SQG+XlA6SYxCKz2eUAJG55eKfR5QAWjkjoB9HlA7lpCPujyeUD/snvysPN5QP+ye/Kw63lAFD/G3LXoeUAOT6+UZeh5QP32deCc53lAIR/0bFbpeUAOT6+UZeh5QA==",
            "dtype": "f8"
           },
           "increasing": {
            "fillcolor": "#32CD32",
            "line": {
             "color": "#28A028",
             "width": 0.6
            }
           },
           "low": {
            "bdata": "Ne84RUfaeUBCz2bV5+J5QDhnRGlv4nlAPZtVn6veeUBIv30dONt5QL8OnDOi3HlAQs9m1efSeUBpb/CFycx5QFTjpZvEz3lAPL1SliHPeUARx7q4jch5QBzr4jYaxXlAI9v5fmrFeUAVjErqBNl5QEVHcvkP23lAIR/0bFbJeUAoDwu1psl5QE3zjlN0x3lARIts5/vGeUCX/5B++855QCnLEMe61XlAIR/0bFbZeUAAb4EExd95QBQ/xty14HlALv8h/fbheUARx7q4jeB5QDMzMzMz3nlAIR/0bFbheUA4Z0Rpb+p5QOviNhrA8nlAGy/dJAbxeUAHX5hMFfB5QPcGX5hM73lABOeMKO3veUDy0k1iEPN5QPjCZKpg83lADJOpglH4eUAE54wo7fd5QAdfmEwV9HlAF7fRAN70eUAj2/l+avV5QC7/If328XlALUMc6+LteUApyxDHuu15QBQ/xty17HlAFD/G3LXseUAhH/RsVul5QBHHuriN5HlACtejcD3geUACK4cW2eN5QBsv3SQG4XlAIGPuWkLleUAoDwu1pt15QA==",
            "dtype": "f8"
           },
           "name": "Price",
           "open": {
            "bdata": "FvvL7snceUD3Bl+YTOd5QC1DHOvi7XlARwN4CyTjeUD4wmSqYON5QP+ye/Kw43lAAiuHFtnjeUAPC7WmedR5QDXvOEVH0nlAIR/0bFbZeUAE54wo7dd5QCBj7lpCzXlALv8h/fbFeUCUh4Va09l5QAWjkjoB3HlABOeMKO3beUAydy0hH8p5QAyTqYJRzHlAFvvL7snMeUAK16NwPdB5QCnLEMe61XlAKA8LtabZeUD6fmq8dOd5QBsv3SQG4XlAAG+BBMXneUApyxDHuuV5QABvgQTF53lAGy/dJAbleUAAb4EExe95QAIrhxbZ83lALv8h/fb5eUAydy0hH/J5QP+ye/Kw83lAKA8LtabxeUAhH/RsVvl5QPjCZKpg83lA7Z48LNT6eUAc6+I2Gv15QBQ/xty1+HlAHOviNhr1eUAE54wo7ft5QPAWSFD89nlAJJf/kH71eUA2qz5XW+55QPLSTWIQ83lAI9v5fmrteUAE54wo7e95QPjCZKpg63lAI9v5fmrleUBEi2zn++Z5QPOOU3Qk53lAVcGopE7neUAE54wo7ed5QA==",
            "dtype": "f8"
           },
           "type": "candlestick",
           "x": [
            "2023-10-04T09:30:00.000000000",
            "2023-10-04T09:35:00.000000000",
            "2023-10-04T09:40:00.000000000",
            "2023-10-04T09:45:00.000000000",
            "2023-10-04T09:50:00.000000000",
            "2023-10-04T09:55:00.000000000",
            "2023-10-04T10:00:00.000000000",
            "2023-10-04T10:05:00.000000000",
            "2023-10-04T10:10:00.000000000",
            "2023-10-04T10:15:00.000000000",
            "2023-10-04T10:20:00.000000000",
            "2023-10-04T10:25:00.000000000",
            "2023-10-04T10:30:00.000000000",
            "2023-10-04T10:35:00.000000000",
            "2023-10-04T10:40:00.000000000",
            "2023-10-04T10:45:00.000000000",
            "2023-10-04T10:50:00.000000000",
            "2023-10-04T10:55:00.000000000",
            "2023-10-04T11:00:00.000000000",
            "2023-10-04T11:05:00.000000000",
            "2023-10-04T11:10:00.000000000",
            "2023-10-04T11:15:00.000000000",
            "2023-10-04T11:20:00.000000000",
            "2023-10-04T11:25:00.000000000",
            "2023-10-04T11:30:00.000000000",
            "2023-10-04T11:35:00.000000000",
            "2023-10-04T11:40:00.000000000",
            "2023-10-04T11:45:00.000000000",
            "2023-10-04T11:50:00.000000000",
            "2023-10-04T11:55:00.000000000",
            "2023-10-04T12:00:00.000000000",
            "2023-10-04T12:05:00.000000000",
            "2023-10-04T12:10:00.000000000",
            "2023-10-04T12:15:00.000000000",
            "2023-10-04T12:20:00.000000000",
            "2023-10-04T12:25:00.000000000",
            "2023-10-04T12:30:00.000000000",
            "2023-10-04T12:35:00.000000000",
            "2023-10-04T12:40:00.000000000",
            "2023-10-04T12:45:00.000000000",
            "2023-10-04T12:50:00.000000000",
            "2023-10-04T12:55:00.000000000",
            "2023-10-04T13:00:00.000000000",
            "2023-10-04T13:05:00.000000000",
            "2023-10-04T13:10:00.000000000",
            "2023-10-04T13:15:00.000000000",
            "2023-10-04T13:20:00.000000000",
            "2023-10-04T13:25:00.000000000",
            "2023-10-04T13:30:00.000000000",
            "2023-10-04T13:35:00.000000000",
            "2023-10-04T13:40:00.000000000",
            "2023-10-04T13:45:00.000000000",
            "2023-10-04T13:50:00.000000000"
           ]
          }
         ],
         "name": "Frame 53"
        },
        {
         "data": [
          {
           "close": {
            "bdata": "oBov3STneUAwuycPC+55QEVHcvkP43lACRueXinkeUD/snvysON5QK62Yn/Z43lAEoPAyqHUeUAu/yH99tF5QBsv3SQG2XlABOeMKO3XeUAmUwWjks15QH6MuWsJxnlAK4cW2c7ZeUAFo5I6Adx5QAWjkjoB3HlANe84RUfKeUAMk6mCUcx5QBb7y+7JzHlADk+vlGXQeUAtQxzr4tV5QDJ3LSEf2nlA+MJkqmDneUAUP8bcteB5QABvgQTF53lAKcsQx7rleUAAb4EExed5QBlz1xLy5HlABaOSOgHweUACK4cW2fN5QDarPldb+nlALv8h/fbxeUD/snvysPN5QBgmUwWj8XlAIR/0bFb5eUD4wmSqYPN5QO5aQj7o+nlAFR3J5T/9eUAPC7Wmefh5QCBj7lpC9XlABaOSOgH8eUDwFkhQ/PZ5QIlBYOXQ9HlAGlHaG3zueUD5oGez6vJ5QBzr4jYa7XlABOeMKO3veUD1SlmGOOt5QB04Z0Rp5XlAklz+Q/rmeUBEi2zn++Z5QPp+arx053lABOeMKO3neUBRa5p3nN95QEATYcPT3nlA",
            "dtype": "f8"
           },
           "decreasing": {
            "fillcolor": "#FF6347",
            "line": {
             "color": "#CC503A",
             "width": 0.6
            }
           },
           "high": {
            "bdata": "CtejcD3oeUAep+hILvF5QD9XW7G/7nlACtejcD3oeUAE54wo7ed5QD9XW7G/6nlALv8h/fbpeUA/V1uxv9p5QO5aQj7o2nlAKA8LtabZeUAep+hILtl5QBe30QDe0HlAK4cW2c7ZeUAOT6+UZeB5QGB2Tx4W5XlABaOSOgHgeUAu/yH99tF5QEp7gy9Mz3lA+8vuycPjeUBTBaOSOth5QDC7Jw8L3nlACRueXinseUA/V1uxv+p5QCSX/5B+6XlAHqfoSC7peUDhehSuR+p5QBHHuriN6HlAI9v5fmr1eUAgY+5aQvV5QOauJeSD+nlA8tJNYhD7eUDpJjEIrPZ5QBsv3SQG+XlAveMUHcn5eUAmUwWjkv15QPVKWYY4+3lAFD/G3LUAekDmriXkg/55QP+ye/Kw+3lAETY8vVL8eUASg8DKofx5QBsv3SQG+XlA6SYxCKz2eUAJG55eKfR5QAWjkjoB9HlA7lpCPujyeUD/snvysPN5QP+ye/Kw63lAFD/G3LXoeUAOT6+UZeh5QP32deCc53lAIR/0bFbpeUAOT6+UZeh5QFInoImw43lA",
            "dtype": "f8"
           },
           "increasing": {
            "fillcolor": "#32CD32",
            "line": {
             "color": "#28A028",
             "width": 0.6
            }
           },
           "low": {
            "bdata": "Ne84RUfaeUBCz2bV5+J5QDhnRGlv4nlAPZtVn6veeUBIv30dONt5QL8OnDOi3HlAQs9m1efSeUBpb/CFycx5QFTjpZvEz3lAPL1SliHPeUARx7q4jch5QBzr4jYaxXlAI9v5fmrFeUAVjErqBNl5QEVHcvkP23lAIR/0bFbJeUAoDwu1psl5QE3zjlN0x3lARIts5/vGeUCX/5B++855QCnLEMe61XlAIR/0bFbZeUAAb4EExd95QBQ/xty14HlALv8h/fbheUARx7q4jeB5QDMzMzMz3nlAIR/0bFbheUA4Z0Rpb+p5QOviNhrA8nlAGy/dJAbxeUAHX5hMFfB5QPcGX5hM73lABOeMKO3veUDy0k1iEPN5QPjCZKpg83lADJOpglH4eUAE54wo7fd5QAdfmEwV9HlAF7fRAN70eUAj2/l+avV5QC7/If328XlALUMc6+LteUApyxDHuu15QBQ/xty17HlAFD/G3LXseUAhH/RsVul5QBHHuriN5HlACtejcD3geUACK4cW2eN5QBsv3SQG4XlAIGPuWkLleUAoDwu1pt15QAyTqYJR3HlA",
            "dtype": "f8"
           },
           "name": "Price",
           "open": {
            "bdata": "FvvL7snceUD3Bl+YTOd5QC1DHOvi7XlARwN4CyTjeUD4wmSqYON5QP+ye/Kw43lAAiuHFtnjeUAPC7WmedR5QDXvOEVH0nlAIR/0bFbZeUAE54wo7dd5QCBj7lpCzXlALv8h/fbFeUCUh4Va09l5QAWjkjoB3HlABOeMKO3beUAydy0hH8p5QAyTqYJRzHlAFvvL7snMeUAK16NwPdB5QCnLEMe61XlAKA8LtabZeUD6fmq8dOd5QBsv3SQG4XlAAG+BBMXneUApyxDHuuV5QABvgQTF53lAGy/dJAbleUAAb4EExe95QAIrhxbZ83lALv8h/fb5eUAydy0hH/J5QP+ye/Kw83lAKA8LtabxeUAhH/RsVvl5QPjCZKpg83lA7Z48LNT6eUAc6+I2Gv15QBQ/xty1+HlAHOviNhr1eUAE54wo7ft5QPAWSFD89nlAJJf/kH71eUA2qz5XW+55QPLSTWIQ83lAI9v5fmrteUAE54wo7e95QPjCZKpg63lAI9v5fmrleUBEi2zn++Z5QPOOU3Qk53lAVcGopE7neUAE54wo7ed5QPp+arx033lA",
            "dtype": "f8"
           },
           "type": "candlestick",
           "x": [
            "2023-10-04T09:30:00.000000000",
            "2023-10-04T09:35:00.000000000",
            "2023-10-04T09:40:00.000000000",
            "2023-10-04T09:45:00.000000000",
            "2023-10-04T09:50:00.000000000",
            "2023-10-04T09:55:00.000000000",
            "2023-10-04T10:00:00.000000000",
            "2023-10-04T10:05:00.000000000",
            "2023-10-04T10:10:00.000000000",
            "2023-10-04T10:15:00.000000000",
            "2023-10-04T10:20:00.000000000",
            "2023-10-04T10:25:00.000000000",
            "2023-10-04T10:30:00.000000000",
            "2023-10-04T10:35:00.000000000",
            "2023-10-04T10:40:00.000000000",
            "2023-10-04T10:45:00.000000000",
            "2023-10-04T10:50:00.000000000",
            "2023-10-04T10:55:00.000000000",
            "2023-10-04T11:00:00.000000000",
            "2023-10-04T11:05:00.000000000",
            "2023-10-04T11:10:00.000000000",
            "2023-10-04T11:15:00.000000000",
            "2023-10-04T11:20:00.000000000",
            "2023-10-04T11:25:00.000000000",
            "2023-10-04T11:30:00.000000000",
            "2023-10-04T11:35:00.000000000",
            "2023-10-04T11:40:00.000000000",
            "2023-10-04T11:45:00.000000000",
            "2023-10-04T11:50:00.000000000",
            "2023-10-04T11:55:00.000000000",
            "2023-10-04T12:00:00.000000000",
            "2023-10-04T12:05:00.000000000",
            "2023-10-04T12:10:00.000000000",
            "2023-10-04T12:15:00.000000000",
            "2023-10-04T12:20:00.000000000",
            "2023-10-04T12:25:00.000000000",
            "2023-10-04T12:30:00.000000000",
            "2023-10-04T12:35:00.000000000",
            "2023-10-04T12:40:00.000000000",
            "2023-10-04T12:45:00.000000000",
            "2023-10-04T12:50:00.000000000",
            "2023-10-04T12:55:00.000000000",
            "2023-10-04T13:00:00.000000000",
            "2023-10-04T13:05:00.000000000",
            "2023-10-04T13:10:00.000000000",
            "2023-10-04T13:15:00.000000000",
            "2023-10-04T13:20:00.000000000",
            "2023-10-04T13:25:00.000000000",
            "2023-10-04T13:30:00.000000000",
            "2023-10-04T13:35:00.000000000",
            "2023-10-04T13:40:00.000000000",
            "2023-10-04T13:45:00.000000000",
            "2023-10-04T13:50:00.000000000",
            "2023-10-04T13:55:00.000000000"
           ]
          }
         ],
         "name": "Frame 54"
        },
        {
         "data": [
          {
           "close": {
            "bdata": "oBov3STneUAwuycPC+55QEVHcvkP43lACRueXinkeUD/snvysON5QK62Yn/Z43lAEoPAyqHUeUAu/yH99tF5QBsv3SQG2XlABOeMKO3XeUAmUwWjks15QH6MuWsJxnlAK4cW2c7ZeUAFo5I6Adx5QAWjkjoB3HlANe84RUfKeUAMk6mCUcx5QBb7y+7JzHlADk+vlGXQeUAtQxzr4tV5QDJ3LSEf2nlA+MJkqmDneUAUP8bcteB5QABvgQTF53lAKcsQx7rleUAAb4EExed5QBlz1xLy5HlABaOSOgHweUACK4cW2fN5QDarPldb+nlALv8h/fbxeUD/snvysPN5QBgmUwWj8XlAIR/0bFb5eUD4wmSqYPN5QO5aQj7o+nlAFR3J5T/9eUAPC7Wmefh5QCBj7lpC9XlABaOSOgH8eUDwFkhQ/PZ5QIlBYOXQ9HlAGlHaG3zueUD5oGez6vJ5QBzr4jYa7XlABOeMKO3veUD1SlmGOOt5QB04Z0Rp5XlAklz+Q/rmeUBEi2zn++Z5QPp+arx053lABOeMKO3neUBRa5p3nN95QEATYcPT3nlAF7fRAN7geUA=",
            "dtype": "f8"
           },
           "decreasing": {
            "fillcolor": "#FF6347",
            "line": {
             "color": "#CC503A",
             "width": 0.6
            }
           },
           "high": {
            "bdata": "CtejcD3oeUAep+hILvF5QD9XW7G/7nlACtejcD3oeUAE54wo7ed5QD9XW7G/6nlALv8h/fbpeUA/V1uxv9p5QO5aQj7o2nlAKA8LtabZeUAep+hILtl5QBe30QDe0HlAK4cW2c7ZeUAOT6+UZeB5QGB2Tx4W5XlABaOSOgHgeUAu/yH99tF5QEp7gy9Mz3lA+8vuycPjeUBTBaOSOth5QDC7Jw8L3nlACRueXinseUA/V1uxv+p5QCSX/5B+6XlAHqfoSC7peUDhehSuR+p5QBHHuriN6HlAI9v5fmr1eUAgY+5aQvV5QOauJeSD+nlA8tJNYhD7eUDpJjEIrPZ5QBsv3SQG+XlAveMUHcn5eUAmUwWjkv15QPVKWYY4+3lAFD/G3LUAekDmriXkg/55QP+ye/Kw+3lAETY8vVL8eUASg8DKofx5QBsv3SQG+XlA6SYxCKz2eUAJG55eKfR5QAWjkjoB9HlA7lpCPujyeUD/snvysPN5QP+ye/Kw63lAFD/G3LXoeUAOT6+UZeh5QP32deCc53lAIR/0bFbpeUAOT6+UZeh5QFInoImw43lAF7fRAN7geUA=",
            "dtype": "f8"
           },
           "increasing": {
            "fillcolor": "#32CD32",
            "line": {
             "color": "#28A028",
             "width": 0.6
            }
           },
           "low": {
            "bdata": "Ne84RUfaeUBCz2bV5+J5QDhnRGlv4nlAPZtVn6veeUBIv30dONt5QL8OnDOi3HlAQs9m1efSeUBpb/CFycx5QFTjpZvEz3lAPL1SliHPeUARx7q4jch5QBzr4jYaxXlAI9v5fmrFeUAVjErqBNl5QEVHcvkP23lAIR/0bFbJeUAoDwu1psl5QE3zjlN0x3lARIts5/vGeUCX/5B++855QCnLEMe61XlAIR/0bFbZeUAAb4EExd95QBQ/xty14HlALv8h/fbheUARx7q4jeB5QDMzMzMz3nlAIR/0bFbheUA4Z0Rpb+p5QOviNhrA8nlAGy/dJAbxeUAHX5hMFfB5QPcGX5hM73lABOeMKO3veUDy0k1iEPN5QPjCZKpg83lADJOpglH4eUAE54wo7fd5QAdfmEwV9HlAF7fRAN70eUAj2/l+avV5QC7/If328XlALUMc6+LteUApyxDHuu15QBQ/xty17HlAFD/G3LXseUAhH/RsVul5QBHHuriN5HlACtejcD3geUACK4cW2eN5QBsv3SQG4XlAIGPuWkLleUAoDwu1pt15QAyTqYJR3HlAIR/0bFbZeUA=",
            "dtype": "f8"
           },
           "name": "Price",
           "open": {
            "bdata": "FvvL7snceUD3Bl+YTOd5QC1DHOvi7XlARwN4CyTjeUD4wmSqYON5QP+ye/Kw43lAAiuHFtnjeUAPC7WmedR5QDXvOEVH0nlAIR/0bFbZeUAE54wo7dd5QCBj7lpCzXlALv8h/fbFeUCUh4Va09l5QAWjkjoB3HlABOeMKO3beUAydy0hH8p5QAyTqYJRzHlAFvvL7snMeUAK16NwPdB5QCnLEMe61XlAKA8LtabZeUD6fmq8dOd5QBsv3SQG4XlAAG+BBMXneUApyxDHuuV5QABvgQTF53lAGy/dJAbleUAAb4EExe95QAIrhxbZ83lALv8h/fb5eUAydy0hH/J5QP+ye/Kw83lAKA8LtabxeUAhH/RsVvl5QPjCZKpg83lA7Z48LNT6eUAc6+I2Gv15QBQ/xty1+HlAHOviNhr1eUAE54wo7ft5QPAWSFD89nlAJJf/kH71eUA2qz5XW+55QPLSTWIQ83lAI9v5fmrteUAE54wo7e95QPjCZKpg63lAI9v5fmrleUBEi2zn++Z5QPOOU3Qk53lAVcGopE7neUAE54wo7ed5QPp+arx033lANqs+V1veeUA=",
            "dtype": "f8"
           },
           "type": "candlestick",
           "x": [
            "2023-10-04T09:30:00.000000000",
            "2023-10-04T09:35:00.000000000",
            "2023-10-04T09:40:00.000000000",
            "2023-10-04T09:45:00.000000000",
            "2023-10-04T09:50:00.000000000",
            "2023-10-04T09:55:00.000000000",
            "2023-10-04T10:00:00.000000000",
            "2023-10-04T10:05:00.000000000",
            "2023-10-04T10:10:00.000000000",
            "2023-10-04T10:15:00.000000000",
            "2023-10-04T10:20:00.000000000",
            "2023-10-04T10:25:00.000000000",
            "2023-10-04T10:30:00.000000000",
            "2023-10-04T10:35:00.000000000",
            "2023-10-04T10:40:00.000000000",
            "2023-10-04T10:45:00.000000000",
            "2023-10-04T10:50:00.000000000",
            "2023-10-04T10:55:00.000000000",
            "2023-10-04T11:00:00.000000000",
            "2023-10-04T11:05:00.000000000",
            "2023-10-04T11:10:00.000000000",
            "2023-10-04T11:15:00.000000000",
            "2023-10-04T11:20:00.000000000",
            "2023-10-04T11:25:00.000000000",
            "2023-10-04T11:30:00.000000000",
            "2023-10-04T11:35:00.000000000",
            "2023-10-04T11:40:00.000000000",
            "2023-10-04T11:45:00.000000000",
            "2023-10-04T11:50:00.000000000",
            "2023-10-04T11:55:00.000000000",
            "2023-10-04T12:00:00.000000000",
            "2023-10-04T12:05:00.000000000",
            "2023-10-04T12:10:00.000000000",
            "2023-10-04T12:15:00.000000000",
            "2023-10-04T12:20:00.000000000",
            "2023-10-04T12:25:00.000000000",
            "2023-10-04T12:30:00.000000000",
            "2023-10-04T12:35:00.000000000",
            "2023-10-04T12:40:00.000000000",
            "2023-10-04T12:45:00.000000000",
            "2023-10-04T12:50:00.000000000",
            "2023-10-04T12:55:00.000000000",
            "2023-10-04T13:00:00.000000000",
            "2023-10-04T13:05:00.000000000",
            "2023-10-04T13:10:00.000000000",
            "2023-10-04T13:15:00.000000000",
            "2023-10-04T13:20:00.000000000",
            "2023-10-04T13:25:00.000000000",
            "2023-10-04T13:30:00.000000000",
            "2023-10-04T13:35:00.000000000",
            "2023-10-04T13:40:00.000000000",
            "2023-10-04T13:45:00.000000000",
            "2023-10-04T13:50:00.000000000",
            "2023-10-04T13:55:00.000000000",
            "2023-10-04T14:00:00.000000000"
           ]
          }
         ],
         "name": "Frame 55"
        },
        {
         "data": [
          {
           "close": {
            "bdata": "oBov3STneUAwuycPC+55QEVHcvkP43lACRueXinkeUD/snvysON5QK62Yn/Z43lAEoPAyqHUeUAu/yH99tF5QBsv3SQG2XlABOeMKO3XeUAmUwWjks15QH6MuWsJxnlAK4cW2c7ZeUAFo5I6Adx5QAWjkjoB3HlANe84RUfKeUAMk6mCUcx5QBb7y+7JzHlADk+vlGXQeUAtQxzr4tV5QDJ3LSEf2nlA+MJkqmDneUAUP8bcteB5QABvgQTF53lAKcsQx7rleUAAb4EExed5QBlz1xLy5HlABaOSOgHweUACK4cW2fN5QDarPldb+nlALv8h/fbxeUD/snvysPN5QBgmUwWj8XlAIR/0bFb5eUD4wmSqYPN5QO5aQj7o+nlAFR3J5T/9eUAPC7Wmefh5QCBj7lpC9XlABaOSOgH8eUDwFkhQ/PZ5QIlBYOXQ9HlAGlHaG3zueUD5oGez6vJ5QBzr4jYa7XlABOeMKO3veUD1SlmGOOt5QB04Z0Rp5XlAklz+Q/rmeUBEi2zn++Z5QPp+arx053lABOeMKO3neUBRa5p3nN95QEATYcPT3nlAF7fRAN7geUBCz2bV59p5QA==",
            "dtype": "f8"
           },
           "decreasing": {
            "fillcolor": "#FF6347",
            "line": {
             "color": "#CC503A",
             "width": 0.6
            }
           },
           "high": {
            "bdata": "CtejcD3oeUAep+hILvF5QD9XW7G/7nlACtejcD3oeUAE54wo7ed5QD9XW7G/6nlALv8h/fbpeUA/V1uxv9p5QO5aQj7o2nlAKA8LtabZeUAep+hILtl5QBe30QDe0HlAK4cW2c7ZeUAOT6+UZeB5QGB2Tx4W5XlABaOSOgHgeUAu/yH99tF5QEp7gy9Mz3lA+8vuycPjeUBTBaOSOth5QDC7Jw8L3nlACRueXinseUA/V1uxv+p5QCSX/5B+6XlAHqfoSC7peUDhehSuR+p5QBHHuriN6HlAI9v5fmr1eUAgY+5aQvV5QOauJeSD+nlA8tJNYhD7eUDpJjEIrPZ5QBsv3SQG+XlAveMUHcn5eUAmUwWjkv15QPVKWYY4+3lAFD/G3LUAekDmriXkg/55QP+ye/Kw+3lAETY8vVL8eUASg8DKofx5QBsv3SQG+XlA6SYxCKz2eUAJG55eKfR5QAWjkjoB9HlA7lpCPujyeUD/snvysPN5QP+ye/Kw63lAFD/G3LXoeUAOT6+UZeh5QP32deCc53lAIR/0bFbpeUAOT6+UZeh5QFInoImw43lAF7fRAN7geUD1SlmGOON5QA==",
            "dtype": "f8"
           },
           "increasing": {
            "fillcolor": "#32CD32",
            "line": {
             "color": "#28A028",
             "width": 0.6
            }
           },
           "low": {
            "bdata": "Ne84RUfaeUBCz2bV5+J5QDhnRGlv4nlAPZtVn6veeUBIv30dONt5QL8OnDOi3HlAQs9m1efSeUBpb/CFycx5QFTjpZvEz3lAPL1SliHPeUARx7q4jch5QBzr4jYaxXlAI9v5fmrFeUAVjErqBNl5QEVHcvkP23lAIR/0bFbJeUAoDwu1psl5QE3zjlN0x3lARIts5/vGeUCX/5B++855QCnLEMe61XlAIR/0bFbZeUAAb4EExd95QBQ/xty14HlALv8h/fbheUARx7q4jeB5QDMzMzMz3nlAIR/0bFbheUA4Z0Rpb+p5QOviNhrA8nlAGy/dJAbxeUAHX5hMFfB5QPcGX5hM73lABOeMKO3veUDy0k1iEPN5QPjCZKpg83lADJOpglH4eUAE54wo7fd5QAdfmEwV9HlAF7fRAN70eUAj2/l+avV5QC7/If328XlALUMc6+LteUApyxDHuu15QBQ/xty17HlAFD/G3LXseUAhH/RsVul5QBHHuriN5HlACtejcD3geUACK4cW2eN5QBsv3SQG4XlAIGPuWkLleUAoDwu1pt15QAyTqYJR3HlAIR/0bFbZeUAtQxzr4tl5QA==",
            "dtype": "f8"
           },
           "name": "Price",
           "open": {
            "bdata": "FvvL7snceUD3Bl+YTOd5QC1DHOvi7XlARwN4CyTjeUD4wmSqYON5QP+ye/Kw43lAAiuHFtnjeUAPC7WmedR5QDXvOEVH0nlAIR/0bFbZeUAE54wo7dd5QCBj7lpCzXlALv8h/fbFeUCUh4Va09l5QAWjkjoB3HlABOeMKO3beUAydy0hH8p5QAyTqYJRzHlAFvvL7snMeUAK16NwPdB5QCnLEMe61XlAKA8LtabZeUD6fmq8dOd5QBsv3SQG4XlAAG+BBMXneUApyxDHuuV5QABvgQTF53lAGy/dJAbleUAAb4EExe95QAIrhxbZ83lALv8h/fb5eUAydy0hH/J5QP+ye/Kw83lAKA8LtabxeUAhH/RsVvl5QPjCZKpg83lA7Z48LNT6eUAc6+I2Gv15QBQ/xty1+HlAHOviNhr1eUAE54wo7ft5QPAWSFD89nlAJJf/kH71eUA2qz5XW+55QPLSTWIQ83lAI9v5fmrteUAE54wo7e95QPjCZKpg63lAI9v5fmrleUBEi2zn++Z5QPOOU3Qk53lAVcGopE7neUAE54wo7ed5QPp+arx033lANqs+V1veeUASg8DKoeB5QA==",
            "dtype": "f8"
           },
           "type": "candlestick",
           "x": [
            "2023-10-04T09:30:00.000000000",
            "2023-10-04T09:35:00.000000000",
            "2023-10-04T09:40:00.000000000",
            "2023-10-04T09:45:00.000000000",
            "2023-10-04T09:50:00.000000000",
            "2023-10-04T09:55:00.000000000",
            "2023-10-04T10:00:00.000000000",
            "2023-10-04T10:05:00.000000000",
            "2023-10-04T10:10:00.000000000",
            "2023-10-04T10:15:00.000000000",
            "2023-10-04T10:20:00.000000000",
            "2023-10-04T10:25:00.000000000",
            "2023-10-04T10:30:00.000000000",
            "2023-10-04T10:35:00.000000000",
            "2023-10-04T10:40:00.000000000",
            "2023-10-04T10:45:00.000000000",
            "2023-10-04T10:50:00.000000000",
            "2023-10-04T10:55:00.000000000",
            "2023-10-04T11:00:00.000000000",
            "2023-10-04T11:05:00.000000000",
            "2023-10-04T11:10:00.000000000",
            "2023-10-04T11:15:00.000000000",
            "2023-10-04T11:20:00.000000000",
            "2023-10-04T11:25:00.000000000",
            "2023-10-04T11:30:00.000000000",
            "2023-10-04T11:35:00.000000000",
            "2023-10-04T11:40:00.000000000",
            "2023-10-04T11:45:00.000000000",
            "2023-10-04T11:50:00.000000000",
            "2023-10-04T11:55:00.000000000",
            "2023-10-04T12:00:00.000000000",
            "2023-10-04T12:05:00.000000000",
            "2023-10-04T12:10:00.000000000",
            "2023-10-04T12:15:00.000000000",
            "2023-10-04T12:20:00.000000000",
            "2023-10-04T12:25:00.000000000",
            "2023-10-04T12:30:00.000000000",
            "2023-10-04T12:35:00.000000000",
            "2023-10-04T12:40:00.000000000",
            "2023-10-04T12:45:00.000000000",
            "2023-10-04T12:50:00.000000000",
            "2023-10-04T12:55:00.000000000",
            "2023-10-04T13:00:00.000000000",
            "2023-10-04T13:05:00.000000000",
            "2023-10-04T13:10:00.000000000",
            "2023-10-04T13:15:00.000000000",
            "2023-10-04T13:20:00.000000000",
            "2023-10-04T13:25:00.000000000",
            "2023-10-04T13:30:00.000000000",
            "2023-10-04T13:35:00.000000000",
            "2023-10-04T13:40:00.000000000",
            "2023-10-04T13:45:00.000000000",
            "2023-10-04T13:50:00.000000000",
            "2023-10-04T13:55:00.000000000",
            "2023-10-04T14:00:00.000000000",
            "2023-10-04T14:05:00.000000000"
           ]
          }
         ],
         "name": "Frame 56"
        },
        {
         "data": [
          {
           "close": {
            "bdata": "oBov3STneUAwuycPC+55QEVHcvkP43lACRueXinkeUD/snvysON5QK62Yn/Z43lAEoPAyqHUeUAu/yH99tF5QBsv3SQG2XlABOeMKO3XeUAmUwWjks15QH6MuWsJxnlAK4cW2c7ZeUAFo5I6Adx5QAWjkjoB3HlANe84RUfKeUAMk6mCUcx5QBb7y+7JzHlADk+vlGXQeUAtQxzr4tV5QDJ3LSEf2nlA+MJkqmDneUAUP8bcteB5QABvgQTF53lAKcsQx7rleUAAb4EExed5QBlz1xLy5HlABaOSOgHweUACK4cW2fN5QDarPldb+nlALv8h/fbxeUD/snvysPN5QBgmUwWj8XlAIR/0bFb5eUD4wmSqYPN5QO5aQj7o+nlAFR3J5T/9eUAPC7Wmefh5QCBj7lpC9XlABaOSOgH8eUDwFkhQ/PZ5QIlBYOXQ9HlAGlHaG3zueUD5oGez6vJ5QBzr4jYa7XlABOeMKO3veUD1SlmGOOt5QB04Z0Rp5XlAklz+Q/rmeUBEi2zn++Z5QPp+arx053lABOeMKO3neUBRa5p3nN95QEATYcPT3nlAF7fRAN7geUBCz2bV59p5QCnLEMe64XlA",
            "dtype": "f8"
           },
           "decreasing": {
            "fillcolor": "#FF6347",
            "line": {
             "color": "#CC503A",
             "width": 0.6
            }
           },
           "high": {
            "bdata": "CtejcD3oeUAep+hILvF5QD9XW7G/7nlACtejcD3oeUAE54wo7ed5QD9XW7G/6nlALv8h/fbpeUA/V1uxv9p5QO5aQj7o2nlAKA8LtabZeUAep+hILtl5QBe30QDe0HlAK4cW2c7ZeUAOT6+UZeB5QGB2Tx4W5XlABaOSOgHgeUAu/yH99tF5QEp7gy9Mz3lA+8vuycPjeUBTBaOSOth5QDC7Jw8L3nlACRueXinseUA/V1uxv+p5QCSX/5B+6XlAHqfoSC7peUDhehSuR+p5QBHHuriN6HlAI9v5fmr1eUAgY+5aQvV5QOauJeSD+nlA8tJNYhD7eUDpJjEIrPZ5QBsv3SQG+XlAveMUHcn5eUAmUwWjkv15QPVKWYY4+3lAFD/G3LUAekDmriXkg/55QP+ye/Kw+3lAETY8vVL8eUASg8DKofx5QBsv3SQG+XlA6SYxCKz2eUAJG55eKfR5QAWjkjoB9HlA7lpCPujyeUD/snvysPN5QP+ye/Kw63lAFD/G3LXoeUAOT6+UZeh5QP32deCc53lAIR/0bFbpeUAOT6+UZeh5QFInoImw43lAF7fRAN7geUD1SlmGOON5QEVHcvkP43lA",
            "dtype": "f8"
           },
           "increasing": {
            "fillcolor": "#32CD32",
            "line": {
             "color": "#28A028",
             "width": 0.6
            }
           },
           "low": {
            "bdata": "Ne84RUfaeUBCz2bV5+J5QDhnRGlv4nlAPZtVn6veeUBIv30dONt5QL8OnDOi3HlAQs9m1efSeUBpb/CFycx5QFTjpZvEz3lAPL1SliHPeUARx7q4jch5QBzr4jYaxXlAI9v5fmrFeUAVjErqBNl5QEVHcvkP23lAIR/0bFbJeUAoDwu1psl5QE3zjlN0x3lARIts5/vGeUCX/5B++855QCnLEMe61XlAIR/0bFbZeUAAb4EExd95QBQ/xty14HlALv8h/fbheUARx7q4jeB5QDMzMzMz3nlAIR/0bFbheUA4Z0Rpb+p5QOviNhrA8nlAGy/dJAbxeUAHX5hMFfB5QPcGX5hM73lABOeMKO3veUDy0k1iEPN5QPjCZKpg83lADJOpglH4eUAE54wo7fd5QAdfmEwV9HlAF7fRAN70eUAj2/l+avV5QC7/If328XlALUMc6+LteUApyxDHuu15QBQ/xty17HlAFD/G3LXseUAhH/RsVul5QBHHuriN5HlACtejcD3geUACK4cW2eN5QBsv3SQG4XlAIGPuWkLleUAoDwu1pt15QAyTqYJR3HlAIR/0bFbZeUAtQxzr4tl5QDJ3LSEf2nlA",
            "dtype": "f8"
           },
           "name": "Price",
           "open": {
            "bdata": "FvvL7snceUD3Bl+YTOd5QC1DHOvi7XlARwN4CyTjeUD4wmSqYON5QP+ye/Kw43lAAiuHFtnjeUAPC7WmedR5QDXvOEVH0nlAIR/0bFbZeUAE54wo7dd5QCBj7lpCzXlALv8h/fbFeUCUh4Va09l5QAWjkjoB3HlABOeMKO3beUAydy0hH8p5QAyTqYJRzHlAFvvL7snMeUAK16NwPdB5QCnLEMe61XlAKA8LtabZeUD6fmq8dOd5QBsv3SQG4XlAAG+BBMXneUApyxDHuuV5QABvgQTF53lAGy/dJAbleUAAb4EExe95QAIrhxbZ83lALv8h/fb5eUAydy0hH/J5QP+ye/Kw83lAKA8LtabxeUAhH/RsVvl5QPjCZKpg83lA7Z48LNT6eUAc6+I2Gv15QBQ/xty1+HlAHOviNhr1eUAE54wo7ft5QPAWSFD89nlAJJf/kH71eUA2qz5XW+55QPLSTWIQ83lAI9v5fmrteUAE54wo7e95QPjCZKpg63lAI9v5fmrleUBEi2zn++Z5QPOOU3Qk53lAVcGopE7neUAE54wo7ed5QPp+arx033lANqs+V1veeUASg8DKoeB5QELPZtXn2nlA",
            "dtype": "f8"
           },
           "type": "candlestick",
           "x": [
            "2023-10-04T09:30:00.000000000",
            "2023-10-04T09:35:00.000000000",
            "2023-10-04T09:40:00.000000000",
            "2023-10-04T09:45:00.000000000",
            "2023-10-04T09:50:00.000000000",
            "2023-10-04T09:55:00.000000000",
            "2023-10-04T10:00:00.000000000",
            "2023-10-04T10:05:00.000000000",
            "2023-10-04T10:10:00.000000000",
            "2023-10-04T10:15:00.000000000",
            "2023-10-04T10:20:00.000000000",
            "2023-10-04T10:25:00.000000000",
            "2023-10-04T10:30:00.000000000",
            "2023-10-04T10:35:00.000000000",
            "2023-10-04T10:40:00.000000000",
            "2023-10-04T10:45:00.000000000",
            "2023-10-04T10:50:00.000000000",
            "2023-10-04T10:55:00.000000000",
            "2023-10-04T11:00:00.000000000",
            "2023-10-04T11:05:00.000000000",
            "2023-10-04T11:10:00.000000000",
            "2023-10-04T11:15:00.000000000",
            "2023-10-04T11:20:00.000000000",
            "2023-10-04T11:25:00.000000000",
            "2023-10-04T11:30:00.000000000",
            "2023-10-04T11:35:00.000000000",
            "2023-10-04T11:40:00.000000000",
            "2023-10-04T11:45:00.000000000",
            "2023-10-04T11:50:00.000000000",
            "2023-10-04T11:55:00.000000000",
            "2023-10-04T12:00:00.000000000",
            "2023-10-04T12:05:00.000000000",
            "2023-10-04T12:10:00.000000000",
            "2023-10-04T12:15:00.000000000",
            "2023-10-04T12:20:00.000000000",
            "2023-10-04T12:25:00.000000000",
            "2023-10-04T12:30:00.000000000",
            "2023-10-04T12:35:00.000000000",
            "2023-10-04T12:40:00.000000000",
            "2023-10-04T12:45:00.000000000",
            "2023-10-04T12:50:00.000000000",
            "2023-10-04T12:55:00.000000000",
            "2023-10-04T13:00:00.000000000",
            "2023-10-04T13:05:00.000000000",
            "2023-10-04T13:10:00.000000000",
            "2023-10-04T13:15:00.000000000",
            "2023-10-04T13:20:00.000000000",
            "2023-10-04T13:25:00.000000000",
            "2023-10-04T13:30:00.000000000",
            "2023-10-04T13:35:00.000000000",
            "2023-10-04T13:40:00.000000000",
            "2023-10-04T13:45:00.000000000",
            "2023-10-04T13:50:00.000000000",
            "2023-10-04T13:55:00.000000000",
            "2023-10-04T14:00:00.000000000",
            "2023-10-04T14:05:00.000000000",
            "2023-10-04T14:10:00.000000000"
           ]
          }
         ],
         "name": "Frame 57"
        },
        {
         "data": [
          {
           "close": {
            "bdata": "oBov3STneUAwuycPC+55QEVHcvkP43lACRueXinkeUD/snvysON5QK62Yn/Z43lAEoPAyqHUeUAu/yH99tF5QBsv3SQG2XlABOeMKO3XeUAmUwWjks15QH6MuWsJxnlAK4cW2c7ZeUAFo5I6Adx5QAWjkjoB3HlANe84RUfKeUAMk6mCUcx5QBb7y+7JzHlADk+vlGXQeUAtQxzr4tV5QDJ3LSEf2nlA+MJkqmDneUAUP8bcteB5QABvgQTF53lAKcsQx7rleUAAb4EExed5QBlz1xLy5HlABaOSOgHweUACK4cW2fN5QDarPldb+nlALv8h/fbxeUD/snvysPN5QBgmUwWj8XlAIR/0bFb5eUD4wmSqYPN5QO5aQj7o+nlAFR3J5T/9eUAPC7Wmefh5QCBj7lpC9XlABaOSOgH8eUDwFkhQ/PZ5QIlBYOXQ9HlAGlHaG3zueUD5oGez6vJ5QBzr4jYa7XlABOeMKO3veUD1SlmGOOt5QB04Z0Rp5XlAklz+Q/rmeUBEi2zn++Z5QPp+arx053lABOeMKO3neUBRa5p3nN95QEATYcPT3nlAF7fRAN7geUBCz2bV59p5QCnLEMe64XlAQBNhw9PmeUA=",
            "dtype": "f8"
           },
           "decreasing": {
            "fillcolor": "#FF6347",
            "line": {
             "color": "#CC503A",
             "width": 0.6
            }
           },
           "high": {
            "bdata": "CtejcD3oeUAep+hILvF5QD9XW7G/7nlACtejcD3oeUAE54wo7ed5QD9XW7G/6nlALv8h/fbpeUA/V1uxv9p5QO5aQj7o2nlAKA8LtabZeUAep+hILtl5QBe30QDe0HlAK4cW2c7ZeUAOT6+UZeB5QGB2Tx4W5XlABaOSOgHgeUAu/yH99tF5QEp7gy9Mz3lA+8vuycPjeUBTBaOSOth5QDC7Jw8L3nlACRueXinseUA/V1uxv+p5QCSX/5B+6XlAHqfoSC7peUDhehSuR+p5QBHHuriN6HlAI9v5fmr1eUAgY+5aQvV5QOauJeSD+nlA8tJNYhD7eUDpJjEIrPZ5QBsv3SQG+XlAveMUHcn5eUAmUwWjkv15QPVKWYY4+3lAFD/G3LUAekDmriXkg/55QP+ye/Kw+3lAETY8vVL8eUASg8DKofx5QBsv3SQG+XlA6SYxCKz2eUAJG55eKfR5QAWjkjoB9HlA7lpCPujyeUD/snvysPN5QP+ye/Kw63lAFD/G3LXoeUAOT6+UZeh5QP32deCc53lAIR/0bFbpeUAOT6+UZeh5QFInoImw43lAF7fRAN7geUD1SlmGOON5QEVHcvkP43lA845TdCTneUA=",
            "dtype": "f8"
           },
           "increasing": {
            "fillcolor": "#32CD32",
            "line": {
             "color": "#28A028",
             "width": 0.6
            }
           },
           "low": {
            "bdata": "Ne84RUfaeUBCz2bV5+J5QDhnRGlv4nlAPZtVn6veeUBIv30dONt5QL8OnDOi3HlAQs9m1efSeUBpb/CFycx5QFTjpZvEz3lAPL1SliHPeUARx7q4jch5QBzr4jYaxXlAI9v5fmrFeUAVjErqBNl5QEVHcvkP23lAIR/0bFbJeUAoDwu1psl5QE3zjlN0x3lARIts5/vGeUCX/5B++855QCnLEMe61XlAIR/0bFbZeUAAb4EExd95QBQ/xty14HlALv8h/fbheUARx7q4jeB5QDMzMzMz3nlAIR/0bFbheUA4Z0Rpb+p5QOviNhrA8nlAGy/dJAbxeUAHX5hMFfB5QPcGX5hM73lABOeMKO3veUDy0k1iEPN5QPjCZKpg83lADJOpglH4eUAE54wo7fd5QAdfmEwV9HlAF7fRAN70eUAj2/l+avV5QC7/If328XlALUMc6+LteUApyxDHuu15QBQ/xty17HlAFD/G3LXseUAhH/RsVul5QBHHuriN5HlACtejcD3geUACK4cW2eN5QBsv3SQG4XlAIGPuWkLleUAoDwu1pt15QAyTqYJR3HlAIR/0bFbZeUAtQxzr4tl5QDJ3LSEf2nlAHqfoSC7heUA=",
            "dtype": "f8"
           },
           "name": "Price",
           "open": {
            "bdata": "FvvL7snceUD3Bl+YTOd5QC1DHOvi7XlARwN4CyTjeUD4wmSqYON5QP+ye/Kw43lAAiuHFtnjeUAPC7WmedR5QDXvOEVH0nlAIR/0bFbZeUAE54wo7dd5QCBj7lpCzXlALv8h/fbFeUCUh4Va09l5QAWjkjoB3HlABOeMKO3beUAydy0hH8p5QAyTqYJRzHlAFvvL7snMeUAK16NwPdB5QCnLEMe61XlAKA8LtabZeUD6fmq8dOd5QBsv3SQG4XlAAG+BBMXneUApyxDHuuV5QABvgQTF53lAGy/dJAbleUAAb4EExe95QAIrhxbZ83lALv8h/fb5eUAydy0hH/J5QP+ye/Kw83lAKA8LtabxeUAhH/RsVvl5QPjCZKpg83lA7Z48LNT6eUAc6+I2Gv15QBQ/xty1+HlAHOviNhr1eUAE54wo7ft5QPAWSFD89nlAJJf/kH71eUA2qz5XW+55QPLSTWIQ83lAI9v5fmrteUAE54wo7e95QPjCZKpg63lAI9v5fmrleUBEi2zn++Z5QPOOU3Qk53lAVcGopE7neUAE54wo7ed5QPp+arx033lANqs+V1veeUASg8DKoeB5QELPZtXn2nlAKcsQx7rheUA=",
            "dtype": "f8"
           },
           "type": "candlestick",
           "x": [
            "2023-10-04T09:30:00.000000000",
            "2023-10-04T09:35:00.000000000",
            "2023-10-04T09:40:00.000000000",
            "2023-10-04T09:45:00.000000000",
            "2023-10-04T09:50:00.000000000",
            "2023-10-04T09:55:00.000000000",
            "2023-10-04T10:00:00.000000000",
            "2023-10-04T10:05:00.000000000",
            "2023-10-04T10:10:00.000000000",
            "2023-10-04T10:15:00.000000000",
            "2023-10-04T10:20:00.000000000",
            "2023-10-04T10:25:00.000000000",
            "2023-10-04T10:30:00.000000000",
            "2023-10-04T10:35:00.000000000",
            "2023-10-04T10:40:00.000000000",
            "2023-10-04T10:45:00.000000000",
            "2023-10-04T10:50:00.000000000",
            "2023-10-04T10:55:00.000000000",
            "2023-10-04T11:00:00.000000000",
            "2023-10-04T11:05:00.000000000",
            "2023-10-04T11:10:00.000000000",
            "2023-10-04T11:15:00.000000000",
            "2023-10-04T11:20:00.000000000",
            "2023-10-04T11:25:00.000000000",
            "2023-10-04T11:30:00.000000000",
            "2023-10-04T11:35:00.000000000",
            "2023-10-04T11:40:00.000000000",
            "2023-10-04T11:45:00.000000000",
            "2023-10-04T11:50:00.000000000",
            "2023-10-04T11:55:00.000000000",
            "2023-10-04T12:00:00.000000000",
            "2023-10-04T12:05:00.000000000",
            "2023-10-04T12:10:00.000000000",
            "2023-10-04T12:15:00.000000000",
            "2023-10-04T12:20:00.000000000",
            "2023-10-04T12:25:00.000000000",
            "2023-10-04T12:30:00.000000000",
            "2023-10-04T12:35:00.000000000",
            "2023-10-04T12:40:00.000000000",
            "2023-10-04T12:45:00.000000000",
            "2023-10-04T12:50:00.000000000",
            "2023-10-04T12:55:00.000000000",
            "2023-10-04T13:00:00.000000000",
            "2023-10-04T13:05:00.000000000",
            "2023-10-04T13:10:00.000000000",
            "2023-10-04T13:15:00.000000000",
            "2023-10-04T13:20:00.000000000",
            "2023-10-04T13:25:00.000000000",
            "2023-10-04T13:30:00.000000000",
            "2023-10-04T13:35:00.000000000",
            "2023-10-04T13:40:00.000000000",
            "2023-10-04T13:45:00.000000000",
            "2023-10-04T13:50:00.000000000",
            "2023-10-04T13:55:00.000000000",
            "2023-10-04T14:00:00.000000000",
            "2023-10-04T14:05:00.000000000",
            "2023-10-04T14:10:00.000000000",
            "2023-10-04T14:15:00.000000000"
           ]
          }
         ],
         "name": "Frame 58"
        },
        {
         "data": [
          {
           "close": {
            "bdata": "oBov3STneUAwuycPC+55QEVHcvkP43lACRueXinkeUD/snvysON5QK62Yn/Z43lAEoPAyqHUeUAu/yH99tF5QBsv3SQG2XlABOeMKO3XeUAmUwWjks15QH6MuWsJxnlAK4cW2c7ZeUAFo5I6Adx5QAWjkjoB3HlANe84RUfKeUAMk6mCUcx5QBb7y+7JzHlADk+vlGXQeUAtQxzr4tV5QDJ3LSEf2nlA+MJkqmDneUAUP8bcteB5QABvgQTF53lAKcsQx7rleUAAb4EExed5QBlz1xLy5HlABaOSOgHweUACK4cW2fN5QDarPldb+nlALv8h/fbxeUD/snvysPN5QBgmUwWj8XlAIR/0bFb5eUD4wmSqYPN5QO5aQj7o+nlAFR3J5T/9eUAPC7Wmefh5QCBj7lpC9XlABaOSOgH8eUDwFkhQ/PZ5QIlBYOXQ9HlAGlHaG3zueUD5oGez6vJ5QBzr4jYa7XlABOeMKO3veUD1SlmGOOt5QB04Z0Rp5XlAklz+Q/rmeUBEi2zn++Z5QPp+arx053lABOeMKO3neUBRa5p3nN95QEATYcPT3nlAF7fRAN7geUBCz2bV59p5QCnLEMe64XlAQBNhw9PmeUDUK2UZ4th5QA==",
            "dtype": "f8"
           },
           "decreasing": {
            "fillcolor": "#FF6347",
            "line": {
             "color": "#CC503A",
             "width": 0.6
            }
           },
           "high": {
            "bdata": "CtejcD3oeUAep+hILvF5QD9XW7G/7nlACtejcD3oeUAE54wo7ed5QD9XW7G/6nlALv8h/fbpeUA/V1uxv9p5QO5aQj7o2nlAKA8LtabZeUAep+hILtl5QBe30QDe0HlAK4cW2c7ZeUAOT6+UZeB5QGB2Tx4W5XlABaOSOgHgeUAu/yH99tF5QEp7gy9Mz3lA+8vuycPjeUBTBaOSOth5QDC7Jw8L3nlACRueXinseUA/V1uxv+p5QCSX/5B+6XlAHqfoSC7peUDhehSuR+p5QBHHuriN6HlAI9v5fmr1eUAgY+5aQvV5QOauJeSD+nlA8tJNYhD7eUDpJjEIrPZ5QBsv3SQG+XlAveMUHcn5eUAmUwWjkv15QPVKWYY4+3lAFD/G3LUAekDmriXkg/55QP+ye/Kw+3lAETY8vVL8eUASg8DKofx5QBsv3SQG+XlA6SYxCKz2eUAJG55eKfR5QAWjkjoB9HlA7lpCPujyeUD/snvysPN5QP+ye/Kw63lAFD/G3LXoeUAOT6+UZeh5QP32deCc53lAIR/0bFbpeUAOT6+UZeh5QFInoImw43lAF7fRAN7geUD1SlmGOON5QEVHcvkP43lA845TdCTneUD3Bl+YTOd5QA==",
            "dtype": "f8"
           },
           "increasing": {
            "fillcolor": "#32CD32",
            "line": {
             "color": "#28A028",
             "width": 0.6
            }
           },
           "low": {
            "bdata": "Ne84RUfaeUBCz2bV5+J5QDhnRGlv4nlAPZtVn6veeUBIv30dONt5QL8OnDOi3HlAQs9m1efSeUBpb/CFycx5QFTjpZvEz3lAPL1SliHPeUARx7q4jch5QBzr4jYaxXlAI9v5fmrFeUAVjErqBNl5QEVHcvkP23lAIR/0bFbJeUAoDwu1psl5QE3zjlN0x3lARIts5/vGeUCX/5B++855QCnLEMe61XlAIR/0bFbZeUAAb4EExd95QBQ/xty14HlALv8h/fbheUARx7q4jeB5QDMzMzMz3nlAIR/0bFbheUA4Z0Rpb+p5QOviNhrA8nlAGy/dJAbxeUAHX5hMFfB5QPcGX5hM73lABOeMKO3veUDy0k1iEPN5QPjCZKpg83lADJOpglH4eUAE54wo7fd5QAdfmEwV9HlAF7fRAN70eUAj2/l+avV5QC7/If328XlALUMc6+LteUApyxDHuu15QBQ/xty17HlAFD/G3LXseUAhH/RsVul5QBHHuriN5HlACtejcD3geUACK4cW2eN5QBsv3SQG4XlAIGPuWkLleUAoDwu1pt15QAyTqYJR3HlAIR/0bFbZeUAtQxzr4tl5QDJ3LSEf2nlAHqfoSC7heUAwuycPC9Z5QA==",
            "dtype": "f8"
           },
           "name": "Price",
           "open": {
            "bdata": "FvvL7snceUD3Bl+YTOd5QC1DHOvi7XlARwN4CyTjeUD4wmSqYON5QP+ye/Kw43lAAiuHFtnjeUAPC7WmedR5QDXvOEVH0nlAIR/0bFbZeUAE54wo7dd5QCBj7lpCzXlALv8h/fbFeUCUh4Va09l5QAWjkjoB3HlABOeMKO3beUAydy0hH8p5QAyTqYJRzHlAFvvL7snMeUAK16NwPdB5QCnLEMe61XlAKA8LtabZeUD6fmq8dOd5QBsv3SQG4XlAAG+BBMXneUApyxDHuuV5QABvgQTF53lAGy/dJAbleUAAb4EExe95QAIrhxbZ83lALv8h/fb5eUAydy0hH/J5QP+ye/Kw83lAKA8LtabxeUAhH/RsVvl5QPjCZKpg83lA7Z48LNT6eUAc6+I2Gv15QBQ/xty1+HlAHOviNhr1eUAE54wo7ft5QPAWSFD89nlAJJf/kH71eUA2qz5XW+55QPLSTWIQ83lAI9v5fmrteUAE54wo7e95QPjCZKpg63lAI9v5fmrleUBEi2zn++Z5QPOOU3Qk53lAVcGopE7neUAE54wo7ed5QPp+arx033lANqs+V1veeUASg8DKoeB5QELPZtXn2nlAKcsQx7rheUA9m1Wfq+Z5QA==",
            "dtype": "f8"
           },
           "type": "candlestick",
           "x": [
            "2023-10-04T09:30:00.000000000",
            "2023-10-04T09:35:00.000000000",
            "2023-10-04T09:40:00.000000000",
            "2023-10-04T09:45:00.000000000",
            "2023-10-04T09:50:00.000000000",
            "2023-10-04T09:55:00.000000000",
            "2023-10-04T10:00:00.000000000",
            "2023-10-04T10:05:00.000000000",
            "2023-10-04T10:10:00.000000000",
            "2023-10-04T10:15:00.000000000",
            "2023-10-04T10:20:00.000000000",
            "2023-10-04T10:25:00.000000000",
            "2023-10-04T10:30:00.000000000",
            "2023-10-04T10:35:00.000000000",
            "2023-10-04T10:40:00.000000000",
            "2023-10-04T10:45:00.000000000",
            "2023-10-04T10:50:00.000000000",
            "2023-10-04T10:55:00.000000000",
            "2023-10-04T11:00:00.000000000",
            "2023-10-04T11:05:00.000000000",
            "2023-10-04T11:10:00.000000000",
            "2023-10-04T11:15:00.000000000",
            "2023-10-04T11:20:00.000000000",
            "2023-10-04T11:25:00.000000000",
            "2023-10-04T11:30:00.000000000",
            "2023-10-04T11:35:00.000000000",
            "2023-10-04T11:40:00.000000000",
            "2023-10-04T11:45:00.000000000",
            "2023-10-04T11:50:00.000000000",
            "2023-10-04T11:55:00.000000000",
            "2023-10-04T12:00:00.000000000",
            "2023-10-04T12:05:00.000000000",
            "2023-10-04T12:10:00.000000000",
            "2023-10-04T12:15:00.000000000",
            "2023-10-04T12:20:00.000000000",
            "2023-10-04T12:25:00.000000000",
            "2023-10-04T12:30:00.000000000",
            "2023-10-04T12:35:00.000000000",
            "2023-10-04T12:40:00.000000000",
            "2023-10-04T12:45:00.000000000",
            "2023-10-04T12:50:00.000000000",
            "2023-10-04T12:55:00.000000000",
            "2023-10-04T13:00:00.000000000",
            "2023-10-04T13:05:00.000000000",
            "2023-10-04T13:10:00.000000000",
            "2023-10-04T13:15:00.000000000",
            "2023-10-04T13:20:00.000000000",
            "2023-10-04T13:25:00.000000000",
            "2023-10-04T13:30:00.000000000",
            "2023-10-04T13:35:00.000000000",
            "2023-10-04T13:40:00.000000000",
            "2023-10-04T13:45:00.000000000",
            "2023-10-04T13:50:00.000000000",
            "2023-10-04T13:55:00.000000000",
            "2023-10-04T14:00:00.000000000",
            "2023-10-04T14:05:00.000000000",
            "2023-10-04T14:10:00.000000000",
            "2023-10-04T14:15:00.000000000",
            "2023-10-04T14:20:00.000000000"
           ]
          }
         ],
         "name": "Frame 59"
        },
        {
         "data": [
          {
           "close": {
            "bdata": "oBov3STneUAwuycPC+55QEVHcvkP43lACRueXinkeUD/snvysON5QK62Yn/Z43lAEoPAyqHUeUAu/yH99tF5QBsv3SQG2XlABOeMKO3XeUAmUwWjks15QH6MuWsJxnlAK4cW2c7ZeUAFo5I6Adx5QAWjkjoB3HlANe84RUfKeUAMk6mCUcx5QBb7y+7JzHlADk+vlGXQeUAtQxzr4tV5QDJ3LSEf2nlA+MJkqmDneUAUP8bcteB5QABvgQTF53lAKcsQx7rleUAAb4EExed5QBlz1xLy5HlABaOSOgHweUACK4cW2fN5QDarPldb+nlALv8h/fbxeUD/snvysPN5QBgmUwWj8XlAIR/0bFb5eUD4wmSqYPN5QO5aQj7o+nlAFR3J5T/9eUAPC7Wmefh5QCBj7lpC9XlABaOSOgH8eUDwFkhQ/PZ5QIlBYOXQ9HlAGlHaG3zueUD5oGez6vJ5QBzr4jYa7XlABOeMKO3veUD1SlmGOOt5QB04Z0Rp5XlAklz+Q/rmeUBEi2zn++Z5QPp+arx053lABOeMKO3neUBRa5p3nN95QEATYcPT3nlAF7fRAN7geUBCz2bV59p5QCnLEMe64XlAQBNhw9PmeUDUK2UZ4th5QEVHcvkP43lA",
            "dtype": "f8"
           },
           "decreasing": {
            "fillcolor": "#FF6347",
            "line": {
             "color": "#CC503A",
             "width": 0.6
            }
           },
           "high": {
            "bdata": "CtejcD3oeUAep+hILvF5QD9XW7G/7nlACtejcD3oeUAE54wo7ed5QD9XW7G/6nlALv8h/fbpeUA/V1uxv9p5QO5aQj7o2nlAKA8LtabZeUAep+hILtl5QBe30QDe0HlAK4cW2c7ZeUAOT6+UZeB5QGB2Tx4W5XlABaOSOgHgeUAu/yH99tF5QEp7gy9Mz3lA+8vuycPjeUBTBaOSOth5QDC7Jw8L3nlACRueXinseUA/V1uxv+p5QCSX/5B+6XlAHqfoSC7peUDhehSuR+p5QBHHuriN6HlAI9v5fmr1eUAgY+5aQvV5QOauJeSD+nlA8tJNYhD7eUDpJjEIrPZ5QBsv3SQG+XlAveMUHcn5eUAmUwWjkv15QPVKWYY4+3lAFD/G3LUAekDmriXkg/55QP+ye/Kw+3lAETY8vVL8eUASg8DKofx5QBsv3SQG+XlA6SYxCKz2eUAJG55eKfR5QAWjkjoB9HlA7lpCPujyeUD/snvysPN5QP+ye/Kw63lAFD/G3LXoeUAOT6+UZeh5QP32deCc53lAIR/0bFbpeUAOT6+UZeh5QFInoImw43lAF7fRAN7geUD1SlmGOON5QEVHcvkP43lA845TdCTneUD3Bl+YTOd5QAWjkjoB5HlA",
            "dtype": "f8"
           },
           "increasing": {
            "fillcolor": "#32CD32",
            "line": {
             "color": "#28A028",
             "width": 0.6
            }
           },
           "low": {
            "bdata": "Ne84RUfaeUBCz2bV5+J5QDhnRGlv4nlAPZtVn6veeUBIv30dONt5QL8OnDOi3HlAQs9m1efSeUBpb/CFycx5QFTjpZvEz3lAPL1SliHPeUARx7q4jch5QBzr4jYaxXlAI9v5fmrFeUAVjErqBNl5QEVHcvkP23lAIR/0bFbJeUAoDwu1psl5QE3zjlN0x3lARIts5/vGeUCX/5B++855QCnLEMe61XlAIR/0bFbZeUAAb4EExd95QBQ/xty14HlALv8h/fbheUARx7q4jeB5QDMzMzMz3nlAIR/0bFbheUA4Z0Rpb+p5QOviNhrA8nlAGy/dJAbxeUAHX5hMFfB5QPcGX5hM73lABOeMKO3veUDy0k1iEPN5QPjCZKpg83lADJOpglH4eUAE54wo7fd5QAdfmEwV9HlAF7fRAN70eUAj2/l+avV5QC7/If328XlALUMc6+LteUApyxDHuu15QBQ/xty17HlAFD/G3LXseUAhH/RsVul5QBHHuriN5HlACtejcD3geUACK4cW2eN5QBsv3SQG4XlAIGPuWkLleUAoDwu1pt15QAyTqYJR3HlAIR/0bFbZeUAtQxzr4tl5QDJ3LSEf2nlAHqfoSC7heUAwuycPC9Z5QP32deCc13lA",
            "dtype": "f8"
           },
           "name": "Price",
           "open": {
            "bdata": "FvvL7snceUD3Bl+YTOd5QC1DHOvi7XlARwN4CyTjeUD4wmSqYON5QP+ye/Kw43lAAiuHFtnjeUAPC7WmedR5QDXvOEVH0nlAIR/0bFbZeUAE54wo7dd5QCBj7lpCzXlALv8h/fbFeUCUh4Va09l5QAWjkjoB3HlABOeMKO3beUAydy0hH8p5QAyTqYJRzHlAFvvL7snMeUAK16NwPdB5QCnLEMe61XlAKA8LtabZeUD6fmq8dOd5QBsv3SQG4XlAAG+BBMXneUApyxDHuuV5QABvgQTF53lAGy/dJAbleUAAb4EExe95QAIrhxbZ83lALv8h/fb5eUAydy0hH/J5QP+ye/Kw83lAKA8LtabxeUAhH/RsVvl5QPjCZKpg83lA7Z48LNT6eUAc6+I2Gv15QBQ/xty1+HlAHOviNhr1eUAE54wo7ft5QPAWSFD89nlAJJf/kH71eUA2qz5XW+55QPLSTWIQ83lAI9v5fmrteUAE54wo7e95QPjCZKpg63lAI9v5fmrleUBEi2zn++Z5QPOOU3Qk53lAVcGopE7neUAE54wo7ed5QPp+arx033lANqs+V1veeUASg8DKoeB5QELPZtXn2nlAKcsQx7rheUA9m1Wfq+Z5QBe30QDe2HlA",
            "dtype": "f8"
           },
           "type": "candlestick",
           "x": [
            "2023-10-04T09:30:00.000000000",
            "2023-10-04T09:35:00.000000000",
            "2023-10-04T09:40:00.000000000",
            "2023-10-04T09:45:00.000000000",
            "2023-10-04T09:50:00.000000000",
            "2023-10-04T09:55:00.000000000",
            "2023-10-04T10:00:00.000000000",
            "2023-10-04T10:05:00.000000000",
            "2023-10-04T10:10:00.000000000",
            "2023-10-04T10:15:00.000000000",
            "2023-10-04T10:20:00.000000000",
            "2023-10-04T10:25:00.000000000",
            "2023-10-04T10:30:00.000000000",
            "2023-10-04T10:35:00.000000000",
            "2023-10-04T10:40:00.000000000",
            "2023-10-04T10:45:00.000000000",
            "2023-10-04T10:50:00.000000000",
            "2023-10-04T10:55:00.000000000",
            "2023-10-04T11:00:00.000000000",
            "2023-10-04T11:05:00.000000000",
            "2023-10-04T11:10:00.000000000",
            "2023-10-04T11:15:00.000000000",
            "2023-10-04T11:20:00.000000000",
            "2023-10-04T11:25:00.000000000",
            "2023-10-04T11:30:00.000000000",
            "2023-10-04T11:35:00.000000000",
            "2023-10-04T11:40:00.000000000",
            "2023-10-04T11:45:00.000000000",
            "2023-10-04T11:50:00.000000000",
            "2023-10-04T11:55:00.000000000",
            "2023-10-04T12:00:00.000000000",
            "2023-10-04T12:05:00.000000000",
            "2023-10-04T12:10:00.000000000",
            "2023-10-04T12:15:00.000000000",
            "2023-10-04T12:20:00.000000000",
            "2023-10-04T12:25:00.000000000",
            "2023-10-04T12:30:00.000000000",
            "2023-10-04T12:35:00.000000000",
            "2023-10-04T12:40:00.000000000",
            "2023-10-04T12:45:00.000000000",
            "2023-10-04T12:50:00.000000000",
            "2023-10-04T12:55:00.000000000",
            "2023-10-04T13:00:00.000000000",
            "2023-10-04T13:05:00.000000000",
            "2023-10-04T13:10:00.000000000",
            "2023-10-04T13:15:00.000000000",
            "2023-10-04T13:20:00.000000000",
            "2023-10-04T13:25:00.000000000",
            "2023-10-04T13:30:00.000000000",
            "2023-10-04T13:35:00.000000000",
            "2023-10-04T13:40:00.000000000",
            "2023-10-04T13:45:00.000000000",
            "2023-10-04T13:50:00.000000000",
            "2023-10-04T13:55:00.000000000",
            "2023-10-04T14:00:00.000000000",
            "2023-10-04T14:05:00.000000000",
            "2023-10-04T14:10:00.000000000",
            "2023-10-04T14:15:00.000000000",
            "2023-10-04T14:20:00.000000000",
            "2023-10-04T14:25:00.000000000"
           ]
          }
         ],
         "name": "Frame 60"
        },
        {
         "data": [
          {
           "close": {
            "bdata": "oBov3STneUAwuycPC+55QEVHcvkP43lACRueXinkeUD/snvysON5QK62Yn/Z43lAEoPAyqHUeUAu/yH99tF5QBsv3SQG2XlABOeMKO3XeUAmUwWjks15QH6MuWsJxnlAK4cW2c7ZeUAFo5I6Adx5QAWjkjoB3HlANe84RUfKeUAMk6mCUcx5QBb7y+7JzHlADk+vlGXQeUAtQxzr4tV5QDJ3LSEf2nlA+MJkqmDneUAUP8bcteB5QABvgQTF53lAKcsQx7rleUAAb4EExed5QBlz1xLy5HlABaOSOgHweUACK4cW2fN5QDarPldb+nlALv8h/fbxeUD/snvysPN5QBgmUwWj8XlAIR/0bFb5eUD4wmSqYPN5QO5aQj7o+nlAFR3J5T/9eUAPC7Wmefh5QCBj7lpC9XlABaOSOgH8eUDwFkhQ/PZ5QIlBYOXQ9HlAGlHaG3zueUD5oGez6vJ5QBzr4jYa7XlABOeMKO3veUD1SlmGOOt5QB04Z0Rp5XlAklz+Q/rmeUBEi2zn++Z5QPp+arx053lABOeMKO3neUBRa5p3nN95QEATYcPT3nlAF7fRAN7geUBCz2bV59p5QCnLEMe64XlAQBNhw9PmeUDUK2UZ4th5QEVHcvkP43lAX5hMFYzgeUA=",
            "dtype": "f8"
           },
           "decreasing": {
            "fillcolor": "#FF6347",
            "line": {
             "color": "#CC503A",
             "width": 0.6
            }
           },
           "high": {
            "bdata": "CtejcD3oeUAep+hILvF5QD9XW7G/7nlACtejcD3oeUAE54wo7ed5QD9XW7G/6nlALv8h/fbpeUA/V1uxv9p5QO5aQj7o2nlAKA8LtabZeUAep+hILtl5QBe30QDe0HlAK4cW2c7ZeUAOT6+UZeB5QGB2Tx4W5XlABaOSOgHgeUAu/yH99tF5QEp7gy9Mz3lA+8vuycPjeUBTBaOSOth5QDC7Jw8L3nlACRueXinseUA/V1uxv+p5QCSX/5B+6XlAHqfoSC7peUDhehSuR+p5QBHHuriN6HlAI9v5fmr1eUAgY+5aQvV5QOauJeSD+nlA8tJNYhD7eUDpJjEIrPZ5QBsv3SQG+XlAveMUHcn5eUAmUwWjkv15QPVKWYY4+3lAFD/G3LUAekDmriXkg/55QP+ye/Kw+3lAETY8vVL8eUASg8DKofx5QBsv3SQG+XlA6SYxCKz2eUAJG55eKfR5QAWjkjoB9HlA7lpCPujyeUD/snvysPN5QP+ye/Kw63lAFD/G3LXoeUAOT6+UZeh5QP32deCc53lAIR/0bFbpeUAOT6+UZeh5QFInoImw43lAF7fRAN7geUD1SlmGOON5QEVHcvkP43lA845TdCTneUD3Bl+YTOd5QAWjkjoB5HlADk+vlGXoeUA=",
            "dtype": "f8"
           },
           "increasing": {
            "fillcolor": "#32CD32",
            "line": {
             "color": "#28A028",
             "width": 0.6
            }
           },
           "low": {
            "bdata": "Ne84RUfaeUBCz2bV5+J5QDhnRGlv4nlAPZtVn6veeUBIv30dONt5QL8OnDOi3HlAQs9m1efSeUBpb/CFycx5QFTjpZvEz3lAPL1SliHPeUARx7q4jch5QBzr4jYaxXlAI9v5fmrFeUAVjErqBNl5QEVHcvkP23lAIR/0bFbJeUAoDwu1psl5QE3zjlN0x3lARIts5/vGeUCX/5B++855QCnLEMe61XlAIR/0bFbZeUAAb4EExd95QBQ/xty14HlALv8h/fbheUARx7q4jeB5QDMzMzMz3nlAIR/0bFbheUA4Z0Rpb+p5QOviNhrA8nlAGy/dJAbxeUAHX5hMFfB5QPcGX5hM73lABOeMKO3veUDy0k1iEPN5QPjCZKpg83lADJOpglH4eUAE54wo7fd5QAdfmEwV9HlAF7fRAN70eUAj2/l+avV5QC7/If328XlALUMc6+LteUApyxDHuu15QBQ/xty17HlAFD/G3LXseUAhH/RsVul5QBHHuriN5HlACtejcD3geUACK4cW2eN5QBsv3SQG4XlAIGPuWkLleUAoDwu1pt15QAyTqYJR3HlAIR/0bFbZeUAtQxzr4tl5QDJ3LSEf2nlAHqfoSC7heUAwuycPC9Z5QP32deCc13lACtejcD3geUA=",
            "dtype": "f8"
           },
           "name": "Price",
           "open": {
            "bdata": "FvvL7snceUD3Bl+YTOd5QC1DHOvi7XlARwN4CyTjeUD4wmSqYON5QP+ye/Kw43lAAiuHFtnjeUAPC7WmedR5QDXvOEVH0nlAIR/0bFbZeUAE54wo7dd5QCBj7lpCzXlALv8h/fbFeUCUh4Va09l5QAWjkjoB3HlABOeMKO3beUAydy0hH8p5QAyTqYJRzHlAFvvL7snMeUAK16NwPdB5QCnLEMe61XlAKA8LtabZeUD6fmq8dOd5QBsv3SQG4XlAAG+BBMXneUApyxDHuuV5QABvgQTF53lAGy/dJAbleUAAb4EExe95QAIrhxbZ83lALv8h/fb5eUAydy0hH/J5QP+ye/Kw83lAKA8LtabxeUAhH/RsVvl5QPjCZKpg83lA7Z48LNT6eUAc6+I2Gv15QBQ/xty1+HlAHOviNhr1eUAE54wo7ft5QPAWSFD89nlAJJf/kH71eUA2qz5XW+55QPLSTWIQ83lAI9v5fmrteUAE54wo7e95QPjCZKpg63lAI9v5fmrleUBEi2zn++Z5QPOOU3Qk53lAVcGopE7neUAE54wo7ed5QPp+arx033lANqs+V1veeUASg8DKoeB5QELPZtXn2nlAKcsQx7rheUA9m1Wfq+Z5QBe30QDe2HlAQs9m1efieUA=",
            "dtype": "f8"
           },
           "type": "candlestick",
           "x": [
            "2023-10-04T09:30:00.000000000",
            "2023-10-04T09:35:00.000000000",
            "2023-10-04T09:40:00.000000000",
            "2023-10-04T09:45:00.000000000",
            "2023-10-04T09:50:00.000000000",
            "2023-10-04T09:55:00.000000000",
            "2023-10-04T10:00:00.000000000",
            "2023-10-04T10:05:00.000000000",
            "2023-10-04T10:10:00.000000000",
            "2023-10-04T10:15:00.000000000",
            "2023-10-04T10:20:00.000000000",
            "2023-10-04T10:25:00.000000000",
            "2023-10-04T10:30:00.000000000",
            "2023-10-04T10:35:00.000000000",
            "2023-10-04T10:40:00.000000000",
            "2023-10-04T10:45:00.000000000",
            "2023-10-04T10:50:00.000000000",
            "2023-10-04T10:55:00.000000000",
            "2023-10-04T11:00:00.000000000",
            "2023-10-04T11:05:00.000000000",
            "2023-10-04T11:10:00.000000000",
            "2023-10-04T11:15:00.000000000",
            "2023-10-04T11:20:00.000000000",
            "2023-10-04T11:25:00.000000000",
            "2023-10-04T11:30:00.000000000",
            "2023-10-04T11:35:00.000000000",
            "2023-10-04T11:40:00.000000000",
            "2023-10-04T11:45:00.000000000",
            "2023-10-04T11:50:00.000000000",
            "2023-10-04T11:55:00.000000000",
            "2023-10-04T12:00:00.000000000",
            "2023-10-04T12:05:00.000000000",
            "2023-10-04T12:10:00.000000000",
            "2023-10-04T12:15:00.000000000",
            "2023-10-04T12:20:00.000000000",
            "2023-10-04T12:25:00.000000000",
            "2023-10-04T12:30:00.000000000",
            "2023-10-04T12:35:00.000000000",
            "2023-10-04T12:40:00.000000000",
            "2023-10-04T12:45:00.000000000",
            "2023-10-04T12:50:00.000000000",
            "2023-10-04T12:55:00.000000000",
            "2023-10-04T13:00:00.000000000",
            "2023-10-04T13:05:00.000000000",
            "2023-10-04T13:10:00.000000000",
            "2023-10-04T13:15:00.000000000",
            "2023-10-04T13:20:00.000000000",
            "2023-10-04T13:25:00.000000000",
            "2023-10-04T13:30:00.000000000",
            "2023-10-04T13:35:00.000000000",
            "2023-10-04T13:40:00.000000000",
            "2023-10-04T13:45:00.000000000",
            "2023-10-04T13:50:00.000000000",
            "2023-10-04T13:55:00.000000000",
            "2023-10-04T14:00:00.000000000",
            "2023-10-04T14:05:00.000000000",
            "2023-10-04T14:10:00.000000000",
            "2023-10-04T14:15:00.000000000",
            "2023-10-04T14:20:00.000000000",
            "2023-10-04T14:25:00.000000000",
            "2023-10-04T14:30:00.000000000"
           ]
          }
         ],
         "name": "Frame 61"
        },
        {
         "data": [
          {
           "close": {
            "bdata": "oBov3STneUAwuycPC+55QEVHcvkP43lACRueXinkeUD/snvysON5QK62Yn/Z43lAEoPAyqHUeUAu/yH99tF5QBsv3SQG2XlABOeMKO3XeUAmUwWjks15QH6MuWsJxnlAK4cW2c7ZeUAFo5I6Adx5QAWjkjoB3HlANe84RUfKeUAMk6mCUcx5QBb7y+7JzHlADk+vlGXQeUAtQxzr4tV5QDJ3LSEf2nlA+MJkqmDneUAUP8bcteB5QABvgQTF53lAKcsQx7rleUAAb4EExed5QBlz1xLy5HlABaOSOgHweUACK4cW2fN5QDarPldb+nlALv8h/fbxeUD/snvysPN5QBgmUwWj8XlAIR/0bFb5eUD4wmSqYPN5QO5aQj7o+nlAFR3J5T/9eUAPC7Wmefh5QCBj7lpC9XlABaOSOgH8eUDwFkhQ/PZ5QIlBYOXQ9HlAGlHaG3zueUD5oGez6vJ5QBzr4jYa7XlABOeMKO3veUD1SlmGOOt5QB04Z0Rp5XlAklz+Q/rmeUBEi2zn++Z5QPp+arx053lABOeMKO3neUBRa5p3nN95QEATYcPT3nlAF7fRAN7geUBCz2bV59p5QCnLEMe64XlAQBNhw9PmeUDUK2UZ4th5QEVHcvkP43lAX5hMFYzgeUAUP8bcteR5QA==",
            "dtype": "f8"
           },
           "decreasing": {
            "fillcolor": "#FF6347",
            "line": {
             "color": "#CC503A",
             "width": 0.6
            }
           },
           "high": {
            "bdata": "CtejcD3oeUAep+hILvF5QD9XW7G/7nlACtejcD3oeUAE54wo7ed5QD9XW7G/6nlALv8h/fbpeUA/V1uxv9p5QO5aQj7o2nlAKA8LtabZeUAep+hILtl5QBe30QDe0HlAK4cW2c7ZeUAOT6+UZeB5QGB2Tx4W5XlABaOSOgHgeUAu/yH99tF5QEp7gy9Mz3lA+8vuycPjeUBTBaOSOth5QDC7Jw8L3nlACRueXinseUA/V1uxv+p5QCSX/5B+6XlAHqfoSC7peUDhehSuR+p5QBHHuriN6HlAI9v5fmr1eUAgY+5aQvV5QOauJeSD+nlA8tJNYhD7eUDpJjEIrPZ5QBsv3SQG+XlAveMUHcn5eUAmUwWjkv15QPVKWYY4+3lAFD/G3LUAekDmriXkg/55QP+ye/Kw+3lAETY8vVL8eUASg8DKofx5QBsv3SQG+XlA6SYxCKz2eUAJG55eKfR5QAWjkjoB9HlA7lpCPujyeUD/snvysPN5QP+ye/Kw63lAFD/G3LXoeUAOT6+UZeh5QP32deCc53lAIR/0bFbpeUAOT6+UZeh5QFInoImw43lAF7fRAN7geUD1SlmGOON5QEVHcvkP43lA845TdCTneUD3Bl+YTOd5QAWjkjoB5HlADk+vlGXoeUAhH/RsVuV5QA==",
            "dtype": "f8"
           },
           "increasing": {
            "fillcolor": "#32CD32",
            "line": {
             "color": "#28A028",
             "width": 0.6
            }
           },
           "low": {
            "bdata": "Ne84RUfaeUBCz2bV5+J5QDhnRGlv4nlAPZtVn6veeUBIv30dONt5QL8OnDOi3HlAQs9m1efSeUBpb/CFycx5QFTjpZvEz3lAPL1SliHPeUARx7q4jch5QBzr4jYaxXlAI9v5fmrFeUAVjErqBNl5QEVHcvkP23lAIR/0bFbJeUAoDwu1psl5QE3zjlN0x3lARIts5/vGeUCX/5B++855QCnLEMe61XlAIR/0bFbZeUAAb4EExd95QBQ/xty14HlALv8h/fbheUARx7q4jeB5QDMzMzMz3nlAIR/0bFbheUA4Z0Rpb+p5QOviNhrA8nlAGy/dJAbxeUAHX5hMFfB5QPcGX5hM73lABOeMKO3veUDy0k1iEPN5QPjCZKpg83lADJOpglH4eUAE54wo7fd5QAdfmEwV9HlAF7fRAN70eUAj2/l+avV5QC7/If328XlALUMc6+LteUApyxDHuu15QBQ/xty17HlAFD/G3LXseUAhH/RsVul5QBHHuriN5HlACtejcD3geUACK4cW2eN5QBsv3SQG4XlAIGPuWkLleUAoDwu1pt15QAyTqYJR3HlAIR/0bFbZeUAtQxzr4tl5QDJ3LSEf2nlAHqfoSC7heUAwuycPC9Z5QP32deCc13lACtejcD3geUAgY+5aQt15QA==",
            "dtype": "f8"
           },
           "name": "Price",
           "open": {
            "bdata": "FvvL7snceUD3Bl+YTOd5QC1DHOvi7XlARwN4CyTjeUD4wmSqYON5QP+ye/Kw43lAAiuHFtnjeUAPC7WmedR5QDXvOEVH0nlAIR/0bFbZeUAE54wo7dd5QCBj7lpCzXlALv8h/fbFeUCUh4Va09l5QAWjkjoB3HlABOeMKO3beUAydy0hH8p5QAyTqYJRzHlAFvvL7snMeUAK16NwPdB5QCnLEMe61XlAKA8LtabZeUD6fmq8dOd5QBsv3SQG4XlAAG+BBMXneUApyxDHuuV5QABvgQTF53lAGy/dJAbleUAAb4EExe95QAIrhxbZ83lALv8h/fb5eUAydy0hH/J5QP+ye/Kw83lAKA8LtabxeUAhH/RsVvl5QPjCZKpg83lA7Z48LNT6eUAc6+I2Gv15QBQ/xty1+HlAHOviNhr1eUAE54wo7ft5QPAWSFD89nlAJJf/kH71eUA2qz5XW+55QPLSTWIQ83lAI9v5fmrteUAE54wo7e95QPjCZKpg63lAI9v5fmrleUBEi2zn++Z5QPOOU3Qk53lAVcGopE7neUAE54wo7ed5QPp+arx033lANqs+V1veeUASg8DKoeB5QELPZtXn2nlAKcsQx7rheUA9m1Wfq+Z5QBe30QDe2HlAQs9m1efieUAOT6+UZeB5QA==",
            "dtype": "f8"
           },
           "type": "candlestick",
           "x": [
            "2023-10-04T09:30:00.000000000",
            "2023-10-04T09:35:00.000000000",
            "2023-10-04T09:40:00.000000000",
            "2023-10-04T09:45:00.000000000",
            "2023-10-04T09:50:00.000000000",
            "2023-10-04T09:55:00.000000000",
            "2023-10-04T10:00:00.000000000",
            "2023-10-04T10:05:00.000000000",
            "2023-10-04T10:10:00.000000000",
            "2023-10-04T10:15:00.000000000",
            "2023-10-04T10:20:00.000000000",
            "2023-10-04T10:25:00.000000000",
            "2023-10-04T10:30:00.000000000",
            "2023-10-04T10:35:00.000000000",
            "2023-10-04T10:40:00.000000000",
            "2023-10-04T10:45:00.000000000",
            "2023-10-04T10:50:00.000000000",
            "2023-10-04T10:55:00.000000000",
            "2023-10-04T11:00:00.000000000",
            "2023-10-04T11:05:00.000000000",
            "2023-10-04T11:10:00.000000000",
            "2023-10-04T11:15:00.000000000",
            "2023-10-04T11:20:00.000000000",
            "2023-10-04T11:25:00.000000000",
            "2023-10-04T11:30:00.000000000",
            "2023-10-04T11:35:00.000000000",
            "2023-10-04T11:40:00.000000000",
            "2023-10-04T11:45:00.000000000",
            "2023-10-04T11:50:00.000000000",
            "2023-10-04T11:55:00.000000000",
            "2023-10-04T12:00:00.000000000",
            "2023-10-04T12:05:00.000000000",
            "2023-10-04T12:10:00.000000000",
            "2023-10-04T12:15:00.000000000",
            "2023-10-04T12:20:00.000000000",
            "2023-10-04T12:25:00.000000000",
            "2023-10-04T12:30:00.000000000",
            "2023-10-04T12:35:00.000000000",
            "2023-10-04T12:40:00.000000000",
            "2023-10-04T12:45:00.000000000",
            "2023-10-04T12:50:00.000000000",
            "2023-10-04T12:55:00.000000000",
            "2023-10-04T13:00:00.000000000",
            "2023-10-04T13:05:00.000000000",
            "2023-10-04T13:10:00.000000000",
            "2023-10-04T13:15:00.000000000",
            "2023-10-04T13:20:00.000000000",
            "2023-10-04T13:25:00.000000000",
            "2023-10-04T13:30:00.000000000",
            "2023-10-04T13:35:00.000000000",
            "2023-10-04T13:40:00.000000000",
            "2023-10-04T13:45:00.000000000",
            "2023-10-04T13:50:00.000000000",
            "2023-10-04T13:55:00.000000000",
            "2023-10-04T14:00:00.000000000",
            "2023-10-04T14:05:00.000000000",
            "2023-10-04T14:10:00.000000000",
            "2023-10-04T14:15:00.000000000",
            "2023-10-04T14:20:00.000000000",
            "2023-10-04T14:25:00.000000000",
            "2023-10-04T14:30:00.000000000",
            "2023-10-04T14:35:00.000000000"
           ]
          }
         ],
         "name": "Frame 62"
        },
        {
         "data": [
          {
           "close": {
            "bdata": "oBov3STneUAwuycPC+55QEVHcvkP43lACRueXinkeUD/snvysON5QK62Yn/Z43lAEoPAyqHUeUAu/yH99tF5QBsv3SQG2XlABOeMKO3XeUAmUwWjks15QH6MuWsJxnlAK4cW2c7ZeUAFo5I6Adx5QAWjkjoB3HlANe84RUfKeUAMk6mCUcx5QBb7y+7JzHlADk+vlGXQeUAtQxzr4tV5QDJ3LSEf2nlA+MJkqmDneUAUP8bcteB5QABvgQTF53lAKcsQx7rleUAAb4EExed5QBlz1xLy5HlABaOSOgHweUACK4cW2fN5QDarPldb+nlALv8h/fbxeUD/snvysPN5QBgmUwWj8XlAIR/0bFb5eUD4wmSqYPN5QO5aQj7o+nlAFR3J5T/9eUAPC7Wmefh5QCBj7lpC9XlABaOSOgH8eUDwFkhQ/PZ5QIlBYOXQ9HlAGlHaG3zueUD5oGez6vJ5QBzr4jYa7XlABOeMKO3veUD1SlmGOOt5QB04Z0Rp5XlAklz+Q/rmeUBEi2zn++Z5QPp+arx053lABOeMKO3neUBRa5p3nN95QEATYcPT3nlAF7fRAN7geUBCz2bV59p5QCnLEMe64XlAQBNhw9PmeUDUK2UZ4th5QEVHcvkP43lAX5hMFYzgeUAUP8bcteR5QNuK/WX36XlA",
            "dtype": "f8"
           },
           "decreasing": {
            "fillcolor": "#FF6347",
            "line": {
             "color": "#CC503A",
             "width": 0.6
            }
           },
           "high": {
            "bdata": "CtejcD3oeUAep+hILvF5QD9XW7G/7nlACtejcD3oeUAE54wo7ed5QD9XW7G/6nlALv8h/fbpeUA/V1uxv9p5QO5aQj7o2nlAKA8LtabZeUAep+hILtl5QBe30QDe0HlAK4cW2c7ZeUAOT6+UZeB5QGB2Tx4W5XlABaOSOgHgeUAu/yH99tF5QEp7gy9Mz3lA+8vuycPjeUBTBaOSOth5QDC7Jw8L3nlACRueXinseUA/V1uxv+p5QCSX/5B+6XlAHqfoSC7peUDhehSuR+p5QBHHuriN6HlAI9v5fmr1eUAgY+5aQvV5QOauJeSD+nlA8tJNYhD7eUDpJjEIrPZ5QBsv3SQG+XlAveMUHcn5eUAmUwWjkv15QPVKWYY4+3lAFD/G3LUAekDmriXkg/55QP+ye/Kw+3lAETY8vVL8eUASg8DKofx5QBsv3SQG+XlA6SYxCKz2eUAJG55eKfR5QAWjkjoB9HlA7lpCPujyeUD/snvysPN5QP+ye/Kw63lAFD/G3LXoeUAOT6+UZeh5QP32deCc53lAIR/0bFbpeUAOT6+UZeh5QFInoImw43lAF7fRAN7geUD1SlmGOON5QEVHcvkP43lA845TdCTneUD3Bl+YTOd5QAWjkjoB5HlADk+vlGXoeUAhH/RsVuV5QDvfT42X6nlA",
            "dtype": "f8"
           },
           "increasing": {
            "fillcolor": "#32CD32",
            "line": {
             "color": "#28A028",
             "width": 0.6
            }
           },
           "low": {
            "bdata": "Ne84RUfaeUBCz2bV5+J5QDhnRGlv4nlAPZtVn6veeUBIv30dONt5QL8OnDOi3HlAQs9m1efSeUBpb/CFycx5QFTjpZvEz3lAPL1SliHPeUARx7q4jch5QBzr4jYaxXlAI9v5fmrFeUAVjErqBNl5QEVHcvkP23lAIR/0bFbJeUAoDwu1psl5QE3zjlN0x3lARIts5/vGeUCX/5B++855QCnLEMe61XlAIR/0bFbZeUAAb4EExd95QBQ/xty14HlALv8h/fbheUARx7q4jeB5QDMzMzMz3nlAIR/0bFbheUA4Z0Rpb+p5QOviNhrA8nlAGy/dJAbxeUAHX5hMFfB5QPcGX5hM73lABOeMKO3veUDy0k1iEPN5QPjCZKpg83lADJOpglH4eUAE54wo7fd5QAdfmEwV9HlAF7fRAN70eUAj2/l+avV5QC7/If328XlALUMc6+LteUApyxDHuu15QBQ/xty17HlAFD/G3LXseUAhH/RsVul5QBHHuriN5HlACtejcD3geUACK4cW2eN5QBsv3SQG4XlAIGPuWkLleUAoDwu1pt15QAyTqYJR3HlAIR/0bFbZeUAtQxzr4tl5QDJ3LSEf2nlAHqfoSC7heUAwuycPC9Z5QP32deCc13lACtejcD3geUAgY+5aQt15QPjCZKpg43lA",
            "dtype": "f8"
           },
           "name": "Price",
           "open": {
            "bdata": "FvvL7snceUD3Bl+YTOd5QC1DHOvi7XlARwN4CyTjeUD4wmSqYON5QP+ye/Kw43lAAiuHFtnjeUAPC7WmedR5QDXvOEVH0nlAIR/0bFbZeUAE54wo7dd5QCBj7lpCzXlALv8h/fbFeUCUh4Va09l5QAWjkjoB3HlABOeMKO3beUAydy0hH8p5QAyTqYJRzHlAFvvL7snMeUAK16NwPdB5QCnLEMe61XlAKA8LtabZeUD6fmq8dOd5QBsv3SQG4XlAAG+BBMXneUApyxDHuuV5QABvgQTF53lAGy/dJAbleUAAb4EExe95QAIrhxbZ83lALv8h/fb5eUAydy0hH/J5QP+ye/Kw83lAKA8LtabxeUAhH/RsVvl5QPjCZKpg83lA7Z48LNT6eUAc6+I2Gv15QBQ/xty1+HlAHOviNhr1eUAE54wo7ft5QPAWSFD89nlAJJf/kH71eUA2qz5XW+55QPLSTWIQ83lAI9v5fmrteUAE54wo7e95QPjCZKpg63lAI9v5fmrleUBEi2zn++Z5QPOOU3Qk53lAVcGopE7neUAE54wo7ed5QPp+arx033lANqs+V1veeUASg8DKoeB5QELPZtXn2nlAKcsQx7rheUA9m1Wfq+Z5QBe30QDe2HlAQs9m1efieUAOT6+UZeB5QBKDwMqh5HlA",
            "dtype": "f8"
           },
           "type": "candlestick",
           "x": [
            "2023-10-04T09:30:00.000000000",
            "2023-10-04T09:35:00.000000000",
            "2023-10-04T09:40:00.000000000",
            "2023-10-04T09:45:00.000000000",
            "2023-10-04T09:50:00.000000000",
            "2023-10-04T09:55:00.000000000",
            "2023-10-04T10:00:00.000000000",
            "2023-10-04T10:05:00.000000000",
            "2023-10-04T10:10:00.000000000",
            "2023-10-04T10:15:00.000000000",
            "2023-10-04T10:20:00.000000000",
            "2023-10-04T10:25:00.000000000",
            "2023-10-04T10:30:00.000000000",
            "2023-10-04T10:35:00.000000000",
            "2023-10-04T10:40:00.000000000",
            "2023-10-04T10:45:00.000000000",
            "2023-10-04T10:50:00.000000000",
            "2023-10-04T10:55:00.000000000",
            "2023-10-04T11:00:00.000000000",
            "2023-10-04T11:05:00.000000000",
            "2023-10-04T11:10:00.000000000",
            "2023-10-04T11:15:00.000000000",
            "2023-10-04T11:20:00.000000000",
            "2023-10-04T11:25:00.000000000",
            "2023-10-04T11:30:00.000000000",
            "2023-10-04T11:35:00.000000000",
            "2023-10-04T11:40:00.000000000",
            "2023-10-04T11:45:00.000000000",
            "2023-10-04T11:50:00.000000000",
            "2023-10-04T11:55:00.000000000",
            "2023-10-04T12:00:00.000000000",
            "2023-10-04T12:05:00.000000000",
            "2023-10-04T12:10:00.000000000",
            "2023-10-04T12:15:00.000000000",
            "2023-10-04T12:20:00.000000000",
            "2023-10-04T12:25:00.000000000",
            "2023-10-04T12:30:00.000000000",
            "2023-10-04T12:35:00.000000000",
            "2023-10-04T12:40:00.000000000",
            "2023-10-04T12:45:00.000000000",
            "2023-10-04T12:50:00.000000000",
            "2023-10-04T12:55:00.000000000",
            "2023-10-04T13:00:00.000000000",
            "2023-10-04T13:05:00.000000000",
            "2023-10-04T13:10:00.000000000",
            "2023-10-04T13:15:00.000000000",
            "2023-10-04T13:20:00.000000000",
            "2023-10-04T13:25:00.000000000",
            "2023-10-04T13:30:00.000000000",
            "2023-10-04T13:35:00.000000000",
            "2023-10-04T13:40:00.000000000",
            "2023-10-04T13:45:00.000000000",
            "2023-10-04T13:50:00.000000000",
            "2023-10-04T13:55:00.000000000",
            "2023-10-04T14:00:00.000000000",
            "2023-10-04T14:05:00.000000000",
            "2023-10-04T14:10:00.000000000",
            "2023-10-04T14:15:00.000000000",
            "2023-10-04T14:20:00.000000000",
            "2023-10-04T14:25:00.000000000",
            "2023-10-04T14:30:00.000000000",
            "2023-10-04T14:35:00.000000000",
            "2023-10-04T14:40:00.000000000"
           ]
          }
         ],
         "name": "Frame 63"
        },
        {
         "data": [
          {
           "close": {
            "bdata": "oBov3STneUAwuycPC+55QEVHcvkP43lACRueXinkeUD/snvysON5QK62Yn/Z43lAEoPAyqHUeUAu/yH99tF5QBsv3SQG2XlABOeMKO3XeUAmUwWjks15QH6MuWsJxnlAK4cW2c7ZeUAFo5I6Adx5QAWjkjoB3HlANe84RUfKeUAMk6mCUcx5QBb7y+7JzHlADk+vlGXQeUAtQxzr4tV5QDJ3LSEf2nlA+MJkqmDneUAUP8bcteB5QABvgQTF53lAKcsQx7rleUAAb4EExed5QBlz1xLy5HlABaOSOgHweUACK4cW2fN5QDarPldb+nlALv8h/fbxeUD/snvysPN5QBgmUwWj8XlAIR/0bFb5eUD4wmSqYPN5QO5aQj7o+nlAFR3J5T/9eUAPC7Wmefh5QCBj7lpC9XlABaOSOgH8eUDwFkhQ/PZ5QIlBYOXQ9HlAGlHaG3zueUD5oGez6vJ5QBzr4jYa7XlABOeMKO3veUD1SlmGOOt5QB04Z0Rp5XlAklz+Q/rmeUBEi2zn++Z5QPp+arx053lABOeMKO3neUBRa5p3nN95QEATYcPT3nlAF7fRAN7geUBCz2bV59p5QCnLEMe64XlAQBNhw9PmeUDUK2UZ4th5QEVHcvkP43lAX5hMFYzgeUAUP8bcteR5QNuK/WX36XlAJlMFo5LpeUA=",
            "dtype": "f8"
           },
           "decreasing": {
            "fillcolor": "#FF6347",
            "line": {
             "color": "#CC503A",
             "width": 0.6
            }
           },
           "high": {
            "bdata": "CtejcD3oeUAep+hILvF5QD9XW7G/7nlACtejcD3oeUAE54wo7ed5QD9XW7G/6nlALv8h/fbpeUA/V1uxv9p5QO5aQj7o2nlAKA8LtabZeUAep+hILtl5QBe30QDe0HlAK4cW2c7ZeUAOT6+UZeB5QGB2Tx4W5XlABaOSOgHgeUAu/yH99tF5QEp7gy9Mz3lA+8vuycPjeUBTBaOSOth5QDC7Jw8L3nlACRueXinseUA/V1uxv+p5QCSX/5B+6XlAHqfoSC7peUDhehSuR+p5QBHHuriN6HlAI9v5fmr1eUAgY+5aQvV5QOauJeSD+nlA8tJNYhD7eUDpJjEIrPZ5QBsv3SQG+XlAveMUHcn5eUAmUwWjkv15QPVKWYY4+3lAFD/G3LUAekDmriXkg/55QP+ye/Kw+3lAETY8vVL8eUASg8DKofx5QBsv3SQG+XlA6SYxCKz2eUAJG55eKfR5QAWjkjoB9HlA7lpCPujyeUD/snvysPN5QP+ye/Kw63lAFD/G3LXoeUAOT6+UZeh5QP32deCc53lAIR/0bFbpeUAOT6+UZeh5QFInoImw43lAF7fRAN7geUD1SlmGOON5QEVHcvkP43lA845TdCTneUD3Bl+YTOd5QAWjkjoB5HlADk+vlGXoeUAhH/RsVuV5QDvfT42X6nlAMLsnDwvueUA=",
            "dtype": "f8"
           },
           "increasing": {
            "fillcolor": "#32CD32",
            "line": {
             "color": "#28A028",
             "width": 0.6
            }
           },
           "low": {
            "bdata": "Ne84RUfaeUBCz2bV5+J5QDhnRGlv4nlAPZtVn6veeUBIv30dONt5QL8OnDOi3HlAQs9m1efSeUBpb/CFycx5QFTjpZvEz3lAPL1SliHPeUARx7q4jch5QBzr4jYaxXlAI9v5fmrFeUAVjErqBNl5QEVHcvkP23lAIR/0bFbJeUAoDwu1psl5QE3zjlN0x3lARIts5/vGeUCX/5B++855QCnLEMe61XlAIR/0bFbZeUAAb4EExd95QBQ/xty14HlALv8h/fbheUARx7q4jeB5QDMzMzMz3nlAIR/0bFbheUA4Z0Rpb+p5QOviNhrA8nlAGy/dJAbxeUAHX5hMFfB5QPcGX5hM73lABOeMKO3veUDy0k1iEPN5QPjCZKpg83lADJOpglH4eUAE54wo7fd5QAdfmEwV9HlAF7fRAN70eUAj2/l+avV5QC7/If328XlALUMc6+LteUApyxDHuu15QBQ/xty17HlAFD/G3LXseUAhH/RsVul5QBHHuriN5HlACtejcD3geUACK4cW2eN5QBsv3SQG4XlAIGPuWkLleUAoDwu1pt15QAyTqYJR3HlAIR/0bFbZeUAtQxzr4tl5QDJ3LSEf2nlAHqfoSC7heUAwuycPC9Z5QP32deCc13lACtejcD3geUAgY+5aQt15QPjCZKpg43lAHqfoSC7peUA=",
            "dtype": "f8"
           },
           "name": "Price",
           "open": {
            "bdata": "FvvL7snceUD3Bl+YTOd5QC1DHOvi7XlARwN4CyTjeUD4wmSqYON5QP+ye/Kw43lAAiuHFtnjeUAPC7WmedR5QDXvOEVH0nlAIR/0bFbZeUAE54wo7dd5QCBj7lpCzXlALv8h/fbFeUCUh4Va09l5QAWjkjoB3HlABOeMKO3beUAydy0hH8p5QAyTqYJRzHlAFvvL7snMeUAK16NwPdB5QCnLEMe61XlAKA8LtabZeUD6fmq8dOd5QBsv3SQG4XlAAG+BBMXneUApyxDHuuV5QABvgQTF53lAGy/dJAbleUAAb4EExe95QAIrhxbZ83lALv8h/fb5eUAydy0hH/J5QP+ye/Kw83lAKA8LtabxeUAhH/RsVvl5QPjCZKpg83lA7Z48LNT6eUAc6+I2Gv15QBQ/xty1+HlAHOviNhr1eUAE54wo7ft5QPAWSFD89nlAJJf/kH71eUA2qz5XW+55QPLSTWIQ83lAI9v5fmrteUAE54wo7e95QPjCZKpg63lAI9v5fmrleUBEi2zn++Z5QPOOU3Qk53lAVcGopE7neUAE54wo7ed5QPp+arx033lANqs+V1veeUASg8DKoeB5QELPZtXn2nlAKcsQx7rheUA9m1Wfq+Z5QBe30QDe2HlAQs9m1efieUAOT6+UZeB5QBKDwMqh5HlALv8h/fbpeUA=",
            "dtype": "f8"
           },
           "type": "candlestick",
           "x": [
            "2023-10-04T09:30:00.000000000",
            "2023-10-04T09:35:00.000000000",
            "2023-10-04T09:40:00.000000000",
            "2023-10-04T09:45:00.000000000",
            "2023-10-04T09:50:00.000000000",
            "2023-10-04T09:55:00.000000000",
            "2023-10-04T10:00:00.000000000",
            "2023-10-04T10:05:00.000000000",
            "2023-10-04T10:10:00.000000000",
            "2023-10-04T10:15:00.000000000",
            "2023-10-04T10:20:00.000000000",
            "2023-10-04T10:25:00.000000000",
            "2023-10-04T10:30:00.000000000",
            "2023-10-04T10:35:00.000000000",
            "2023-10-04T10:40:00.000000000",
            "2023-10-04T10:45:00.000000000",
            "2023-10-04T10:50:00.000000000",
            "2023-10-04T10:55:00.000000000",
            "2023-10-04T11:00:00.000000000",
            "2023-10-04T11:05:00.000000000",
            "2023-10-04T11:10:00.000000000",
            "2023-10-04T11:15:00.000000000",
            "2023-10-04T11:20:00.000000000",
            "2023-10-04T11:25:00.000000000",
            "2023-10-04T11:30:00.000000000",
            "2023-10-04T11:35:00.000000000",
            "2023-10-04T11:40:00.000000000",
            "2023-10-04T11:45:00.000000000",
            "2023-10-04T11:50:00.000000000",
            "2023-10-04T11:55:00.000000000",
            "2023-10-04T12:00:00.000000000",
            "2023-10-04T12:05:00.000000000",
            "2023-10-04T12:10:00.000000000",
            "2023-10-04T12:15:00.000000000",
            "2023-10-04T12:20:00.000000000",
            "2023-10-04T12:25:00.000000000",
            "2023-10-04T12:30:00.000000000",
            "2023-10-04T12:35:00.000000000",
            "2023-10-04T12:40:00.000000000",
            "2023-10-04T12:45:00.000000000",
            "2023-10-04T12:50:00.000000000",
            "2023-10-04T12:55:00.000000000",
            "2023-10-04T13:00:00.000000000",
            "2023-10-04T13:05:00.000000000",
            "2023-10-04T13:10:00.000000000",
            "2023-10-04T13:15:00.000000000",
            "2023-10-04T13:20:00.000000000",
            "2023-10-04T13:25:00.000000000",
            "2023-10-04T13:30:00.000000000",
            "2023-10-04T13:35:00.000000000",
            "2023-10-04T13:40:00.000000000",
            "2023-10-04T13:45:00.000000000",
            "2023-10-04T13:50:00.000000000",
            "2023-10-04T13:55:00.000000000",
            "2023-10-04T14:00:00.000000000",
            "2023-10-04T14:05:00.000000000",
            "2023-10-04T14:10:00.000000000",
            "2023-10-04T14:15:00.000000000",
            "2023-10-04T14:20:00.000000000",
            "2023-10-04T14:25:00.000000000",
            "2023-10-04T14:30:00.000000000",
            "2023-10-04T14:35:00.000000000",
            "2023-10-04T14:40:00.000000000",
            "2023-10-04T14:45:00.000000000"
           ]
          }
         ],
         "name": "Frame 64"
        },
        {
         "data": [
          {
           "close": {
            "bdata": "oBov3STneUAwuycPC+55QEVHcvkP43lACRueXinkeUD/snvysON5QK62Yn/Z43lAEoPAyqHUeUAu/yH99tF5QBsv3SQG2XlABOeMKO3XeUAmUwWjks15QH6MuWsJxnlAK4cW2c7ZeUAFo5I6Adx5QAWjkjoB3HlANe84RUfKeUAMk6mCUcx5QBb7y+7JzHlADk+vlGXQeUAtQxzr4tV5QDJ3LSEf2nlA+MJkqmDneUAUP8bcteB5QABvgQTF53lAKcsQx7rleUAAb4EExed5QBlz1xLy5HlABaOSOgHweUACK4cW2fN5QDarPldb+nlALv8h/fbxeUD/snvysPN5QBgmUwWj8XlAIR/0bFb5eUD4wmSqYPN5QO5aQj7o+nlAFR3J5T/9eUAPC7Wmefh5QCBj7lpC9XlABaOSOgH8eUDwFkhQ/PZ5QIlBYOXQ9HlAGlHaG3zueUD5oGez6vJ5QBzr4jYa7XlABOeMKO3veUD1SlmGOOt5QB04Z0Rp5XlAklz+Q/rmeUBEi2zn++Z5QPp+arx053lABOeMKO3neUBRa5p3nN95QEATYcPT3nlAF7fRAN7geUBCz2bV59p5QCnLEMe64XlAQBNhw9PmeUDUK2UZ4th5QEVHcvkP43lAX5hMFYzgeUAUP8bcteR5QNuK/WX36XlAJlMFo5LpeUAkl/+Qful5QA==",
            "dtype": "f8"
           },
           "decreasing": {
            "fillcolor": "#FF6347",
            "line": {
             "color": "#CC503A",
             "width": 0.6
            }
           },
           "high": {
            "bdata": "CtejcD3oeUAep+hILvF5QD9XW7G/7nlACtejcD3oeUAE54wo7ed5QD9XW7G/6nlALv8h/fbpeUA/V1uxv9p5QO5aQj7o2nlAKA8LtabZeUAep+hILtl5QBe30QDe0HlAK4cW2c7ZeUAOT6+UZeB5QGB2Tx4W5XlABaOSOgHgeUAu/yH99tF5QEp7gy9Mz3lA+8vuycPjeUBTBaOSOth5QDC7Jw8L3nlACRueXinseUA/V1uxv+p5QCSX/5B+6XlAHqfoSC7peUDhehSuR+p5QBHHuriN6HlAI9v5fmr1eUAgY+5aQvV5QOauJeSD+nlA8tJNYhD7eUDpJjEIrPZ5QBsv3SQG+XlAveMUHcn5eUAmUwWjkv15QPVKWYY4+3lAFD/G3LUAekDmriXkg/55QP+ye/Kw+3lAETY8vVL8eUASg8DKofx5QBsv3SQG+XlA6SYxCKz2eUAJG55eKfR5QAWjkjoB9HlA7lpCPujyeUD/snvysPN5QP+ye/Kw63lAFD/G3LXoeUAOT6+UZeh5QP32deCc53lAIR/0bFbpeUAOT6+UZeh5QFInoImw43lAF7fRAN7geUD1SlmGOON5QEVHcvkP43lA845TdCTneUD3Bl+YTOd5QAWjkjoB5HlADk+vlGXoeUAhH/RsVuV5QDvfT42X6nlAMLsnDwvueUD1SlmGOOt5QA==",
            "dtype": "f8"
           },
           "increasing": {
            "fillcolor": "#32CD32",
            "line": {
             "color": "#28A028",
             "width": 0.6
            }
           },
           "low": {
            "bdata": "Ne84RUfaeUBCz2bV5+J5QDhnRGlv4nlAPZtVn6veeUBIv30dONt5QL8OnDOi3HlAQs9m1efSeUBpb/CFycx5QFTjpZvEz3lAPL1SliHPeUARx7q4jch5QBzr4jYaxXlAI9v5fmrFeUAVjErqBNl5QEVHcvkP23lAIR/0bFbJeUAoDwu1psl5QE3zjlN0x3lARIts5/vGeUCX/5B++855QCnLEMe61XlAIR/0bFbZeUAAb4EExd95QBQ/xty14HlALv8h/fbheUARx7q4jeB5QDMzMzMz3nlAIR/0bFbheUA4Z0Rpb+p5QOviNhrA8nlAGy/dJAbxeUAHX5hMFfB5QPcGX5hM73lABOeMKO3veUDy0k1iEPN5QPjCZKpg83lADJOpglH4eUAE54wo7fd5QAdfmEwV9HlAF7fRAN70eUAj2/l+avV5QC7/If328XlALUMc6+LteUApyxDHuu15QBQ/xty17HlAFD/G3LXseUAhH/RsVul5QBHHuriN5HlACtejcD3geUACK4cW2eN5QBsv3SQG4XlAIGPuWkLleUAoDwu1pt15QAyTqYJR3HlAIR/0bFbZeUAtQxzr4tl5QDJ3LSEf2nlAHqfoSC7heUAwuycPC9Z5QP32deCc13lACtejcD3geUAgY+5aQt15QPjCZKpg43lAHqfoSC7peUD6fmq8dOd5QA==",
            "dtype": "f8"
           },
           "name": "Price",
           "open": {
            "bdata": "FvvL7snceUD3Bl+YTOd5QC1DHOvi7XlARwN4CyTjeUD4wmSqYON5QP+ye/Kw43lAAiuHFtnjeUAPC7WmedR5QDXvOEVH0nlAIR/0bFbZeUAE54wo7dd5QCBj7lpCzXlALv8h/fbFeUCUh4Va09l5QAWjkjoB3HlABOeMKO3beUAydy0hH8p5QAyTqYJRzHlAFvvL7snMeUAK16NwPdB5QCnLEMe61XlAKA8LtabZeUD6fmq8dOd5QBsv3SQG4XlAAG+BBMXneUApyxDHuuV5QABvgQTF53lAGy/dJAbleUAAb4EExe95QAIrhxbZ83lALv8h/fb5eUAydy0hH/J5QP+ye/Kw83lAKA8LtabxeUAhH/RsVvl5QPjCZKpg83lA7Z48LNT6eUAc6+I2Gv15QBQ/xty1+HlAHOviNhr1eUAE54wo7ft5QPAWSFD89nlAJJf/kH71eUA2qz5XW+55QPLSTWIQ83lAI9v5fmrteUAE54wo7e95QPjCZKpg63lAI9v5fmrleUBEi2zn++Z5QPOOU3Qk53lAVcGopE7neUAE54wo7ed5QPp+arx033lANqs+V1veeUASg8DKoeB5QELPZtXn2nlAKcsQx7rheUA9m1Wfq+Z5QBe30QDe2HlAQs9m1efieUAOT6+UZeB5QBKDwMqh5HlALv8h/fbpeUAhH/RsVul5QA==",
            "dtype": "f8"
           },
           "type": "candlestick",
           "x": [
            "2023-10-04T09:30:00.000000000",
            "2023-10-04T09:35:00.000000000",
            "2023-10-04T09:40:00.000000000",
            "2023-10-04T09:45:00.000000000",
            "2023-10-04T09:50:00.000000000",
            "2023-10-04T09:55:00.000000000",
            "2023-10-04T10:00:00.000000000",
            "2023-10-04T10:05:00.000000000",
            "2023-10-04T10:10:00.000000000",
            "2023-10-04T10:15:00.000000000",
            "2023-10-04T10:20:00.000000000",
            "2023-10-04T10:25:00.000000000",
            "2023-10-04T10:30:00.000000000",
            "2023-10-04T10:35:00.000000000",
            "2023-10-04T10:40:00.000000000",
            "2023-10-04T10:45:00.000000000",
            "2023-10-04T10:50:00.000000000",
            "2023-10-04T10:55:00.000000000",
            "2023-10-04T11:00:00.000000000",
            "2023-10-04T11:05:00.000000000",
            "2023-10-04T11:10:00.000000000",
            "2023-10-04T11:15:00.000000000",
            "2023-10-04T11:20:00.000000000",
            "2023-10-04T11:25:00.000000000",
            "2023-10-04T11:30:00.000000000",
            "2023-10-04T11:35:00.000000000",
            "2023-10-04T11:40:00.000000000",
            "2023-10-04T11:45:00.000000000",
            "2023-10-04T11:50:00.000000000",
            "2023-10-04T11:55:00.000000000",
            "2023-10-04T12:00:00.000000000",
            "2023-10-04T12:05:00.000000000",
            "2023-10-04T12:10:00.000000000",
            "2023-10-04T12:15:00.000000000",
            "2023-10-04T12:20:00.000000000",
            "2023-10-04T12:25:00.000000000",
            "2023-10-04T12:30:00.000000000",
            "2023-10-04T12:35:00.000000000",
            "2023-10-04T12:40:00.000000000",
            "2023-10-04T12:45:00.000000000",
            "2023-10-04T12:50:00.000000000",
            "2023-10-04T12:55:00.000000000",
            "2023-10-04T13:00:00.000000000",
            "2023-10-04T13:05:00.000000000",
            "2023-10-04T13:10:00.000000000",
            "2023-10-04T13:15:00.000000000",
            "2023-10-04T13:20:00.000000000",
            "2023-10-04T13:25:00.000000000",
            "2023-10-04T13:30:00.000000000",
            "2023-10-04T13:35:00.000000000",
            "2023-10-04T13:40:00.000000000",
            "2023-10-04T13:45:00.000000000",
            "2023-10-04T13:50:00.000000000",
            "2023-10-04T13:55:00.000000000",
            "2023-10-04T14:00:00.000000000",
            "2023-10-04T14:05:00.000000000",
            "2023-10-04T14:10:00.000000000",
            "2023-10-04T14:15:00.000000000",
            "2023-10-04T14:20:00.000000000",
            "2023-10-04T14:25:00.000000000",
            "2023-10-04T14:30:00.000000000",
            "2023-10-04T14:35:00.000000000",
            "2023-10-04T14:40:00.000000000",
            "2023-10-04T14:45:00.000000000",
            "2023-10-04T14:50:00.000000000"
           ]
          }
         ],
         "name": "Frame 65"
        },
        {
         "data": [
          {
           "close": {
            "bdata": "oBov3STneUAwuycPC+55QEVHcvkP43lACRueXinkeUD/snvysON5QK62Yn/Z43lAEoPAyqHUeUAu/yH99tF5QBsv3SQG2XlABOeMKO3XeUAmUwWjks15QH6MuWsJxnlAK4cW2c7ZeUAFo5I6Adx5QAWjkjoB3HlANe84RUfKeUAMk6mCUcx5QBb7y+7JzHlADk+vlGXQeUAtQxzr4tV5QDJ3LSEf2nlA+MJkqmDneUAUP8bcteB5QABvgQTF53lAKcsQx7rleUAAb4EExed5QBlz1xLy5HlABaOSOgHweUACK4cW2fN5QDarPldb+nlALv8h/fbxeUD/snvysPN5QBgmUwWj8XlAIR/0bFb5eUD4wmSqYPN5QO5aQj7o+nlAFR3J5T/9eUAPC7Wmefh5QCBj7lpC9XlABaOSOgH8eUDwFkhQ/PZ5QIlBYOXQ9HlAGlHaG3zueUD5oGez6vJ5QBzr4jYa7XlABOeMKO3veUD1SlmGOOt5QB04Z0Rp5XlAklz+Q/rmeUBEi2zn++Z5QPp+arx053lABOeMKO3neUBRa5p3nN95QEATYcPT3nlAF7fRAN7geUBCz2bV59p5QCnLEMe64XlAQBNhw9PmeUDUK2UZ4th5QEVHcvkP43lAX5hMFYzgeUAUP8bcteR5QNuK/WX36XlAJlMFo5LpeUAkl/+Qful5QDarPldb7nlA",
            "dtype": "f8"
           },
           "decreasing": {
            "fillcolor": "#FF6347",
            "line": {
             "color": "#CC503A",
             "width": 0.6
            }
           },
           "high": {
            "bdata": "CtejcD3oeUAep+hILvF5QD9XW7G/7nlACtejcD3oeUAE54wo7ed5QD9XW7G/6nlALv8h/fbpeUA/V1uxv9p5QO5aQj7o2nlAKA8LtabZeUAep+hILtl5QBe30QDe0HlAK4cW2c7ZeUAOT6+UZeB5QGB2Tx4W5XlABaOSOgHgeUAu/yH99tF5QEp7gy9Mz3lA+8vuycPjeUBTBaOSOth5QDC7Jw8L3nlACRueXinseUA/V1uxv+p5QCSX/5B+6XlAHqfoSC7peUDhehSuR+p5QBHHuriN6HlAI9v5fmr1eUAgY+5aQvV5QOauJeSD+nlA8tJNYhD7eUDpJjEIrPZ5QBsv3SQG+XlAveMUHcn5eUAmUwWjkv15QPVKWYY4+3lAFD/G3LUAekDmriXkg/55QP+ye/Kw+3lAETY8vVL8eUASg8DKofx5QBsv3SQG+XlA6SYxCKz2eUAJG55eKfR5QAWjkjoB9HlA7lpCPujyeUD/snvysPN5QP+ye/Kw63lAFD/G3LXoeUAOT6+UZeh5QP32deCc53lAIR/0bFbpeUAOT6+UZeh5QFInoImw43lAF7fRAN7geUD1SlmGOON5QEVHcvkP43lA845TdCTneUD3Bl+YTOd5QAWjkjoB5HlADk+vlGXoeUAhH/RsVuV5QDvfT42X6nlAMLsnDwvueUD1SlmGOOt5QBHHuriN8HlA",
            "dtype": "f8"
           },
           "increasing": {
            "fillcolor": "#32CD32",
            "line": {
             "color": "#28A028",
             "width": 0.6
            }
           },
           "low": {
            "bdata": "Ne84RUfaeUBCz2bV5+J5QDhnRGlv4nlAPZtVn6veeUBIv30dONt5QL8OnDOi3HlAQs9m1efSeUBpb/CFycx5QFTjpZvEz3lAPL1SliHPeUARx7q4jch5QBzr4jYaxXlAI9v5fmrFeUAVjErqBNl5QEVHcvkP23lAIR/0bFbJeUAoDwu1psl5QE3zjlN0x3lARIts5/vGeUCX/5B++855QCnLEMe61XlAIR/0bFbZeUAAb4EExd95QBQ/xty14HlALv8h/fbheUARx7q4jeB5QDMzMzMz3nlAIR/0bFbheUA4Z0Rpb+p5QOviNhrA8nlAGy/dJAbxeUAHX5hMFfB5QPcGX5hM73lABOeMKO3veUDy0k1iEPN5QPjCZKpg83lADJOpglH4eUAE54wo7fd5QAdfmEwV9HlAF7fRAN70eUAj2/l+avV5QC7/If328XlALUMc6+LteUApyxDHuu15QBQ/xty17HlAFD/G3LXseUAhH/RsVul5QBHHuriN5HlACtejcD3geUACK4cW2eN5QBsv3SQG4XlAIGPuWkLleUAoDwu1pt15QAyTqYJR3HlAIR/0bFbZeUAtQxzr4tl5QDJ3LSEf2nlAHqfoSC7heUAwuycPC9Z5QP32deCc13lACtejcD3geUAgY+5aQt15QPjCZKpg43lAHqfoSC7peUD6fmq8dOd5QEATYcPT6HlA",
            "dtype": "f8"
           },
           "name": "Price",
           "open": {
            "bdata": "FvvL7snceUD3Bl+YTOd5QC1DHOvi7XlARwN4CyTjeUD4wmSqYON5QP+ye/Kw43lAAiuHFtnjeUAPC7WmedR5QDXvOEVH0nlAIR/0bFbZeUAE54wo7dd5QCBj7lpCzXlALv8h/fbFeUCUh4Va09l5QAWjkjoB3HlABOeMKO3beUAydy0hH8p5QAyTqYJRzHlAFvvL7snMeUAK16NwPdB5QCnLEMe61XlAKA8LtabZeUD6fmq8dOd5QBsv3SQG4XlAAG+BBMXneUApyxDHuuV5QABvgQTF53lAGy/dJAbleUAAb4EExe95QAIrhxbZ83lALv8h/fb5eUAydy0hH/J5QP+ye/Kw83lAKA8LtabxeUAhH/RsVvl5QPjCZKpg83lA7Z48LNT6eUAc6+I2Gv15QBQ/xty1+HlAHOviNhr1eUAE54wo7ft5QPAWSFD89nlAJJf/kH71eUA2qz5XW+55QPLSTWIQ83lAI9v5fmrteUAE54wo7e95QPjCZKpg63lAI9v5fmrleUBEi2zn++Z5QPOOU3Qk53lAVcGopE7neUAE54wo7ed5QPp+arx033lANqs+V1veeUASg8DKoeB5QELPZtXn2nlAKcsQx7rheUA9m1Wfq+Z5QBe30QDe2HlAQs9m1efieUAOT6+UZeB5QBKDwMqh5HlALv8h/fbpeUAhH/RsVul5QCEf9GxW6XlA",
            "dtype": "f8"
           },
           "type": "candlestick",
           "x": [
            "2023-10-04T09:30:00.000000000",
            "2023-10-04T09:35:00.000000000",
            "2023-10-04T09:40:00.000000000",
            "2023-10-04T09:45:00.000000000",
            "2023-10-04T09:50:00.000000000",
            "2023-10-04T09:55:00.000000000",
            "2023-10-04T10:00:00.000000000",
            "2023-10-04T10:05:00.000000000",
            "2023-10-04T10:10:00.000000000",
            "2023-10-04T10:15:00.000000000",
            "2023-10-04T10:20:00.000000000",
            "2023-10-04T10:25:00.000000000",
            "2023-10-04T10:30:00.000000000",
            "2023-10-04T10:35:00.000000000",
            "2023-10-04T10:40:00.000000000",
            "2023-10-04T10:45:00.000000000",
            "2023-10-04T10:50:00.000000000",
            "2023-10-04T10:55:00.000000000",
            "2023-10-04T11:00:00.000000000",
            "2023-10-04T11:05:00.000000000",
            "2023-10-04T11:10:00.000000000",
            "2023-10-04T11:15:00.000000000",
            "2023-10-04T11:20:00.000000000",
            "2023-10-04T11:25:00.000000000",
            "2023-10-04T11:30:00.000000000",
            "2023-10-04T11:35:00.000000000",
            "2023-10-04T11:40:00.000000000",
            "2023-10-04T11:45:00.000000000",
            "2023-10-04T11:50:00.000000000",
            "2023-10-04T11:55:00.000000000",
            "2023-10-04T12:00:00.000000000",
            "2023-10-04T12:05:00.000000000",
            "2023-10-04T12:10:00.000000000",
            "2023-10-04T12:15:00.000000000",
            "2023-10-04T12:20:00.000000000",
            "2023-10-04T12:25:00.000000000",
            "2023-10-04T12:30:00.000000000",
            "2023-10-04T12:35:00.000000000",
            "2023-10-04T12:40:00.000000000",
            "2023-10-04T12:45:00.000000000",
            "2023-10-04T12:50:00.000000000",
            "2023-10-04T12:55:00.000000000",
            "2023-10-04T13:00:00.000000000",
            "2023-10-04T13:05:00.000000000",
            "2023-10-04T13:10:00.000000000",
            "2023-10-04T13:15:00.000000000",
            "2023-10-04T13:20:00.000000000",
            "2023-10-04T13:25:00.000000000",
            "2023-10-04T13:30:00.000000000",
            "2023-10-04T13:35:00.000000000",
            "2023-10-04T13:40:00.000000000",
            "2023-10-04T13:45:00.000000000",
            "2023-10-04T13:50:00.000000000",
            "2023-10-04T13:55:00.000000000",
            "2023-10-04T14:00:00.000000000",
            "2023-10-04T14:05:00.000000000",
            "2023-10-04T14:10:00.000000000",
            "2023-10-04T14:15:00.000000000",
            "2023-10-04T14:20:00.000000000",
            "2023-10-04T14:25:00.000000000",
            "2023-10-04T14:30:00.000000000",
            "2023-10-04T14:35:00.000000000",
            "2023-10-04T14:40:00.000000000",
            "2023-10-04T14:45:00.000000000",
            "2023-10-04T14:50:00.000000000",
            "2023-10-04T14:55:00.000000000"
           ]
          }
         ],
         "name": "Frame 66"
        },
        {
         "data": [
          {
           "close": {
            "bdata": "oBov3STneUAwuycPC+55QEVHcvkP43lACRueXinkeUD/snvysON5QK62Yn/Z43lAEoPAyqHUeUAu/yH99tF5QBsv3SQG2XlABOeMKO3XeUAmUwWjks15QH6MuWsJxnlAK4cW2c7ZeUAFo5I6Adx5QAWjkjoB3HlANe84RUfKeUAMk6mCUcx5QBb7y+7JzHlADk+vlGXQeUAtQxzr4tV5QDJ3LSEf2nlA+MJkqmDneUAUP8bcteB5QABvgQTF53lAKcsQx7rleUAAb4EExed5QBlz1xLy5HlABaOSOgHweUACK4cW2fN5QDarPldb+nlALv8h/fbxeUD/snvysPN5QBgmUwWj8XlAIR/0bFb5eUD4wmSqYPN5QO5aQj7o+nlAFR3J5T/9eUAPC7Wmefh5QCBj7lpC9XlABaOSOgH8eUDwFkhQ/PZ5QIlBYOXQ9HlAGlHaG3zueUD5oGez6vJ5QBzr4jYa7XlABOeMKO3veUD1SlmGOOt5QB04Z0Rp5XlAklz+Q/rmeUBEi2zn++Z5QPp+arx053lABOeMKO3neUBRa5p3nN95QEATYcPT3nlAF7fRAN7geUBCz2bV59p5QCnLEMe64XlAQBNhw9PmeUDUK2UZ4th5QEVHcvkP43lAX5hMFYzgeUAUP8bcteR5QNuK/WX36XlAJlMFo5LpeUAkl/+Qful5QDarPldb7nlA/fZ14JzveUA=",
            "dtype": "f8"
           },
           "decreasing": {
            "fillcolor": "#FF6347",
            "line": {
             "color": "#CC503A",
             "width": 0.6
            }
           },
           "high": {
            "bdata": "CtejcD3oeUAep+hILvF5QD9XW7G/7nlACtejcD3oeUAE54wo7ed5QD9XW7G/6nlALv8h/fbpeUA/V1uxv9p5QO5aQj7o2nlAKA8LtabZeUAep+hILtl5QBe30QDe0HlAK4cW2c7ZeUAOT6+UZeB5QGB2Tx4W5XlABaOSOgHgeUAu/yH99tF5QEp7gy9Mz3lA+8vuycPjeUBTBaOSOth5QDC7Jw8L3nlACRueXinseUA/V1uxv+p5QCSX/5B+6XlAHqfoSC7peUDhehSuR+p5QBHHuriN6HlAI9v5fmr1eUAgY+5aQvV5QOauJeSD+nlA8tJNYhD7eUDpJjEIrPZ5QBsv3SQG+XlAveMUHcn5eUAmUwWjkv15QPVKWYY4+3lAFD/G3LUAekDmriXkg/55QP+ye/Kw+3lAETY8vVL8eUASg8DKofx5QBsv3SQG+XlA6SYxCKz2eUAJG55eKfR5QAWjkjoB9HlA7lpCPujyeUD/snvysPN5QP+ye/Kw63lAFD/G3LXoeUAOT6+UZeh5QP32deCc53lAIR/0bFbpeUAOT6+UZeh5QFInoImw43lAF7fRAN7geUD1SlmGOON5QEVHcvkP43lA845TdCTneUD3Bl+YTOd5QAWjkjoB5HlADk+vlGXoeUAhH/RsVuV5QDvfT42X6nlAMLsnDwvueUD1SlmGOOt5QBHHuriN8HlA/7J78rDzeUA=",
            "dtype": "f8"
           },
           "increasing": {
            "fillcolor": "#32CD32",
            "line": {
             "color": "#28A028",
             "width": 0.6
            }
           },
           "low": {
            "bdata": "Ne84RUfaeUBCz2bV5+J5QDhnRGlv4nlAPZtVn6veeUBIv30dONt5QL8OnDOi3HlAQs9m1efSeUBpb/CFycx5QFTjpZvEz3lAPL1SliHPeUARx7q4jch5QBzr4jYaxXlAI9v5fmrFeUAVjErqBNl5QEVHcvkP23lAIR/0bFbJeUAoDwu1psl5QE3zjlN0x3lARIts5/vGeUCX/5B++855QCnLEMe61XlAIR/0bFbZeUAAb4EExd95QBQ/xty14HlALv8h/fbheUARx7q4jeB5QDMzMzMz3nlAIR/0bFbheUA4Z0Rpb+p5QOviNhrA8nlAGy/dJAbxeUAHX5hMFfB5QPcGX5hM73lABOeMKO3veUDy0k1iEPN5QPjCZKpg83lADJOpglH4eUAE54wo7fd5QAdfmEwV9HlAF7fRAN70eUAj2/l+avV5QC7/If328XlALUMc6+LteUApyxDHuu15QBQ/xty17HlAFD/G3LXseUAhH/RsVul5QBHHuriN5HlACtejcD3geUACK4cW2eN5QBsv3SQG4XlAIGPuWkLleUAoDwu1pt15QAyTqYJR3HlAIR/0bFbZeUAtQxzr4tl5QDJ3LSEf2nlAHqfoSC7heUAwuycPC9Z5QP32deCc13lACtejcD3geUAgY+5aQt15QPjCZKpg43lAHqfoSC7peUD6fmq8dOd5QEATYcPT6HlAIGPuWkLteUA=",
            "dtype": "f8"
           },
           "name": "Price",
           "open": {
            "bdata": "FvvL7snceUD3Bl+YTOd5QC1DHOvi7XlARwN4CyTjeUD4wmSqYON5QP+ye/Kw43lAAiuHFtnjeUAPC7WmedR5QDXvOEVH0nlAIR/0bFbZeUAE54wo7dd5QCBj7lpCzXlALv8h/fbFeUCUh4Va09l5QAWjkjoB3HlABOeMKO3beUAydy0hH8p5QAyTqYJRzHlAFvvL7snMeUAK16NwPdB5QCnLEMe61XlAKA8LtabZeUD6fmq8dOd5QBsv3SQG4XlAAG+BBMXneUApyxDHuuV5QABvgQTF53lAGy/dJAbleUAAb4EExe95QAIrhxbZ83lALv8h/fb5eUAydy0hH/J5QP+ye/Kw83lAKA8LtabxeUAhH/RsVvl5QPjCZKpg83lA7Z48LNT6eUAc6+I2Gv15QBQ/xty1+HlAHOviNhr1eUAE54wo7ft5QPAWSFD89nlAJJf/kH71eUA2qz5XW+55QPLSTWIQ83lAI9v5fmrteUAE54wo7e95QPjCZKpg63lAI9v5fmrleUBEi2zn++Z5QPOOU3Qk53lAVcGopE7neUAE54wo7ed5QPp+arx033lANqs+V1veeUASg8DKoeB5QELPZtXn2nlAKcsQx7rheUA9m1Wfq+Z5QBe30QDe2HlAQs9m1efieUAOT6+UZeB5QBKDwMqh5HlALv8h/fbpeUAhH/RsVul5QCEf9GxW6XlAOiNKe4PueUA=",
            "dtype": "f8"
           },
           "type": "candlestick",
           "x": [
            "2023-10-04T09:30:00.000000000",
            "2023-10-04T09:35:00.000000000",
            "2023-10-04T09:40:00.000000000",
            "2023-10-04T09:45:00.000000000",
            "2023-10-04T09:50:00.000000000",
            "2023-10-04T09:55:00.000000000",
            "2023-10-04T10:00:00.000000000",
            "2023-10-04T10:05:00.000000000",
            "2023-10-04T10:10:00.000000000",
            "2023-10-04T10:15:00.000000000",
            "2023-10-04T10:20:00.000000000",
            "2023-10-04T10:25:00.000000000",
            "2023-10-04T10:30:00.000000000",
            "2023-10-04T10:35:00.000000000",
            "2023-10-04T10:40:00.000000000",
            "2023-10-04T10:45:00.000000000",
            "2023-10-04T10:50:00.000000000",
            "2023-10-04T10:55:00.000000000",
            "2023-10-04T11:00:00.000000000",
            "2023-10-04T11:05:00.000000000",
            "2023-10-04T11:10:00.000000000",
            "2023-10-04T11:15:00.000000000",
            "2023-10-04T11:20:00.000000000",
            "2023-10-04T11:25:00.000000000",
            "2023-10-04T11:30:00.000000000",
            "2023-10-04T11:35:00.000000000",
            "2023-10-04T11:40:00.000000000",
            "2023-10-04T11:45:00.000000000",
            "2023-10-04T11:50:00.000000000",
            "2023-10-04T11:55:00.000000000",
            "2023-10-04T12:00:00.000000000",
            "2023-10-04T12:05:00.000000000",
            "2023-10-04T12:10:00.000000000",
            "2023-10-04T12:15:00.000000000",
            "2023-10-04T12:20:00.000000000",
            "2023-10-04T12:25:00.000000000",
            "2023-10-04T12:30:00.000000000",
            "2023-10-04T12:35:00.000000000",
            "2023-10-04T12:40:00.000000000",
            "2023-10-04T12:45:00.000000000",
            "2023-10-04T12:50:00.000000000",
            "2023-10-04T12:55:00.000000000",
            "2023-10-04T13:00:00.000000000",
            "2023-10-04T13:05:00.000000000",
            "2023-10-04T13:10:00.000000000",
            "2023-10-04T13:15:00.000000000",
            "2023-10-04T13:20:00.000000000",
            "2023-10-04T13:25:00.000000000",
            "2023-10-04T13:30:00.000000000",
            "2023-10-04T13:35:00.000000000",
            "2023-10-04T13:40:00.000000000",
            "2023-10-04T13:45:00.000000000",
            "2023-10-04T13:50:00.000000000",
            "2023-10-04T13:55:00.000000000",
            "2023-10-04T14:00:00.000000000",
            "2023-10-04T14:05:00.000000000",
            "2023-10-04T14:10:00.000000000",
            "2023-10-04T14:15:00.000000000",
            "2023-10-04T14:20:00.000000000",
            "2023-10-04T14:25:00.000000000",
            "2023-10-04T14:30:00.000000000",
            "2023-10-04T14:35:00.000000000",
            "2023-10-04T14:40:00.000000000",
            "2023-10-04T14:45:00.000000000",
            "2023-10-04T14:50:00.000000000",
            "2023-10-04T14:55:00.000000000",
            "2023-10-04T15:00:00.000000000"
           ]
          }
         ],
         "name": "Frame 67"
        },
        {
         "data": [
          {
           "close": {
            "bdata": "oBov3STneUAwuycPC+55QEVHcvkP43lACRueXinkeUD/snvysON5QK62Yn/Z43lAEoPAyqHUeUAu/yH99tF5QBsv3SQG2XlABOeMKO3XeUAmUwWjks15QH6MuWsJxnlAK4cW2c7ZeUAFo5I6Adx5QAWjkjoB3HlANe84RUfKeUAMk6mCUcx5QBb7y+7JzHlADk+vlGXQeUAtQxzr4tV5QDJ3LSEf2nlA+MJkqmDneUAUP8bcteB5QABvgQTF53lAKcsQx7rleUAAb4EExed5QBlz1xLy5HlABaOSOgHweUACK4cW2fN5QDarPldb+nlALv8h/fbxeUD/snvysPN5QBgmUwWj8XlAIR/0bFb5eUD4wmSqYPN5QO5aQj7o+nlAFR3J5T/9eUAPC7Wmefh5QCBj7lpC9XlABaOSOgH8eUDwFkhQ/PZ5QIlBYOXQ9HlAGlHaG3zueUD5oGez6vJ5QBzr4jYa7XlABOeMKO3veUD1SlmGOOt5QB04Z0Rp5XlAklz+Q/rmeUBEi2zn++Z5QPp+arx053lABOeMKO3neUBRa5p3nN95QEATYcPT3nlAF7fRAN7geUBCz2bV59p5QCnLEMe64XlAQBNhw9PmeUDUK2UZ4th5QEVHcvkP43lAX5hMFYzgeUAUP8bcteR5QNuK/WX36XlAJlMFo5LpeUAkl/+Qful5QDarPldb7nlA/fZ14JzveUD7OnDOiPN5QA==",
            "dtype": "f8"
           },
           "decreasing": {
            "fillcolor": "#FF6347",
            "line": {
             "color": "#CC503A",
             "width": 0.6
            }
           },
           "high": {
            "bdata": "CtejcD3oeUAep+hILvF5QD9XW7G/7nlACtejcD3oeUAE54wo7ed5QD9XW7G/6nlALv8h/fbpeUA/V1uxv9p5QO5aQj7o2nlAKA8LtabZeUAep+hILtl5QBe30QDe0HlAK4cW2c7ZeUAOT6+UZeB5QGB2Tx4W5XlABaOSOgHgeUAu/yH99tF5QEp7gy9Mz3lA+8vuycPjeUBTBaOSOth5QDC7Jw8L3nlACRueXinseUA/V1uxv+p5QCSX/5B+6XlAHqfoSC7peUDhehSuR+p5QBHHuriN6HlAI9v5fmr1eUAgY+5aQvV5QOauJeSD+nlA8tJNYhD7eUDpJjEIrPZ5QBsv3SQG+XlAveMUHcn5eUAmUwWjkv15QPVKWYY4+3lAFD/G3LUAekDmriXkg/55QP+ye/Kw+3lAETY8vVL8eUASg8DKofx5QBsv3SQG+XlA6SYxCKz2eUAJG55eKfR5QAWjkjoB9HlA7lpCPujyeUD/snvysPN5QP+ye/Kw63lAFD/G3LXoeUAOT6+UZeh5QP32deCc53lAIR/0bFbpeUAOT6+UZeh5QFInoImw43lAF7fRAN7geUD1SlmGOON5QEVHcvkP43lA845TdCTneUD3Bl+YTOd5QAWjkjoB5HlADk+vlGXoeUAhH/RsVuV5QDvfT42X6nlAMLsnDwvueUD1SlmGOOt5QBHHuriN8HlA/7J78rDzeUAMk6mCUfR5QA==",
            "dtype": "f8"
           },
           "increasing": {
            "fillcolor": "#32CD32",
            "line": {
             "color": "#28A028",
             "width": 0.6
            }
           },
           "low": {
            "bdata": "Ne84RUfaeUBCz2bV5+J5QDhnRGlv4nlAPZtVn6veeUBIv30dONt5QL8OnDOi3HlAQs9m1efSeUBpb/CFycx5QFTjpZvEz3lAPL1SliHPeUARx7q4jch5QBzr4jYaxXlAI9v5fmrFeUAVjErqBNl5QEVHcvkP23lAIR/0bFbJeUAoDwu1psl5QE3zjlN0x3lARIts5/vGeUCX/5B++855QCnLEMe61XlAIR/0bFbZeUAAb4EExd95QBQ/xty14HlALv8h/fbheUARx7q4jeB5QDMzMzMz3nlAIR/0bFbheUA4Z0Rpb+p5QOviNhrA8nlAGy/dJAbxeUAHX5hMFfB5QPcGX5hM73lABOeMKO3veUDy0k1iEPN5QPjCZKpg83lADJOpglH4eUAE54wo7fd5QAdfmEwV9HlAF7fRAN70eUAj2/l+avV5QC7/If328XlALUMc6+LteUApyxDHuu15QBQ/xty17HlAFD/G3LXseUAhH/RsVul5QBHHuriN5HlACtejcD3geUACK4cW2eN5QBsv3SQG4XlAIGPuWkLleUAoDwu1pt15QAyTqYJR3HlAIR/0bFbZeUAtQxzr4tl5QDJ3LSEf2nlAHqfoSC7heUAwuycPC9Z5QP32deCc13lACtejcD3geUAgY+5aQt15QPjCZKpg43lAHqfoSC7peUD6fmq8dOd5QEATYcPT6HlAIGPuWkLteUAFo5I6Aex5QA==",
            "dtype": "f8"
           },
           "name": "Price",
           "open": {
            "bdata": "FvvL7snceUD3Bl+YTOd5QC1DHOvi7XlARwN4CyTjeUD4wmSqYON5QP+ye/Kw43lAAiuHFtnjeUAPC7WmedR5QDXvOEVH0nlAIR/0bFbZeUAE54wo7dd5QCBj7lpCzXlALv8h/fbFeUCUh4Va09l5QAWjkjoB3HlABOeMKO3beUAydy0hH8p5QAyTqYJRzHlAFvvL7snMeUAK16NwPdB5QCnLEMe61XlAKA8LtabZeUD6fmq8dOd5QBsv3SQG4XlAAG+BBMXneUApyxDHuuV5QABvgQTF53lAGy/dJAbleUAAb4EExe95QAIrhxbZ83lALv8h/fb5eUAydy0hH/J5QP+ye/Kw83lAKA8LtabxeUAhH/RsVvl5QPjCZKpg83lA7Z48LNT6eUAc6+I2Gv15QBQ/xty1+HlAHOviNhr1eUAE54wo7ft5QPAWSFD89nlAJJf/kH71eUA2qz5XW+55QPLSTWIQ83lAI9v5fmrteUAE54wo7e95QPjCZKpg63lAI9v5fmrleUBEi2zn++Z5QPOOU3Qk53lAVcGopE7neUAE54wo7ed5QPp+arx033lANqs+V1veeUASg8DKoeB5QELPZtXn2nlAKcsQx7rheUA9m1Wfq+Z5QBe30QDe2HlAQs9m1efieUAOT6+UZeB5QBKDwMqh5HlALv8h/fbpeUAhH/RsVul5QCEf9GxW6XlAOiNKe4PueUACK4cW2e95QA==",
            "dtype": "f8"
           },
           "type": "candlestick",
           "x": [
            "2023-10-04T09:30:00.000000000",
            "2023-10-04T09:35:00.000000000",
            "2023-10-04T09:40:00.000000000",
            "2023-10-04T09:45:00.000000000",
            "2023-10-04T09:50:00.000000000",
            "2023-10-04T09:55:00.000000000",
            "2023-10-04T10:00:00.000000000",
            "2023-10-04T10:05:00.000000000",
            "2023-10-04T10:10:00.000000000",
            "2023-10-04T10:15:00.000000000",
            "2023-10-04T10:20:00.000000000",
            "2023-10-04T10:25:00.000000000",
            "2023-10-04T10:30:00.000000000",
            "2023-10-04T10:35:00.000000000",
            "2023-10-04T10:40:00.000000000",
            "2023-10-04T10:45:00.000000000",
            "2023-10-04T10:50:00.000000000",
            "2023-10-04T10:55:00.000000000",
            "2023-10-04T11:00:00.000000000",
            "2023-10-04T11:05:00.000000000",
            "2023-10-04T11:10:00.000000000",
            "2023-10-04T11:15:00.000000000",
            "2023-10-04T11:20:00.000000000",
            "2023-10-04T11:25:00.000000000",
            "2023-10-04T11:30:00.000000000",
            "2023-10-04T11:35:00.000000000",
            "2023-10-04T11:40:00.000000000",
            "2023-10-04T11:45:00.000000000",
            "2023-10-04T11:50:00.000000000",
            "2023-10-04T11:55:00.000000000",
            "2023-10-04T12:00:00.000000000",
            "2023-10-04T12:05:00.000000000",
            "2023-10-04T12:10:00.000000000",
            "2023-10-04T12:15:00.000000000",
            "2023-10-04T12:20:00.000000000",
            "2023-10-04T12:25:00.000000000",
            "2023-10-04T12:30:00.000000000",
            "2023-10-04T12:35:00.000000000",
            "2023-10-04T12:40:00.000000000",
            "2023-10-04T12:45:00.000000000",
            "2023-10-04T12:50:00.000000000",
            "2023-10-04T12:55:00.000000000",
            "2023-10-04T13:00:00.000000000",
            "2023-10-04T13:05:00.000000000",
            "2023-10-04T13:10:00.000000000",
            "2023-10-04T13:15:00.000000000",
            "2023-10-04T13:20:00.000000000",
            "2023-10-04T13:25:00.000000000",
            "2023-10-04T13:30:00.000000000",
            "2023-10-04T13:35:00.000000000",
            "2023-10-04T13:40:00.000000000",
            "2023-10-04T13:45:00.000000000",
            "2023-10-04T13:50:00.000000000",
            "2023-10-04T13:55:00.000000000",
            "2023-10-04T14:00:00.000000000",
            "2023-10-04T14:05:00.000000000",
            "2023-10-04T14:10:00.000000000",
            "2023-10-04T14:15:00.000000000",
            "2023-10-04T14:20:00.000000000",
            "2023-10-04T14:25:00.000000000",
            "2023-10-04T14:30:00.000000000",
            "2023-10-04T14:35:00.000000000",
            "2023-10-04T14:40:00.000000000",
            "2023-10-04T14:45:00.000000000",
            "2023-10-04T14:50:00.000000000",
            "2023-10-04T14:55:00.000000000",
            "2023-10-04T15:00:00.000000000",
            "2023-10-04T15:05:00.000000000"
           ]
          }
         ],
         "name": "Frame 68"
        },
        {
         "data": [
          {
           "close": {
            "bdata": "oBov3STneUAwuycPC+55QEVHcvkP43lACRueXinkeUD/snvysON5QK62Yn/Z43lAEoPAyqHUeUAu/yH99tF5QBsv3SQG2XlABOeMKO3XeUAmUwWjks15QH6MuWsJxnlAK4cW2c7ZeUAFo5I6Adx5QAWjkjoB3HlANe84RUfKeUAMk6mCUcx5QBb7y+7JzHlADk+vlGXQeUAtQxzr4tV5QDJ3LSEf2nlA+MJkqmDneUAUP8bcteB5QABvgQTF53lAKcsQx7rleUAAb4EExed5QBlz1xLy5HlABaOSOgHweUACK4cW2fN5QDarPldb+nlALv8h/fbxeUD/snvysPN5QBgmUwWj8XlAIR/0bFb5eUD4wmSqYPN5QO5aQj7o+nlAFR3J5T/9eUAPC7Wmefh5QCBj7lpC9XlABaOSOgH8eUDwFkhQ/PZ5QIlBYOXQ9HlAGlHaG3zueUD5oGez6vJ5QBzr4jYa7XlABOeMKO3veUD1SlmGOOt5QB04Z0Rp5XlAklz+Q/rmeUBEi2zn++Z5QPp+arx053lABOeMKO3neUBRa5p3nN95QEATYcPT3nlAF7fRAN7geUBCz2bV59p5QCnLEMe64XlAQBNhw9PmeUDUK2UZ4th5QEVHcvkP43lAX5hMFYzgeUAUP8bcteR5QNuK/WX36XlAJlMFo5LpeUAkl/+Qful5QDarPldb7nlA/fZ14JzveUD7OnDOiPN5QDXvOEVH+nlA",
            "dtype": "f8"
           },
           "decreasing": {
            "fillcolor": "#FF6347",
            "line": {
             "color": "#CC503A",
             "width": 0.6
            }
           },
           "high": {
            "bdata": "CtejcD3oeUAep+hILvF5QD9XW7G/7nlACtejcD3oeUAE54wo7ed5QD9XW7G/6nlALv8h/fbpeUA/V1uxv9p5QO5aQj7o2nlAKA8LtabZeUAep+hILtl5QBe30QDe0HlAK4cW2c7ZeUAOT6+UZeB5QGB2Tx4W5XlABaOSOgHgeUAu/yH99tF5QEp7gy9Mz3lA+8vuycPjeUBTBaOSOth5QDC7Jw8L3nlACRueXinseUA/V1uxv+p5QCSX/5B+6XlAHqfoSC7peUDhehSuR+p5QBHHuriN6HlAI9v5fmr1eUAgY+5aQvV5QOauJeSD+nlA8tJNYhD7eUDpJjEIrPZ5QBsv3SQG+XlAveMUHcn5eUAmUwWjkv15QPVKWYY4+3lAFD/G3LUAekDmriXkg/55QP+ye/Kw+3lAETY8vVL8eUASg8DKofx5QBsv3SQG+XlA6SYxCKz2eUAJG55eKfR5QAWjkjoB9HlA7lpCPujyeUD/snvysPN5QP+ye/Kw63lAFD/G3LXoeUAOT6+UZeh5QP32deCc53lAIR/0bFbpeUAOT6+UZeh5QFInoImw43lAF7fRAN7geUD1SlmGOON5QEVHcvkP43lA845TdCTneUD3Bl+YTOd5QAWjkjoB5HlADk+vlGXoeUAhH/RsVuV5QDvfT42X6nlAMLsnDwvueUD1SlmGOOt5QBHHuriN8HlA/7J78rDzeUAMk6mCUfR5QBKDwMqh/HlA",
            "dtype": "f8"
           },
           "increasing": {
            "fillcolor": "#32CD32",
            "line": {
             "color": "#28A028",
             "width": 0.6
            }
           },
           "low": {
            "bdata": "Ne84RUfaeUBCz2bV5+J5QDhnRGlv4nlAPZtVn6veeUBIv30dONt5QL8OnDOi3HlAQs9m1efSeUBpb/CFycx5QFTjpZvEz3lAPL1SliHPeUARx7q4jch5QBzr4jYaxXlAI9v5fmrFeUAVjErqBNl5QEVHcvkP23lAIR/0bFbJeUAoDwu1psl5QE3zjlN0x3lARIts5/vGeUCX/5B++855QCnLEMe61XlAIR/0bFbZeUAAb4EExd95QBQ/xty14HlALv8h/fbheUARx7q4jeB5QDMzMzMz3nlAIR/0bFbheUA4Z0Rpb+p5QOviNhrA8nlAGy/dJAbxeUAHX5hMFfB5QPcGX5hM73lABOeMKO3veUDy0k1iEPN5QPjCZKpg83lADJOpglH4eUAE54wo7fd5QAdfmEwV9HlAF7fRAN70eUAj2/l+avV5QC7/If328XlALUMc6+LteUApyxDHuu15QBQ/xty17HlAFD/G3LXseUAhH/RsVul5QBHHuriN5HlACtejcD3geUACK4cW2eN5QBsv3SQG4XlAIGPuWkLleUAoDwu1pt15QAyTqYJR3HlAIR/0bFbZeUAtQxzr4tl5QDJ3LSEf2nlAHqfoSC7heUAwuycPC9Z5QP32deCc13lACtejcD3geUAgY+5aQt15QPjCZKpg43lAHqfoSC7peUD6fmq8dOd5QEATYcPT6HlAIGPuWkLteUAFo5I6Aex5QDarPldb8nlA",
            "dtype": "f8"
           },
           "name": "Price",
           "open": {
            "bdata": "FvvL7snceUD3Bl+YTOd5QC1DHOvi7XlARwN4CyTjeUD4wmSqYON5QP+ye/Kw43lAAiuHFtnjeUAPC7WmedR5QDXvOEVH0nlAIR/0bFbZeUAE54wo7dd5QCBj7lpCzXlALv8h/fbFeUCUh4Va09l5QAWjkjoB3HlABOeMKO3beUAydy0hH8p5QAyTqYJRzHlAFvvL7snMeUAK16NwPdB5QCnLEMe61XlAKA8LtabZeUD6fmq8dOd5QBsv3SQG4XlAAG+BBMXneUApyxDHuuV5QABvgQTF53lAGy/dJAbleUAAb4EExe95QAIrhxbZ83lALv8h/fb5eUAydy0hH/J5QP+ye/Kw83lAKA8LtabxeUAhH/RsVvl5QPjCZKpg83lA7Z48LNT6eUAc6+I2Gv15QBQ/xty1+HlAHOviNhr1eUAE54wo7ft5QPAWSFD89nlAJJf/kH71eUA2qz5XW+55QPLSTWIQ83lAI9v5fmrteUAE54wo7e95QPjCZKpg63lAI9v5fmrleUBEi2zn++Z5QPOOU3Qk53lAVcGopE7neUAE54wo7ed5QPp+arx033lANqs+V1veeUASg8DKoeB5QELPZtXn2nlAKcsQx7rheUA9m1Wfq+Z5QBe30QDe2HlAQs9m1efieUAOT6+UZeB5QBKDwMqh5HlALv8h/fbpeUAhH/RsVul5QCEf9GxW6XlAOiNKe4PueUACK4cW2e95QPs6cM6I83lA",
            "dtype": "f8"
           },
           "type": "candlestick",
           "x": [
            "2023-10-04T09:30:00.000000000",
            "2023-10-04T09:35:00.000000000",
            "2023-10-04T09:40:00.000000000",
            "2023-10-04T09:45:00.000000000",
            "2023-10-04T09:50:00.000000000",
            "2023-10-04T09:55:00.000000000",
            "2023-10-04T10:00:00.000000000",
            "2023-10-04T10:05:00.000000000",
            "2023-10-04T10:10:00.000000000",
            "2023-10-04T10:15:00.000000000",
            "2023-10-04T10:20:00.000000000",
            "2023-10-04T10:25:00.000000000",
            "2023-10-04T10:30:00.000000000",
            "2023-10-04T10:35:00.000000000",
            "2023-10-04T10:40:00.000000000",
            "2023-10-04T10:45:00.000000000",
            "2023-10-04T10:50:00.000000000",
            "2023-10-04T10:55:00.000000000",
            "2023-10-04T11:00:00.000000000",
            "2023-10-04T11:05:00.000000000",
            "2023-10-04T11:10:00.000000000",
            "2023-10-04T11:15:00.000000000",
            "2023-10-04T11:20:00.000000000",
            "2023-10-04T11:25:00.000000000",
            "2023-10-04T11:30:00.000000000",
            "2023-10-04T11:35:00.000000000",
            "2023-10-04T11:40:00.000000000",
            "2023-10-04T11:45:00.000000000",
            "2023-10-04T11:50:00.000000000",
            "2023-10-04T11:55:00.000000000",
            "2023-10-04T12:00:00.000000000",
            "2023-10-04T12:05:00.000000000",
            "2023-10-04T12:10:00.000000000",
            "2023-10-04T12:15:00.000000000",
            "2023-10-04T12:20:00.000000000",
            "2023-10-04T12:25:00.000000000",
            "2023-10-04T12:30:00.000000000",
            "2023-10-04T12:35:00.000000000",
            "2023-10-04T12:40:00.000000000",
            "2023-10-04T12:45:00.000000000",
            "2023-10-04T12:50:00.000000000",
            "2023-10-04T12:55:00.000000000",
            "2023-10-04T13:00:00.000000000",
            "2023-10-04T13:05:00.000000000",
            "2023-10-04T13:10:00.000000000",
            "2023-10-04T13:15:00.000000000",
            "2023-10-04T13:20:00.000000000",
            "2023-10-04T13:25:00.000000000",
            "2023-10-04T13:30:00.000000000",
            "2023-10-04T13:35:00.000000000",
            "2023-10-04T13:40:00.000000000",
            "2023-10-04T13:45:00.000000000",
            "2023-10-04T13:50:00.000000000",
            "2023-10-04T13:55:00.000000000",
            "2023-10-04T14:00:00.000000000",
            "2023-10-04T14:05:00.000000000",
            "2023-10-04T14:10:00.000000000",
            "2023-10-04T14:15:00.000000000",
            "2023-10-04T14:20:00.000000000",
            "2023-10-04T14:25:00.000000000",
            "2023-10-04T14:30:00.000000000",
            "2023-10-04T14:35:00.000000000",
            "2023-10-04T14:40:00.000000000",
            "2023-10-04T14:45:00.000000000",
            "2023-10-04T14:50:00.000000000",
            "2023-10-04T14:55:00.000000000",
            "2023-10-04T15:00:00.000000000",
            "2023-10-04T15:05:00.000000000",
            "2023-10-04T15:10:00.000000000"
           ]
          }
         ],
         "name": "Frame 69"
        },
        {
         "data": [
          {
           "close": {
            "bdata": "oBov3STneUAwuycPC+55QEVHcvkP43lACRueXinkeUD/snvysON5QK62Yn/Z43lAEoPAyqHUeUAu/yH99tF5QBsv3SQG2XlABOeMKO3XeUAmUwWjks15QH6MuWsJxnlAK4cW2c7ZeUAFo5I6Adx5QAWjkjoB3HlANe84RUfKeUAMk6mCUcx5QBb7y+7JzHlADk+vlGXQeUAtQxzr4tV5QDJ3LSEf2nlA+MJkqmDneUAUP8bcteB5QABvgQTF53lAKcsQx7rleUAAb4EExed5QBlz1xLy5HlABaOSOgHweUACK4cW2fN5QDarPldb+nlALv8h/fbxeUD/snvysPN5QBgmUwWj8XlAIR/0bFb5eUD4wmSqYPN5QO5aQj7o+nlAFR3J5T/9eUAPC7Wmefh5QCBj7lpC9XlABaOSOgH8eUDwFkhQ/PZ5QIlBYOXQ9HlAGlHaG3zueUD5oGez6vJ5QBzr4jYa7XlABOeMKO3veUD1SlmGOOt5QB04Z0Rp5XlAklz+Q/rmeUBEi2zn++Z5QPp+arx053lABOeMKO3neUBRa5p3nN95QEATYcPT3nlAF7fRAN7geUBCz2bV59p5QCnLEMe64XlAQBNhw9PmeUDUK2UZ4th5QEVHcvkP43lAX5hMFYzgeUAUP8bcteR5QNuK/WX36XlAJlMFo5LpeUAkl/+Qful5QDarPldb7nlA/fZ14JzveUD7OnDOiPN5QDXvOEVH+nlAMnctIR8CekA=",
            "dtype": "f8"
           },
           "decreasing": {
            "fillcolor": "#FF6347",
            "line": {
             "color": "#CC503A",
             "width": 0.6
            }
           },
           "high": {
            "bdata": "CtejcD3oeUAep+hILvF5QD9XW7G/7nlACtejcD3oeUAE54wo7ed5QD9XW7G/6nlALv8h/fbpeUA/V1uxv9p5QO5aQj7o2nlAKA8LtabZeUAep+hILtl5QBe30QDe0HlAK4cW2c7ZeUAOT6+UZeB5QGB2Tx4W5XlABaOSOgHgeUAu/yH99tF5QEp7gy9Mz3lA+8vuycPjeUBTBaOSOth5QDC7Jw8L3nlACRueXinseUA/V1uxv+p5QCSX/5B+6XlAHqfoSC7peUDhehSuR+p5QBHHuriN6HlAI9v5fmr1eUAgY+5aQvV5QOauJeSD+nlA8tJNYhD7eUDpJjEIrPZ5QBsv3SQG+XlAveMUHcn5eUAmUwWjkv15QPVKWYY4+3lAFD/G3LUAekDmriXkg/55QP+ye/Kw+3lAETY8vVL8eUASg8DKofx5QBsv3SQG+XlA6SYxCKz2eUAJG55eKfR5QAWjkjoB9HlA7lpCPujyeUD/snvysPN5QP+ye/Kw63lAFD/G3LXoeUAOT6+UZeh5QP32deCc53lAIR/0bFbpeUAOT6+UZeh5QFInoImw43lAF7fRAN7geUD1SlmGOON5QEVHcvkP43lA845TdCTneUD3Bl+YTOd5QAWjkjoB5HlADk+vlGXoeUAhH/RsVuV5QDvfT42X6nlAMLsnDwvueUD1SlmGOOt5QBHHuriN8HlA/7J78rDzeUAMk6mCUfR5QBKDwMqh/HlA6SYxCKwGekA=",
            "dtype": "f8"
           },
           "increasing": {
            "fillcolor": "#32CD32",
            "line": {
             "color": "#28A028",
             "width": 0.6
            }
           },
           "low": {
            "bdata": "Ne84RUfaeUBCz2bV5+J5QDhnRGlv4nlAPZtVn6veeUBIv30dONt5QL8OnDOi3HlAQs9m1efSeUBpb/CFycx5QFTjpZvEz3lAPL1SliHPeUARx7q4jch5QBzr4jYaxXlAI9v5fmrFeUAVjErqBNl5QEVHcvkP23lAIR/0bFbJeUAoDwu1psl5QE3zjlN0x3lARIts5/vGeUCX/5B++855QCnLEMe61XlAIR/0bFbZeUAAb4EExd95QBQ/xty14HlALv8h/fbheUARx7q4jeB5QDMzMzMz3nlAIR/0bFbheUA4Z0Rpb+p5QOviNhrA8nlAGy/dJAbxeUAHX5hMFfB5QPcGX5hM73lABOeMKO3veUDy0k1iEPN5QPjCZKpg83lADJOpglH4eUAE54wo7fd5QAdfmEwV9HlAF7fRAN70eUAj2/l+avV5QC7/If328XlALUMc6+LteUApyxDHuu15QBQ/xty17HlAFD/G3LXseUAhH/RsVul5QBHHuriN5HlACtejcD3geUACK4cW2eN5QBsv3SQG4XlAIGPuWkLleUAoDwu1pt15QAyTqYJR3HlAIR/0bFbZeUAtQxzr4tl5QDJ3LSEf2nlAHqfoSC7heUAwuycPC9Z5QP32deCc13lACtejcD3geUAgY+5aQt15QPjCZKpg43lAHqfoSC7peUD6fmq8dOd5QEATYcPT6HlAIGPuWkLteUAFo5I6Aex5QDarPldb8nlAI9v5fmr5eUA=",
            "dtype": "f8"
           },
           "name": "Price",
           "open": {
            "bdata": "FvvL7snceUD3Bl+YTOd5QC1DHOvi7XlARwN4CyTjeUD4wmSqYON5QP+ye/Kw43lAAiuHFtnjeUAPC7WmedR5QDXvOEVH0nlAIR/0bFbZeUAE54wo7dd5QCBj7lpCzXlALv8h/fbFeUCUh4Va09l5QAWjkjoB3HlABOeMKO3beUAydy0hH8p5QAyTqYJRzHlAFvvL7snMeUAK16NwPdB5QCnLEMe61XlAKA8LtabZeUD6fmq8dOd5QBsv3SQG4XlAAG+BBMXneUApyxDHuuV5QABvgQTF53lAGy/dJAbleUAAb4EExe95QAIrhxbZ83lALv8h/fb5eUAydy0hH/J5QP+ye/Kw83lAKA8LtabxeUAhH/RsVvl5QPjCZKpg83lA7Z48LNT6eUAc6+I2Gv15QBQ/xty1+HlAHOviNhr1eUAE54wo7ft5QPAWSFD89nlAJJf/kH71eUA2qz5XW+55QPLSTWIQ83lAI9v5fmrteUAE54wo7e95QPjCZKpg63lAI9v5fmrleUBEi2zn++Z5QPOOU3Qk53lAVcGopE7neUAE54wo7ed5QPp+arx033lANqs+V1veeUASg8DKoeB5QELPZtXn2nlAKcsQx7rheUA9m1Wfq+Z5QBe30QDe2HlAQs9m1efieUAOT6+UZeB5QBKDwMqh5HlALv8h/fbpeUAhH/RsVul5QCEf9GxW6XlAOiNKe4PueUACK4cW2e95QPs6cM6I83lAMnctIR/6eUA=",
            "dtype": "f8"
           },
           "type": "candlestick",
           "x": [
            "2023-10-04T09:30:00.000000000",
            "2023-10-04T09:35:00.000000000",
            "2023-10-04T09:40:00.000000000",
            "2023-10-04T09:45:00.000000000",
            "2023-10-04T09:50:00.000000000",
            "2023-10-04T09:55:00.000000000",
            "2023-10-04T10:00:00.000000000",
            "2023-10-04T10:05:00.000000000",
            "2023-10-04T10:10:00.000000000",
            "2023-10-04T10:15:00.000000000",
            "2023-10-04T10:20:00.000000000",
            "2023-10-04T10:25:00.000000000",
            "2023-10-04T10:30:00.000000000",
            "2023-10-04T10:35:00.000000000",
            "2023-10-04T10:40:00.000000000",
            "2023-10-04T10:45:00.000000000",
            "2023-10-04T10:50:00.000000000",
            "2023-10-04T10:55:00.000000000",
            "2023-10-04T11:00:00.000000000",
            "2023-10-04T11:05:00.000000000",
            "2023-10-04T11:10:00.000000000",
            "2023-10-04T11:15:00.000000000",
            "2023-10-04T11:20:00.000000000",
            "2023-10-04T11:25:00.000000000",
            "2023-10-04T11:30:00.000000000",
            "2023-10-04T11:35:00.000000000",
            "2023-10-04T11:40:00.000000000",
            "2023-10-04T11:45:00.000000000",
            "2023-10-04T11:50:00.000000000",
            "2023-10-04T11:55:00.000000000",
            "2023-10-04T12:00:00.000000000",
            "2023-10-04T12:05:00.000000000",
            "2023-10-04T12:10:00.000000000",
            "2023-10-04T12:15:00.000000000",
            "2023-10-04T12:20:00.000000000",
            "2023-10-04T12:25:00.000000000",
            "2023-10-04T12:30:00.000000000",
            "2023-10-04T12:35:00.000000000",
            "2023-10-04T12:40:00.000000000",
            "2023-10-04T12:45:00.000000000",
            "2023-10-04T12:50:00.000000000",
            "2023-10-04T12:55:00.000000000",
            "2023-10-04T13:00:00.000000000",
            "2023-10-04T13:05:00.000000000",
            "2023-10-04T13:10:00.000000000",
            "2023-10-04T13:15:00.000000000",
            "2023-10-04T13:20:00.000000000",
            "2023-10-04T13:25:00.000000000",
            "2023-10-04T13:30:00.000000000",
            "2023-10-04T13:35:00.000000000",
            "2023-10-04T13:40:00.000000000",
            "2023-10-04T13:45:00.000000000",
            "2023-10-04T13:50:00.000000000",
            "2023-10-04T13:55:00.000000000",
            "2023-10-04T14:00:00.000000000",
            "2023-10-04T14:05:00.000000000",
            "2023-10-04T14:10:00.000000000",
            "2023-10-04T14:15:00.000000000",
            "2023-10-04T14:20:00.000000000",
            "2023-10-04T14:25:00.000000000",
            "2023-10-04T14:30:00.000000000",
            "2023-10-04T14:35:00.000000000",
            "2023-10-04T14:40:00.000000000",
            "2023-10-04T14:45:00.000000000",
            "2023-10-04T14:50:00.000000000",
            "2023-10-04T14:55:00.000000000",
            "2023-10-04T15:00:00.000000000",
            "2023-10-04T15:05:00.000000000",
            "2023-10-04T15:10:00.000000000",
            "2023-10-04T15:15:00.000000000"
           ]
          }
         ],
         "name": "Frame 70"
        },
        {
         "data": [
          {
           "close": {
            "bdata": "oBov3STneUAwuycPC+55QEVHcvkP43lACRueXinkeUD/snvysON5QK62Yn/Z43lAEoPAyqHUeUAu/yH99tF5QBsv3SQG2XlABOeMKO3XeUAmUwWjks15QH6MuWsJxnlAK4cW2c7ZeUAFo5I6Adx5QAWjkjoB3HlANe84RUfKeUAMk6mCUcx5QBb7y+7JzHlADk+vlGXQeUAtQxzr4tV5QDJ3LSEf2nlA+MJkqmDneUAUP8bcteB5QABvgQTF53lAKcsQx7rleUAAb4EExed5QBlz1xLy5HlABaOSOgHweUACK4cW2fN5QDarPldb+nlALv8h/fbxeUD/snvysPN5QBgmUwWj8XlAIR/0bFb5eUD4wmSqYPN5QO5aQj7o+nlAFR3J5T/9eUAPC7Wmefh5QCBj7lpC9XlABaOSOgH8eUDwFkhQ/PZ5QIlBYOXQ9HlAGlHaG3zueUD5oGez6vJ5QBzr4jYa7XlABOeMKO3veUD1SlmGOOt5QB04Z0Rp5XlAklz+Q/rmeUBEi2zn++Z5QPp+arx053lABOeMKO3neUBRa5p3nN95QEATYcPT3nlAF7fRAN7geUBCz2bV59p5QCnLEMe64XlAQBNhw9PmeUDUK2UZ4th5QEVHcvkP43lAX5hMFYzgeUAUP8bcteR5QNuK/WX36XlAJlMFo5LpeUAkl/+Qful5QDarPldb7nlA/fZ14JzveUD7OnDOiPN5QDXvOEVH+nlAMnctIR8CekASg8DKoQR6QA==",
            "dtype": "f8"
           },
           "decreasing": {
            "fillcolor": "#FF6347",
            "line": {
             "color": "#CC503A",
             "width": 0.6
            }
           },
           "high": {
            "bdata": "CtejcD3oeUAep+hILvF5QD9XW7G/7nlACtejcD3oeUAE54wo7ed5QD9XW7G/6nlALv8h/fbpeUA/V1uxv9p5QO5aQj7o2nlAKA8LtabZeUAep+hILtl5QBe30QDe0HlAK4cW2c7ZeUAOT6+UZeB5QGB2Tx4W5XlABaOSOgHgeUAu/yH99tF5QEp7gy9Mz3lA+8vuycPjeUBTBaOSOth5QDC7Jw8L3nlACRueXinseUA/V1uxv+p5QCSX/5B+6XlAHqfoSC7peUDhehSuR+p5QBHHuriN6HlAI9v5fmr1eUAgY+5aQvV5QOauJeSD+nlA8tJNYhD7eUDpJjEIrPZ5QBsv3SQG+XlAveMUHcn5eUAmUwWjkv15QPVKWYY4+3lAFD/G3LUAekDmriXkg/55QP+ye/Kw+3lAETY8vVL8eUASg8DKofx5QBsv3SQG+XlA6SYxCKz2eUAJG55eKfR5QAWjkjoB9HlA7lpCPujyeUD/snvysPN5QP+ye/Kw63lAFD/G3LXoeUAOT6+UZeh5QP32deCc53lAIR/0bFbpeUAOT6+UZeh5QFInoImw43lAF7fRAN7geUD1SlmGOON5QEVHcvkP43lA845TdCTneUD3Bl+YTOd5QAWjkjoB5HlADk+vlGXoeUAhH/RsVuV5QDvfT42X6nlAMLsnDwvueUD1SlmGOOt5QBHHuriN8HlA/7J78rDzeUAMk6mCUfR5QBKDwMqh/HlA6SYxCKwGekDdJAaBlQV6QA==",
            "dtype": "f8"
           },
           "increasing": {
            "fillcolor": "#32CD32",
            "line": {
             "color": "#28A028",
             "width": 0.6
            }
           },
           "low": {
            "bdata": "Ne84RUfaeUBCz2bV5+J5QDhnRGlv4nlAPZtVn6veeUBIv30dONt5QL8OnDOi3HlAQs9m1efSeUBpb/CFycx5QFTjpZvEz3lAPL1SliHPeUARx7q4jch5QBzr4jYaxXlAI9v5fmrFeUAVjErqBNl5QEVHcvkP23lAIR/0bFbJeUAoDwu1psl5QE3zjlN0x3lARIts5/vGeUCX/5B++855QCnLEMe61XlAIR/0bFbZeUAAb4EExd95QBQ/xty14HlALv8h/fbheUARx7q4jeB5QDMzMzMz3nlAIR/0bFbheUA4Z0Rpb+p5QOviNhrA8nlAGy/dJAbxeUAHX5hMFfB5QPcGX5hM73lABOeMKO3veUDy0k1iEPN5QPjCZKpg83lADJOpglH4eUAE54wo7fd5QAdfmEwV9HlAF7fRAN70eUAj2/l+avV5QC7/If328XlALUMc6+LteUApyxDHuu15QBQ/xty17HlAFD/G3LXseUAhH/RsVul5QBHHuriN5HlACtejcD3geUACK4cW2eN5QBsv3SQG4XlAIGPuWkLleUAoDwu1pt15QAyTqYJR3HlAIR/0bFbZeUAtQxzr4tl5QDJ3LSEf2nlAHqfoSC7heUAwuycPC9Z5QP32deCc13lACtejcD3geUAgY+5aQt15QPjCZKpg43lAHqfoSC7peUD6fmq8dOd5QEATYcPT6HlAIGPuWkLteUAFo5I6Aex5QDarPldb8nlAI9v5fmr5eUDr4jYawP55QA==",
            "dtype": "f8"
           },
           "name": "Price",
           "open": {
            "bdata": "FvvL7snceUD3Bl+YTOd5QC1DHOvi7XlARwN4CyTjeUD4wmSqYON5QP+ye/Kw43lAAiuHFtnjeUAPC7WmedR5QDXvOEVH0nlAIR/0bFbZeUAE54wo7dd5QCBj7lpCzXlALv8h/fbFeUCUh4Va09l5QAWjkjoB3HlABOeMKO3beUAydy0hH8p5QAyTqYJRzHlAFvvL7snMeUAK16NwPdB5QCnLEMe61XlAKA8LtabZeUD6fmq8dOd5QBsv3SQG4XlAAG+BBMXneUApyxDHuuV5QABvgQTF53lAGy/dJAbleUAAb4EExe95QAIrhxbZ83lALv8h/fb5eUAydy0hH/J5QP+ye/Kw83lAKA8LtabxeUAhH/RsVvl5QPjCZKpg83lA7Z48LNT6eUAc6+I2Gv15QBQ/xty1+HlAHOviNhr1eUAE54wo7ft5QPAWSFD89nlAJJf/kH71eUA2qz5XW+55QPLSTWIQ83lAI9v5fmrteUAE54wo7e95QPjCZKpg63lAI9v5fmrleUBEi2zn++Z5QPOOU3Qk53lAVcGopE7neUAE54wo7ed5QPp+arx033lANqs+V1veeUASg8DKoeB5QELPZtXn2nlAKcsQx7rheUA9m1Wfq+Z5QBe30QDe2HlAQs9m1efieUAOT6+UZeB5QBKDwMqh5HlALv8h/fbpeUAhH/RsVul5QCEf9GxW6XlAOiNKe4PueUACK4cW2e95QPs6cM6I83lAMnctIR/6eUAu/yH99gF6QA==",
            "dtype": "f8"
           },
           "type": "candlestick",
           "x": [
            "2023-10-04T09:30:00.000000000",
            "2023-10-04T09:35:00.000000000",
            "2023-10-04T09:40:00.000000000",
            "2023-10-04T09:45:00.000000000",
            "2023-10-04T09:50:00.000000000",
            "2023-10-04T09:55:00.000000000",
            "2023-10-04T10:00:00.000000000",
            "2023-10-04T10:05:00.000000000",
            "2023-10-04T10:10:00.000000000",
            "2023-10-04T10:15:00.000000000",
            "2023-10-04T10:20:00.000000000",
            "2023-10-04T10:25:00.000000000",
            "2023-10-04T10:30:00.000000000",
            "2023-10-04T10:35:00.000000000",
            "2023-10-04T10:40:00.000000000",
            "2023-10-04T10:45:00.000000000",
            "2023-10-04T10:50:00.000000000",
            "2023-10-04T10:55:00.000000000",
            "2023-10-04T11:00:00.000000000",
            "2023-10-04T11:05:00.000000000",
            "2023-10-04T11:10:00.000000000",
            "2023-10-04T11:15:00.000000000",
            "2023-10-04T11:20:00.000000000",
            "2023-10-04T11:25:00.000000000",
            "2023-10-04T11:30:00.000000000",
            "2023-10-04T11:35:00.000000000",
            "2023-10-04T11:40:00.000000000",
            "2023-10-04T11:45:00.000000000",
            "2023-10-04T11:50:00.000000000",
            "2023-10-04T11:55:00.000000000",
            "2023-10-04T12:00:00.000000000",
            "2023-10-04T12:05:00.000000000",
            "2023-10-04T12:10:00.000000000",
            "2023-10-04T12:15:00.000000000",
            "2023-10-04T12:20:00.000000000",
            "2023-10-04T12:25:00.000000000",
            "2023-10-04T12:30:00.000000000",
            "2023-10-04T12:35:00.000000000",
            "2023-10-04T12:40:00.000000000",
            "2023-10-04T12:45:00.000000000",
            "2023-10-04T12:50:00.000000000",
            "2023-10-04T12:55:00.000000000",
            "2023-10-04T13:00:00.000000000",
            "2023-10-04T13:05:00.000000000",
            "2023-10-04T13:10:00.000000000",
            "2023-10-04T13:15:00.000000000",
            "2023-10-04T13:20:00.000000000",
            "2023-10-04T13:25:00.000000000",
            "2023-10-04T13:30:00.000000000",
            "2023-10-04T13:35:00.000000000",
            "2023-10-04T13:40:00.000000000",
            "2023-10-04T13:45:00.000000000",
            "2023-10-04T13:50:00.000000000",
            "2023-10-04T13:55:00.000000000",
            "2023-10-04T14:00:00.000000000",
            "2023-10-04T14:05:00.000000000",
            "2023-10-04T14:10:00.000000000",
            "2023-10-04T14:15:00.000000000",
            "2023-10-04T14:20:00.000000000",
            "2023-10-04T14:25:00.000000000",
            "2023-10-04T14:30:00.000000000",
            "2023-10-04T14:35:00.000000000",
            "2023-10-04T14:40:00.000000000",
            "2023-10-04T14:45:00.000000000",
            "2023-10-04T14:50:00.000000000",
            "2023-10-04T14:55:00.000000000",
            "2023-10-04T15:00:00.000000000",
            "2023-10-04T15:05:00.000000000",
            "2023-10-04T15:10:00.000000000",
            "2023-10-04T15:15:00.000000000",
            "2023-10-04T15:20:00.000000000"
           ]
          }
         ],
         "name": "Frame 71"
        },
        {
         "data": [
          {
           "close": {
            "bdata": "oBov3STneUAwuycPC+55QEVHcvkP43lACRueXinkeUD/snvysON5QK62Yn/Z43lAEoPAyqHUeUAu/yH99tF5QBsv3SQG2XlABOeMKO3XeUAmUwWjks15QH6MuWsJxnlAK4cW2c7ZeUAFo5I6Adx5QAWjkjoB3HlANe84RUfKeUAMk6mCUcx5QBb7y+7JzHlADk+vlGXQeUAtQxzr4tV5QDJ3LSEf2nlA+MJkqmDneUAUP8bcteB5QABvgQTF53lAKcsQx7rleUAAb4EExed5QBlz1xLy5HlABaOSOgHweUACK4cW2fN5QDarPldb+nlALv8h/fbxeUD/snvysPN5QBgmUwWj8XlAIR/0bFb5eUD4wmSqYPN5QO5aQj7o+nlAFR3J5T/9eUAPC7Wmefh5QCBj7lpC9XlABaOSOgH8eUDwFkhQ/PZ5QIlBYOXQ9HlAGlHaG3zueUD5oGez6vJ5QBzr4jYa7XlABOeMKO3veUD1SlmGOOt5QB04Z0Rp5XlAklz+Q/rmeUBEi2zn++Z5QPp+arx053lABOeMKO3neUBRa5p3nN95QEATYcPT3nlAF7fRAN7geUBCz2bV59p5QCnLEMe64XlAQBNhw9PmeUDUK2UZ4th5QEVHcvkP43lAX5hMFYzgeUAUP8bcteR5QNuK/WX36XlAJlMFo5LpeUAkl/+Qful5QDarPldb7nlA/fZ14JzveUD7OnDOiPN5QDXvOEVH+nlAMnctIR8CekASg8DKoQR6QCgPC7WmAXpA",
            "dtype": "f8"
           },
           "decreasing": {
            "fillcolor": "#FF6347",
            "line": {
             "color": "#CC503A",
             "width": 0.6
            }
           },
           "high": {
            "bdata": "CtejcD3oeUAep+hILvF5QD9XW7G/7nlACtejcD3oeUAE54wo7ed5QD9XW7G/6nlALv8h/fbpeUA/V1uxv9p5QO5aQj7o2nlAKA8LtabZeUAep+hILtl5QBe30QDe0HlAK4cW2c7ZeUAOT6+UZeB5QGB2Tx4W5XlABaOSOgHgeUAu/yH99tF5QEp7gy9Mz3lA+8vuycPjeUBTBaOSOth5QDC7Jw8L3nlACRueXinseUA/V1uxv+p5QCSX/5B+6XlAHqfoSC7peUDhehSuR+p5QBHHuriN6HlAI9v5fmr1eUAgY+5aQvV5QOauJeSD+nlA8tJNYhD7eUDpJjEIrPZ5QBsv3SQG+XlAveMUHcn5eUAmUwWjkv15QPVKWYY4+3lAFD/G3LUAekDmriXkg/55QP+ye/Kw+3lAETY8vVL8eUASg8DKofx5QBsv3SQG+XlA6SYxCKz2eUAJG55eKfR5QAWjkjoB9HlA7lpCPujyeUD/snvysPN5QP+ye/Kw63lAFD/G3LXoeUAOT6+UZeh5QP32deCc53lAIR/0bFbpeUAOT6+UZeh5QFInoImw43lAF7fRAN7geUD1SlmGOON5QEVHcvkP43lA845TdCTneUD3Bl+YTOd5QAWjkjoB5HlADk+vlGXoeUAhH/RsVuV5QDvfT42X6nlAMLsnDwvueUD1SlmGOOt5QBHHuriN8HlA/7J78rDzeUAMk6mCUfR5QBKDwMqh/HlA6SYxCKwGekDdJAaBlQV6QOkmMQisBnpA",
            "dtype": "f8"
           },
           "increasing": {
            "fillcolor": "#32CD32",
            "line": {
             "color": "#28A028",
             "width": 0.6
            }
           },
           "low": {
            "bdata": "Ne84RUfaeUBCz2bV5+J5QDhnRGlv4nlAPZtVn6veeUBIv30dONt5QL8OnDOi3HlAQs9m1efSeUBpb/CFycx5QFTjpZvEz3lAPL1SliHPeUARx7q4jch5QBzr4jYaxXlAI9v5fmrFeUAVjErqBNl5QEVHcvkP23lAIR/0bFbJeUAoDwu1psl5QE3zjlN0x3lARIts5/vGeUCX/5B++855QCnLEMe61XlAIR/0bFbZeUAAb4EExd95QBQ/xty14HlALv8h/fbheUARx7q4jeB5QDMzMzMz3nlAIR/0bFbheUA4Z0Rpb+p5QOviNhrA8nlAGy/dJAbxeUAHX5hMFfB5QPcGX5hM73lABOeMKO3veUDy0k1iEPN5QPjCZKpg83lADJOpglH4eUAE54wo7fd5QAdfmEwV9HlAF7fRAN70eUAj2/l+avV5QC7/If328XlALUMc6+LteUApyxDHuu15QBQ/xty17HlAFD/G3LXseUAhH/RsVul5QBHHuriN5HlACtejcD3geUACK4cW2eN5QBsv3SQG4XlAIGPuWkLleUAoDwu1pt15QAyTqYJR3HlAIR/0bFbZeUAtQxzr4tl5QDJ3LSEf2nlAHqfoSC7heUAwuycPC9Z5QP32deCc13lACtejcD3geUAgY+5aQt15QPjCZKpg43lAHqfoSC7peUD6fmq8dOd5QEATYcPT6HlAIGPuWkLteUAFo5I6Aex5QDarPldb8nlAI9v5fmr5eUDr4jYawP55QATnjCjt/3lA",
            "dtype": "f8"
           },
           "name": "Price",
           "open": {
            "bdata": "FvvL7snceUD3Bl+YTOd5QC1DHOvi7XlARwN4CyTjeUD4wmSqYON5QP+ye/Kw43lAAiuHFtnjeUAPC7WmedR5QDXvOEVH0nlAIR/0bFbZeUAE54wo7dd5QCBj7lpCzXlALv8h/fbFeUCUh4Va09l5QAWjkjoB3HlABOeMKO3beUAydy0hH8p5QAyTqYJRzHlAFvvL7snMeUAK16NwPdB5QCnLEMe61XlAKA8LtabZeUD6fmq8dOd5QBsv3SQG4XlAAG+BBMXneUApyxDHuuV5QABvgQTF53lAGy/dJAbleUAAb4EExe95QAIrhxbZ83lALv8h/fb5eUAydy0hH/J5QP+ye/Kw83lAKA8LtabxeUAhH/RsVvl5QPjCZKpg83lA7Z48LNT6eUAc6+I2Gv15QBQ/xty1+HlAHOviNhr1eUAE54wo7ft5QPAWSFD89nlAJJf/kH71eUA2qz5XW+55QPLSTWIQ83lAI9v5fmrteUAE54wo7e95QPjCZKpg63lAI9v5fmrleUBEi2zn++Z5QPOOU3Qk53lAVcGopE7neUAE54wo7ed5QPp+arx033lANqs+V1veeUASg8DKoeB5QELPZtXn2nlAKcsQx7rheUA9m1Wfq+Z5QBe30QDe2HlAQs9m1efieUAOT6+UZeB5QBKDwMqh5HlALv8h/fbpeUAhH/RsVul5QCEf9GxW6XlAOiNKe4PueUACK4cW2e95QPs6cM6I83lAMnctIR/6eUAu/yH99gF6QA8LtaZ5BHpA",
            "dtype": "f8"
           },
           "type": "candlestick",
           "x": [
            "2023-10-04T09:30:00.000000000",
            "2023-10-04T09:35:00.000000000",
            "2023-10-04T09:40:00.000000000",
            "2023-10-04T09:45:00.000000000",
            "2023-10-04T09:50:00.000000000",
            "2023-10-04T09:55:00.000000000",
            "2023-10-04T10:00:00.000000000",
            "2023-10-04T10:05:00.000000000",
            "2023-10-04T10:10:00.000000000",
            "2023-10-04T10:15:00.000000000",
            "2023-10-04T10:20:00.000000000",
            "2023-10-04T10:25:00.000000000",
            "2023-10-04T10:30:00.000000000",
            "2023-10-04T10:35:00.000000000",
            "2023-10-04T10:40:00.000000000",
            "2023-10-04T10:45:00.000000000",
            "2023-10-04T10:50:00.000000000",
            "2023-10-04T10:55:00.000000000",
            "2023-10-04T11:00:00.000000000",
            "2023-10-04T11:05:00.000000000",
            "2023-10-04T11:10:00.000000000",
            "2023-10-04T11:15:00.000000000",
            "2023-10-04T11:20:00.000000000",
            "2023-10-04T11:25:00.000000000",
            "2023-10-04T11:30:00.000000000",
            "2023-10-04T11:35:00.000000000",
            "2023-10-04T11:40:00.000000000",
            "2023-10-04T11:45:00.000000000",
            "2023-10-04T11:50:00.000000000",
            "2023-10-04T11:55:00.000000000",
            "2023-10-04T12:00:00.000000000",
            "2023-10-04T12:05:00.000000000",
            "2023-10-04T12:10:00.000000000",
            "2023-10-04T12:15:00.000000000",
            "2023-10-04T12:20:00.000000000",
            "2023-10-04T12:25:00.000000000",
            "2023-10-04T12:30:00.000000000",
            "2023-10-04T12:35:00.000000000",
            "2023-10-04T12:40:00.000000000",
            "2023-10-04T12:45:00.000000000",
            "2023-10-04T12:50:00.000000000",
            "2023-10-04T12:55:00.000000000",
            "2023-10-04T13:00:00.000000000",
            "2023-10-04T13:05:00.000000000",
            "2023-10-04T13:10:00.000000000",
            "2023-10-04T13:15:00.000000000",
            "2023-10-04T13:20:00.000000000",
            "2023-10-04T13:25:00.000000000",
            "2023-10-04T13:30:00.000000000",
            "2023-10-04T13:35:00.000000000",
            "2023-10-04T13:40:00.000000000",
            "2023-10-04T13:45:00.000000000",
            "2023-10-04T13:50:00.000000000",
            "2023-10-04T13:55:00.000000000",
            "2023-10-04T14:00:00.000000000",
            "2023-10-04T14:05:00.000000000",
            "2023-10-04T14:10:00.000000000",
            "2023-10-04T14:15:00.000000000",
            "2023-10-04T14:20:00.000000000",
            "2023-10-04T14:25:00.000000000",
            "2023-10-04T14:30:00.000000000",
            "2023-10-04T14:35:00.000000000",
            "2023-10-04T14:40:00.000000000",
            "2023-10-04T14:45:00.000000000",
            "2023-10-04T14:50:00.000000000",
            "2023-10-04T14:55:00.000000000",
            "2023-10-04T15:00:00.000000000",
            "2023-10-04T15:05:00.000000000",
            "2023-10-04T15:10:00.000000000",
            "2023-10-04T15:15:00.000000000",
            "2023-10-04T15:20:00.000000000",
            "2023-10-04T15:25:00.000000000"
           ]
          }
         ],
         "name": "Frame 72"
        },
        {
         "data": [
          {
           "close": {
            "bdata": "oBov3STneUAwuycPC+55QEVHcvkP43lACRueXinkeUD/snvysON5QK62Yn/Z43lAEoPAyqHUeUAu/yH99tF5QBsv3SQG2XlABOeMKO3XeUAmUwWjks15QH6MuWsJxnlAK4cW2c7ZeUAFo5I6Adx5QAWjkjoB3HlANe84RUfKeUAMk6mCUcx5QBb7y+7JzHlADk+vlGXQeUAtQxzr4tV5QDJ3LSEf2nlA+MJkqmDneUAUP8bcteB5QABvgQTF53lAKcsQx7rleUAAb4EExed5QBlz1xLy5HlABaOSOgHweUACK4cW2fN5QDarPldb+nlALv8h/fbxeUD/snvysPN5QBgmUwWj8XlAIR/0bFb5eUD4wmSqYPN5QO5aQj7o+nlAFR3J5T/9eUAPC7Wmefh5QCBj7lpC9XlABaOSOgH8eUDwFkhQ/PZ5QIlBYOXQ9HlAGlHaG3zueUD5oGez6vJ5QBzr4jYa7XlABOeMKO3veUD1SlmGOOt5QB04Z0Rp5XlAklz+Q/rmeUBEi2zn++Z5QPp+arx053lABOeMKO3neUBRa5p3nN95QEATYcPT3nlAF7fRAN7geUBCz2bV59p5QCnLEMe64XlAQBNhw9PmeUDUK2UZ4th5QEVHcvkP43lAX5hMFYzgeUAUP8bcteR5QNuK/WX36XlAJlMFo5LpeUAkl/+Qful5QDarPldb7nlA/fZ14JzveUD7OnDOiPN5QDXvOEVH+nlAMnctIR8CekASg8DKoQR6QCgPC7WmAXpA/7J78rAHekA=",
            "dtype": "f8"
           },
           "decreasing": {
            "fillcolor": "#FF6347",
            "line": {
             "color": "#CC503A",
             "width": 0.6
            }
           },
           "high": {
            "bdata": "CtejcD3oeUAep+hILvF5QD9XW7G/7nlACtejcD3oeUAE54wo7ed5QD9XW7G/6nlALv8h/fbpeUA/V1uxv9p5QO5aQj7o2nlAKA8LtabZeUAep+hILtl5QBe30QDe0HlAK4cW2c7ZeUAOT6+UZeB5QGB2Tx4W5XlABaOSOgHgeUAu/yH99tF5QEp7gy9Mz3lA+8vuycPjeUBTBaOSOth5QDC7Jw8L3nlACRueXinseUA/V1uxv+p5QCSX/5B+6XlAHqfoSC7peUDhehSuR+p5QBHHuriN6HlAI9v5fmr1eUAgY+5aQvV5QOauJeSD+nlA8tJNYhD7eUDpJjEIrPZ5QBsv3SQG+XlAveMUHcn5eUAmUwWjkv15QPVKWYY4+3lAFD/G3LUAekDmriXkg/55QP+ye/Kw+3lAETY8vVL8eUASg8DKofx5QBsv3SQG+XlA6SYxCKz2eUAJG55eKfR5QAWjkjoB9HlA7lpCPujyeUD/snvysPN5QP+ye/Kw63lAFD/G3LXoeUAOT6+UZeh5QP32deCc53lAIR/0bFbpeUAOT6+UZeh5QFInoImw43lAF7fRAN7geUD1SlmGOON5QEVHcvkP43lA845TdCTneUD3Bl+YTOd5QAWjkjoB5HlADk+vlGXoeUAhH/RsVuV5QDvfT42X6nlAMLsnDwvueUD1SlmGOOt5QBHHuriN8HlA/7J78rDzeUAMk6mCUfR5QBKDwMqh/HlA6SYxCKwGekDdJAaBlQV6QOkmMQisBnpAGXPXEvIIekA=",
            "dtype": "f8"
           },
           "increasing": {
            "fillcolor": "#32CD32",
            "line": {
             "color": "#28A028",
             "width": 0.6
            }
           },
           "low": {
            "bdata": "Ne84RUfaeUBCz2bV5+J5QDhnRGlv4nlAPZtVn6veeUBIv30dONt5QL8OnDOi3HlAQs9m1efSeUBpb/CFycx5QFTjpZvEz3lAPL1SliHPeUARx7q4jch5QBzr4jYaxXlAI9v5fmrFeUAVjErqBNl5QEVHcvkP23lAIR/0bFbJeUAoDwu1psl5QE3zjlN0x3lARIts5/vGeUCX/5B++855QCnLEMe61XlAIR/0bFbZeUAAb4EExd95QBQ/xty14HlALv8h/fbheUARx7q4jeB5QDMzMzMz3nlAIR/0bFbheUA4Z0Rpb+p5QOviNhrA8nlAGy/dJAbxeUAHX5hMFfB5QPcGX5hM73lABOeMKO3veUDy0k1iEPN5QPjCZKpg83lADJOpglH4eUAE54wo7fd5QAdfmEwV9HlAF7fRAN70eUAj2/l+avV5QC7/If328XlALUMc6+LteUApyxDHuu15QBQ/xty17HlAFD/G3LXseUAhH/RsVul5QBHHuriN5HlACtejcD3geUACK4cW2eN5QBsv3SQG4XlAIGPuWkLleUAoDwu1pt15QAyTqYJR3HlAIR/0bFbZeUAtQxzr4tl5QDJ3LSEf2nlAHqfoSC7heUAwuycPC9Z5QP32deCc13lACtejcD3geUAgY+5aQt15QPjCZKpg43lAHqfoSC7peUD6fmq8dOd5QEATYcPT6HlAIGPuWkLteUAFo5I6Aex5QDarPldb8nlAI9v5fmr5eUDr4jYawP55QATnjCjt/3lAGy/dJAYBekA=",
            "dtype": "f8"
           },
           "name": "Price",
           "open": {
            "bdata": "FvvL7snceUD3Bl+YTOd5QC1DHOvi7XlARwN4CyTjeUD4wmSqYON5QP+ye/Kw43lAAiuHFtnjeUAPC7WmedR5QDXvOEVH0nlAIR/0bFbZeUAE54wo7dd5QCBj7lpCzXlALv8h/fbFeUCUh4Va09l5QAWjkjoB3HlABOeMKO3beUAydy0hH8p5QAyTqYJRzHlAFvvL7snMeUAK16NwPdB5QCnLEMe61XlAKA8LtabZeUD6fmq8dOd5QBsv3SQG4XlAAG+BBMXneUApyxDHuuV5QABvgQTF53lAGy/dJAbleUAAb4EExe95QAIrhxbZ83lALv8h/fb5eUAydy0hH/J5QP+ye/Kw83lAKA8LtabxeUAhH/RsVvl5QPjCZKpg83lA7Z48LNT6eUAc6+I2Gv15QBQ/xty1+HlAHOviNhr1eUAE54wo7ft5QPAWSFD89nlAJJf/kH71eUA2qz5XW+55QPLSTWIQ83lAI9v5fmrteUAE54wo7e95QPjCZKpg63lAI9v5fmrleUBEi2zn++Z5QPOOU3Qk53lAVcGopE7neUAE54wo7ed5QPp+arx033lANqs+V1veeUASg8DKoeB5QELPZtXn2nlAKcsQx7rheUA9m1Wfq+Z5QBe30QDe2HlAQs9m1efieUAOT6+UZeB5QBKDwMqh5HlALv8h/fbpeUAhH/RsVul5QCEf9GxW6XlAOiNKe4PueUACK4cW2e95QPs6cM6I83lAMnctIR/6eUAu/yH99gF6QA8LtaZ5BHpAKA8LtaYBekA=",
            "dtype": "f8"
           },
           "type": "candlestick",
           "x": [
            "2023-10-04T09:30:00.000000000",
            "2023-10-04T09:35:00.000000000",
            "2023-10-04T09:40:00.000000000",
            "2023-10-04T09:45:00.000000000",
            "2023-10-04T09:50:00.000000000",
            "2023-10-04T09:55:00.000000000",
            "2023-10-04T10:00:00.000000000",
            "2023-10-04T10:05:00.000000000",
            "2023-10-04T10:10:00.000000000",
            "2023-10-04T10:15:00.000000000",
            "2023-10-04T10:20:00.000000000",
            "2023-10-04T10:25:00.000000000",
            "2023-10-04T10:30:00.000000000",
            "2023-10-04T10:35:00.000000000",
            "2023-10-04T10:40:00.000000000",
            "2023-10-04T10:45:00.000000000",
            "2023-10-04T10:50:00.000000000",
            "2023-10-04T10:55:00.000000000",
            "2023-10-04T11:00:00.000000000",
            "2023-10-04T11:05:00.000000000",
            "2023-10-04T11:10:00.000000000",
            "2023-10-04T11:15:00.000000000",
            "2023-10-04T11:20:00.000000000",
            "2023-10-04T11:25:00.000000000",
            "2023-10-04T11:30:00.000000000",
            "2023-10-04T11:35:00.000000000",
            "2023-10-04T11:40:00.000000000",
            "2023-10-04T11:45:00.000000000",
            "2023-10-04T11:50:00.000000000",
            "2023-10-04T11:55:00.000000000",
            "2023-10-04T12:00:00.000000000",
            "2023-10-04T12:05:00.000000000",
            "2023-10-04T12:10:00.000000000",
            "2023-10-04T12:15:00.000000000",
            "2023-10-04T12:20:00.000000000",
            "2023-10-04T12:25:00.000000000",
            "2023-10-04T12:30:00.000000000",
            "2023-10-04T12:35:00.000000000",
            "2023-10-04T12:40:00.000000000",
            "2023-10-04T12:45:00.000000000",
            "2023-10-04T12:50:00.000000000",
            "2023-10-04T12:55:00.000000000",
            "2023-10-04T13:00:00.000000000",
            "2023-10-04T13:05:00.000000000",
            "2023-10-04T13:10:00.000000000",
            "2023-10-04T13:15:00.000000000",
            "2023-10-04T13:20:00.000000000",
            "2023-10-04T13:25:00.000000000",
            "2023-10-04T13:30:00.000000000",
            "2023-10-04T13:35:00.000000000",
            "2023-10-04T13:40:00.000000000",
            "2023-10-04T13:45:00.000000000",
            "2023-10-04T13:50:00.000000000",
            "2023-10-04T13:55:00.000000000",
            "2023-10-04T14:00:00.000000000",
            "2023-10-04T14:05:00.000000000",
            "2023-10-04T14:10:00.000000000",
            "2023-10-04T14:15:00.000000000",
            "2023-10-04T14:20:00.000000000",
            "2023-10-04T14:25:00.000000000",
            "2023-10-04T14:30:00.000000000",
            "2023-10-04T14:35:00.000000000",
            "2023-10-04T14:40:00.000000000",
            "2023-10-04T14:45:00.000000000",
            "2023-10-04T14:50:00.000000000",
            "2023-10-04T14:55:00.000000000",
            "2023-10-04T15:00:00.000000000",
            "2023-10-04T15:05:00.000000000",
            "2023-10-04T15:10:00.000000000",
            "2023-10-04T15:15:00.000000000",
            "2023-10-04T15:20:00.000000000",
            "2023-10-04T15:25:00.000000000",
            "2023-10-04T15:30:00.000000000"
           ]
          }
         ],
         "name": "Frame 73"
        },
        {
         "data": [
          {
           "close": {
            "bdata": "oBov3STneUAwuycPC+55QEVHcvkP43lACRueXinkeUD/snvysON5QK62Yn/Z43lAEoPAyqHUeUAu/yH99tF5QBsv3SQG2XlABOeMKO3XeUAmUwWjks15QH6MuWsJxnlAK4cW2c7ZeUAFo5I6Adx5QAWjkjoB3HlANe84RUfKeUAMk6mCUcx5QBb7y+7JzHlADk+vlGXQeUAtQxzr4tV5QDJ3LSEf2nlA+MJkqmDneUAUP8bcteB5QABvgQTF53lAKcsQx7rleUAAb4EExed5QBlz1xLy5HlABaOSOgHweUACK4cW2fN5QDarPldb+nlALv8h/fbxeUD/snvysPN5QBgmUwWj8XlAIR/0bFb5eUD4wmSqYPN5QO5aQj7o+nlAFR3J5T/9eUAPC7Wmefh5QCBj7lpC9XlABaOSOgH8eUDwFkhQ/PZ5QIlBYOXQ9HlAGlHaG3zueUD5oGez6vJ5QBzr4jYa7XlABOeMKO3veUD1SlmGOOt5QB04Z0Rp5XlAklz+Q/rmeUBEi2zn++Z5QPp+arx053lABOeMKO3neUBRa5p3nN95QEATYcPT3nlAF7fRAN7geUBCz2bV59p5QCnLEMe64XlAQBNhw9PmeUDUK2UZ4th5QEVHcvkP43lAX5hMFYzgeUAUP8bcteR5QNuK/WX36XlAJlMFo5LpeUAkl/+Qful5QDarPldb7nlA/fZ14JzveUD7OnDOiPN5QDXvOEVH+nlAMnctIR8CekASg8DKoQR6QCgPC7WmAXpA/7J78rAHekD/snvysAt6QA==",
            "dtype": "f8"
           },
           "decreasing": {
            "fillcolor": "#FF6347",
            "line": {
             "color": "#CC503A",
             "width": 0.6
            }
           },
           "high": {
            "bdata": "CtejcD3oeUAep+hILvF5QD9XW7G/7nlACtejcD3oeUAE54wo7ed5QD9XW7G/6nlALv8h/fbpeUA/V1uxv9p5QO5aQj7o2nlAKA8LtabZeUAep+hILtl5QBe30QDe0HlAK4cW2c7ZeUAOT6+UZeB5QGB2Tx4W5XlABaOSOgHgeUAu/yH99tF5QEp7gy9Mz3lA+8vuycPjeUBTBaOSOth5QDC7Jw8L3nlACRueXinseUA/V1uxv+p5QCSX/5B+6XlAHqfoSC7peUDhehSuR+p5QBHHuriN6HlAI9v5fmr1eUAgY+5aQvV5QOauJeSD+nlA8tJNYhD7eUDpJjEIrPZ5QBsv3SQG+XlAveMUHcn5eUAmUwWjkv15QPVKWYY4+3lAFD/G3LUAekDmriXkg/55QP+ye/Kw+3lAETY8vVL8eUASg8DKofx5QBsv3SQG+XlA6SYxCKz2eUAJG55eKfR5QAWjkjoB9HlA7lpCPujyeUD/snvysPN5QP+ye/Kw63lAFD/G3LXoeUAOT6+UZeh5QP32deCc53lAIR/0bFbpeUAOT6+UZeh5QFInoImw43lAF7fRAN7geUD1SlmGOON5QEVHcvkP43lA845TdCTneUD3Bl+YTOd5QAWjkjoB5HlADk+vlGXoeUAhH/RsVuV5QDvfT42X6nlAMLsnDwvueUD1SlmGOOt5QBHHuriN8HlA/7J78rDzeUAMk6mCUfR5QBKDwMqh/HlA6SYxCKwGekDdJAaBlQV6QOkmMQisBnpAGXPXEvIIekB4CyQofhF6QA==",
            "dtype": "f8"
           },
           "increasing": {
            "fillcolor": "#32CD32",
            "line": {
             "color": "#28A028",
             "width": 0.6
            }
           },
           "low": {
            "bdata": "Ne84RUfaeUBCz2bV5+J5QDhnRGlv4nlAPZtVn6veeUBIv30dONt5QL8OnDOi3HlAQs9m1efSeUBpb/CFycx5QFTjpZvEz3lAPL1SliHPeUARx7q4jch5QBzr4jYaxXlAI9v5fmrFeUAVjErqBNl5QEVHcvkP23lAIR/0bFbJeUAoDwu1psl5QE3zjlN0x3lARIts5/vGeUCX/5B++855QCnLEMe61XlAIR/0bFbZeUAAb4EExd95QBQ/xty14HlALv8h/fbheUARx7q4jeB5QDMzMzMz3nlAIR/0bFbheUA4Z0Rpb+p5QOviNhrA8nlAGy/dJAbxeUAHX5hMFfB5QPcGX5hM73lABOeMKO3veUDy0k1iEPN5QPjCZKpg83lADJOpglH4eUAE54wo7fd5QAdfmEwV9HlAF7fRAN70eUAj2/l+avV5QC7/If328XlALUMc6+LteUApyxDHuu15QBQ/xty17HlAFD/G3LXseUAhH/RsVul5QBHHuriN5HlACtejcD3geUACK4cW2eN5QBsv3SQG4XlAIGPuWkLleUAoDwu1pt15QAyTqYJR3HlAIR/0bFbZeUAtQxzr4tl5QDJ3LSEf2nlAHqfoSC7heUAwuycPC9Z5QP32deCc13lACtejcD3geUAgY+5aQt15QPjCZKpg43lAHqfoSC7peUD6fmq8dOd5QEATYcPT6HlAIGPuWkLteUAFo5I6Aex5QDarPldb8nlAI9v5fmr5eUDr4jYawP55QATnjCjt/3lAGy/dJAYBekD3Bl+YTAd6QA==",
            "dtype": "f8"
           },
           "name": "Price",
           "open": {
            "bdata": "FvvL7snceUD3Bl+YTOd5QC1DHOvi7XlARwN4CyTjeUD4wmSqYON5QP+ye/Kw43lAAiuHFtnjeUAPC7WmedR5QDXvOEVH0nlAIR/0bFbZeUAE54wo7dd5QCBj7lpCzXlALv8h/fbFeUCUh4Va09l5QAWjkjoB3HlABOeMKO3beUAydy0hH8p5QAyTqYJRzHlAFvvL7snMeUAK16NwPdB5QCnLEMe61XlAKA8LtabZeUD6fmq8dOd5QBsv3SQG4XlAAG+BBMXneUApyxDHuuV5QABvgQTF53lAGy/dJAbleUAAb4EExe95QAIrhxbZ83lALv8h/fb5eUAydy0hH/J5QP+ye/Kw83lAKA8LtabxeUAhH/RsVvl5QPjCZKpg83lA7Z48LNT6eUAc6+I2Gv15QBQ/xty1+HlAHOviNhr1eUAE54wo7ft5QPAWSFD89nlAJJf/kH71eUA2qz5XW+55QPLSTWIQ83lAI9v5fmrteUAE54wo7e95QPjCZKpg63lAI9v5fmrleUBEi2zn++Z5QPOOU3Qk53lAVcGopE7neUAE54wo7ed5QPp+arx033lANqs+V1veeUASg8DKoeB5QELPZtXn2nlAKcsQx7rheUA9m1Wfq+Z5QBe30QDe2HlAQs9m1efieUAOT6+UZeB5QBKDwMqh5HlALv8h/fbpeUAhH/RsVul5QCEf9GxW6XlAOiNKe4PueUACK4cW2e95QPs6cM6I83lAMnctIR/6eUAu/yH99gF6QA8LtaZ5BHpAKA8LtaYBekD6fmq8dAd6QA==",
            "dtype": "f8"
           },
           "type": "candlestick",
           "x": [
            "2023-10-04T09:30:00.000000000",
            "2023-10-04T09:35:00.000000000",
            "2023-10-04T09:40:00.000000000",
            "2023-10-04T09:45:00.000000000",
            "2023-10-04T09:50:00.000000000",
            "2023-10-04T09:55:00.000000000",
            "2023-10-04T10:00:00.000000000",
            "2023-10-04T10:05:00.000000000",
            "2023-10-04T10:10:00.000000000",
            "2023-10-04T10:15:00.000000000",
            "2023-10-04T10:20:00.000000000",
            "2023-10-04T10:25:00.000000000",
            "2023-10-04T10:30:00.000000000",
            "2023-10-04T10:35:00.000000000",
            "2023-10-04T10:40:00.000000000",
            "2023-10-04T10:45:00.000000000",
            "2023-10-04T10:50:00.000000000",
            "2023-10-04T10:55:00.000000000",
            "2023-10-04T11:00:00.000000000",
            "2023-10-04T11:05:00.000000000",
            "2023-10-04T11:10:00.000000000",
            "2023-10-04T11:15:00.000000000",
            "2023-10-04T11:20:00.000000000",
            "2023-10-04T11:25:00.000000000",
            "2023-10-04T11:30:00.000000000",
            "2023-10-04T11:35:00.000000000",
            "2023-10-04T11:40:00.000000000",
            "2023-10-04T11:45:00.000000000",
            "2023-10-04T11:50:00.000000000",
            "2023-10-04T11:55:00.000000000",
            "2023-10-04T12:00:00.000000000",
            "2023-10-04T12:05:00.000000000",
            "2023-10-04T12:10:00.000000000",
            "2023-10-04T12:15:00.000000000",
            "2023-10-04T12:20:00.000000000",
            "2023-10-04T12:25:00.000000000",
            "2023-10-04T12:30:00.000000000",
            "2023-10-04T12:35:00.000000000",
            "2023-10-04T12:40:00.000000000",
            "2023-10-04T12:45:00.000000000",
            "2023-10-04T12:50:00.000000000",
            "2023-10-04T12:55:00.000000000",
            "2023-10-04T13:00:00.000000000",
            "2023-10-04T13:05:00.000000000",
            "2023-10-04T13:10:00.000000000",
            "2023-10-04T13:15:00.000000000",
            "2023-10-04T13:20:00.000000000",
            "2023-10-04T13:25:00.000000000",
            "2023-10-04T13:30:00.000000000",
            "2023-10-04T13:35:00.000000000",
            "2023-10-04T13:40:00.000000000",
            "2023-10-04T13:45:00.000000000",
            "2023-10-04T13:50:00.000000000",
            "2023-10-04T13:55:00.000000000",
            "2023-10-04T14:00:00.000000000",
            "2023-10-04T14:05:00.000000000",
            "2023-10-04T14:10:00.000000000",
            "2023-10-04T14:15:00.000000000",
            "2023-10-04T14:20:00.000000000",
            "2023-10-04T14:25:00.000000000",
            "2023-10-04T14:30:00.000000000",
            "2023-10-04T14:35:00.000000000",
            "2023-10-04T14:40:00.000000000",
            "2023-10-04T14:45:00.000000000",
            "2023-10-04T14:50:00.000000000",
            "2023-10-04T14:55:00.000000000",
            "2023-10-04T15:00:00.000000000",
            "2023-10-04T15:05:00.000000000",
            "2023-10-04T15:10:00.000000000",
            "2023-10-04T15:15:00.000000000",
            "2023-10-04T15:20:00.000000000",
            "2023-10-04T15:25:00.000000000",
            "2023-10-04T15:30:00.000000000",
            "2023-10-04T15:35:00.000000000"
           ]
          }
         ],
         "name": "Frame 74"
        },
        {
         "data": [
          {
           "close": {
            "bdata": "oBov3STneUAwuycPC+55QEVHcvkP43lACRueXinkeUD/snvysON5QK62Yn/Z43lAEoPAyqHUeUAu/yH99tF5QBsv3SQG2XlABOeMKO3XeUAmUwWjks15QH6MuWsJxnlAK4cW2c7ZeUAFo5I6Adx5QAWjkjoB3HlANe84RUfKeUAMk6mCUcx5QBb7y+7JzHlADk+vlGXQeUAtQxzr4tV5QDJ3LSEf2nlA+MJkqmDneUAUP8bcteB5QABvgQTF53lAKcsQx7rleUAAb4EExed5QBlz1xLy5HlABaOSOgHweUACK4cW2fN5QDarPldb+nlALv8h/fbxeUD/snvysPN5QBgmUwWj8XlAIR/0bFb5eUD4wmSqYPN5QO5aQj7o+nlAFR3J5T/9eUAPC7Wmefh5QCBj7lpC9XlABaOSOgH8eUDwFkhQ/PZ5QIlBYOXQ9HlAGlHaG3zueUD5oGez6vJ5QBzr4jYa7XlABOeMKO3veUD1SlmGOOt5QB04Z0Rp5XlAklz+Q/rmeUBEi2zn++Z5QPp+arx053lABOeMKO3neUBRa5p3nN95QEATYcPT3nlAF7fRAN7geUBCz2bV59p5QCnLEMe64XlAQBNhw9PmeUDUK2UZ4th5QEVHcvkP43lAX5hMFYzgeUAUP8bcteR5QNuK/WX36XlAJlMFo5LpeUAkl/+Qful5QDarPldb7nlA/fZ14JzveUD7OnDOiPN5QDXvOEVH+nlAMnctIR8CekASg8DKoQR6QCgPC7WmAXpA/7J78rAHekD/snvysAt6QOF6FK5HCnpA",
            "dtype": "f8"
           },
           "decreasing": {
            "fillcolor": "#FF6347",
            "line": {
             "color": "#CC503A",
             "width": 0.6
            }
           },
           "high": {
            "bdata": "CtejcD3oeUAep+hILvF5QD9XW7G/7nlACtejcD3oeUAE54wo7ed5QD9XW7G/6nlALv8h/fbpeUA/V1uxv9p5QO5aQj7o2nlAKA8LtabZeUAep+hILtl5QBe30QDe0HlAK4cW2c7ZeUAOT6+UZeB5QGB2Tx4W5XlABaOSOgHgeUAu/yH99tF5QEp7gy9Mz3lA+8vuycPjeUBTBaOSOth5QDC7Jw8L3nlACRueXinseUA/V1uxv+p5QCSX/5B+6XlAHqfoSC7peUDhehSuR+p5QBHHuriN6HlAI9v5fmr1eUAgY+5aQvV5QOauJeSD+nlA8tJNYhD7eUDpJjEIrPZ5QBsv3SQG+XlAveMUHcn5eUAmUwWjkv15QPVKWYY4+3lAFD/G3LUAekDmriXkg/55QP+ye/Kw+3lAETY8vVL8eUASg8DKofx5QBsv3SQG+XlA6SYxCKz2eUAJG55eKfR5QAWjkjoB9HlA7lpCPujyeUD/snvysPN5QP+ye/Kw63lAFD/G3LXoeUAOT6+UZeh5QP32deCc53lAIR/0bFbpeUAOT6+UZeh5QFInoImw43lAF7fRAN7geUD1SlmGOON5QEVHcvkP43lA845TdCTneUD3Bl+YTOd5QAWjkjoB5HlADk+vlGXoeUAhH/RsVuV5QDvfT42X6nlAMLsnDwvueUD1SlmGOOt5QBHHuriN8HlA/7J78rDzeUAMk6mCUfR5QBKDwMqh/HlA6SYxCKwGekDdJAaBlQV6QOkmMQisBnpAGXPXEvIIekB4CyQofhF6QABvgQTFD3pA",
            "dtype": "f8"
           },
           "increasing": {
            "fillcolor": "#32CD32",
            "line": {
             "color": "#28A028",
             "width": 0.6
            }
           },
           "low": {
            "bdata": "Ne84RUfaeUBCz2bV5+J5QDhnRGlv4nlAPZtVn6veeUBIv30dONt5QL8OnDOi3HlAQs9m1efSeUBpb/CFycx5QFTjpZvEz3lAPL1SliHPeUARx7q4jch5QBzr4jYaxXlAI9v5fmrFeUAVjErqBNl5QEVHcvkP23lAIR/0bFbJeUAoDwu1psl5QE3zjlN0x3lARIts5/vGeUCX/5B++855QCnLEMe61XlAIR/0bFbZeUAAb4EExd95QBQ/xty14HlALv8h/fbheUARx7q4jeB5QDMzMzMz3nlAIR/0bFbheUA4Z0Rpb+p5QOviNhrA8nlAGy/dJAbxeUAHX5hMFfB5QPcGX5hM73lABOeMKO3veUDy0k1iEPN5QPjCZKpg83lADJOpglH4eUAE54wo7fd5QAdfmEwV9HlAF7fRAN70eUAj2/l+avV5QC7/If328XlALUMc6+LteUApyxDHuu15QBQ/xty17HlAFD/G3LXseUAhH/RsVul5QBHHuriN5HlACtejcD3geUACK4cW2eN5QBsv3SQG4XlAIGPuWkLleUAoDwu1pt15QAyTqYJR3HlAIR/0bFbZeUAtQxzr4tl5QDJ3LSEf2nlAHqfoSC7heUAwuycPC9Z5QP32deCc13lACtejcD3geUAgY+5aQt15QPjCZKpg43lAHqfoSC7peUD6fmq8dOd5QEATYcPT6HlAIGPuWkLteUAFo5I6Aex5QDarPldb8nlAI9v5fmr5eUDr4jYawP55QATnjCjt/3lAGy/dJAYBekD3Bl+YTAd6QN4CCYofCnpA",
            "dtype": "f8"
           },
           "name": "Price",
           "open": {
            "bdata": "FvvL7snceUD3Bl+YTOd5QC1DHOvi7XlARwN4CyTjeUD4wmSqYON5QP+ye/Kw43lAAiuHFtnjeUAPC7WmedR5QDXvOEVH0nlAIR/0bFbZeUAE54wo7dd5QCBj7lpCzXlALv8h/fbFeUCUh4Va09l5QAWjkjoB3HlABOeMKO3beUAydy0hH8p5QAyTqYJRzHlAFvvL7snMeUAK16NwPdB5QCnLEMe61XlAKA8LtabZeUD6fmq8dOd5QBsv3SQG4XlAAG+BBMXneUApyxDHuuV5QABvgQTF53lAGy/dJAbleUAAb4EExe95QAIrhxbZ83lALv8h/fb5eUAydy0hH/J5QP+ye/Kw83lAKA8LtabxeUAhH/RsVvl5QPjCZKpg83lA7Z48LNT6eUAc6+I2Gv15QBQ/xty1+HlAHOviNhr1eUAE54wo7ft5QPAWSFD89nlAJJf/kH71eUA2qz5XW+55QPLSTWIQ83lAI9v5fmrteUAE54wo7e95QPjCZKpg63lAI9v5fmrleUBEi2zn++Z5QPOOU3Qk53lAVcGopE7neUAE54wo7ed5QPp+arx033lANqs+V1veeUASg8DKoeB5QELPZtXn2nlAKcsQx7rheUA9m1Wfq+Z5QBe30QDe2HlAQs9m1efieUAOT6+UZeB5QBKDwMqh5HlALv8h/fbpeUAhH/RsVul5QCEf9GxW6XlAOiNKe4PueUACK4cW2e95QPs6cM6I83lAMnctIR/6eUAu/yH99gF6QA8LtaZ5BHpAKA8LtaYBekD6fmq8dAd6QPs6cM6IC3pA",
            "dtype": "f8"
           },
           "type": "candlestick",
           "x": [
            "2023-10-04T09:30:00.000000000",
            "2023-10-04T09:35:00.000000000",
            "2023-10-04T09:40:00.000000000",
            "2023-10-04T09:45:00.000000000",
            "2023-10-04T09:50:00.000000000",
            "2023-10-04T09:55:00.000000000",
            "2023-10-04T10:00:00.000000000",
            "2023-10-04T10:05:00.000000000",
            "2023-10-04T10:10:00.000000000",
            "2023-10-04T10:15:00.000000000",
            "2023-10-04T10:20:00.000000000",
            "2023-10-04T10:25:00.000000000",
            "2023-10-04T10:30:00.000000000",
            "2023-10-04T10:35:00.000000000",
            "2023-10-04T10:40:00.000000000",
            "2023-10-04T10:45:00.000000000",
            "2023-10-04T10:50:00.000000000",
            "2023-10-04T10:55:00.000000000",
            "2023-10-04T11:00:00.000000000",
            "2023-10-04T11:05:00.000000000",
            "2023-10-04T11:10:00.000000000",
            "2023-10-04T11:15:00.000000000",
            "2023-10-04T11:20:00.000000000",
            "2023-10-04T11:25:00.000000000",
            "2023-10-04T11:30:00.000000000",
            "2023-10-04T11:35:00.000000000",
            "2023-10-04T11:40:00.000000000",
            "2023-10-04T11:45:00.000000000",
            "2023-10-04T11:50:00.000000000",
            "2023-10-04T11:55:00.000000000",
            "2023-10-04T12:00:00.000000000",
            "2023-10-04T12:05:00.000000000",
            "2023-10-04T12:10:00.000000000",
            "2023-10-04T12:15:00.000000000",
            "2023-10-04T12:20:00.000000000",
            "2023-10-04T12:25:00.000000000",
            "2023-10-04T12:30:00.000000000",
            "2023-10-04T12:35:00.000000000",
            "2023-10-04T12:40:00.000000000",
            "2023-10-04T12:45:00.000000000",
            "2023-10-04T12:50:00.000000000",
            "2023-10-04T12:55:00.000000000",
            "2023-10-04T13:00:00.000000000",
            "2023-10-04T13:05:00.000000000",
            "2023-10-04T13:10:00.000000000",
            "2023-10-04T13:15:00.000000000",
            "2023-10-04T13:20:00.000000000",
            "2023-10-04T13:25:00.000000000",
            "2023-10-04T13:30:00.000000000",
            "2023-10-04T13:35:00.000000000",
            "2023-10-04T13:40:00.000000000",
            "2023-10-04T13:45:00.000000000",
            "2023-10-04T13:50:00.000000000",
            "2023-10-04T13:55:00.000000000",
            "2023-10-04T14:00:00.000000000",
            "2023-10-04T14:05:00.000000000",
            "2023-10-04T14:10:00.000000000",
            "2023-10-04T14:15:00.000000000",
            "2023-10-04T14:20:00.000000000",
            "2023-10-04T14:25:00.000000000",
            "2023-10-04T14:30:00.000000000",
            "2023-10-04T14:35:00.000000000",
            "2023-10-04T14:40:00.000000000",
            "2023-10-04T14:45:00.000000000",
            "2023-10-04T14:50:00.000000000",
            "2023-10-04T14:55:00.000000000",
            "2023-10-04T15:00:00.000000000",
            "2023-10-04T15:05:00.000000000",
            "2023-10-04T15:10:00.000000000",
            "2023-10-04T15:15:00.000000000",
            "2023-10-04T15:20:00.000000000",
            "2023-10-04T15:25:00.000000000",
            "2023-10-04T15:30:00.000000000",
            "2023-10-04T15:35:00.000000000",
            "2023-10-04T15:40:00.000000000"
           ]
          }
         ],
         "name": "Frame 75"
        },
        {
         "data": [
          {
           "close": {
            "bdata": "oBov3STneUAwuycPC+55QEVHcvkP43lACRueXinkeUD/snvysON5QK62Yn/Z43lAEoPAyqHUeUAu/yH99tF5QBsv3SQG2XlABOeMKO3XeUAmUwWjks15QH6MuWsJxnlAK4cW2c7ZeUAFo5I6Adx5QAWjkjoB3HlANe84RUfKeUAMk6mCUcx5QBb7y+7JzHlADk+vlGXQeUAtQxzr4tV5QDJ3LSEf2nlA+MJkqmDneUAUP8bcteB5QABvgQTF53lAKcsQx7rleUAAb4EExed5QBlz1xLy5HlABaOSOgHweUACK4cW2fN5QDarPldb+nlALv8h/fbxeUD/snvysPN5QBgmUwWj8XlAIR/0bFb5eUD4wmSqYPN5QO5aQj7o+nlAFR3J5T/9eUAPC7Wmefh5QCBj7lpC9XlABaOSOgH8eUDwFkhQ/PZ5QIlBYOXQ9HlAGlHaG3zueUD5oGez6vJ5QBzr4jYa7XlABOeMKO3veUD1SlmGOOt5QB04Z0Rp5XlAklz+Q/rmeUBEi2zn++Z5QPp+arx053lABOeMKO3neUBRa5p3nN95QEATYcPT3nlAF7fRAN7geUBCz2bV59p5QCnLEMe64XlAQBNhw9PmeUDUK2UZ4th5QEVHcvkP43lAX5hMFYzgeUAUP8bcteR5QNuK/WX36XlAJlMFo5LpeUAkl/+Qful5QDarPldb7nlA/fZ14JzveUD7OnDOiPN5QDXvOEVH+nlAMnctIR8CekASg8DKoQR6QCgPC7WmAXpA/7J78rAHekD/snvysAt6QOF6FK5HCnpA8BZIUPwGekA=",
            "dtype": "f8"
           },
           "decreasing": {
            "fillcolor": "#FF6347",
            "line": {
             "color": "#CC503A",
             "width": 0.6
            }
           },
           "high": {
            "bdata": "CtejcD3oeUAep+hILvF5QD9XW7G/7nlACtejcD3oeUAE54wo7ed5QD9XW7G/6nlALv8h/fbpeUA/V1uxv9p5QO5aQj7o2nlAKA8LtabZeUAep+hILtl5QBe30QDe0HlAK4cW2c7ZeUAOT6+UZeB5QGB2Tx4W5XlABaOSOgHgeUAu/yH99tF5QEp7gy9Mz3lA+8vuycPjeUBTBaOSOth5QDC7Jw8L3nlACRueXinseUA/V1uxv+p5QCSX/5B+6XlAHqfoSC7peUDhehSuR+p5QBHHuriN6HlAI9v5fmr1eUAgY+5aQvV5QOauJeSD+nlA8tJNYhD7eUDpJjEIrPZ5QBsv3SQG+XlAveMUHcn5eUAmUwWjkv15QPVKWYY4+3lAFD/G3LUAekDmriXkg/55QP+ye/Kw+3lAETY8vVL8eUASg8DKofx5QBsv3SQG+XlA6SYxCKz2eUAJG55eKfR5QAWjkjoB9HlA7lpCPujyeUD/snvysPN5QP+ye/Kw63lAFD/G3LXoeUAOT6+UZeh5QP32deCc53lAIR/0bFbpeUAOT6+UZeh5QFInoImw43lAF7fRAN7geUD1SlmGOON5QEVHcvkP43lA845TdCTneUD3Bl+YTOd5QAWjkjoB5HlADk+vlGXoeUAhH/RsVuV5QDvfT42X6nlAMLsnDwvueUD1SlmGOOt5QBHHuriN8HlA/7J78rDzeUAMk6mCUfR5QBKDwMqh/HlA6SYxCKwGekDdJAaBlQV6QOkmMQisBnpAGXPXEvIIekB4CyQofhF6QABvgQTFD3pABaOSOgEQekA=",
            "dtype": "f8"
           },
           "increasing": {
            "fillcolor": "#32CD32",
            "line": {
             "color": "#28A028",
             "width": 0.6
            }
           },
           "low": {
            "bdata": "Ne84RUfaeUBCz2bV5+J5QDhnRGlv4nlAPZtVn6veeUBIv30dONt5QL8OnDOi3HlAQs9m1efSeUBpb/CFycx5QFTjpZvEz3lAPL1SliHPeUARx7q4jch5QBzr4jYaxXlAI9v5fmrFeUAVjErqBNl5QEVHcvkP23lAIR/0bFbJeUAoDwu1psl5QE3zjlN0x3lARIts5/vGeUCX/5B++855QCnLEMe61XlAIR/0bFbZeUAAb4EExd95QBQ/xty14HlALv8h/fbheUARx7q4jeB5QDMzMzMz3nlAIR/0bFbheUA4Z0Rpb+p5QOviNhrA8nlAGy/dJAbxeUAHX5hMFfB5QPcGX5hM73lABOeMKO3veUDy0k1iEPN5QPjCZKpg83lADJOpglH4eUAE54wo7fd5QAdfmEwV9HlAF7fRAN70eUAj2/l+avV5QC7/If328XlALUMc6+LteUApyxDHuu15QBQ/xty17HlAFD/G3LXseUAhH/RsVul5QBHHuriN5HlACtejcD3geUACK4cW2eN5QBsv3SQG4XlAIGPuWkLleUAoDwu1pt15QAyTqYJR3HlAIR/0bFbZeUAtQxzr4tl5QDJ3LSEf2nlAHqfoSC7heUAwuycPC9Z5QP32deCc13lACtejcD3geUAgY+5aQt15QPjCZKpg43lAHqfoSC7peUD6fmq8dOd5QEATYcPT6HlAIGPuWkLteUAFo5I6Aex5QDarPldb8nlAI9v5fmr5eUDr4jYawP55QATnjCjt/3lAGy/dJAYBekD3Bl+YTAd6QN4CCYofCnpA7Z48LNQGekA=",
            "dtype": "f8"
           },
           "name": "Price",
           "open": {
            "bdata": "FvvL7snceUD3Bl+YTOd5QC1DHOvi7XlARwN4CyTjeUD4wmSqYON5QP+ye/Kw43lAAiuHFtnjeUAPC7WmedR5QDXvOEVH0nlAIR/0bFbZeUAE54wo7dd5QCBj7lpCzXlALv8h/fbFeUCUh4Va09l5QAWjkjoB3HlABOeMKO3beUAydy0hH8p5QAyTqYJRzHlAFvvL7snMeUAK16NwPdB5QCnLEMe61XlAKA8LtabZeUD6fmq8dOd5QBsv3SQG4XlAAG+BBMXneUApyxDHuuV5QABvgQTF53lAGy/dJAbleUAAb4EExe95QAIrhxbZ83lALv8h/fb5eUAydy0hH/J5QP+ye/Kw83lAKA8LtabxeUAhH/RsVvl5QPjCZKpg83lA7Z48LNT6eUAc6+I2Gv15QBQ/xty1+HlAHOviNhr1eUAE54wo7ft5QPAWSFD89nlAJJf/kH71eUA2qz5XW+55QPLSTWIQ83lAI9v5fmrteUAE54wo7e95QPjCZKpg63lAI9v5fmrleUBEi2zn++Z5QPOOU3Qk53lAVcGopE7neUAE54wo7ed5QPp+arx033lANqs+V1veeUASg8DKoeB5QELPZtXn2nlAKcsQx7rheUA9m1Wfq+Z5QBe30QDe2HlAQs9m1efieUAOT6+UZeB5QBKDwMqh5HlALv8h/fbpeUAhH/RsVul5QCEf9GxW6XlAOiNKe4PueUACK4cW2e95QPs6cM6I83lAMnctIR/6eUAu/yH99gF6QA8LtaZ5BHpAKA8LtaYBekD6fmq8dAd6QPs6cM6IC3pALv8h/fYJekA=",
            "dtype": "f8"
           },
           "type": "candlestick",
           "x": [
            "2023-10-04T09:30:00.000000000",
            "2023-10-04T09:35:00.000000000",
            "2023-10-04T09:40:00.000000000",
            "2023-10-04T09:45:00.000000000",
            "2023-10-04T09:50:00.000000000",
            "2023-10-04T09:55:00.000000000",
            "2023-10-04T10:00:00.000000000",
            "2023-10-04T10:05:00.000000000",
            "2023-10-04T10:10:00.000000000",
            "2023-10-04T10:15:00.000000000",
            "2023-10-04T10:20:00.000000000",
            "2023-10-04T10:25:00.000000000",
            "2023-10-04T10:30:00.000000000",
            "2023-10-04T10:35:00.000000000",
            "2023-10-04T10:40:00.000000000",
            "2023-10-04T10:45:00.000000000",
            "2023-10-04T10:50:00.000000000",
            "2023-10-04T10:55:00.000000000",
            "2023-10-04T11:00:00.000000000",
            "2023-10-04T11:05:00.000000000",
            "2023-10-04T11:10:00.000000000",
            "2023-10-04T11:15:00.000000000",
            "2023-10-04T11:20:00.000000000",
            "2023-10-04T11:25:00.000000000",
            "2023-10-04T11:30:00.000000000",
            "2023-10-04T11:35:00.000000000",
            "2023-10-04T11:40:00.000000000",
            "2023-10-04T11:45:00.000000000",
            "2023-10-04T11:50:00.000000000",
            "2023-10-04T11:55:00.000000000",
            "2023-10-04T12:00:00.000000000",
            "2023-10-04T12:05:00.000000000",
            "2023-10-04T12:10:00.000000000",
            "2023-10-04T12:15:00.000000000",
            "2023-10-04T12:20:00.000000000",
            "2023-10-04T12:25:00.000000000",
            "2023-10-04T12:30:00.000000000",
            "2023-10-04T12:35:00.000000000",
            "2023-10-04T12:40:00.000000000",
            "2023-10-04T12:45:00.000000000",
            "2023-10-04T12:50:00.000000000",
            "2023-10-04T12:55:00.000000000",
            "2023-10-04T13:00:00.000000000",
            "2023-10-04T13:05:00.000000000",
            "2023-10-04T13:10:00.000000000",
            "2023-10-04T13:15:00.000000000",
            "2023-10-04T13:20:00.000000000",
            "2023-10-04T13:25:00.000000000",
            "2023-10-04T13:30:00.000000000",
            "2023-10-04T13:35:00.000000000",
            "2023-10-04T13:40:00.000000000",
            "2023-10-04T13:45:00.000000000",
            "2023-10-04T13:50:00.000000000",
            "2023-10-04T13:55:00.000000000",
            "2023-10-04T14:00:00.000000000",
            "2023-10-04T14:05:00.000000000",
            "2023-10-04T14:10:00.000000000",
            "2023-10-04T14:15:00.000000000",
            "2023-10-04T14:20:00.000000000",
            "2023-10-04T14:25:00.000000000",
            "2023-10-04T14:30:00.000000000",
            "2023-10-04T14:35:00.000000000",
            "2023-10-04T14:40:00.000000000",
            "2023-10-04T14:45:00.000000000",
            "2023-10-04T14:50:00.000000000",
            "2023-10-04T14:55:00.000000000",
            "2023-10-04T15:00:00.000000000",
            "2023-10-04T15:05:00.000000000",
            "2023-10-04T15:10:00.000000000",
            "2023-10-04T15:15:00.000000000",
            "2023-10-04T15:20:00.000000000",
            "2023-10-04T15:25:00.000000000",
            "2023-10-04T15:30:00.000000000",
            "2023-10-04T15:35:00.000000000",
            "2023-10-04T15:40:00.000000000",
            "2023-10-04T15:45:00.000000000"
           ]
          }
         ],
         "name": "Frame 76"
        },
        {
         "data": [
          {
           "close": {
            "bdata": "oBov3STneUAwuycPC+55QEVHcvkP43lACRueXinkeUD/snvysON5QK62Yn/Z43lAEoPAyqHUeUAu/yH99tF5QBsv3SQG2XlABOeMKO3XeUAmUwWjks15QH6MuWsJxnlAK4cW2c7ZeUAFo5I6Adx5QAWjkjoB3HlANe84RUfKeUAMk6mCUcx5QBb7y+7JzHlADk+vlGXQeUAtQxzr4tV5QDJ3LSEf2nlA+MJkqmDneUAUP8bcteB5QABvgQTF53lAKcsQx7rleUAAb4EExed5QBlz1xLy5HlABaOSOgHweUACK4cW2fN5QDarPldb+nlALv8h/fbxeUD/snvysPN5QBgmUwWj8XlAIR/0bFb5eUD4wmSqYPN5QO5aQj7o+nlAFR3J5T/9eUAPC7Wmefh5QCBj7lpC9XlABaOSOgH8eUDwFkhQ/PZ5QIlBYOXQ9HlAGlHaG3zueUD5oGez6vJ5QBzr4jYa7XlABOeMKO3veUD1SlmGOOt5QB04Z0Rp5XlAklz+Q/rmeUBEi2zn++Z5QPp+arx053lABOeMKO3neUBRa5p3nN95QEATYcPT3nlAF7fRAN7geUBCz2bV59p5QCnLEMe64XlAQBNhw9PmeUDUK2UZ4th5QEVHcvkP43lAX5hMFYzgeUAUP8bcteR5QNuK/WX36XlAJlMFo5LpeUAkl/+Qful5QDarPldb7nlA/fZ14JzveUD7OnDOiPN5QDXvOEVH+nlAMnctIR8CekASg8DKoQR6QCgPC7WmAXpA/7J78rAHekD/snvysAt6QOF6FK5HCnpA8BZIUPwGekAmUwWjkg16QA==",
            "dtype": "f8"
           },
           "decreasing": {
            "fillcolor": "#FF6347",
            "line": {
             "color": "#CC503A",
             "width": 0.6
            }
           },
           "high": {
            "bdata": "CtejcD3oeUAep+hILvF5QD9XW7G/7nlACtejcD3oeUAE54wo7ed5QD9XW7G/6nlALv8h/fbpeUA/V1uxv9p5QO5aQj7o2nlAKA8LtabZeUAep+hILtl5QBe30QDe0HlAK4cW2c7ZeUAOT6+UZeB5QGB2Tx4W5XlABaOSOgHgeUAu/yH99tF5QEp7gy9Mz3lA+8vuycPjeUBTBaOSOth5QDC7Jw8L3nlACRueXinseUA/V1uxv+p5QCSX/5B+6XlAHqfoSC7peUDhehSuR+p5QBHHuriN6HlAI9v5fmr1eUAgY+5aQvV5QOauJeSD+nlA8tJNYhD7eUDpJjEIrPZ5QBsv3SQG+XlAveMUHcn5eUAmUwWjkv15QPVKWYY4+3lAFD/G3LUAekDmriXkg/55QP+ye/Kw+3lAETY8vVL8eUASg8DKofx5QBsv3SQG+XlA6SYxCKz2eUAJG55eKfR5QAWjkjoB9HlA7lpCPujyeUD/snvysPN5QP+ye/Kw63lAFD/G3LXoeUAOT6+UZeh5QP32deCc53lAIR/0bFbpeUAOT6+UZeh5QFInoImw43lAF7fRAN7geUD1SlmGOON5QEVHcvkP43lA845TdCTneUD3Bl+YTOd5QAWjkjoB5HlADk+vlGXoeUAhH/RsVuV5QDvfT42X6nlAMLsnDwvueUD1SlmGOOt5QBHHuriN8HlA/7J78rDzeUAMk6mCUfR5QBKDwMqh/HlA6SYxCKwGekDdJAaBlQV6QOkmMQisBnpAGXPXEvIIekB4CyQofhF6QABvgQTFD3pABaOSOgEQekDpJjEIrA56QA==",
            "dtype": "f8"
           },
           "increasing": {
            "fillcolor": "#32CD32",
            "line": {
             "color": "#28A028",
             "width": 0.6
            }
           },
           "low": {
            "bdata": "Ne84RUfaeUBCz2bV5+J5QDhnRGlv4nlAPZtVn6veeUBIv30dONt5QL8OnDOi3HlAQs9m1efSeUBpb/CFycx5QFTjpZvEz3lAPL1SliHPeUARx7q4jch5QBzr4jYaxXlAI9v5fmrFeUAVjErqBNl5QEVHcvkP23lAIR/0bFbJeUAoDwu1psl5QE3zjlN0x3lARIts5/vGeUCX/5B++855QCnLEMe61XlAIR/0bFbZeUAAb4EExd95QBQ/xty14HlALv8h/fbheUARx7q4jeB5QDMzMzMz3nlAIR/0bFbheUA4Z0Rpb+p5QOviNhrA8nlAGy/dJAbxeUAHX5hMFfB5QPcGX5hM73lABOeMKO3veUDy0k1iEPN5QPjCZKpg83lADJOpglH4eUAE54wo7fd5QAdfmEwV9HlAF7fRAN70eUAj2/l+avV5QC7/If328XlALUMc6+LteUApyxDHuu15QBQ/xty17HlAFD/G3LXseUAhH/RsVul5QBHHuriN5HlACtejcD3geUACK4cW2eN5QBsv3SQG4XlAIGPuWkLleUAoDwu1pt15QAyTqYJR3HlAIR/0bFbZeUAtQxzr4tl5QDJ3LSEf2nlAHqfoSC7heUAwuycPC9Z5QP32deCc13lACtejcD3geUAgY+5aQt15QPjCZKpg43lAHqfoSC7peUD6fmq8dOd5QEATYcPT6HlAIGPuWkLteUAFo5I6Aex5QDarPldb8nlAI9v5fmr5eUDr4jYawP55QATnjCjt/3lAGy/dJAYBekD3Bl+YTAd6QN4CCYofCnpA7Z48LNQGekAwuycPC/55QA==",
            "dtype": "f8"
           },
           "name": "Price",
           "open": {
            "bdata": "FvvL7snceUD3Bl+YTOd5QC1DHOvi7XlARwN4CyTjeUD4wmSqYON5QP+ye/Kw43lAAiuHFtnjeUAPC7WmedR5QDXvOEVH0nlAIR/0bFbZeUAE54wo7dd5QCBj7lpCzXlALv8h/fbFeUCUh4Va09l5QAWjkjoB3HlABOeMKO3beUAydy0hH8p5QAyTqYJRzHlAFvvL7snMeUAK16NwPdB5QCnLEMe61XlAKA8LtabZeUD6fmq8dOd5QBsv3SQG4XlAAG+BBMXneUApyxDHuuV5QABvgQTF53lAGy/dJAbleUAAb4EExe95QAIrhxbZ83lALv8h/fb5eUAydy0hH/J5QP+ye/Kw83lAKA8LtabxeUAhH/RsVvl5QPjCZKpg83lA7Z48LNT6eUAc6+I2Gv15QBQ/xty1+HlAHOviNhr1eUAE54wo7ft5QPAWSFD89nlAJJf/kH71eUA2qz5XW+55QPLSTWIQ83lAI9v5fmrteUAE54wo7e95QPjCZKpg63lAI9v5fmrleUBEi2zn++Z5QPOOU3Qk53lAVcGopE7neUAE54wo7ed5QPp+arx033lANqs+V1veeUASg8DKoeB5QELPZtXn2nlAKcsQx7rheUA9m1Wfq+Z5QBe30QDe2HlAQs9m1efieUAOT6+UZeB5QBKDwMqh5HlALv8h/fbpeUAhH/RsVul5QCEf9GxW6XlAOiNKe4PueUACK4cW2e95QPs6cM6I83lAMnctIR/6eUAu/yH99gF6QA8LtaZ5BHpAKA8LtaYBekD6fmq8dAd6QPs6cM6IC3pALv8h/fYJekDtnjws1AZ6QA==",
            "dtype": "f8"
           },
           "type": "candlestick",
           "x": [
            "2023-10-04T09:30:00.000000000",
            "2023-10-04T09:35:00.000000000",
            "2023-10-04T09:40:00.000000000",
            "2023-10-04T09:45:00.000000000",
            "2023-10-04T09:50:00.000000000",
            "2023-10-04T09:55:00.000000000",
            "2023-10-04T10:00:00.000000000",
            "2023-10-04T10:05:00.000000000",
            "2023-10-04T10:10:00.000000000",
            "2023-10-04T10:15:00.000000000",
            "2023-10-04T10:20:00.000000000",
            "2023-10-04T10:25:00.000000000",
            "2023-10-04T10:30:00.000000000",
            "2023-10-04T10:35:00.000000000",
            "2023-10-04T10:40:00.000000000",
            "2023-10-04T10:45:00.000000000",
            "2023-10-04T10:50:00.000000000",
            "2023-10-04T10:55:00.000000000",
            "2023-10-04T11:00:00.000000000",
            "2023-10-04T11:05:00.000000000",
            "2023-10-04T11:10:00.000000000",
            "2023-10-04T11:15:00.000000000",
            "2023-10-04T11:20:00.000000000",
            "2023-10-04T11:25:00.000000000",
            "2023-10-04T11:30:00.000000000",
            "2023-10-04T11:35:00.000000000",
            "2023-10-04T11:40:00.000000000",
            "2023-10-04T11:45:00.000000000",
            "2023-10-04T11:50:00.000000000",
            "2023-10-04T11:55:00.000000000",
            "2023-10-04T12:00:00.000000000",
            "2023-10-04T12:05:00.000000000",
            "2023-10-04T12:10:00.000000000",
            "2023-10-04T12:15:00.000000000",
            "2023-10-04T12:20:00.000000000",
            "2023-10-04T12:25:00.000000000",
            "2023-10-04T12:30:00.000000000",
            "2023-10-04T12:35:00.000000000",
            "2023-10-04T12:40:00.000000000",
            "2023-10-04T12:45:00.000000000",
            "2023-10-04T12:50:00.000000000",
            "2023-10-04T12:55:00.000000000",
            "2023-10-04T13:00:00.000000000",
            "2023-10-04T13:05:00.000000000",
            "2023-10-04T13:10:00.000000000",
            "2023-10-04T13:15:00.000000000",
            "2023-10-04T13:20:00.000000000",
            "2023-10-04T13:25:00.000000000",
            "2023-10-04T13:30:00.000000000",
            "2023-10-04T13:35:00.000000000",
            "2023-10-04T13:40:00.000000000",
            "2023-10-04T13:45:00.000000000",
            "2023-10-04T13:50:00.000000000",
            "2023-10-04T13:55:00.000000000",
            "2023-10-04T14:00:00.000000000",
            "2023-10-04T14:05:00.000000000",
            "2023-10-04T14:10:00.000000000",
            "2023-10-04T14:15:00.000000000",
            "2023-10-04T14:20:00.000000000",
            "2023-10-04T14:25:00.000000000",
            "2023-10-04T14:30:00.000000000",
            "2023-10-04T14:35:00.000000000",
            "2023-10-04T14:40:00.000000000",
            "2023-10-04T14:45:00.000000000",
            "2023-10-04T14:50:00.000000000",
            "2023-10-04T14:55:00.000000000",
            "2023-10-04T15:00:00.000000000",
            "2023-10-04T15:05:00.000000000",
            "2023-10-04T15:10:00.000000000",
            "2023-10-04T15:15:00.000000000",
            "2023-10-04T15:20:00.000000000",
            "2023-10-04T15:25:00.000000000",
            "2023-10-04T15:30:00.000000000",
            "2023-10-04T15:35:00.000000000",
            "2023-10-04T15:40:00.000000000",
            "2023-10-04T15:45:00.000000000",
            "2023-10-04T15:50:00.000000000"
           ]
          }
         ],
         "name": "Frame 77"
        }
       ],
       "layout": {
        "font": {
         "color": "#000000",
         "family": "Inconsolata",
         "size": 15
        },
        "margin": {
         "b": 20,
         "l": 20,
         "r": 20,
         "t": 40
        },
        "paper_bgcolor": "#FAFAD2",
        "plot_bgcolor": "#FAFAD2",
        "shapes": [
         {
          "line": {
           "color": "#000000",
           "dash": "solid",
           "width": 1
          },
          "name": "ORH",
          "type": "line",
          "x0": "2023-10-04 09:30:00",
          "x1": "2023-10-04 16:00:00",
          "y0": 415.0738,
          "y1": 415.0738
         },
         {
          "line": {
           "color": "#000000",
           "dash": "solid",
           "width": 1
          },
          "name": "ORL",
          "type": "line",
          "x0": "2023-10-04 09:30:00",
          "x1": "2023-10-04 16:00:00",
          "y0": 413.6424,
          "y1": 413.6424
         },
         {
          "line": {
           "color": "#000000",
           "dash": "dash",
           "width": 1
          },
          "name": "OR50",
          "type": "line",
          "x0": "2023-10-04 09:30:00",
          "x1": "2023-10-04 16:00:00",
          "y0": 414.35810000000004,
          "y1": 414.35810000000004
         },
         {
          "fillcolor": "rgba(214, 180, 252, 0.2)",
          "layer": "below",
          "line": {
           "width": 0
          },
          "type": "rect",
          "x0": "2023-10-04 09:30:00",
          "x1": "2023-10-04 16:00:00",
          "y0": 413.6424,
          "y1": 415.0738
         }
        ],
        "template": {
         "data": {
          "bar": [
           {
            "error_x": {
             "color": "#2a3f5f"
            },
            "error_y": {
             "color": "#2a3f5f"
            },
            "marker": {
             "line": {
              "color": "#E5ECF6",
              "width": 0.5
             },
             "pattern": {
              "fillmode": "overlay",
              "size": 10,
              "solidity": 0.2
             }
            },
            "type": "bar"
           }
          ],
          "barpolar": [
           {
            "marker": {
             "line": {
              "color": "#E5ECF6",
              "width": 0.5
             },
             "pattern": {
              "fillmode": "overlay",
              "size": 10,
              "solidity": 0.2
             }
            },
            "type": "barpolar"
           }
          ],
          "carpet": [
           {
            "aaxis": {
             "endlinecolor": "#2a3f5f",
             "gridcolor": "white",
             "linecolor": "white",
             "minorgridcolor": "white",
             "startlinecolor": "#2a3f5f"
            },
            "baxis": {
             "endlinecolor": "#2a3f5f",
             "gridcolor": "white",
             "linecolor": "white",
             "minorgridcolor": "white",
             "startlinecolor": "#2a3f5f"
            },
            "type": "carpet"
           }
          ],
          "choropleth": [
           {
            "colorbar": {
             "outlinewidth": 0,
             "ticks": ""
            },
            "type": "choropleth"
           }
          ],
          "contour": [
           {
            "colorbar": {
             "outlinewidth": 0,
             "ticks": ""
            },
            "colorscale": [
             [
              0,
              "#0d0887"
             ],
             [
              0.1111111111111111,
              "#46039f"
             ],
             [
              0.2222222222222222,
              "#7201a8"
             ],
             [
              0.3333333333333333,
              "#9c179e"
             ],
             [
              0.4444444444444444,
              "#bd3786"
             ],
             [
              0.5555555555555556,
              "#d8576b"
             ],
             [
              0.6666666666666666,
              "#ed7953"
             ],
             [
              0.7777777777777778,
              "#fb9f3a"
             ],
             [
              0.8888888888888888,
              "#fdca26"
             ],
             [
              1,
              "#f0f921"
             ]
            ],
            "type": "contour"
           }
          ],
          "contourcarpet": [
           {
            "colorbar": {
             "outlinewidth": 0,
             "ticks": ""
            },
            "type": "contourcarpet"
           }
          ],
          "heatmap": [
           {
            "colorbar": {
             "outlinewidth": 0,
             "ticks": ""
            },
            "colorscale": [
             [
              0,
              "#0d0887"
             ],
             [
              0.1111111111111111,
              "#46039f"
             ],
             [
              0.2222222222222222,
              "#7201a8"
             ],
             [
              0.3333333333333333,
              "#9c179e"
             ],
             [
              0.4444444444444444,
              "#bd3786"
             ],
             [
              0.5555555555555556,
              "#d8576b"
             ],
             [
              0.6666666666666666,
              "#ed7953"
             ],
             [
              0.7777777777777778,
              "#fb9f3a"
             ],
             [
              0.8888888888888888,
              "#fdca26"
             ],
             [
              1,
              "#f0f921"
             ]
            ],
            "type": "heatmap"
           }
          ],
          "histogram": [
           {
            "marker": {
             "pattern": {
              "fillmode": "overlay",
              "size": 10,
              "solidity": 0.2
             }
            },
            "type": "histogram"
           }
          ],
          "histogram2d": [
           {
            "colorbar": {
             "outlinewidth": 0,
             "ticks": ""
            },
            "colorscale": [
             [
              0,
              "#0d0887"
             ],
             [
              0.1111111111111111,
              "#46039f"
             ],
             [
              0.2222222222222222,
              "#7201a8"
             ],
             [
              0.3333333333333333,
              "#9c179e"
             ],
             [
              0.4444444444444444,
              "#bd3786"
             ],
             [
              0.5555555555555556,
              "#d8576b"
             ],
             [
              0.6666666666666666,
              "#ed7953"
             ],
             [
              0.7777777777777778,
              "#fb9f3a"
             ],
             [
              0.8888888888888888,
              "#fdca26"
             ],
             [
              1,
              "#f0f921"
             ]
            ],
            "type": "histogram2d"
           }
          ],
          "histogram2dcontour": [
           {
            "colorbar": {
             "outlinewidth": 0,
             "ticks": ""
            },
            "colorscale": [
             [
              0,
              "#0d0887"
             ],
             [
              0.1111111111111111,
              "#46039f"
             ],
             [
              0.2222222222222222,
              "#7201a8"
             ],
             [
              0.3333333333333333,
              "#9c179e"
             ],
             [
              0.4444444444444444,
              "#bd3786"
             ],
             [
              0.5555555555555556,
              "#d8576b"
             ],
             [
              0.6666666666666666,
              "#ed7953"
             ],
             [
              0.7777777777777778,
              "#fb9f3a"
             ],
             [
              0.8888888888888888,
              "#fdca26"
             ],
             [
              1,
              "#f0f921"
             ]
            ],
            "type": "histogram2dcontour"
           }
          ],
          "mesh3d": [
           {
            "colorbar": {
             "outlinewidth": 0,
             "ticks": ""
            },
            "type": "mesh3d"
           }
          ],
          "parcoords": [
           {
            "line": {
             "colorbar": {
              "outlinewidth": 0,
              "ticks": ""
             }
            },
            "type": "parcoords"
           }
          ],
          "pie": [
           {
            "automargin": true,
            "type": "pie"
           }
          ],
          "scatter": [
           {
            "fillpattern": {
             "fillmode": "overlay",
             "size": 10,
             "solidity": 0.2
            },
            "type": "scatter"
           }
          ],
          "scatter3d": [
           {
            "line": {
             "colorbar": {
              "outlinewidth": 0,
              "ticks": ""
             }
            },
            "marker": {
             "colorbar": {
              "outlinewidth": 0,
              "ticks": ""
             }
            },
            "type": "scatter3d"
           }
          ],
          "scattercarpet": [
           {
            "marker": {
             "colorbar": {
              "outlinewidth": 0,
              "ticks": ""
             }
            },
            "type": "scattercarpet"
           }
          ],
          "scattergeo": [
           {
            "marker": {
             "colorbar": {
              "outlinewidth": 0,
              "ticks": ""
             }
            },
            "type": "scattergeo"
           }
          ],
          "scattergl": [
           {
            "marker": {
             "colorbar": {
              "outlinewidth": 0,
              "ticks": ""
             }
            },
            "type": "scattergl"
           }
          ],
          "scattermap": [
           {
            "marker": {
             "colorbar": {
              "outlinewidth": 0,
              "ticks": ""
             }
            },
            "type": "scattermap"
           }
          ],
          "scattermapbox": [
           {
            "marker": {
             "colorbar": {
              "outlinewidth": 0,
              "ticks": ""
             }
            },
            "type": "scattermapbox"
           }
          ],
          "scatterpolar": [
           {
            "marker": {
             "colorbar": {
              "outlinewidth": 0,
              "ticks": ""
             }
            },
            "type": "scatterpolar"
           }
          ],
          "scatterpolargl": [
           {
            "marker": {
             "colorbar": {
              "outlinewidth": 0,
              "ticks": ""
             }
            },
            "type": "scatterpolargl"
           }
          ],
          "scatterternary": [
           {
            "marker": {
             "colorbar": {
              "outlinewidth": 0,
              "ticks": ""
             }
            },
            "type": "scatterternary"
           }
          ],
          "surface": [
           {
            "colorbar": {
             "outlinewidth": 0,
             "ticks": ""
            },
            "colorscale": [
             [
              0,
              "#0d0887"
             ],
             [
              0.1111111111111111,
              "#46039f"
             ],
             [
              0.2222222222222222,
              "#7201a8"
             ],
             [
              0.3333333333333333,
              "#9c179e"
             ],
             [
              0.4444444444444444,
              "#bd3786"
             ],
             [
              0.5555555555555556,
              "#d8576b"
             ],
             [
              0.6666666666666666,
              "#ed7953"
             ],
             [
              0.7777777777777778,
              "#fb9f3a"
             ],
             [
              0.8888888888888888,
              "#fdca26"
             ],
             [
              1,
              "#f0f921"
             ]
            ],
            "type": "surface"
           }
          ],
          "table": [
           {
            "cells": {
             "fill": {
              "color": "#EBF0F8"
             },
             "line": {
              "color": "white"
             }
            },
            "header": {
             "fill": {
              "color": "#C8D4E3"
             },
             "line": {
              "color": "white"
             }
            },
            "type": "table"
           }
          ]
         },
         "layout": {
          "annotationdefaults": {
           "arrowcolor": "#2a3f5f",
           "arrowhead": 0,
           "arrowwidth": 1
          },
          "autotypenumbers": "strict",
          "coloraxis": {
           "colorbar": {
            "outlinewidth": 0,
            "ticks": ""
           }
          },
          "colorscale": {
           "diverging": [
            [
             0,
             "#8e0152"
            ],
            [
             0.1,
             "#c51b7d"
            ],
            [
             0.2,
             "#de77ae"
            ],
            [
             0.3,
             "#f1b6da"
            ],
            [
             0.4,
             "#fde0ef"
            ],
            [
             0.5,
             "#f7f7f7"
            ],
            [
             0.6,
             "#e6f5d0"
            ],
            [
             0.7,
             "#b8e186"
            ],
            [
             0.8,
             "#7fbc41"
            ],
            [
             0.9,
             "#4d9221"
            ],
            [
             1,
             "#276419"
            ]
           ],
           "sequential": [
            [
             0,
             "#0d0887"
            ],
            [
             0.1111111111111111,
             "#46039f"
            ],
            [
             0.2222222222222222,
             "#7201a8"
            ],
            [
             0.3333333333333333,
             "#9c179e"
            ],
            [
             0.4444444444444444,
             "#bd3786"
            ],
            [
             0.5555555555555556,
             "#d8576b"
            ],
            [
             0.6666666666666666,
             "#ed7953"
            ],
            [
             0.7777777777777778,
             "#fb9f3a"
            ],
            [
             0.8888888888888888,
             "#fdca26"
            ],
            [
             1,
             "#f0f921"
            ]
           ],
           "sequentialminus": [
            [
             0,
             "#0d0887"
            ],
            [
             0.1111111111111111,
             "#46039f"
            ],
            [
             0.2222222222222222,
             "#7201a8"
            ],
            [
             0.3333333333333333,
             "#9c179e"
            ],
            [
             0.4444444444444444,
             "#bd3786"
            ],
            [
             0.5555555555555556,
             "#d8576b"
            ],
            [
             0.6666666666666666,
             "#ed7953"
            ],
            [
             0.7777777777777778,
             "#fb9f3a"
            ],
            [
             0.8888888888888888,
             "#fdca26"
            ],
            [
             1,
             "#f0f921"
            ]
           ]
          },
          "colorway": [
           "#636efa",
           "#EF553B",
           "#00cc96",
           "#ab63fa",
           "#FFA15A",
           "#19d3f3",
           "#FF6692",
           "#B6E880",
           "#FF97FF",
           "#FECB52"
          ],
          "font": {
           "color": "#2a3f5f"
          },
          "geo": {
           "bgcolor": "white",
           "lakecolor": "white",
           "landcolor": "#E5ECF6",
           "showlakes": true,
           "showland": true,
           "subunitcolor": "white"
          },
          "hoverlabel": {
           "align": "left"
          },
          "hovermode": "closest",
          "mapbox": {
           "style": "light"
          },
          "paper_bgcolor": "white",
          "plot_bgcolor": "#E5ECF6",
          "polar": {
           "angularaxis": {
            "gridcolor": "white",
            "linecolor": "white",
            "ticks": ""
           },
           "bgcolor": "#E5ECF6",
           "radialaxis": {
            "gridcolor": "white",
            "linecolor": "white",
            "ticks": ""
           }
          },
          "scene": {
           "xaxis": {
            "backgroundcolor": "#E5ECF6",
            "gridcolor": "white",
            "gridwidth": 2,
            "linecolor": "white",
            "showbackground": true,
            "ticks": "",
            "zerolinecolor": "white"
           },
           "yaxis": {
            "backgroundcolor": "#E5ECF6",
            "gridcolor": "white",
            "gridwidth": 2,
            "linecolor": "white",
            "showbackground": true,
            "ticks": "",
            "zerolinecolor": "white"
           },
           "zaxis": {
            "backgroundcolor": "#E5ECF6",
            "gridcolor": "white",
            "gridwidth": 2,
            "linecolor": "white",
            "showbackground": true,
            "ticks": "",
            "zerolinecolor": "white"
           }
          },
          "shapedefaults": {
           "line": {
            "color": "#2a3f5f"
           }
          },
          "ternary": {
           "aaxis": {
            "gridcolor": "white",
            "linecolor": "white",
            "ticks": ""
           },
           "baxis": {
            "gridcolor": "white",
            "linecolor": "white",
            "ticks": ""
           },
           "bgcolor": "#E5ECF6",
           "caxis": {
            "gridcolor": "white",
            "linecolor": "white",
            "ticks": ""
           }
          },
          "title": {
           "x": 0.05
          },
          "xaxis": {
           "automargin": true,
           "gridcolor": "white",
           "linecolor": "white",
           "ticks": "",
           "title": {
            "standoff": 15
           },
           "zerolinecolor": "white",
           "zerolinewidth": 2
          },
          "yaxis": {
           "automargin": true,
           "gridcolor": "white",
           "linecolor": "white",
           "ticks": "",
           "title": {
            "standoff": 15
           },
           "zerolinecolor": "white",
           "zerolinewidth": 2
          }
         }
        },
        "title": {
         "text": "SPY: 2023-10-04 Wed",
         "y": 0.95
        },
        "updatemenus": [
         {
          "buttons": [
           {
            "args": [
             null,
             {
              "frame": {
               "duration": 800,
               "redraw": true
              },
              "fromcurrent": true,
              "mode": "immediate",
              "transition": {
               "duration": 0
              }
             }
            ],
            "label": "▶",
            "method": "animate"
           },
           {
            "args": [
             null,
             {
              "frame": {
               "duration": 100,
               "redraw": true
              },
              "fromcurrent": true,
              "mode": "immediate",
              "transition": {
               "duration": 0
              }
             }
            ],
            "label": "▶▶",
            "method": "animate"
           },
           {
            "args": [
             [
              null
             ],
             {
              "frame": {
               "duration": 0,
               "redraw": false
              },
              "mode": "immediate",
              "transition": {
               "duration": 0
              }
             }
            ],
            "label": "⏸",
            "method": "animate"
           }
          ],
          "showactive": false,
          "type": "buttons",
          "x": 0.3,
          "y": 1.08
         }
        ],
        "xaxis": {
         "anchor": "y",
         "domain": [
          0,
          1
         ],
         "fixedrange": true,
         "range": [
          "2023-10-04T09:25:00",
          "2023-10-04T16:00:00"
         ],
         "rangeslider": {
          "visible": false
         },
         "showgrid": false,
         "type": "date"
        },
        "yaxis": {
         "anchor": "x",
         "domain": [
          0,
          1
         ],
         "fixedrange": true,
         "gridcolor": "#D3D3D3",
         "griddash": "dot",
         "gridwidth": 1,
         "range": [
          412.08018,
          417.33202
         ],
         "showgrid": true,
         "tickformat": ",.2f"
        }
       }
      }
     },
     "metadata": {},
     "output_type": "display_data"
    }
   ],
   "source": [
    "import plotly.graph_objects as go\n",
    "from plotly.subplots import make_subplots\n",
    "\n",
    "TRADING_DAY_TO_DISPLAY = 150\n",
    "df_working = df_regular_hours[df_regular_hours['date'] == df_regular_hours['date'].unique()[TRADING_DAY_TO_DISPLAY]].reset_index(drop=True)\n",
    "\n",
    "# Set Custom Views (xrange and yrange)\n",
    "xrange = [df_working['timestamp'].iloc[0] - pd.Timedelta(minutes=5), df_working['timestamp'].iloc[-1] + pd.Timedelta(minutes=5)]\n",
    "padding = 0.05\n",
    "y_min, y_max = df_working['low'].min(), df_working['high'].max()\n",
    "y_range = y_max - y_min\n",
    "yrange = [y_min - (y_range * padding), y_max + (y_range * padding)]\n",
    "\n",
    "# Set colors for candlestick\n",
    "colors = {\n",
    "    'bearish_wick': '#FF6347',\n",
    "    'bearish_body': '#FF6347',\n",
    "    'bearish_border': '#CC503A',\n",
    "    \n",
    "    'bullish_body': '#32CD32',\n",
    "    'bullish_wick': '#32CD32',\n",
    "    'bullish_border': '#28A028',\n",
    "    \n",
    "    'background': '#FAFAD2',\n",
    "    'foreground': '#228B22',\n",
    "    'text': '#000000',\n",
    "    'grid': '#D3D3D3'\n",
    "}\n",
    "\n",
    "fig = make_subplots()\n",
    "\n",
    "date_str = df_working['date'].iloc[0].strftime(\"%Y-%m-%d\")\n",
    "dayofweek = df_working['date'].iloc[0].strftime('%a')\n",
    "opening_range = df_working.head(3)\n",
    "orh, orl = opening_range['high'].max(), opening_range['low'].min()\n",
    "ormid = (orh + orl) / 2\n",
    "\n",
    "fig.add_shape(\n",
    "    type=\"line\",\n",
    "    x0=date_str + \" 09:30:00\",\n",
    "    x1=date_str + \" 16:00:00\",\n",
    "    y0=orh,\n",
    "    y1=orh,\n",
    "    line=dict(\n",
    "        color=\"#000000\",\n",
    "        width=1,\n",
    "        dash=\"solid\",\n",
    "    ),\n",
    "    name=\"ORH\"\n",
    ")\n",
    "\n",
    "fig.add_shape(\n",
    "    type=\"line\",\n",
    "    x0=date_str + \" 09:30:00\",\n",
    "    x1=date_str + \" 16:00:00\",\n",
    "    y0=orl,\n",
    "    y1=orl,\n",
    "    line=dict(\n",
    "        color=\"#000000\",\n",
    "        width=1,\n",
    "        dash=\"solid\",\n",
    "    ),\n",
    "    name=\"ORL\"\n",
    ")\n",
    "\n",
    "fig.add_shape(\n",
    "    type=\"line\",\n",
    "    x0=date_str + \" 09:30:00\",\n",
    "    x1=date_str + \" 16:00:00\",\n",
    "    y0=ormid,\n",
    "    y1=ormid,\n",
    "    line=dict(\n",
    "        color=\"#000000\",\n",
    "        width=1,\n",
    "        dash=\"dash\",\n",
    "    ),\n",
    "    name=\"OR50\"\n",
    ")\n",
    "\n",
    "fig.add_shape(\n",
    "    type=\"rect\",\n",
    "    x0=date_str + \" 09:30:00\",\n",
    "    x1=date_str + \" 16:00:00\",\n",
    "    y0=orl,\n",
    "    y1=orh,\n",
    "    fillcolor=\"rgba(214, 180, 252, 0.2)\",\n",
    "    line=dict(width=0),\n",
    "    layer=\"below\"\n",
    ")\n",
    "\n",
    "fig.update_layout(\n",
    "    paper_bgcolor=colors['background'],\n",
    "    plot_bgcolor=colors['background'],\n",
    "    font={'color': colors['text'], 'family': 'Inconsolata', 'size': 15},\n",
    "    title = f\"SPY: {date_str} {dayofweek}\", title_y = 0.95,\n",
    "\n",
    "    xaxis=dict(\n",
    "        type='date',\n",
    "        rangeslider=dict(visible=False), # cleaner\n",
    "        fixedrange=True,  # Allow zooming on x-axis\n",
    "        # autorange=True, # this must be disabled IF we set an initial range window\n",
    "        range=xrange,\n",
    "        # rangebreaks no longer needed since we are plotting day by day\n",
    "        # rangebreaks=[\n",
    "        #     dict(bounds=[\"sat\", \"mon\"]),  # Hide weekends\n",
    "        #     dict(bounds=[17, 9], pattern=\"hour\")  # Hide non-trading hours\n",
    "        # ],\n",
    "        showgrid=False\n",
    "    ),\n",
    "    yaxis=dict(\n",
    "        # autorange=True,  # Enable autorange for y-axis\n",
    "        range=yrange,\n",
    "        fixedrange=True,  # VERY IMPORTANT TO OVERRIDE THE DEFAULT BEHAVIOR - allow y-axis zooming\n",
    "\n",
    "        showgrid=True,\n",
    "        gridcolor=colors['grid'],\n",
    "        griddash='dot',\n",
    "        gridwidth=1,\n",
    "\n",
    "        tickformat=\",.2f\",\n",
    "    ),\n",
    "    margin=dict(l=20, r=20, t=40, b=20),\n",
    ")\n",
    "\n",
    "# add the initial trace (idk why, but this is needed to make the animation work)\n",
    "fig.add_trace(go.Candlestick(\n",
    "    x=df_working['timestamp'][:1],\n",
    "    open=df_working['open'][:1],\n",
    "    close=df_working['close'][:1],\n",
    "    high=df_working['high'][:1],\n",
    "    low=df_working['low'][:1],\n",
    "    name=\"Price\",\n",
    "    increasing={'line': {'color': colors['bullish_border'], 'width': 0.6}, 'fillcolor': colors['bullish_body']},\n",
    "    decreasing={'line': {'color': colors['bearish_border'], 'width': 0.6}, 'fillcolor': colors['bearish_body']}\n",
    "))\n",
    "\n",
    "# add the rest of the frames\n",
    "frames = []\n",
    "for i in range(0, 78):\n",
    "    frame = go.Frame(\n",
    "        data = [go.Candlestick(\n",
    "            x=df_working['timestamp'][:i],\n",
    "            open=df_working['open'][:i],\n",
    "            close=df_working['close'][:i],\n",
    "            high=df_working['high'][:i],\n",
    "            low=df_working['low'][:i],\n",
    "            name=\"Price\",\n",
    "            increasing={\n",
    "                'line': {'color': colors['bullish_border'], 'width': 0.6},\n",
    "                'fillcolor': colors['bullish_body']\n",
    "            },\n",
    "            \n",
    "            decreasing={\n",
    "                'line': {'color': colors['bearish_border'], 'width': 0.6},\n",
    "                'fillcolor': colors['bearish_body']\n",
    "            }\n",
    "        )],\n",
    "        name = f\"Frame {i}\"\n",
    "    )\n",
    "    frames.append(frame)\n",
    "fig.frames = frames\n",
    "\n",
    "fig.update_layout(\n",
    "    updatemenus=[dict(\n",
    "        type=\"buttons\",\n",
    "        showactive=False,\n",
    "        x=0.3, y=1.08,\n",
    "        buttons=[dict(\n",
    "            label=\"▶\",\n",
    "            method=\"animate\",\n",
    "            args=[None, dict(frame=dict(duration=800, redraw=True), fromcurrent=True, mode=\"immediate\", transition=dict(duration=0))]\n",
    "        ),\n",
    "        dict(\n",
    "            label=\"▶▶\",\n",
    "            method=\"animate\",\n",
    "            args=[None, dict(frame=dict(duration=100, redraw=True), fromcurrent=True, mode=\"immediate\", transition=dict(duration=0))]\n",
    "        ),\n",
    "         dict(\n",
    "            label=\"⏸\",\n",
    "            method=\"animate\",\n",
    "            # the [None] in brackets is EXTREMELY IMPORTANT for some reason \n",
    "            # this is some deep deep undocumented shit\n",
    "            # args=[None, ...]\tRestarts from frame 0\n",
    "            # args=[[None], ...]\tPauses but keeps current frame\n",
    "            args=[[None], dict(frame=dict(duration=0, redraw=False), mode=\"immediate\", transition=dict(duration=0))]\n",
    "        )]\n",
    "    )]\n",
    ")\n",
    "\n",
    "fig.show(config={'displayModeBar': True, 'scrollZoom': False, 'displaylogo': False})\n"
   ]
  },
  {
   "cell_type": "code",
   "execution_count": 4,
   "metadata": {},
   "outputs": [],
   "source": [
    "df = df_regular_hours\n",
    "\n",
    "for day, group in df.groupby(df[\"timestamp\"].dt.date):\n",
    "    opening_range = group[group['timestamp'].dt.strftime('%H:%M').isin(['09:30', '09:35', '09:40'])]\n",
    "    ORH = opening_range['high'].max()\n",
    "    ORL = opening_range['low'].min()\n",
    "\n",
    "    # for every following candle, wait for a break and close outside the OR\n",
    "    # how do we quantify how significant the break is?\n",
    "\n",
    "    break\n",
    "\n",
    "##### ARCHIVE #####\n",
    "\n",
    "    ### IN THE PAST, WHEN WE DISPLAYED MULTIPLE DAYS AT ONCE AND WANT TO SEE OPENING RANGE ON ALL DAYS\n",
    "\n",
    "    # def calculate_opening_ranges(df):\n",
    "    #     opening_range = df[df['time_val'] < 945].groupby('date').head(3)\n",
    "    #     opening_range_hl = opening_range.groupby('date').agg({\n",
    "    #         'high': 'max',\n",
    "    #         'low': 'min'\n",
    "    #     }).reset_index()\n",
    "        \n",
    "    #     # Create dictionary with date as key and high/low values\n",
    "    #     ranges = {}\n",
    "    #     for _, row in opening_range_hl.iterrows():\n",
    "    #         ranges[row['date']] = {\n",
    "    #             'high': row['high'],\n",
    "    #             'mid': (row['high'] + row['low']) / 2,\n",
    "    #             'low': row['low'],\n",
    "    #             'interval': (row['high'] - row['low']) / 2\n",
    "    #         }\n",
    "    #     return ranges\n",
    "\n",
    "    # opening_ranges = calculate_opening_ranges(df_working)\n",
    "\n",
    "    # for date, range_values in opening_ranges.items(): blah blah blah"
   ]
  },
  {
   "cell_type": "markdown",
   "metadata": {},
   "source": [
    "Todo:\n",
    "1. do the ORB 15 lines - ORH, ORL, OR50, ORH + 50, ORL - 50, etc\n",
    "2. implement interactive entry button with interactive TP and SL setting\n",
    "3. implement trade logging\n",
    "4. implement dynamic chart plotting.\n",
    "5. once we done here we can move on the ORB report"
   ]
  }
 ],
 "metadata": {
  "kernelspec": {
   "display_name": "Python 3",
   "language": "python",
   "name": "python3"
  },
  "language_info": {
   "codemirror_mode": {
    "name": "ipython",
    "version": 3
   },
   "file_extension": ".py",
   "mimetype": "text/x-python",
   "name": "python",
   "nbconvert_exporter": "python",
   "pygments_lexer": "ipython3",
   "version": "3.12.10"
  }
 },
 "nbformat": 4,
 "nbformat_minor": 2
}
