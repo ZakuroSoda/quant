{
 "cells": [
  {
   "cell_type": "code",
   "execution_count": 1,
   "metadata": {},
   "outputs": [
    {
     "name": "stdout",
     "output_type": "stream",
     "text": [
      "timestamp    datetime64[ns]\n",
      "open                float64\n",
      "high                float64\n",
      "low                 float64\n",
      "close               float64\n",
      "volume                int64\n",
      "rsi                 float64\n",
      "dtype: object\n",
      "   timestamp      open      high      low     close   volume  rsi\n",
      "0 1999-11-19  142.4062  142.9687  142.000  142.5000  4832100  NaN\n",
      "1 1999-11-22  142.4375  143.0000  141.500  142.4687  4155400  NaN\n",
      "2 1999-11-23  142.8437  142.8437  140.375  141.2187  5918000  NaN\n",
      "3 1999-11-24  140.7500  142.4375  140.000  141.9687  4459700  NaN\n",
      "4 1999-11-26  142.4687  142.8750  141.250  141.4375  1693900  NaN\n",
      "      timestamp    open    high       low   close    volume        rsi\n",
      "6352 2025-02-24  602.02  603.03  596.4900  597.21  50737213  44.002908\n",
      "6353 2025-02-25  597.15  597.89  589.5600  594.24  58266472  41.409659\n",
      "6354 2025-02-26  595.93  599.58  591.8556  594.54  43321578  41.782877\n",
      "6355 2025-02-27  596.85  598.02  584.6500  585.05  74196664  34.332585\n",
      "6356 2025-02-28  585.56  594.72  582.4400  594.18  88744106  44.572364\n"
     ]
    }
   ],
   "source": [
    "from utilities import *\n",
    "\n",
    "df = load_file(\"./Data/SPY_FULL.csv\", date_format=\"%d/%m/%Y\")\n",
    "df = add_rsi(df)\n",
    "print(df.dtypes)\n",
    "print(df.head())\n",
    "print(df.tail())"
   ]
  },
  {
   "cell_type": "code",
   "execution_count": null,
   "metadata": {},
   "outputs": [],
   "source": [
    "INITIAL_CASH = 10**6\n",
    "POSITION_SIZE = 0.01\n",
    "\n",
    "stats = {\n",
    "    \"PROFIT_LOSS_LOG\": [],\n",
    "    \"TOTAL_TRADES\": 0,\n",
    "    \"WINNING_TRADES\": 0,\n",
    "    \"LONG_ARRAY_IDX\": [],\n",
    "    \"SHORT_ARRAY_IDX\": []\n",
    "}\n",
    "\n",
    "open_positions = []\n",
    "for i, row in df.iterrows():\n",
    "    rsi = row[\"rsi\"]\n",
    "\n",
    "    if rsi < 35:\n",
    "        open_positions.append(\n",
    "            {\"type\": \"LONG\", \"entry\": row[\"close\"], \"entry_date\": row[\"timestamp\"], \"entry_rsi\": rsi}\n",
    "        )\n",
    "        stats[\"LONG_ARRAY_IDX\"].append(i)\n",
    "        \n",
    "\n",
    "    for idx in reversed(range(len(open_positions))):\n",
    "        position = open_positions[idx]\n",
    "\n",
    "        if position[\"type\"] == \"LONG\":\n",
    "            if rsi >= 80:\n",
    "                stats, log = close_trade(position, row, stats)\n",
    "                verbose_log += log\n",
    "                open_positions.pop(idx)"
   ]
  },
  {
   "cell_type": "code",
   "execution_count": null,
   "metadata": {},
   "outputs": [
    {
     "name": "stdout",
     "output_type": "stream",
     "text": [
      "Total Trades: 733\n",
      "Win Rate: 78.31%\n",
      "Total Profit/Loss: 19602.74%\n",
      "Buy & Hold Return: 316.97%\n"
     ]
    }
   ],
   "source": [
    "win_rate = round((stats[\"WINNING_TRADES\"] / stats[\"TOTAL_TRADES\"]) * 100, 2)\n",
    "loss_rate = 100 - win_rate\n",
    "buy_and_hold = percent_change(df['close'].iloc[0], df['close'].iloc[-1])\n",
    "\n",
    "print(f\"Total Trades: {stats[\"TOTAL_TRADES\"]}\")\n",
    "print(f\"Win Rate: {win_rate}%\")\n",
    "print(f\"Loss Rate: {loss_rate}%\")\n",
    "print(f\"P/L per Trade: {average(stats[\"PROFIT_LOSS_LOG\"]):.2f}%\")\n",
    "print(f\"Buy & Hold Return: {buy_and_hold}%\")\n",
    "\n",
    "write_to_file(\"trade_log.txt\", verbose_log)"
   ]
  },
  {
   "cell_type": "markdown",
   "metadata": {},
   "source": [
    "rough idea: use past longer period standard dev to identify if market is sideways, then use RSI to entry exit"
   ]
  },
  {
   "cell_type": "code",
   "execution_count": null,
   "metadata": {},
   "outputs": [],
   "source": [
    "import plotly.graph_objects as go\n",
    "from plotly.subplots import make_subplots\n",
    "\n",
    "fig = make_subplots(rows=2, cols=1, shared_xaxes=True, vertical_spacing=0.1, \n",
    "                    subplot_titles=(\"Stock Price\", \"RSI\"))\n",
    "\n",
    "fig.add_trace(\n",
    "    go.Scatter(x=df['timestamp'], y=df['close'], mode='lines', name='Stock Price', line=dict(color='blue')),\n",
    "    row=1, col=1\n",
    ")\n",
    "\n",
    "fig.add_trace(\n",
    "    go.Scatter(x=df['timestamp'], y=df['rsi'], mode='lines', name='RSI', line=dict(color='red')),\n",
    "    row=2, col=1\n",
    ")\n",
    "\n",
    "fig.add_shape(type=\"line\", x0=df['timestamp'].min(), x1=df['timestamp'].max(), y0=35, y1=35,\n",
    "              line=dict(color=\"grey\", width=2, dash=\"dot\"), row=2, col=1)\n",
    "\n",
    "fig.add_shape(type=\"line\", x0=df['timestamp'].min(), x1=df['timestamp'].max(), y0=70, y1=70,\n",
    "              line=dict(color=\"grey\", width=2, dash=\"dot\"), row=2, col=1)\n",
    "\n",
    "for idx in stats[\"long_array_idx\"]:\n",
    "    fig.add_annotation(dict(\n",
    "        x=df['timestamp'][idx],\n",
    "        y=df['close'][idx],\n",
    "        xref=\"x1\", yref=\"y1\",\n",
    "        text=\"⬆\",\n",
    "        showarrow=False,\n",
    "        font=dict(color=\"#03fc17\", size=10)\n",
    "    ))\n",
    "\n",
    "for idx in stats[\"short_array_idx\"]:\n",
    "    fig.add_annotation(dict(\n",
    "        x=df['timestamp'][idx],\n",
    "        y=df['close'][idx],\n",
    "        xref=\"x1\", yref=\"y1\",\n",
    "        text=\"⬇\",\n",
    "        showarrow=False,\n",
    "        font=dict(color=\"#fc0303\", size=10)\n",
    "    ))\n",
    "\n",
    "fig.update_layout(height=600, title=\"Stock Price and RSI\", showlegend=False)\n",
    "fig.show()"
   ]
  }
 ],
 "metadata": {
  "kernelspec": {
   "display_name": "Python 3",
   "language": "python",
   "name": "python3"
  },
  "language_info": {
   "codemirror_mode": {
    "name": "ipython",
    "version": 3
   },
   "file_extension": ".py",
   "mimetype": "text/x-python",
   "name": "python",
   "nbconvert_exporter": "python",
   "pygments_lexer": "ipython3",
   "version": "3.12.10"
  }
 },
 "nbformat": 4,
 "nbformat_minor": 2
}
